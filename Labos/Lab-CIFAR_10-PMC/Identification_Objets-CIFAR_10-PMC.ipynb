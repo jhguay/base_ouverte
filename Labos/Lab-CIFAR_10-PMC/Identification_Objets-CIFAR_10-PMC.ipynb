{
  "cells": [
    {
      "cell_type": "markdown",
      "id": "2f783515",
      "metadata": {
        "id": "2f783515"
      },
      "source": [
        "<a style=\"float:left;\" href=\"https://colab.research.google.com/github/ClaudeCoulombe/VIARENA/blob/master/Labos/Lab-CIFAR_10-PMC/Identification_Objets-CIFAR_10-PMC.ipynb\" target=\"_blank\"><img src=\"https://colab.research.google.com/assets/colab-badge.svg\" alt=\"Open In Colab\"/></a>\n",
        "<br/>\n",
        "### Rappel - Fonctionnement d'un carnet web iPython\n",
        "\n",
        "* Pour exécuter le code contenu dans une cellule d'un carnet iPython, cliquez dans la cellule et faites (⇧↵, shift-enter);\n",
        "* Le code d'un carnet iPython s'exécute séquentiellement de haut en bas de la page. Souvent, l'importation d'une bibliothèque Python ou l'initialisation d'une variable est préalable à l'exécution d'une cellule située plus bas. Il est donc recommandé d'exécuter les cellules en séquence. Enfin, méfiez-vous des retours en arrière qui peuvent réinitialiser certaines variables;\n",
        "* Pour obtenir de l'information sur une fonction, utilisez la commande Python `help(`\"nom de la fonction\"`)`"
      ]
    },
    {
      "cell_type": "markdown",
      "id": "b618e6f1",
      "metadata": {
        "id": "b618e6f1"
      },
      "source": [
        "# Identification d'objets à partir de photos - jeu de données CIFAR-10\n",
        "\n",
        "# Perceptron multicouche - PMC\n",
        "\n",
        "#### Inspiration: \n",
        "\n",
        "Michael Nielsen, http://neuralnetworksanddeeplearning.com/\n",
        "\n",
        "Grant Sanderson, https://www.youtube.com/watch?v=Ilg3gGewQ5U"
      ]
    },
    {
      "cell_type": "markdown",
      "source": [
        "## Importation bibliothèques Python"
      ],
      "metadata": {
        "id": "yV6KgxG2JdPQ"
      },
      "id": "yV6KgxG2JdPQ"
    },
    {
      "cell_type": "code",
      "source": [
        "import os\n",
        "import matplotlib.pyplot as plt\n",
        "\n",
        "import tensorflow as tf\n",
        "print(\"TensorFlow version:\",tf.__version__)\n",
        "import keras\n",
        "print(\"Keras version:\",keras.__version__)\n"
      ],
      "metadata": {
        "id": "PpMZf9fOJaU-"
      },
      "id": "PpMZf9fOJaU-",
      "execution_count": null,
      "outputs": []
    },
    {
      "cell_type": "markdown",
      "source": [
        "## Fixer le hasard pour la reproductibilité\n",
        "\n",
        "La mise au point de réseaux de neurones implique certains processus aléatoires. Afin de pouvoir reproduire et comparer vos résultats d'expérience, vous fixez temporairement l'état aléatoire grâce à un germe aléatoire unique.\n",
        "\n",
        "Pendant la mise au point, vous fixez temporairement l'état aléatoire pour la reproductibilité mais vous répétez l'expérience avec différents germes ou états aléatoires et prenez la moyenne des résultats.\n",
        "<br/>\n",
        "##### **Note**: Pour un système en production, vous ravivez simplement l'état  purement aléatoire avec l'instruction `GERME_ALEATOIRE = None`"
      ],
      "metadata": {
        "id": "-rzwxXjGKlzd"
      },
      "id": "-rzwxXjGKlzd"
    },
    {
      "cell_type": "code",
      "source": [
        "import os\n",
        "\n",
        "# Définir un germe aléatoire\n",
        "GERME_ALEATOIRE = 21\n",
        "\n",
        "# Définir un état aléatoire pour Python\n",
        "os.environ['PYTHONHASHSEED'] = str(GERME_ALEATOIRE)\n",
        "\n",
        "# Définir un état aléatoire pour Python random\n",
        "import random\n",
        "random.seed(GERME_ALEATOIRE)\n",
        "\n",
        "# Définir un état aléatoire pour NumPy\n",
        "import numpy as np\n",
        "np.random.seed(GERME_ALEATOIRE)\n",
        "\n",
        "# Définir un état aléatoire pour TensorFlow\n",
        "import tensorflow as tf\n",
        "tf.random.set_seed(GERME_ALEATOIRE)\n",
        "os.environ['TF_DETERMINISTIC_OPS'] = '1'\n",
        "os.environ['TF_CUDNN_DETERMINISTIC'] = '1'\n",
        "\n",
        "print(\"Germe aléatoire fixé\")"
      ],
      "metadata": {
        "id": "lElUi4G8KrHT"
      },
      "id": "lElUi4G8KrHT",
      "execution_count": null,
      "outputs": []
    },
    {
      "cell_type": "markdown",
      "id": "7e706ef7",
      "metadata": {
        "id": "7e706ef7"
      },
      "source": [
        "## Jeu de données - photos CIFAR-10\n",
        "L'ensemble de données CIFAR-10 (Canadian Institute For Advanced Research) comporte 60 000 photographies en couleur de 32×32 pixels d'objets de 10 classes différentes. Il est relativement simple d'atteindre une précision de 80 %. On peut obtenir des performances de 90 % avec ces données avec des réseaux neuronaux convolutifs. \n",
        "\n",
        "* 0 : avion\n",
        "* 1 : automobile\n",
        "* 2 : oiseau\n",
        "* 3 : chat\n",
        "* 4 : cerfs\n",
        "* 5 : chien\n",
        "* 6 : grenouille\n",
        "* 7 : cheval\n",
        "* 8 : bateau\n",
        "* 9 : camion\n"
      ]
    },
    {
      "cell_type": "code",
      "execution_count": null,
      "id": "c4bf184b",
      "metadata": {
        "id": "c4bf184b"
      },
      "outputs": [],
      "source": [
        "# le jeu de données CIFAR-10\n",
        "from keras.datasets import cifar10\n",
        "\n",
        "dic_noms_etiquette = { \n",
        "    0 : \"avion\",\n",
        "    1 : \"automobile\",\n",
        "    2 : \"oiseau\",\n",
        "    3 : \"chat\",\n",
        "    4 : \"cerf\",\n",
        "    5 : \"chien\",\n",
        "    6 : \"grenouille\",\n",
        "    7 : \"cheval\",\n",
        "    8 : \"bateau\",\n",
        "    9 : \"camion\",\n",
        "}\n",
        "\n",
        "# lire le jeu de données CIFAR-10 et le diviser entre\n",
        "# les données d'entrainement et les données de test\n",
        "(attributs_entrainement, classes_cibles_entrainement), (attributs_test, classes_cibles_test) = cifar10.load_data()\n",
        "\n",
        "classes_cibles_entrainement = classes_cibles_entrainement.reshape((-1,))\n",
        "classes_cibles_test = classes_cibles_test.reshape((-1,))\n",
        "\n",
        "# Aperçu des tableaux de données\n",
        "print()\n",
        "print('Entraînement: attributs=%s, classes=%s' % (attributs_entrainement.shape, classes_cibles_entrainement.shape))\n",
        "print('Test: attributs=%s, classes=%s' % (attributs_test.shape, classes_cibles_test.shape))\n",
        "\n",
        "# Afficher les 24 premières images\n",
        "print()\n",
        "print(\"Quelques images avec leur étiquette...\")\n",
        "%matplotlib inline\n",
        "# définir subplot\n",
        "fig, axes = plt.subplots(nrows=4,ncols=6,figsize=(10,8))\n",
        "for i_rangee in range(0,4):\n",
        "    for i_colonne in range(0,6):\n",
        "        axes[i_rangee,i_colonne].set_title(dic_noms_etiquette[int(classes_cibles_entrainement[i_rangee*6+i_colonne])],\n",
        "                                           fontsize=10)\n",
        "        axes[i_rangee,i_colonne].imshow(attributs_entrainement[i_rangee*6+i_colonne])\n",
        "plt.show()\n"
      ]
    },
    {
      "cell_type": "markdown",
      "id": "d38f31e9",
      "metadata": {
        "id": "d38f31e9"
      },
      "source": [
        "### Linéariser les attributs des images 32 x 32 pixels en 3072 attributs"
      ]
    },
    {
      "cell_type": "code",
      "execution_count": null,
      "id": "9207652d",
      "metadata": {
        "id": "9207652d"
      },
      "outputs": [],
      "source": [
        "# Linéariser les attributs des images 32 x 32 pixels en 3072 attributs\n",
        "nombre_attributs = attributs_entrainement.shape[1]*attributs_entrainement.shape[1]*3\n",
        "print(\"nombre_attributs:\",nombre_attributs)\n",
        "attributs_entrainement = attributs_entrainement.reshape(attributs_entrainement.shape[0], nombre_attributs)\n",
        "attributs_test = attributs_test.reshape(attributs_test.shape[0], nombre_attributs)\n",
        "print(\"Linéarisation des attributs des images terminée!\")"
      ]
    },
    {
      "cell_type": "markdown",
      "id": "fc92be07",
      "metadata": {
        "id": "fc92be07"
      },
      "source": [
        "### Conversion des classes-cibles en vecteurs binaires à un bit discriminant"
      ]
    },
    {
      "cell_type": "code",
      "execution_count": null,
      "id": "305211a1",
      "metadata": {
        "id": "305211a1"
      },
      "outputs": [],
      "source": [
        "# Conversion des classes-cibles en vecteurs binaires à un bit discriminant\n",
        "from tensorflow.keras.utils import to_categorical\n",
        "classes_cibles_entrainement = to_categorical(classes_cibles_entrainement)\n",
        "classes_cibles_test = to_categorical(classes_cibles_test)\n",
        "print(\"Conversion des classes-cibles en vecteurs binaires terminée!\")"
      ]
    },
    {
      "cell_type": "code",
      "execution_count": null,
      "id": "6f30051a",
      "metadata": {
        "id": "6f30051a"
      },
      "outputs": [],
      "source": [
        "classes_cibles_entrainement.shape"
      ]
    },
    {
      "cell_type": "markdown",
      "id": "fd01133a",
      "metadata": {
        "id": "fd01133a"
      },
      "source": [
        "### Normalisation des images"
      ]
    },
    {
      "cell_type": "code",
      "execution_count": null,
      "id": "380a9140",
      "metadata": {
        "id": "380a9140"
      },
      "outputs": [],
      "source": [
        "# Normalisation\n",
        "def normalisation(entrainement, test):\n",
        "    # convertir de nombres entiers à nombres décimaux\n",
        "    entrainement_normalise = entrainement.astype('float32')\n",
        "    test_normalise = test.astype('float32')\n",
        "    # normalisation à un nombre entre 0 et 1\n",
        "    entrainement_normalise = entrainement_normalise / 255.0\n",
        "    test_normalise = test_normalise / 255.0\n",
        "    return entrainement_normalise, test_normalise\n",
        "\n",
        "attributs_entrainement, attributs_test = normalisation(attributs_entrainement, attributs_test)\n",
        "\n",
        "print(\"Normalisation des images terminée!\")"
      ]
    },
    {
      "cell_type": "markdown",
      "id": "e2a0c93c",
      "metadata": {
        "id": "e2a0c93c"
      },
      "source": [
        "## Modèle de base"
      ]
    },
    {
      "cell_type": "code",
      "execution_count": null,
      "id": "965af588",
      "metadata": {
        "id": "965af588"
      },
      "outputs": [],
      "source": [
        "# Construction du modèle\n",
        "\n",
        "from tensorflow.keras.models import Sequential\n",
        "from tensorflow.keras.layers import Dense\n",
        "\n",
        "print(\"Création d'un modèle de base...\")\n",
        "\n",
        "dimension_entree = (nombre_attributs,)\n",
        "nombre_classes_cibles = 10\n",
        "\n",
        "modele_de_base = Sequential()\n",
        "\n",
        "# Apprentissage et extraction des attributs\n",
        "# Note: la première couche cachée comprime légèrement les données passant de 3072 attributs en entrée à 1024\n",
        "modele_de_base.add(Dense(1024, activation='relu', input_shape=dimension_entree))\n",
        "modele_de_base.add(Dense(512, activation='relu'))\n",
        "modele_de_base.add(Dense(64, activation='relu'))\n",
        "modele_de_base.add(Dense(64, activation='relu'))\n",
        "\n",
        "# Classification des images\n",
        "modele_de_base.add(Dense(nombre_classes_cibles, \n",
        "                         activation='softmax'))\n",
        "\n",
        "print()\n",
        "print(\"Description du modèle de base:\")\n",
        "modele_de_base.summary()\n"
      ]
    },
    {
      "cell_type": "code",
      "execution_count": null,
      "id": "2e9da2af",
      "metadata": {
        "id": "2e9da2af"
      },
      "outputs": [],
      "source": [
        "# Compilation du modèle\n",
        "\n",
        "print()\n",
        "print(\"Compilation du modèle de base...\")\n",
        "\n",
        "modele_de_base.compile(loss=\"categorical_crossentropy\", \n",
        "                       optimizer=\"adam\", \n",
        "                       metrics=[\"accuracy\"])\n"
      ]
    },
    {
      "cell_type": "code",
      "execution_count": null,
      "id": "ae5d7a37",
      "metadata": {
        "id": "ae5d7a37"
      },
      "outputs": [],
      "source": [
        "attributs_entrainement.shape"
      ]
    },
    {
      "cell_type": "code",
      "execution_count": null,
      "id": "483cd55f",
      "metadata": {
        "id": "483cd55f"
      },
      "outputs": [],
      "source": [
        "classes_cibles_entrainement.shape"
      ]
    },
    {
      "cell_type": "markdown",
      "id": "1730cdf2",
      "metadata": {
        "id": "1730cdf2"
      },
      "source": [
        "## Évaluation du modèle avant entraînement\n"
      ]
    },
    {
      "cell_type": "code",
      "execution_count": null,
      "id": "42e3e107",
      "metadata": {
        "id": "42e3e107"
      },
      "outputs": [],
      "source": [
        "# Évaluation du modèle avant entraînement\n",
        "\n",
        "print()\n",
        "print(\"Évaluation du modèle de base avant entraînement...\")\n",
        "\n",
        "resultats = modele_de_base.evaluate(attributs_test, classes_cibles_test, verbose=0)\n",
        "print(\"Exactitude test: {:.2f}%\".format(resultats[1]*100))\n",
        "print(\"Erreur test: {:.2f}%\".format(100-resultats[1]*100))"
      ]
    },
    {
      "cell_type": "markdown",
      "id": "74c9432f",
      "metadata": {
        "id": "74c9432f"
      },
      "source": [
        "Voila qui est tout à fait normal. Puisque CIFAR-10 a 10 étiquettes de classe. Ainsi, en devinant au hasard, nous devrions obtenir une précision de 10%."
      ]
    },
    {
      "cell_type": "markdown",
      "id": "3d80b922",
      "metadata": {
        "id": "3d80b922"
      },
      "source": [
        "## Entraînement du modèle\n"
      ]
    },
    {
      "cell_type": "code",
      "execution_count": null,
      "id": "97160f35",
      "metadata": {
        "id": "97160f35"
      },
      "outputs": [],
      "source": [
        "# Entraînement du modèle\n",
        "import time\n",
        "\n",
        "print()\n",
        "print(\"Entraînement du modèle de base...\")\n",
        "\n",
        "moment_demarrage = time.process_time()\n",
        "\n",
        "batch_size = 128\n",
        "epochs = 15\n",
        "\n",
        "traces_entrainement = modele_de_base.fit(attributs_entrainement,\n",
        "                                         classes_cibles_entrainement,\n",
        "                                         batch_size=batch_size,\n",
        "                                         epochs=epochs,\n",
        "                                         validation_split=0.1)\n",
        "\n",
        "temps_execution = time.process_time() - moment_demarrage\n",
        "print(\"Temps d'exécution:\",round(temps_execution,2))\n"
      ]
    },
    {
      "cell_type": "markdown",
      "id": "044911c4",
      "metadata": {
        "id": "044911c4"
      },
      "source": [
        "## Évaluation du modèle après entraînement\n"
      ]
    },
    {
      "cell_type": "code",
      "execution_count": null,
      "id": "7cd120f1",
      "metadata": {
        "id": "7cd120f1"
      },
      "outputs": [],
      "source": [
        "# Évaluation du modèle\n",
        "# Exactitude test: aux environs de 50%\n",
        "print()\n",
        "print(\"Évaluation du modèle...\")\n",
        "\n",
        "resultats = modele_de_base.evaluate(attributs_test, classes_cibles_test, verbose=0)\n",
        "print(\"Exactitude test: {:.2f}%\".format(resultats[1]*100))"
      ]
    },
    {
      "cell_type": "markdown",
      "id": "4a48223f",
      "metadata": {
        "id": "4a48223f"
      },
      "source": [
        "## Affichage des courbes d'entraînement: erreur et exactitue\n"
      ]
    },
    {
      "cell_type": "code",
      "execution_count": null,
      "id": "c656b574",
      "metadata": {
        "id": "c656b574"
      },
      "outputs": [],
      "source": [
        "## Affichage des courbes d'entraînement\n",
        "hauteur = 8\n",
        "plt.subplots(figsize=(hauteur,1.618*hauteur))\n",
        "plt.subplot(211)\n",
        "plt.title('Erreur entropie croisée')\n",
        "plt.plot(traces_entrainement.history['loss'], color='blue', label='courbe entraînement')\n",
        "plt.plot(traces_entrainement.history['val_loss'], color='orange', label='courbe test')\n",
        "plt.ylabel(\"Erreur\")\n",
        "plt.xlabel(\"Nombre d'époques\")\n",
        "plt.legend()\n",
        "plt.show()\n",
        "# tracer l'exactitude\n",
        "plt.subplots(figsize=(hauteur,1.618*hauteur))\n",
        "plt.subplot(212)\n",
        "plt.title('\\nExactitude de la classification')\n",
        "plt.plot(traces_entrainement.history['accuracy'], color='blue', label='courbe entraînement')\n",
        "plt.plot(traces_entrainement.history['val_accuracy'], color='orange', label='courbe test')\n",
        "plt.ylabel(\"Exactitude\")\n",
        "plt.xlabel(\"Nombre d'époques\")\n",
        "plt.legend()\n",
        "plt.show()\n"
      ]
    },
    {
      "cell_type": "code",
      "execution_count": null,
      "id": "d0376d31",
      "metadata": {
        "id": "d0376d31"
      },
      "outputs": [],
      "source": [
        "print(\"Carnet IPython exécution terminée!\")\n"
      ]
    },
    {
      "cell_type": "code",
      "execution_count": null,
      "id": "d1df9618",
      "metadata": {
        "id": "d1df9618"
      },
      "outputs": [],
      "source": []
    }
  ],
  "metadata": {
    "kernelspec": {
      "display_name": "Python 3",
      "language": "python",
      "name": "python3"
    },
    "language_info": {
      "codemirror_mode": {
        "name": "ipython",
        "version": 3
      },
      "file_extension": ".py",
      "mimetype": "text/x-python",
      "name": "python",
      "nbconvert_exporter": "python",
      "pygments_lexer": "ipython3",
      "version": "3.9.5"
    },
    "colab": {
      "name": "Identification_Objets-CIFAR_10-PMC.ipynb",
      "provenance": []
    }
  },
  "nbformat": 4,
  "nbformat_minor": 5
}