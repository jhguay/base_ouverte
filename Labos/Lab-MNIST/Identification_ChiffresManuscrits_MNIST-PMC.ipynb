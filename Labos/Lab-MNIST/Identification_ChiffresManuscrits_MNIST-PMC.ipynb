{
  "cells": [
    {
      "cell_type": "markdown",
      "id": "6428aeb9",
      "metadata": {
        "id": "6428aeb9"
      },
      "source": [
        "<a style=\"float:left;\" href=\"https://colab.research.google.com/github/ClaudeCoulombe/VIARENA/blob/master/Labos/Lab-MNIST/Identification_ChiffresManuscrits_MNIST-PMC.ipynb\" target=\"_blank\"><img src=\"https://colab.research.google.com/assets/colab-badge.svg\" alt=\"Open In Colab\"/></a>\n",
        "<br/>\n",
        "### Rappel - Fonctionnement d'un carnet web iPython\n",
        "\n",
        "* Pour exécuter le code contenu dans une cellule d'un carnet iPython, cliquez dans la cellule et faites (⇧↵, shift-enter);\n",
        "* Le code d'un carnet iPython s'exécute séquentiellement de haut en bas de la page. Souvent, l'importation d'une bibliothèque Python ou l'initialisation d'une variable est préalable à l'exécution d'une cellule située plus bas. Il est donc recommandé d'exécuter les cellules en séquence. Enfin, méfiez-vous des retours en arrière qui peuvent réinitialiser certaines variables;\n",
        "* Pour obtenir de l'information sur une fonction, utilisez la commande Python `help(`\"nom de la fonction\"`)`"
      ]
    },
    {
      "cell_type": "markdown",
      "id": "40c12a2e",
      "metadata": {
        "id": "40c12a2e"
      },
      "source": [
        "# Identification de chiffres manuscrits - jeu de données MNIST\n",
        "## Utilisation d'un perceptron multicouche (PMC)\n",
        "\n",
        "#### Inspiration: \n",
        "\n",
        "Michael Nielsen, http://neuralnetworksanddeeplearning.com/\n",
        "\n",
        "Grant Sanderson, https://www.youtube.com/watch?v=Ilg3gGewQ5U"
      ]
    },
    {
      "cell_type": "markdown",
      "id": "b819907f",
      "metadata": {
        "id": "b819907f"
      },
      "source": [
        "## Importation des bibliothèques Python"
      ]
    },
    {
      "cell_type": "code",
      "execution_count": 45,
      "id": "d4235134",
      "metadata": {
        "id": "d4235134",
        "outputId": "57111780-19ca-481b-cb4c-16d604f2a718",
        "colab": {
          "base_uri": "https://localhost:8080/"
        }
      },
      "outputs": [
        {
          "output_type": "stream",
          "name": "stdout",
          "text": [
            "TensorFlow version: 2.9.2\n",
            "Keras version: 2.9.0\n"
          ]
        }
      ],
      "source": [
        "import os\n",
        "import matplotlib.pyplot as plt\n",
        "\n",
        "import tensorflow as tf\n",
        "print(\"TensorFlow version:\",tf.__version__)\n",
        "import keras\n",
        "print(\"Keras version:\",keras.__version__)"
      ]
    },
    {
      "cell_type": "markdown",
      "source": [
        "## Fixer le hasard pour la reproductibilité\n",
        "\n",
        "La mise au point de réseaux de neurones implique certains processus aléatoires. Afin de pouvoir reproduire et comparer vos résultats d'expérience, vous fixez temporairement l'état aléatoire grâce à un germe aléatoire unique.\n",
        "\n",
        "Pendant la mise au point, vous fixez temporairement l'état aléatoire pour la reproductibilité mais vous répétez l'expérience avec différents germes ou états aléatoires et prenez la moyenne des résultats.\n",
        "<br/>\n",
        "##### **Note**: Pour un système en production, vous ravivez simplement l'état  purement aléatoire avec l'instruction `GERME_ALEATOIRE = None`"
      ],
      "metadata": {
        "id": "FN8mG2KVx9d9"
      },
      "id": "FN8mG2KVx9d9"
    },
    {
      "cell_type": "code",
      "source": [
        "import os\n",
        "\n",
        "# Définir un germe aléatoire\n",
        "GERME_ALEATOIRE = 21\n",
        "\n",
        "# Définir un état aléatoire pour Python\n",
        "os.environ['PYTHONHASHSEED'] = str(GERME_ALEATOIRE)\n",
        "\n",
        "# Définir un état aléatoire pour Python random\n",
        "import random\n",
        "random.seed(GERME_ALEATOIRE)\n",
        "\n",
        "# Définir un état aléatoire pour NumPy\n",
        "import numpy as np\n",
        "np.random.seed(GERME_ALEATOIRE)\n",
        "\n",
        "# Définir un état aléatoire pour TensorFlow\n",
        "import tensorflow as tf\n",
        "tf.random.set_seed(GERME_ALEATOIRE)\n",
        "os.environ['TF_DETERMINISTIC_OPS'] = '1'\n",
        "os.environ['TF_CUDNN_DETERMINISTIC'] = '1'\n",
        "\n",
        "print(\"Germe aléatoire fixé\")"
      ],
      "metadata": {
        "id": "tZ5qrPZexz3D",
        "outputId": "201e01e0-76eb-4d58-90b1-56d940b75195",
        "colab": {
          "base_uri": "https://localhost:8080/"
        }
      },
      "id": "tZ5qrPZexz3D",
      "execution_count": 46,
      "outputs": [
        {
          "output_type": "stream",
          "name": "stdout",
          "text": [
            "Germe aléatoire fixé\n"
          ]
        }
      ]
    },
    {
      "cell_type": "markdown",
      "id": "0edea099",
      "metadata": {
        "id": "0edea099"
      },
      "source": [
        "## Jeu de données - chiffres manuscrits MNIST\n",
        "\n",
        "Le jeu de données MNIST (Modified National Institute of Standards and Technology) comporte 60,000 images en tons de gris de 28×28 pixels de chiffres manuscrits étiquetés de 0 à 9. Site web: http://yann.lecun.com/exdb/mnist/\n",
        "\n",
        "Il est incorporé dans keras.datasets "
      ]
    },
    {
      "cell_type": "markdown",
      "id": "7abc7fec",
      "metadata": {
        "id": "7abc7fec"
      },
      "source": [
        "### Lecture des données\n",
        "### Séparation entre jeu de données d'entraînement et jeux de données de test"
      ]
    },
    {
      "cell_type": "code",
      "execution_count": 47,
      "id": "41c5c18a",
      "metadata": {
        "id": "41c5c18a"
      },
      "outputs": [],
      "source": [
        "# le jeu de données MNIST\n",
        "from keras.datasets import mnist\n",
        "\n",
        "dic_noms_classe = { \n",
        "    0 : \"0\",\n",
        "    1 : \"1\",\n",
        "    2 : \"2\",\n",
        "    3 : \"3\",\n",
        "    4 : \"4\",\n",
        "    5 : \"5\",\n",
        "    6 : \"6\",\n",
        "    7 : \"7\",\n",
        "    8 : \"8\",\n",
        "    9 : \"9\",\n",
        "}\n",
        "\n",
        "# lire le jeu de données MNIST et le diviser entre\n",
        "# les données d'entrainement et les données de test\n",
        "# MNIST est déjà divisé en un jeu de données d'entraînement (les 60 000 premières images) \n",
        "# et un jeu de données de test (les 10 000 dernières images).\n",
        "(attributs_entrainement, classes_cibles_entrainement), (attributs_test, classes_cibles_test) = mnist.load_data()\n"
      ]
    },
    {
      "cell_type": "markdown",
      "id": "9d72b18c",
      "metadata": {
        "id": "9d72b18c"
      },
      "source": [
        "## Exploration des données"
      ]
    },
    {
      "cell_type": "markdown",
      "id": "5f5eb0f8",
      "metadata": {
        "id": "5f5eb0f8"
      },
      "source": [
        "### Portrait des données"
      ]
    },
    {
      "cell_type": "code",
      "execution_count": 48,
      "id": "ae1cb8d3",
      "metadata": {
        "id": "ae1cb8d3",
        "outputId": "a9d75816-77cc-40b5-b48b-79adb78d277b",
        "colab": {
          "base_uri": "https://localhost:8080/"
        }
      },
      "outputs": [
        {
          "output_type": "stream",
          "name": "stdout",
          "text": [
            "\n",
            "Entraînement: attributs=(60000, 28, 28), classes=(60000,)\n",
            "Test: attributs=(10000, 28, 28), classes=(10000,)\n"
          ]
        }
      ],
      "source": [
        "# Portrait des données \n",
        "print()\n",
        "print('Entraînement: attributs=%s, classes=%s' % (attributs_entrainement.shape, classes_cibles_entrainement.shape))\n",
        "print('Test: attributs=%s, classes=%s' % (attributs_test.shape, classes_cibles_test.shape))"
      ]
    },
    {
      "cell_type": "markdown",
      "id": "f0377c9d",
      "metadata": {
        "id": "f0377c9d"
      },
      "source": [
        "### Visualisation de données"
      ]
    },
    {
      "cell_type": "code",
      "execution_count": 49,
      "id": "3a9ca8b9",
      "metadata": {
        "id": "3a9ca8b9",
        "outputId": "da9cbd0a-99a8-4f30-805f-060bdd24a6dd",
        "colab": {
          "base_uri": "https://localhost:8080/",
          "height": 627
        }
      },
      "outputs": [
        {
          "output_type": "stream",
          "name": "stdout",
          "text": [
            "\n",
            "Quelques images avec leur étiquette de classe-cible...\n"
          ]
        },
        {
          "output_type": "display_data",
          "data": {
            "text/plain": [
              "<Figure size 936x720 with 24 Axes>"
            ],
            "image/png": "[encoded data removed]"
          },
          "metadata": {
            "needs_background": "light"
          }
        }
      ],
      "source": [
        "# Afficher les 24 premières images\n",
        "print()\n",
        "print(\"Quelques images avec leur étiquette de classe-cible...\")\n",
        "%matplotlib inline\n",
        "# définir subplot\n",
        "fig, axes = plt.subplots(nrows=4,ncols=6,figsize=(13,10))\n",
        "for i_rangee in range(0,4):\n",
        "    for i_colonne in range(0,6):\n",
        "        axes[i_rangee,i_colonne].set_title(dic_noms_classe[int(classes_cibles_entrainement[i_rangee*6+i_colonne])],\n",
        "                                           fontsize=10)\n",
        "        axes[i_rangee,i_colonne].imshow(attributs_entrainement[i_rangee*6+i_colonne],cmap='gray')\n",
        "plt.show()"
      ]
    },
    {
      "cell_type": "markdown",
      "id": "ac22f32c",
      "metadata": {
        "id": "ac22f32c"
      },
      "source": [
        "## Préparation des données"
      ]
    },
    {
      "cell_type": "markdown",
      "id": "3780748c",
      "metadata": {
        "id": "3780748c"
      },
      "source": [
        "### Linéariser les attributs des images 28 x 28 pixels en 784 attributs"
      ]
    },
    {
      "cell_type": "code",
      "execution_count": 50,
      "id": "acd622f4",
      "metadata": {
        "id": "acd622f4",
        "outputId": "947ee7d5-2903-47cb-9223-043d70d5efa9",
        "colab": {
          "base_uri": "https://localhost:8080/"
        }
      },
      "outputs": [
        {
          "output_type": "stream",
          "name": "stdout",
          "text": [
            "28\n",
            "nombre_attributs: 784\n",
            "Linéarisation des attributs des images terminée!\n"
          ]
        }
      ],
      "source": [
        "# Linéariser les attributs des images 28 x 28 pixels en 784 attributs\n",
        "print(attributs_entrainement.shape[1])\n",
        "nombre_attributs = attributs_entrainement.shape[1]*attributs_entrainement.shape[1]\n",
        "print(\"nombre_attributs:\",nombre_attributs)\n",
        "attributs_entrainement = attributs_entrainement.reshape(attributs_entrainement.shape[0], nombre_attributs)\n",
        "attributs_test = attributs_test.reshape(attributs_test.shape[0], nombre_attributs)\n",
        "print(\"Linéarisation des attributs des images terminée!\")"
      ]
    },
    {
      "cell_type": "markdown",
      "id": "a41603a9",
      "metadata": {
        "id": "a41603a9"
      },
      "source": [
        "### Conversion des étiquettes-cibles en vecteurs binaires à un bit discriminant"
      ]
    },
    {
      "cell_type": "code",
      "execution_count": 51,
      "id": "c16cc87f",
      "metadata": {
        "id": "c16cc87f",
        "outputId": "40603695-06c8-4d1c-ff3c-b2d6cead8bc3",
        "colab": {
          "base_uri": "https://localhost:8080/"
        }
      },
      "outputs": [
        {
          "output_type": "stream",
          "name": "stdout",
          "text": [
            "[7 2 1 ... 4 5 6]\n",
            "[[0. 0. 0. ... 1. 0. 0.]\n",
            " [0. 0. 1. ... 0. 0. 0.]\n",
            " [0. 1. 0. ... 0. 0. 0.]\n",
            " ...\n",
            " [0. 0. 0. ... 0. 0. 0.]\n",
            " [0. 0. 0. ... 0. 0. 0.]\n",
            " [0. 0. 0. ... 0. 0. 0.]]\n",
            "Conversion des étiquettes-cibles en vecteurs binaires terminée!\n"
          ]
        }
      ],
      "source": [
        "# Conversion des étiquettes-cibles en vecteurs binaires à un bit discriminant\n",
        "from tensorflow.keras.utils import to_categorical\n",
        "classes_cibles_entrainement = to_categorical(classes_cibles_entrainement)\n",
        "print(classes_cibles_test)\n",
        "classes_cibles_test = to_categorical(classes_cibles_test)\n",
        "print(classes_cibles_test)\n",
        "print(\"Conversion des étiquettes-cibles en vecteurs binaires terminée!\")"
      ]
    },
    {
      "cell_type": "markdown",
      "id": "3269ae81",
      "metadata": {
        "id": "3269ae81"
      },
      "source": [
        "### Normalisation des images"
      ]
    },
    {
      "cell_type": "code",
      "execution_count": 52,
      "id": "023cb1ec",
      "metadata": {
        "id": "023cb1ec",
        "outputId": "2695b236-5bab-44e1-8fcd-80bf6430c66a",
        "colab": {
          "base_uri": "https://localhost:8080/"
        }
      },
      "outputs": [
        {
          "output_type": "stream",
          "name": "stdout",
          "text": [
            "Normalisation des images terminée!\n"
          ]
        }
      ],
      "source": [
        "# Normalisation\n",
        "def normalisation(entrainement, test):\n",
        "    # convertir de nombres entiers à nombres décimaux\n",
        "    entrainement_normalise = entrainement.astype('float32')\n",
        "    test_normalise = test.astype('float32')\n",
        "    # normalisation à un nombre entre 0 et 1\n",
        "    entrainement_normalise = entrainement_normalise / 255.0\n",
        "    test_normalise = test_normalise / 255.0\n",
        "    return entrainement_normalise, test_normalise\n",
        "\n",
        "attributs_entrainement, attributs_test = normalisation(attributs_entrainement, attributs_test)\n",
        "\n",
        "print(\"Normalisation des images terminée!\")"
      ]
    },
    {
      "cell_type": "markdown",
      "id": "7933c907",
      "metadata": {
        "id": "7933c907"
      },
      "source": [
        "## Construction d'un modèle de perceptron multicouche (PMC)"
      ]
    },
    {
      "cell_type": "code",
      "execution_count": 53,
      "id": "334320dc",
      "metadata": {
        "id": "334320dc",
        "outputId": "6f38c084-74c8-4055-d4e8-519b50391547",
        "colab": {
          "base_uri": "https://localhost:8080/"
        }
      },
      "outputs": [
        {
          "output_type": "stream",
          "name": "stdout",
          "text": [
            "Création d'un modèle de base...\n",
            "\n",
            "Description du modèle de base:\n",
            "Model: \"sequential_1\"\n",
            "_________________________________________________________________\n",
            " Layer (type)                Output Shape              Param #   \n",
            "=================================================================\n",
            " dense_3 (Dense)             (None, 16)                12560     \n",
            "                                                                 \n",
            " dense_4 (Dense)             (None, 16)                272       \n",
            "                                                                 \n",
            " dense_5 (Dense)             (None, 10)                170       \n",
            "                                                                 \n",
            "=================================================================\n",
            "Total params: 13,002\n",
            "Trainable params: 13,002\n",
            "Non-trainable params: 0\n",
            "_________________________________________________________________\n"
          ]
        }
      ],
      "source": [
        "# Construction du modèle\n",
        "\n",
        "from keras.models import Sequential\n",
        "from keras.layers import Dense\n",
        "\n",
        "print(\"Création d'un modèle de base...\")\n",
        "\n",
        "dimension_entree = (nombre_attributs,)\n",
        "nombre_classes_cibles = 10\n",
        "\n",
        "modele_de_base = Sequential()\n",
        "\n",
        "# Apprentissage et extraction des attributs\n",
        "modele_de_base.add(Dense(16, activation='relu', input_shape=dimension_entree))\n",
        "modele_de_base.add(Dense(16, activation='relu'))\n",
        "\n",
        "# Classification des images\n",
        "modele_de_base.add(Dense(nombre_classes_cibles, \n",
        "                         activation='softmax'))\n",
        "\n",
        "print()\n",
        "print(\"Description du modèle de base:\")\n",
        "modele_de_base.summary()"
      ]
    },
    {
      "cell_type": "markdown",
      "id": "7ac8ffd8",
      "metadata": {
        "id": "7ac8ffd8"
      },
      "source": [
        "### Compilation du modèle"
      ]
    },
    {
      "cell_type": "code",
      "execution_count": 54,
      "id": "c3672c9a",
      "metadata": {
        "id": "c3672c9a",
        "outputId": "64885321-2cba-4343-ea15-fe7be3e38b5a",
        "colab": {
          "base_uri": "https://localhost:8080/"
        }
      },
      "outputs": [
        {
          "output_type": "stream",
          "name": "stdout",
          "text": [
            "\n",
            "Compilation du modèle...\n",
            "Modèle compilé!\n"
          ]
        }
      ],
      "source": [
        "print()\n",
        "print(\"Compilation du modèle...\")\n",
        "\n",
        "modele_de_base.compile(loss=\"categorical_crossentropy\", \n",
        "                       optimizer=\"sgd\", \n",
        "                       metrics=[\"accuracy\"])\n",
        "\n",
        "print(\"Modèle compilé!\")"
      ]
    },
    {
      "cell_type": "markdown",
      "id": "62d75a67",
      "metadata": {
        "id": "62d75a67"
      },
      "source": [
        "## Entraînement du modèle"
      ]
    },
    {
      "cell_type": "code",
      "execution_count": 55,
      "id": "858ee15a",
      "metadata": {
        "id": "858ee15a",
        "outputId": "2c2de4d8-ee01-4d66-87d6-b2b668dd01ef",
        "colab": {
          "base_uri": "https://localhost:8080/"
        }
      },
      "outputs": [
        {
          "output_type": "stream",
          "name": "stdout",
          "text": [
            "\n",
            "Entraînement du modèle...\n",
            "Epoch 1/20\n",
            "422/422 [==============================] - 3s 5ms/step - loss: 1.8151 - accuracy: 0.4208 - val_loss: 1.2041 - val_accuracy: 0.6815\n",
            "Epoch 2/20\n",
            "422/422 [==============================] - 2s 5ms/step - loss: 0.9041 - accuracy: 0.7514 - val_loss: 0.5971 - val_accuracy: 0.8475\n",
            "Epoch 3/20\n",
            "422/422 [==============================] - 2s 5ms/step - loss: 0.5718 - accuracy: 0.8402 - val_loss: 0.4191 - val_accuracy: 0.8843\n",
            "Epoch 4/20\n",
            "422/422 [==============================] - 2s 4ms/step - loss: 0.4556 - accuracy: 0.8715 - val_loss: 0.3525 - val_accuracy: 0.9007\n",
            "Epoch 5/20\n",
            "422/422 [==============================] - 2s 4ms/step - loss: 0.4016 - accuracy: 0.8855 - val_loss: 0.3184 - val_accuracy: 0.9078\n",
            "Epoch 6/20\n",
            "422/422 [==============================] - 2s 4ms/step - loss: 0.3705 - accuracy: 0.8933 - val_loss: 0.2964 - val_accuracy: 0.9148\n",
            "Epoch 7/20\n",
            "422/422 [==============================] - 2s 4ms/step - loss: 0.3496 - accuracy: 0.8988 - val_loss: 0.2800 - val_accuracy: 0.9185\n",
            "Epoch 8/20\n",
            "422/422 [==============================] - 2s 4ms/step - loss: 0.3342 - accuracy: 0.9035 - val_loss: 0.2695 - val_accuracy: 0.9213\n",
            "Epoch 9/20\n",
            "422/422 [==============================] - 2s 4ms/step - loss: 0.3218 - accuracy: 0.9069 - val_loss: 0.2598 - val_accuracy: 0.9238\n",
            "Epoch 10/20\n",
            "422/422 [==============================] - 2s 4ms/step - loss: 0.3114 - accuracy: 0.9098 - val_loss: 0.2544 - val_accuracy: 0.9257\n",
            "Epoch 11/20\n",
            "422/422 [==============================] - 2s 4ms/step - loss: 0.3023 - accuracy: 0.9128 - val_loss: 0.2448 - val_accuracy: 0.9287\n",
            "Epoch 12/20\n",
            "422/422 [==============================] - 2s 4ms/step - loss: 0.2945 - accuracy: 0.9149 - val_loss: 0.2397 - val_accuracy: 0.9295\n",
            "Epoch 13/20\n",
            "422/422 [==============================] - 2s 4ms/step - loss: 0.2873 - accuracy: 0.9167 - val_loss: 0.2345 - val_accuracy: 0.9305\n",
            "Epoch 14/20\n",
            "422/422 [==============================] - 2s 4ms/step - loss: 0.2810 - accuracy: 0.9183 - val_loss: 0.2296 - val_accuracy: 0.9327\n",
            "Epoch 15/20\n",
            "422/422 [==============================] - 2s 4ms/step - loss: 0.2752 - accuracy: 0.9205 - val_loss: 0.2239 - val_accuracy: 0.9363\n",
            "Epoch 16/20\n",
            "422/422 [==============================] - 2s 4ms/step - loss: 0.2700 - accuracy: 0.9220 - val_loss: 0.2198 - val_accuracy: 0.9378\n",
            "Epoch 17/20\n",
            "422/422 [==============================] - 2s 4ms/step - loss: 0.2648 - accuracy: 0.9236 - val_loss: 0.2167 - val_accuracy: 0.9368\n",
            "Epoch 18/20\n",
            "422/422 [==============================] - 2s 4ms/step - loss: 0.2601 - accuracy: 0.9249 - val_loss: 0.2139 - val_accuracy: 0.9373\n",
            "Epoch 19/20\n",
            "422/422 [==============================] - 2s 4ms/step - loss: 0.2556 - accuracy: 0.9262 - val_loss: 0.2095 - val_accuracy: 0.9390\n",
            "Epoch 20/20\n",
            "422/422 [==============================] - 2s 4ms/step - loss: 0.2514 - accuracy: 0.9276 - val_loss: 0.2058 - val_accuracy: 0.9412\n"
          ]
        }
      ],
      "source": [
        "# Entraînement du modèle\n",
        "\n",
        "print()\n",
        "print(\"Entraînement du modèle...\")\n",
        "\n",
        "batch_size = 128\n",
        "epochs = 20\n",
        "taille_jeu_validation = 0.1\n",
        "\n",
        "traces_entrainement = modele_de_base.fit(attributs_entrainement, \n",
        "                                         classes_cibles_entrainement,\n",
        "                                         batch_size=batch_size,\n",
        "                                         epochs=epochs,\n",
        "                                         validation_split=taille_jeu_validation)"
      ]
    },
    {
      "cell_type": "markdown",
      "id": "f4ff02d0",
      "metadata": {
        "id": "f4ff02d0"
      },
      "source": [
        "## Évaluation du modèle avec un jeu de données test"
      ]
    },
    {
      "cell_type": "code",
      "execution_count": 59,
      "id": "e40319bd",
      "metadata": {
        "id": "e40319bd",
        "outputId": "5b3d91d5-d87e-43fb-e703-8a0705d421a7",
        "colab": {
          "base_uri": "https://localhost:8080/"
        }
      },
      "outputs": [
        {
          "output_type": "stream",
          "name": "stdout",
          "text": [
            "\n",
            "Évaluation du modèle...\n",
            "Exactitude test: 93.01%\n"
          ]
        }
      ],
      "source": [
        "# Évaluation du modèle\n",
        "\n",
        "print()\n",
        "print(\"Évaluation du modèle...\")\n",
        "\n",
        "resultats = modele_de_base.evaluate(attributs_test, classes_cibles_test, verbose=0)\n",
        "print(\"Exactitude test: {:.2f}%\".format(resultats[1]*100))"
      ]
    },
    {
      "cell_type": "markdown",
      "id": "2c7b6a55",
      "metadata": {
        "id": "2c7b6a55"
      },
      "source": [
        "**Note:** On constate une perte d'environ -1% entre l'exactitude sur le jeu de données de test et l'exactitude sur du jeu de données d'entraînement. Cette différence s'explique par le surajustement (en anglais, overfitting). "
      ]
    },
    {
      "cell_type": "markdown",
      "source": [
        "## Affichage des courbes d'entraînement: erreur et exactitude"
      ],
      "metadata": {
        "id": "Dzfqm_ZtNvSx"
      },
      "id": "Dzfqm_ZtNvSx"
    },
    {
      "cell_type": "code",
      "source": [
        "## Affichage des courbes d'entraînement\n",
        "hauteur = 8\n",
        "plt.subplots(figsize=(hauteur,1.618*hauteur))\n",
        "plt.subplot(211)\n",
        "plt.title('Erreur entropie croisée')\n",
        "plt.plot(traces_entrainement.history['loss'], color='blue', label='courbe entraînement')\n",
        "plt.plot(traces_entrainement.history['val_loss'], color='orange', label='courbe test')\n",
        "plt.ylabel(\"Erreur\")\n",
        "plt.xlabel(\"Nombre d'époques\")\n",
        "plt.legend()\n",
        "plt.show()\n",
        "# tracer l'exactitude\n",
        "plt.subplots(figsize=(hauteur,1.618*hauteur))\n",
        "plt.subplot(212)\n",
        "plt.title('\\nExactitude de la classification')\n",
        "plt.plot(traces_entrainement.history['accuracy'], color='blue', label='courbe entraînement')\n",
        "plt.plot(traces_entrainement.history['val_accuracy'], color='orange', label='courbe test')\n",
        "plt.ylabel(\"Exactitude\")\n",
        "plt.xlabel(\"Nombre d'époques\")\n",
        "plt.legend()\n",
        "plt.show()"
      ],
      "metadata": {
        "id": "jcOrVZUlNmHU",
        "outputId": "2b17eb09-ef27-4583-fcb7-b81a9e6ce7a0",
        "colab": {
          "base_uri": "https://localhost:8080/",
          "height": 794
        }
      },
      "id": "jcOrVZUlNmHU",
      "execution_count": 60,
      "outputs": [
        {
          "output_type": "display_data",
          "data": {
            "text/plain": [
              "<Figure size 576x931.968 with 1 Axes>"
            ],
            "image/png": "[encoded data removed]"
          },
          "metadata": {
            "needs_background": "light"
          }
        },
        {
          "output_type": "display_data",
          "data": {
            "text/plain": [
              "<Figure size 576x931.968 with 1 Axes>"
            ],
            "image/png": "[encoded data removed]"
          },
          "metadata": {
            "needs_background": "light"
          }
        }
      ]
    },
    {
      "cell_type": "code",
      "execution_count": 58,
      "id": "84499d11",
      "metadata": {
        "id": "84499d11",
        "outputId": "a65dcad8-6d45-44aa-afd8-a06d0b46c4a2",
        "colab": {
          "base_uri": "https://localhost:8080/"
        }
      },
      "outputs": [
        {
          "output_type": "stream",
          "name": "stdout",
          "text": [
            "Exécution carnet IPython terminée!\n"
          ]
        }
      ],
      "source": [
        "print(\"Exécution carnet IPython terminée!\")"
      ]
    },
    {
      "cell_type": "code",
      "execution_count": 58,
      "id": "23d0b1b4",
      "metadata": {
        "id": "23d0b1b4"
      },
      "outputs": [],
      "source": []
    }
  ],
  "metadata": {
    "kernelspec": {
      "display_name": "Python 3",
      "language": "python",
      "name": "python3"
    },
    "language_info": {
      "codemirror_mode": {
        "name": "ipython",
        "version": 3
      },
      "file_extension": ".py",
      "mimetype": "text/x-python",
      "name": "python",
      "nbconvert_exporter": "python",
      "pygments_lexer": "ipython3",
      "version": "3.9.5"
    },
    "colab": {
      "name": "Identification_ChiffresManuscrits_MNIST-PMC.ipynb",
      "provenance": []
    }
  },
  "nbformat": 4,
  "nbformat_minor": 5
}