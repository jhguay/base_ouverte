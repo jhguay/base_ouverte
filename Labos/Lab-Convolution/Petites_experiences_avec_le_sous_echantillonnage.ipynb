{
  "cells": [
    {
      "cell_type": "markdown",
      "id": "relevant-endorsement",
      "metadata": {
        "id": "relevant-endorsement"
      },
      "source": [
        "<a href=\"https://colab.research.google.com/github/ClaudeCoulombe/VIARENA/blob/master/Labos/Petites_experiences_avec_la_convolution.ipynb\" target=\"_blank\"><img src=\"https://colab.research.google.com/assets/colab-badge.svg\" alt=\"Open In Colab\"/></a>\n",
        "\n",
        "### Rappel - Fonctionnement d'un carnet web iPython\n",
        "\n",
        "* Pour exécuter le code contenu dans une cellule d'un carnet iPython, cliquez dans la cellule et faites (⇧↵, shift-enter) \n",
        "* Le code d'un carnet iPython s'exécute séquentiellement de haut en bas de la page. Souvent, l'importation d'une bibliothèque Python ou l'initialisation d'une variable est préalable à l'exécution d'une cellule située plus bas. Il est donc recommandé d'exécuter les cellules en séquence. Enfin, méfiez-vous des retours en arrière qui peuvent réinitialiser certaines variables."
      ]
    },
    {
      "cell_type": "markdown",
      "id": "advance-transition",
      "metadata": {
        "id": "advance-transition"
      },
      "source": [
        "# Petites expériences le sous-échantillonnage\n",
        "\n",
        "Vous allez expérimenter l'application du sous-échantillonnage par le maximum pour réduire la taille des représentations en sortie d'une couche convolutive. Dans un premier temps sur des représentations synthétiques puis sur une image de chevreuil faisant partie du jeu de données CIFAR-10. "
      ]
    },
    {
      "cell_type": "code",
      "execution_count": 1,
      "id": "generic-trading",
      "metadata": {
        "id": "generic-trading"
      },
      "outputs": [],
      "source": [
        "import numpy as np\n",
        "import matplotlib.pyplot as plt\n",
        "\n",
        "def sous_echantillonnage(image):\n",
        "    filtre = np.array([[1,1],[1,1]]) \n",
        "    representation = np.zeros([image.shape[0]//2,\n",
        "                               image.shape[1]//2])\n",
        "    # Balayage de l'image\n",
        "    for ligne in range(0,image.shape[0]-1,2):\n",
        "        for col in range(0,image.shape[1]-1,2):\n",
        "            # Calcul du sous-échantillon par le maximum\n",
        "            zone_a_reduire = image[ligne:ligne+2,col:col+2]*filtre\n",
        "            representation[ligne//2, col//2] = np.max(zone_a_reduire)\n",
        "    return representation"
      ]
    },
    {
      "cell_type": "code",
      "execution_count": 2,
      "id": "framed-segment",
      "metadata": {
        "id": "framed-segment",
        "outputId": "bf5bc48a-a408-4bae-8a49-6316f73847c6",
        "colab": {
          "base_uri": "https://localhost:8080/",
          "height": 891
        }
      },
      "outputs": [
        {
          "output_type": "stream",
          "name": "stdout",
          "text": [
            "Représentation originale:\n",
            "Matrice:\n",
            " [[1 0 1 0 1 0]\n",
            " [0 1 0 1 0 1]\n",
            " [1 0 1 0 1 0]\n",
            " [0 1 0 1 0 1]\n",
            " [1 0 1 0 1 0]\n",
            " [0 1 0 1 0 1]] \n",
            "\n",
            "Image:\n"
          ]
        },
        {
          "output_type": "display_data",
          "data": {
            "text/plain": [
              "<Figure size 432x432 with 1 Axes>"
            ],
            "image/png": "[encoded data removed]"
          },
          "metadata": {
            "needs_background": "light"
          }
        },
        {
          "output_type": "stream",
          "name": "stdout",
          "text": [
            "\n",
            "Résultat du sous-échantillonnage:\n",
            "Matrice:\n",
            " [[1. 1. 1.]\n",
            " [1. 1. 1.]\n",
            " [1. 1. 1.]] \n",
            "\n",
            "Image:\n"
          ]
        },
        {
          "output_type": "display_data",
          "data": {
            "text/plain": [
              "<Figure size 216x216 with 1 Axes>"
            ],
            "image/png": "[encoded data removed]"
          },
          "metadata": {
            "needs_background": "light"
          }
        }
      ],
      "source": [
        "# Représentaion synthétique d'un damier\n",
        "image = np.array([[1,0,1,0,1,0],\n",
        "                  [0,1,0,1,0,1],\n",
        "                  [1,0,1,0,1,0],\n",
        "                  [0,1,0,1,0,1],\n",
        "                  [1,0,1,0,1,0],\n",
        "                  [0,1,0,1,0,1]\n",
        "                 ])\n",
        "\n",
        "print(\"Représentation originale:\")\n",
        "print(\"Matrice:\\n\",image,\"\\n\")\n",
        "print(\"Image:\")\n",
        "plt.figure(figsize=(6,6))\n",
        "plt.imshow(image,cmap=plt.get_cmap('gray'),vmin=0,vmax=1)\n",
        "plt.show()\n",
        "\n",
        "resultat_sousEchantillon = sous_echantillonnage(image)\n",
        "\n",
        "print(\"\\nRésultat du sous-échantillonnage:\")\n",
        "print(\"Matrice:\\n\",resultat_sousEchantillon,\"\\n\")\n",
        "print(\"Image:\")\n",
        "plt.figure(figsize=(3,3))\n",
        "plt.yticks(range(0, resultat_sousEchantillon.shape[0]))\n",
        "plt.xticks(range(0, resultat_sousEchantillon.shape[1]))\n",
        "plt.imshow(resultat_sousEchantillon,cmap=plt.get_cmap('gray'),vmin=0,vmax=1)\n",
        "plt.show()\n"
      ]
    },
    {
      "cell_type": "markdown",
      "id": "ecological-korea",
      "metadata": {
        "id": "ecological-korea"
      },
      "source": [
        "**Note:** Puisque, chaque fenêtre de sous-échantillonnage de 2 x 2 de notre damier régulier contient un pixel à 1. Le résultat est donc une image avec tous les pixels à 1, ce qui corrspond à un carré blanc.\n"
      ]
    },
    {
      "cell_type": "code",
      "execution_count": 3,
      "id": "periodic-franklin",
      "metadata": {
        "id": "periodic-franklin",
        "outputId": "4e125e13-abd0-4cd9-ae6f-da099b98485f",
        "colab": {
          "base_uri": "https://localhost:8080/",
          "height": 891
        }
      },
      "outputs": [
        {
          "output_type": "stream",
          "name": "stdout",
          "text": [
            "Représentation originale:\n",
            "Matrice:\n",
            " [[0 0 1 0 0 0]\n",
            " [0 0 1 0 0 0]\n",
            " [0 0 1 0 0 0]\n",
            " [0 0 1 0 0 0]\n",
            " [0 0 1 0 0 0]\n",
            " [0 0 1 0 0 0]] \n",
            "\n",
            "Image:\n"
          ]
        },
        {
          "output_type": "display_data",
          "data": {
            "text/plain": [
              "<Figure size 432x432 with 1 Axes>"
            ],
            "image/png": "[encoded data removed]"
          },
          "metadata": {
            "needs_background": "light"
          }
        },
        {
          "output_type": "stream",
          "name": "stdout",
          "text": [
            "\n",
            "Résultat du sous-échantillonnage:\n",
            "Matrice:\n",
            " [[0. 1. 0.]\n",
            " [0. 1. 0.]\n",
            " [0. 1. 0.]] \n",
            "\n",
            "Image:\n"
          ]
        },
        {
          "output_type": "display_data",
          "data": {
            "text/plain": [
              "<Figure size 216x216 with 1 Axes>"
            ],
            "image/png": "[encoded data removed]"
          },
          "metadata": {
            "needs_background": "light"
          }
        }
      ],
      "source": [
        "# Représentation synthétique comportant une ligne verticale\n",
        "image = np.array([[0,0,1,0,0,0],\n",
        "                  [0,0,1,0,0,0],\n",
        "                  [0,0,1,0,0,0],\n",
        "                  [0,0,1,0,0,0],\n",
        "                  [0,0,1,0,0,0],\n",
        "                  [0,0,1,0,0,0]\n",
        "                 ])\n",
        "\n",
        "print(\"Représentation originale:\")\n",
        "print(\"Matrice:\\n\",image,\"\\n\")\n",
        "print(\"Image:\")\n",
        "plt.figure(figsize=(6,6))\n",
        "plt.imshow(image,cmap=plt.get_cmap('gray'),vmin=0,vmax=1)\n",
        "plt.show()\n",
        "\n",
        "resultat_sousEchantillon = sous_echantillonnage(image)\n",
        "print(\"\\nRésultat du sous-échantillonnage:\")\n",
        "print(\"Matrice:\\n\",resultat_sousEchantillon,\"\\n\")\n",
        "print(\"Image:\")\n",
        "plt.figure(figsize=(3,3))\n",
        "plt.yticks(range(0, resultat_sousEchantillon.shape[0]))\n",
        "plt.xticks(range(0, resultat_sousEchantillon.shape[1]))\n",
        "plt.imshow(resultat_sousEchantillon,cmap=plt.get_cmap('gray'),vmin=0,vmax=1)\n",
        "plt.show()"
      ]
    },
    {
      "cell_type": "markdown",
      "id": "direct-candy",
      "metadata": {
        "id": "direct-candy"
      },
      "source": [
        "**Note:** Le sous-échantillonnage a réduit la représentation par 4 tout en conservant l'attribut visuel de la ligne verticale.\n",
        "\n"
      ]
    },
    {
      "cell_type": "markdown",
      "id": "institutional-gross",
      "metadata": {
        "id": "institutional-gross"
      },
      "source": [
        "## Expérience avec une photo de chevreuil en tons de gris"
      ]
    },
    {
      "cell_type": "code",
      "execution_count": 4,
      "id": "british-newspaper",
      "metadata": {
        "scrolled": false,
        "id": "british-newspaper",
        "outputId": "cc349353-a15b-4d16-ebbf-5a17aa709a37",
        "colab": {
          "base_uri": "https://localhost:8080/",
          "height": 622
        }
      },
      "outputs": [
        {
          "output_type": "stream",
          "name": "stdout",
          "text": [
            "Image originale: (32, 32)\n"
          ]
        },
        {
          "output_type": "display_data",
          "data": {
            "text/plain": [
              "<Figure size 432x432 with 1 Axes>"
            ],
            "image/png": "[encoded data removed]"
          },
          "metadata": {
            "needs_background": "light"
          }
        },
        {
          "output_type": "stream",
          "name": "stdout",
          "text": [
            "\n",
            "Résultat sous-échantillon: (16, 16)\n"
          ]
        },
        {
          "output_type": "display_data",
          "data": {
            "text/plain": [
              "<Figure size 216x216 with 1 Axes>"
            ],
            "image/png": "[encoded data removed]"
          },
          "metadata": {
            "needs_background": "light"
          }
        }
      ],
      "source": [
        "chemin_data = \"https://cours.edulib.org/asset-v1:Cegep-Matane+VAERN.1FR+P2021+type@asset+block@\"\n",
        "\n",
        "# Image source\n",
        "image = plt.imread(chemin_data+\"Chevreuil-0621_rouge-blanc_noir.png\")\n",
        "print(\"Image originale:\",image.shape)\n",
        "\n",
        "plt.figure(figsize=(6,6))\n",
        "plt.imshow(image,cmap=plt.get_cmap('gray'),vmin=0,vmax=1)\n",
        "plt.show()\n",
        "\n",
        "# Sous-échantillonnage de l'image\n",
        "resultat_sousEchantillon = sous_echantillonnage(image)\n",
        "print(\"\\nRésultat sous-échantillon:\",resultat_sousEchantillon.shape)\n",
        "plt.figure(figsize=(3,3))\n",
        "plt.yticks(range(0, resultat_sousEchantillon.shape[0]))\n",
        "plt.xticks(range(0, resultat_sousEchantillon.shape[1]))\n",
        "plt.imshow(resultat_sousEchantillon,cmap=plt.get_cmap('gray'),vmin=0,vmax=1)\n",
        "plt.show()\n"
      ]
    },
    {
      "cell_type": "markdown",
      "source": [
        "**Note:** Le sous-échantillonnage a réduit la représentation par 4 tout en conservant les principaux attributs visuels du chevreuil.\n"
      ],
      "metadata": {
        "id": "A4BMjMvu0ZST"
      },
      "id": "A4BMjMvu0ZST"
    },
    {
      "cell_type": "code",
      "source": [],
      "metadata": {
        "id": "99Sk2UiZ0WaO"
      },
      "id": "99Sk2UiZ0WaO",
      "execution_count": null,
      "outputs": []
    }
  ],
  "metadata": {
    "kernelspec": {
      "display_name": "Python 3",
      "language": "python",
      "name": "python3"
    },
    "language_info": {
      "codemirror_mode": {
        "name": "ipython",
        "version": 3
      },
      "file_extension": ".py",
      "mimetype": "text/x-python",
      "name": "python",
      "nbconvert_exporter": "python",
      "pygments_lexer": "ipython3",
      "version": "3.8.8"
    },
    "colab": {
      "name": "Petites_experiences_avec_le_sous-echantillonnage.ipynb",
      "provenance": []
    }
  },
  "nbformat": 4,
  "nbformat_minor": 5
}