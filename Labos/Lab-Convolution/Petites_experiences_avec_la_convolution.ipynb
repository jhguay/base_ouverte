{
  "cells": [
    {
      "cell_type": "markdown",
      "id": "relevant-endorsement",
      "metadata": {
        "id": "relevant-endorsement"
      },
      "source": [
        "<a href=\"https://colab.research.google.com/github/ClaudeCoulombe/VIARENA/blob/master/Labos/Petites_experiences_avec_la_convolution.ipynb\" target=\"_blank\"><img src=\"https://colab.research.google.com/assets/colab-badge.svg\" alt=\"Open In Colab\"/></a>\n",
        "\n",
        "### Rappel - Fonctionnement d'un carnet web iPython\n",
        "\n",
        "* Pour exécuter le code contenu dans une cellule d'un carnet iPython, cliquez dans la cellule et faites (⇧↵, shift-enter) \n",
        "* Le code d'un carnet iPython s'exécute séquentiellement de haut en bas de la page. Souvent, l'importation d'une bibliothèque Python ou l'initialisation d'une variable est préalable à l'exécution d'une cellule située plus bas. Il est donc recommandé d'exécuter les cellules en séquence. Enfin, méfiez-vous des retours en arrière qui peuvent réinitialiser certaines variables."
      ]
    },
    {
      "cell_type": "markdown",
      "id": "advance-transition",
      "metadata": {
        "id": "advance-transition"
      },
      "source": [
        "# Petites expériences avec la convolution\n",
        "\n",
        "Vous allez expérimenter l'application de filtres de convolution simples pour identifier des lignes horizontales et verticales et de contour. Dans un premier temps sur des images synthétiques puis sur une image de chevreuil faisant partie du jeu de données CIFAR-10. "
      ]
    },
    {
      "cell_type": "code",
      "execution_count": 1,
      "id": "generic-trading",
      "metadata": {
        "id": "generic-trading"
      },
      "outputs": [],
      "source": [
        "import numpy as np\n",
        "import matplotlib.pyplot as plt\n",
        "\n",
        "def convolution(image, filtre):\n",
        "    # normalisation du filtre\n",
        "    filtre_normal = filtre - filtre.mean()\n",
        "    dim_filtre = filtre.shape[0]  \n",
        "    representation = np.zeros([image.shape[0]-dim_filtre+1,\n",
        "                               image.shape[1]-dim_filtre+1])\n",
        "    # Balayage de l'image\n",
        "    for ligne in range(image.shape[0]-2):\n",
        "        for col in range(image.shape[1]-dim_filtre+1):\n",
        "            # Calcul de la convolution\n",
        "            representation[ligne, col] = np.sum(image[ligne:ligne+dim_filtre,\n",
        "                                                col:col+dim_filtre]*filtre_normal)\n",
        "    return representation"
      ]
    },
    {
      "cell_type": "markdown",
      "id": "contained-train",
      "metadata": {
        "id": "contained-train"
      },
      "source": [
        "## Expérience avec de petites images synthétiques\n",
        "\n",
        "### Détection de lignes verticales \n",
        "\n",
        "Concrètement, nous allons expérimenter avec une convolution capable de détecter (ou filtrer) des lignes verticales. Le filtre utilisé est un tableau 3 x 3 ayant une colonne de 1, suivie d’une colonne de 0 et d’une colonne de -1. \n",
        "\n",
        "    [[ +1.0,  +0.0, -1.0],\n",
        "     [ +1.0,  +0.0, -1.0],\n",
        "     [ +1.0,  +0.0, -1.0]]"
      ]
    },
    {
      "cell_type": "code",
      "execution_count": 2,
      "id": "suitable-leadership",
      "metadata": {
        "id": "suitable-leadership",
        "outputId": "e6cfa859-98bd-457c-9d47-0e885fb5ec14",
        "colab": {
          "base_uri": "https://localhost:8080/",
          "height": 714
        }
      },
      "outputs": [
        {
          "output_type": "stream",
          "name": "stdout",
          "text": [
            "Image synthétique:\n",
            " image.shape: (6, 6) \n",
            "\n",
            " [[0 0 1 0 0 0]\n",
            " [0 0 1 0 0 0]\n",
            " [0 0 1 0 0 0]\n",
            " [0 0 1 0 0 0]\n",
            " [0 0 1 0 0 0]\n",
            " [0 0 1 0 0 0]] \n",
            "\n",
            "\n",
            "Filtre ligne verticale:\n",
            "\n",
            " [[ 1  0 -1]\n",
            " [ 1  0 -1]\n",
            " [ 1  0 -1]] \n",
            "\n",
            "Résultat convolution:\n",
            " resultat_convolution.shape: (4, 4) \n",
            "\n",
            " [[-3.  0.  3.  0.]\n",
            " [-3.  0.  3.  0.]\n",
            " [-3.  0.  3.  0.]\n",
            " [-3.  0.  3.  0.]] \n",
            "\n"
          ]
        },
        {
          "output_type": "display_data",
          "data": {
            "text/plain": [
              "<Figure size 432x288 with 1 Axes>"
            ],
            "image/png": "[encoded data removed]"
          },
          "metadata": {
            "needs_background": "light"
          }
        }
      ],
      "source": [
        "# image synthétique comportant une ligne verticale\n",
        "image = np.array([[0,0,1,0,0,0],\n",
        "                  [0,0,1,0,0,0],\n",
        "                  [0,0,1,0,0,0],\n",
        "                  [0,0,1,0,0,0],\n",
        "                  [0,0,1,0,0,0],\n",
        "                  [0,0,1,0,0,0]\n",
        "                 ])\n",
        "\n",
        "print(\"Image synthétique:\\n\",\"image.shape:\",image.shape,\"\\n\\n\",image,\"\\n\")\n",
        "\n",
        "# Filtre pour reconnaître des lignes verticales dans une image\n",
        "filtre = np.array([[ 1,  0, -1],\n",
        "                   [ 1,  0, -1],\n",
        "                   [ 1,  0, -1]])\n",
        "print(\"\\nFiltre ligne verticale:\\n\\n\",filtre,\"\\n\")\n",
        "\n",
        "resultat_convolution = convolution(image,filtre)\n",
        "print(\"Résultat convolution:\\n\",\"resultat_convolution.shape:\",resultat_convolution.shape,\"\\n\\n\",resultat_convolution,\"\\n\")\n",
        "\n",
        "plt.yticks(range(0, resultat_convolution.shape[0]))\n",
        "plt.xticks(range(0, resultat_convolution.shape[1]))\n",
        "plt.imshow(resultat_convolution,cmap=plt.get_cmap('gray'),vmin=0,vmax=1)\n",
        "plt.show()"
      ]
    },
    {
      "cell_type": "markdown",
      "source": [
        "**Note:** Le filtre ligne verticale a détecté la ligne verticale dans l'image synthétique."
      ],
      "metadata": {
        "id": "2QC1Dufpb3eD"
      },
      "id": "2QC1Dufpb3eD"
    },
    {
      "cell_type": "markdown",
      "id": "external-broadcasting",
      "metadata": {
        "id": "external-broadcasting"
      },
      "source": [
        "### Détection de lignes horizontales \n",
        "\n",
        "De son côté, un filtre capable de détecter des lignes horizontales est simplement une transposition du filtre précédent. C'est-à-dire un tableau 3 x 3 ayant une ligne de 1, suivie d’une ligne de 0 et d’une ligne de -1.\n",
        "\n",
        "    [[ +1.0, +0.0, -1.0],\n",
        "     [ +1.0, +0.0, -1.0],\n",
        "     [ +1.0, +0.0, -1.0]]"
      ]
    },
    {
      "cell_type": "code",
      "execution_count": 9,
      "id": "acknowledged-palmer",
      "metadata": {
        "id": "acknowledged-palmer",
        "outputId": "c40c1008-d367-488c-875c-78ff9e36c16f",
        "colab": {
          "base_uri": "https://localhost:8080/",
          "height": 696
        }
      },
      "outputs": [
        {
          "output_type": "stream",
          "name": "stdout",
          "text": [
            "Image synthétique:\n",
            " image.shape: (6, 6) \n",
            "\n",
            " [[0 0 0 0 0 0]\n",
            " [1 1 1 1 1 1]\n",
            " [0 0 0 0 0 0]\n",
            " [0 0 0 0 0 0]\n",
            " [0 0 0 0 0 0]\n",
            " [0 0 0 0 0 0]] \n",
            "\n",
            "\n",
            "Filtre ligne horizontale:\n",
            " [[ 1.  1.  1.]\n",
            " [ 0.  0.  0.]\n",
            " [-1. -1. -1.]]\n",
            "\n",
            "Résultat convolution:\n",
            " resultat_convolution.shape: (4, 4) \n",
            "\n",
            " [[0. 0. 0. 0.]\n",
            " [3. 3. 3. 3.]\n",
            " [0. 0. 0. 0.]\n",
            " [0. 0. 0. 0.]] \n",
            "\n"
          ]
        },
        {
          "output_type": "display_data",
          "data": {
            "text/plain": [
              "<Figure size 432x288 with 1 Axes>"
            ],
            "image/png": "[encoded data removed]"
          },
          "metadata": {
            "needs_background": "light"
          }
        }
      ],
      "source": [
        "# image synthétique comportant une ligne verticale\n",
        "image = np.array([[0,0,0,0,0,0],\n",
        "                  [1,1,1,1,1,1],\n",
        "                  [0,0,0,0,0,0],\n",
        "                  [0,0,0,0,0,0],\n",
        "                  [0,0,0,0,0,0],\n",
        "                  [0,0,0,0,0,0],\n",
        "                 ])\n",
        "\n",
        "print(\"Image synthétique:\\n\",\"image.shape:\",image.shape,\"\\n\\n\",image,\"\\n\")\n",
        "\n",
        "# Filtre pour reconnaître des lignes horizontales dans une image\n",
        "filtre = np.array([[ +1.0, +1.0, +1.0],\n",
        "                   [ +0.0, +0.0, +0.0],\n",
        "                   [ -1.0, -1.0, -1.0]])\n",
        "print(\"\\nFiltre ligne horizontale:\\n\",filtre)\n",
        "\n",
        "resultat_convolution = convolution(image,filtre)\n",
        "print(\"\\nRésultat convolution:\\n\",\"resultat_convolution.shape:\",resultat_convolution.shape,\"\\n\\n\",resultat_convolution,\"\\n\")\n",
        "\n",
        "plt.yticks(range(0, resultat_convolution.shape[0]))\n",
        "plt.xticks(range(0, resultat_convolution.shape[1]))\n",
        "plt.imshow(resultat_convolution,cmap=plt.get_cmap('gray'),vmin=0,vmax=1)\n",
        "plt.show()"
      ]
    },
    {
      "cell_type": "markdown",
      "source": [
        "**Note:** Le filtre ligne horizontale a détecté la ligne horizontale dans l'image synthétique."
      ],
      "metadata": {
        "id": "5sDQzenycOuo"
      },
      "id": "5sDQzenycOuo"
    },
    {
      "cell_type": "markdown",
      "id": "institutional-gross",
      "metadata": {
        "id": "institutional-gross"
      },
      "source": [
        "## Expériences avec une photo de chevreuil en tons de gris"
      ]
    },
    {
      "cell_type": "code",
      "execution_count": 14,
      "id": "british-newspaper",
      "metadata": {
        "scrolled": false,
        "id": "british-newspaper",
        "outputId": "e7070a7c-7ec9-4402-c4dc-98d00d542996",
        "colab": {
          "base_uri": "https://localhost:8080/",
          "height": 302
        }
      },
      "outputs": [
        {
          "output_type": "stream",
          "name": "stdout",
          "text": [
            "(32, 32)\n"
          ]
        },
        {
          "output_type": "display_data",
          "data": {
            "text/plain": [
              "<Figure size 432x288 with 1 Axes>"
            ],
            "image/png": "[encoded data removed]"
          },
          "metadata": {
            "needs_background": "light"
          }
        },
        {
          "output_type": "stream",
          "name": "stdout",
          "text": [
            "Image source, taille (32, 32)\n"
          ]
        }
      ],
      "source": [
        "chemin_data = \"https://cours.edulib.org/asset-v1:Cegep-Matane+VAERN.1FR+P2021+type@asset+block@\"\n",
        "\n",
        "# Image source\n",
        "images = plt.imread(chemin_data+\"Chevreuil-0621_rouge-blanc_noir.png\")\n",
        "print(images.shape)\n",
        "plt.imshow(images)\n",
        "plt.show()\n",
        "print(\"Image source, taille\",images.shape)\n",
        "\n",
        "#plt.imshow(image,cmap=plt.get_cmap('gray'),vmin=0,vmax=1)\n",
        "#plt.show()"
      ]
    },
    {
      "cell_type": "code",
      "execution_count": null,
      "id": "drawn-graham",
      "metadata": {
        "id": "drawn-graham"
      },
      "outputs": [],
      "source": [
        "# Filtre ligne verticale\n",
        "filtre = np.array([[ +1.0, +0.0, -1.0],\n",
        "                   [ +1.0, +0.0, -1.0],\n",
        "                   [ +1.0, +0.0, -1.0]])\n",
        "print(\"Filtre ligne verticale:\\n\\n\",filtre,\"\\n\")\n",
        "\n",
        "resultat_convolution = convolution(image,filtre)\n",
        "\n",
        "print(\"\\nRésultat convolution:\\n\",\"resultat_convolution.shape:\",resultat_convolution.shape)\n",
        "plt.imshow(resultat_convolution,cmap=plt.get_cmap('gray'),vmin=0,vmax=1)\n",
        "plt.show()"
      ]
    },
    {
      "cell_type": "markdown",
      "id": "speaking-checklist",
      "metadata": {
        "id": "speaking-checklist"
      },
      "source": [
        "**Note:** Le filtre de lignes verticales fait ressortir les pattes et ses oreilles du chevreuil. "
      ]
    },
    {
      "cell_type": "code",
      "execution_count": 6,
      "id": "steady-hunger",
      "metadata": {
        "id": "steady-hunger",
        "outputId": "26915785-75e6-4269-8562-95bb4b0a9810",
        "colab": {
          "base_uri": "https://localhost:8080/",
          "height": 410
        }
      },
      "outputs": [
        {
          "output_type": "stream",
          "name": "stdout",
          "text": [
            "\n",
            "Filtre ligne horizontale:\n",
            " [[ 1.  1.  1.]\n",
            " [ 0.  0.  0.]\n",
            " [-1. -1. -1.]]\n",
            "\n",
            "Résultat convolution:\n",
            " resultat_convolution.shape: (30, 30)\n"
          ]
        },
        {
          "output_type": "display_data",
          "data": {
            "text/plain": [
              "<Figure size 432x288 with 1 Axes>"
            ],
            "image/png": "[encoded data removed]"
          },
          "metadata": {
            "needs_background": "light"
          }
        }
      ],
      "source": [
        "# Filtre ligne horizontale\n",
        "filtre = np.array([[ +1.0, +1.0, +1.0],\n",
        "                   [ +0.0, +0.0, +0.0],\n",
        "                   [ -1.0, -1.0, -1.0]])\n",
        "print(\"\\nFiltre ligne horizontale:\\n\",filtre)\n",
        "\n",
        "resultat_convolution = convolution(image,filtre)\n",
        "\n",
        "print(\"\\nRésultat convolution:\\n\",\"resultat_convolution.shape:\",resultat_convolution.shape)\n",
        "plt.imshow(resultat_convolution,cmap=plt.get_cmap('gray'),vmin=0,vmax=1)\n",
        "plt.show()"
      ]
    },
    {
      "cell_type": "markdown",
      "id": "ignored-project",
      "metadata": {
        "id": "ignored-project"
      },
      "source": [
        "**Note:** Le filtre de lignes horizontales fait ressortir le dos du chevreuil."
      ]
    },
    {
      "cell_type": "code",
      "execution_count": 16,
      "id": "animal-filling",
      "metadata": {
        "id": "animal-filling",
        "outputId": "2361071c-b60d-4a9a-b0c4-f334847a5589",
        "colab": {
          "base_uri": "https://localhost:8080/",
          "height": 410
        }
      },
      "outputs": [
        {
          "output_type": "stream",
          "name": "stdout",
          "text": [
            "\n",
            "Filtre : zone claire entourée de pixels plus foncés\n",
            " [[-1. -1. -1.]\n",
            " [-1.  1. -1.]\n",
            " [-1. -1. -1.]]\n",
            "\n",
            "Résultat convolution:\n",
            " resultat_convolution.shape: (30, 30)\n"
          ]
        },
        {
          "output_type": "display_data",
          "data": {
            "text/plain": [
              "<Figure size 432x288 with 1 Axes>"
            ],
            "image/png": "[encoded data removed]"
          },
          "metadata": {
            "needs_background": "light"
          }
        }
      ],
      "source": [
        "# Filtre : zone claire entourée de pixels plus foncés\n",
        "filtre = np.array([[-1.0, -1.0, -1.0], \n",
        "                   [-1.0, +1.0, -1.0],\n",
        "                   [-1.0, -1.0, -1.0]])\n",
        "print(\"\\nFiltre : zone claire entourée de pixels plus foncés\\n\",filtre)\n",
        "\n",
        "resultat_convolution = convolution(image,filtre)\n",
        "\n",
        "print(\"\\nRésultat convolution:\\n\",\"resultat_convolution.shape:\",resultat_convolution.shape)\n",
        "plt.imshow(resultat_convolution,cmap=plt.get_cmap('gray'),vmin=0,vmax=1)\n",
        "plt.show()"
      ]
    },
    {
      "cell_type": "markdown",
      "id": "subsequent-heath",
      "metadata": {
        "id": "subsequent-heath"
      },
      "source": [
        "**Note:** Le filtre pixel clair entouré de pixels foncés révèle le contour du chevreuil."
      ]
    },
    {
      "cell_type": "markdown",
      "id": "stainless-background",
      "metadata": {
        "id": "stainless-background"
      },
      "source": [
        "## Complément utile\n",
        "Ci-dessous, une manipulation simple de l'image qui consiste à ajouter un carré noir."
      ]
    },
    {
      "cell_type": "code",
      "execution_count": 17,
      "id": "mathematical-valentine",
      "metadata": {
        "id": "mathematical-valentine",
        "outputId": "376550c7-9f08-4f45-ba0f-26f3f84090d8",
        "colab": {
          "base_uri": "https://localhost:8080/",
          "height": 266
        }
      },
      "outputs": [
        {
          "output_type": "display_data",
          "data": {
            "text/plain": [
              "<Figure size 432x288 with 1 Axes>"
            ],
            "image/png": "[encoded data removed]"
          },
          "metadata": {
            "needs_background": "light"
          }
        }
      ],
      "source": [
        "image[25:30,25:30]=0\n",
        "plt.imshow(image,cmap=plt.get_cmap('gray'),vmin=0,vmax=1)\n",
        "plt.show()\n"
      ]
    }
  ],
  "metadata": {
    "kernelspec": {
      "display_name": "Python 3",
      "language": "python",
      "name": "python3"
    },
    "language_info": {
      "codemirror_mode": {
        "name": "ipython",
        "version": 3
      },
      "file_extension": ".py",
      "mimetype": "text/x-python",
      "name": "python",
      "nbconvert_exporter": "python",
      "pygments_lexer": "ipython3",
      "version": "3.8.8"
    },
    "colab": {
      "name": "Petites_experiences_avec_la_convolution.ipynb",
      "provenance": []
    }
  },
  "nbformat": 4,
  "nbformat_minor": 5
}