{
  "cells": [
    {
      "cell_type": "markdown",
      "id": "39faa9c8",
      "metadata": {
        "id": "39faa9c8"
      },
      "source": [
        "<a href=\"https://colab.research.google.com/github/ClaudeCoulombe/VIARENA/blob/master/Labos/Labo-App_Mobile/IdEcorces-ResConv-ConversionVersTFLite-Colab.ipynb\" target=\"_blank\"><img src=\"https://colab.research.google.com/assets/colab-badge.svg\" alt=\"Open In Colab\"/></a>\n",
        "\n",
        "### Rappel - Fonctionnement d'un carnet web iPython\n",
        "\n",
        "* Pour exécuter le code contenu dans une cellule d'un carnet iPython, cliquez dans la cellule et faites (⇧↵, shift-enter) \n",
        "* Le code d'un carnet iPython s'exécute séquentiellement de haut en bas de la page. Souvent, l'importation d'une bibliothèque Python ou l'initialisation d'une variable est préalable à l'exécution d'une cellule située plus bas. Il est donc recommandé d'exécuter les cellules en séquence. Enfin, méfiez-vous des retours en arrière qui peuvent réinitialiser certaines variables.\n",
        "\n",
        "\n",
        "SVP, déployez toutes les cellules en sélectionnant l'item « Développer les rubriques » de l'onglet « Affichage »."
      ]
    },
    {
      "cell_type": "markdown",
      "id": "59a7a765",
      "metadata": {
        "id": "59a7a765"
      },
      "source": [
        "#  Conversion vers un modèle TensorFlow Lite"
      ]
    },
    {
      "cell_type": "markdown",
      "id": "d8ebef56",
      "metadata": {
        "id": "d8ebef56"
      },
      "source": [
        "Comme son nom l'indique, le convertisseur TensorFlow Lite, <code>tf.lite.TFLiteConverter</code>, convertit un modèle TensorFlow Keras en un modèle TensorFlow Lite plus compact. Identifié par l'extension de fichier .tflite, le format TensorFlow Lite.\n",
        "\n",
        "Pour les modèles Keras, la conversion se fait en deux étapes:\n",
        "\n",
        "1.   Conversion Keras à TFlite\n",
        "2.   Ajout des métadonnées"
      ]
    },
    {
      "cell_type": "markdown",
      "source": [
        "### Inspiration et droits d'auteur\n",
        "\n",
        "Ce laboratoire s'inspire de plusieurs oeuvres en logiciels libres qui ont été transformées dont:\n",
        "\n",
        "<a href=\"https://www.tensorflow.org/lite/convert\" target='_blank'>TensorFlow Lite converter</a> - site Google / Guide TensorFlow pour mobile et objet connecté \n",
        "\n",
        "<a href=\"https://www.tensorflow.org/lite/convert/metadata_writer_tutorial\" target='_blank'>TensorFlow Lite Metadata Writer API</a> - site Google / Guide TensorFlow pour mobile et objet connecté \n",
        "\n",
        "<a href=\"https://medium.com/axinc-ai/convert-keras-models-to-tensorflow-lite-e654994fb93c\">Convert Keras models to TensorFlow Lite</a> - David Cochard - 2 juin 2021\n",
        "\n",
        "##### Copyright (c) 2019-2022, The TensorFlow Authors.\n",
        "##### Copyright (c) 2021, David Cochard\n",
        "##### Copyright (c) 2022, Claude Coulombe\n",
        "\n",
        "Le contenu de cette page est sous licence <a href=\"https://creativecommons.org/licenses/by/4.0/deed.fr\" target='_blank'>Creative Commons Attribution 4.0 (CC BY 4.0)</a>,<br/>et les exemples de code sont sous <a href=\"https://www.apache.org/licenses/LICENSE-2.0\" target='_blank'>licence Apache 2.0</a>.\n",
        "\n",
        "#### Données\n",
        "\n",
        "Les données sur les écorces d'arbres proviennent de <a href=\"https://data.mendeley.com/research-data/?search=barknet\">BarkNet</a>, une banque en données ouvertes sous licence MIT de 23 000 photos d'écorces d'arbres en haute résolution prises avec des téléphones intelligents par une équipe d'étudiants et de chercheurs du <a href=\"https://www.sbf.ulaval.ca/\" target='_blank'>Département des sciences du bois et de la forêt de l'Université Laval</a> à Québec.</p>"
      ],
      "metadata": {
        "id": "hIgR48ulcaT0"
      },
      "id": "hIgR48ulcaT0"
    },
    {
      "cell_type": "markdown",
      "id": "fJQRQgoELtci",
      "metadata": {
        "id": "fJQRQgoELtci"
      },
      "source": [
        "## Installation des bibliothèques Python"
      ]
    },
    {
      "cell_type": "markdown",
      "source": [
        "### ***Attention!*** Pour convertir un modèle Keras vers TFlite, vous\n",
        "### devez installer une version plus ancienne de TensorFlow, soit la\n",
        "### version 2.6.0 à cause d'une incompatibilité avec Flatbuffer\n",
        "\n",
        "<!-- https://github.com/tensorflow/tensorflow/issues/51590 -->\n",
        "\n",
        "1. Colab vous demandera une confirmation\n",
        "<img src=\"https://cours.edulib.org/asset-v1:Cegep-Matane+VAERN.1FR+P2021+type@asset+block@Retrograder_version_TensorFlow.png\">\n",
        "\n",
        "2. Vous devrez redémarrer l'environnement d'exécution. \n",
        "\n",
        "Soit en cliquant le bouton « RESTART RUNTIME » qui apparaîtra au bas de la trace d'éxécution de la cellule \n",
        "\n",
        "<img src=\"https://cours.edulib.org/asset-v1:Cegep-Matane+VAERN.1FR+P2021+type@asset+block@Redemarrer_environnement_dexecution.png\">\n",
        "\n",
        "ou via le menu « Exécution » et l'item « Redémarrer l'environnement d'exécution ».\n",
        "\n",
        "\n"
      ],
      "metadata": {
        "id": "Ve_9KRVxXX94"
      },
      "id": "Ve_9KRVxXX94"
    },
    {
      "cell_type": "code",
      "execution_count": null,
      "id": "8d2b5f59",
      "metadata": {
        "id": "8d2b5f59"
      },
      "outputs": [],
      "source": [
        "!pip3 uninstall tensorflow\n",
        "!pip3 install tensorflow==2.6.0\n",
        "!pip3 install keras==2.6.0"
      ]
    },
    {
      "cell_type": "markdown",
      "source": [
        "#### Vérifiez que la version de TensoFlow est bien 2.6.0"
      ],
      "metadata": {
        "id": "ZdoRpTUae1LL"
      },
      "id": "ZdoRpTUae1LL"
    },
    {
      "cell_type": "code",
      "execution_count": null,
      "id": "05229049",
      "metadata": {
        "id": "05229049"
      },
      "outputs": [],
      "source": [
        "import os\n",
        "\n",
        "import tensorflow as tf\n",
        "print(\"Version de TensorFlow :\",tf.__version__)\n",
        "\n",
        "print(\"Bibliothèques Python chargées\")"
      ]
    },
    {
      "cell_type": "markdown",
      "id": "RQITG8Z2Mgw1",
      "metadata": {
        "id": "RQITG8Z2Mgw1"
      },
      "source": [
        "## Choix et téléversement du modèle Keras à convertir"
      ]
    },
    {
      "cell_type": "markdown",
      "id": "JvF-2uTuM0aB",
      "metadata": {
        "id": "JvF-2uTuM0aB"
      },
      "source": [
        "### Téléversement et décompression d'un modèle Keras sauvegardé sur votre poste local\n",
        "\n",
        "1. & 2. Vous allez téléverser le modèle Keras entraîné précédemment\n",
        "\n",
        "<img src=\"https://cours.edulib.org/asset-v1:Cegep-Matane+VAERN.1FR+P2021+type@asset+block@Colab_Importer_Fichier.png\"/>\n",
        "\n",
        "3. La fenêtre de l'outil de fichiers de votre ordinateur s'ouvre alors. Allez chercher le modèle Keras compressé, modele_....zip que vous avez sauvegardé précédemment sur votre ordinateur local.\n",
        "\n",
        "**Attention!** Le téléchargement peut prendre plusieurs minutes. Assurez-vous que le fichier est entièrement téléversé et que l'icône d'état du téléversement (un cercle jaune, comme ci-dessous) disparaisse après avoir été complet. \n",
        "\n",
        "<img style=\"margin-left:0px\" src=\"https://cours.edulib.org/asset-v1:Cegep-Matane+VAERN.1FR+P2021+type@asset+block@Colab_Importer_Fichier-3.png\"/>\n"
      ]
    },
    {
      "cell_type": "markdown",
      "source": [
        "4. Création de trois répertoires pour les modèles: 1) modèle Keras, 2) modèle TFlite obtenu par conversion et 3) modèle TFlite enrichi de métadonnées."
      ],
      "metadata": {
        "id": "Mfp9-LhKkgRw"
      },
      "id": "Mfp9-LhKkgRw"
    },
    {
      "cell_type": "code",
      "source": [
        "try:\n",
        "    os.mkdir(\"/content/modele_keras/\")\n",
        "except OSError:\n",
        "    pass\n",
        "try:\n",
        "    os.mkdir(\"/content/modele_TFlite/\")\n",
        "except OSError:\n",
        "    pass\n",
        "try:\n",
        "    os.mkdir(\"/content/modele_TFlite_metadonnees/\")\n",
        "except OSError:\n",
        "    pass"
      ],
      "metadata": {
        "id": "Gh2JIviHktJA"
      },
      "id": "Gh2JIviHktJA",
      "execution_count": null,
      "outputs": []
    },
    {
      "cell_type": "markdown",
      "id": "kS3ij-S_Rhyi",
      "metadata": {
        "id": "kS3ij-S_Rhyi"
      },
      "source": [
        "5. Décompressez le fichier modele_....zip en exécutant la commande ci-dessous:"
      ]
    },
    {
      "cell_type": "code",
      "execution_count": null,
      "id": "4sRSrKEYNN8M",
      "metadata": {
        "id": "4sRSrKEYNN8M"
      },
      "outputs": [],
      "source": [
        "!unzip /content/modele_*.zip -d /content/modele_keras/ && rm /content/modele_*.zip"
      ]
    },
    {
      "cell_type": "code",
      "execution_count": null,
      "id": "ZfhcN6eQPKoL",
      "metadata": {
        "id": "ZfhcN6eQPKoL"
      },
      "outputs": [],
      "source": [
        "# Chemin vers modèles \n",
        "chemin_vers_modele_keras = \"/content/modele_keras/\"\n",
        "# Taille du modèle Keras\n",
        "taille_totale = 0\n",
        "for chemin, repertoires, fichiers in os.walk(chemin_vers_modele_keras):\n",
        "    for fichier in fichiers:\n",
        "        chemin_fichier = os.path.join(chemin, fichier)\n",
        "        taille_totale += os.path.getsize(chemin_fichier)\n",
        "taille_modele_keras = taille_totale\n",
        "print(\"Taille du modèle Keras: \" + str(taille_modele_keras//1.0E+06) + \" Mo\")"
      ]
    },
    {
      "cell_type": "markdown",
      "id": "-TZkHafcKWxI",
      "metadata": {
        "id": "-TZkHafcKWxI"
      },
      "source": [
        "## Chargement du modèle"
      ]
    },
    {
      "cell_type": "code",
      "execution_count": null,
      "id": "a6853a0c",
      "metadata": {
        "id": "a6853a0c"
      },
      "outputs": [],
      "source": [
        "modele_keras = tf.keras.models.load_model(chemin_vers_modele_keras)\n",
        "\n",
        "print(\"Architecture du modèle entraîné\")\n",
        "modele_keras.summary()\n"
      ]
    },
    {
      "cell_type": "markdown",
      "id": "ad384fa0",
      "metadata": {
        "id": "ad384fa0"
      },
      "source": [
        "##  Conversion du modèle"
      ]
    },
    {
      "cell_type": "markdown",
      "source": [
        "Pour convertir efficacement un modèle Keras à un modèle plus compact TFlite, l'outil de conversion `TFLiteConverter` aura besoin d'échantillonner des données typiques. \n",
        "\n",
        "L'examen d'un échantillon représentatif des données est requis pour réaliser une quantification (<i>quantization</i>), en fait une réduction de la précision des calculs avec des entiers à 8 bits (INT8 ou TFLITE_BUILTINS_INT8).\n",
        "\n",
        "Vous allez donc créer des répertoires en conséquence."
      ],
      "metadata": {
        "id": "SsLHP3QQfTFp"
      },
      "id": "SsLHP3QQfTFp"
    },
    {
      "cell_type": "markdown",
      "id": "K8G1_IxTmQib",
      "metadata": {
        "id": "K8G1_IxTmQib"
      },
      "source": []
    },
    {
      "cell_type": "markdown",
      "source": [
        "### Création des répertoires pour les données"
      ],
      "metadata": {
        "id": "0Goo7gzFgdW8"
      },
      "id": "0Goo7gzFgdW8"
    },
    {
      "cell_type": "code",
      "execution_count": null,
      "id": "WHMhq896Lljq",
      "metadata": {
        "id": "WHMhq896Lljq"
      },
      "outputs": [],
      "source": [
        "try:\n",
        "    os.mkdir(\"/content/donnees/\")\n",
        "except OSError:\n",
        "    pass\n",
        "try:\n",
        "    os.mkdir(\"/content/lab_ecorces/\")\n",
        "except OSError:\n",
        "    pass\n"
      ]
    },
    {
      "cell_type": "markdown",
      "id": "KwEN-RLVpFB4",
      "metadata": {
        "id": "KwEN-RLVpFB4"
      },
      "source": [
        "### Chargement des données\n",
        "\n",
        "Pour des raisons pratiques, principalement de bande passante, les données sont conservées sur le site Kaggle."
      ]
    },
    {
      "cell_type": "markdown",
      "id": "Qky5hOJenyzJ",
      "metadata": {
        "id": "Qky5hOJenyzJ"
      },
      "source": [
        "#### Utilisation de l'IPA (<i>API</i>) de Kaggle pour l'importation directe du jeu de données BarkNet\n",
        "\n",
        "1. Commencez par installer la bibliothèque Python `kaggle`"
      ]
    },
    {
      "cell_type": "code",
      "execution_count": null,
      "id": "XxpsnymwmPI8",
      "metadata": {
        "id": "XxpsnymwmPI8"
      },
      "outputs": [],
      "source": [
        "!pip3 install kaggle"
      ]
    },
    {
      "cell_type": "markdown",
      "id": "DBtEZtWsn6Y8",
      "metadata": {
        "id": "DBtEZtWsn6Y8"
      },
      "source": [
        "2. Si ce n'est déjà fait, devenez membre de Kaggle avec votre adresse de courriel GMail:<br/>\n",
        "\n",
        "<img src=\"https://cours.edulib.org/asset-v1:Cegep-Matane+VAERN.1FR+P2021+type@asset+block@Kaggle_API-1.png\"/>"
      ]
    },
    {
      "cell_type": "markdown",
      "id": "iZF6eg-KoCtc",
      "metadata": {
        "id": "iZF6eg-KoCtc"
      },
      "source": [
        "3. Maintenant, vous devez télécharger votre clé privée pour utiliser l'IPA de Kaggle.\n",
        "\n",
        "4. Cliquez sur l'onglet « account » de votre profil Kaggle\n",
        "\n",
        "<img src=\"https://cours.edulib.org/asset-v1:Cegep-Matane+VAERN.1FR+P2021+type@asset+block@Kaggle_API-2.png\"/>\n",
        "\n",
        "5. Sur la page « Account » cliquez sur le bouton « Create New API Token ».\n",
        "    \n",
        "<img style=\"margin-left:40px;\" src=\"https://cours.edulib.org/asset-v1:Cegep-Matane+VAERN.1FR+P2021+type@asset+block@Kaggle_API-3.png\"/>\n",
        "\n",
        "6. Téléchargez votre clé privée « kaggle.json » pour l'IPA Kaggle dans un endroit temporaire sur votre poste de travail.\n",
        "\n",
        "<img style=\"margin-left:40px;\" src=\"https://cours.edulib.org/asset-v1:Cegep-Matane+VAERN.1FR+P2021+type@asset+block@Kaggle_API-5.png\"/>\n",
        "\n",
        "7. Maintenant, transférez (téléversez) votre clé privée « kaggle.json » dans votre environnement Colab.\n",
        "\n",
        "La fenêtre de l'outil de fichiers de votre ordinateur s'ouvre alors. Allez chercher votre clé privée « kaggle.json » que vous avez sauvegardée sur votre  ordinateur.\n",
        "\n",
        "<img style=\"margin-left:40px;\" src=\"https://cours.edulib.org/asset-v1:Cegep-Matane+VAERN.1FR+P2021+type@asset+block@Colab_Importer_Fichier.png\"/>\n"
      ]
    },
    {
      "cell_type": "markdown",
      "id": "LxAGn3tBobRO",
      "metadata": {
        "id": "LxAGn3tBobRO"
      },
      "source": [
        "8. Créer à la racine un répertoire .kaggle et déplacez votre clé privée « kaggle.json » dans ce répertoire."
      ]
    },
    {
      "cell_type": "code",
      "execution_count": null,
      "id": "EvItGiwmod00",
      "metadata": {
        "id": "EvItGiwmod00"
      },
      "outputs": [],
      "source": [
        "!mkdir ~/.kaggle\n",
        "!cp /content/kaggle.json ~/.kaggle/\n",
        "!chmod 600 ~/.kaggle/kaggle.json\n",
        "!ls ~/.kaggle -all"
      ]
    },
    {
      "cell_type": "markdown",
      "id": "Zp7N4gn6oq4y",
      "metadata": {
        "id": "Zp7N4gn6oq4y"
      },
      "source": [
        "9. Maintenant téléchargez le jeu de données réduit « barknet-mini » de 1.6 Go avec la commande suivante:"
      ]
    },
    {
      "cell_type": "code",
      "execution_count": null,
      "id": "uN4M5IAroneQ",
      "metadata": {
        "collapsed": true,
        "id": "uN4M5IAroneQ"
      },
      "outputs": [],
      "source": [
        "# Attention! Jeu réduit de données 1.5 Go - plus rapide à télécharger et à traiter\n",
        "!kaggle datasets download claudecoulombe/barknet-mini --unzip -p /content/donnees/\n",
        "repertoire_entree = \"/content/donnees/BarkNet-mini\""
      ]
    },
    {
      "cell_type": "markdown",
      "id": "7JNTy51MoyrN",
      "metadata": {
        "id": "7JNTy51MoyrN"
      },
      "source": [
        "### Répartition des données"
      ]
    },
    {
      "cell_type": "code",
      "execution_count": null,
      "id": "bDwXq311pbvq",
      "metadata": {
        "id": "bDwXq311pbvq"
      },
      "outputs": [],
      "source": [
        "# Installation des bibliothèques Python `split-folders` et `tqdm`\n",
        "!pip3 install split-folders tqdm"
      ]
    },
    {
      "cell_type": "code",
      "execution_count": null,
      "id": "kxZlSFuJpfCk",
      "metadata": {
        "id": "kxZlSFuJpfCk"
      },
      "outputs": [],
      "source": [
        "# Répartition des données d'entraînement, de validation et de tests\n",
        "import splitfolders\n",
        "import pathlib\n",
        "\n",
        "#### répertoire des données une fois réparties\n",
        "repertoire_donnees_reparties = \"/content/lab_ecorces\"\n",
        "# => train, val, test\n",
        "\n",
        "nombre_images = len(list(pathlib.Path(repertoire_entree).glob('*/*.jpg')))\n",
        "print(\"Nombre total d'images:\",nombre_images)\n",
        "\n",
        "splitfolders.ratio(repertoire_entree, \n",
        "                   output=repertoire_donnees_reparties, \n",
        "                   seed=42, \n",
        "                   ratio = (0.65, 0.15, 0.20)\n",
        "                   )\n",
        "\n",
        "print(\"\\nRépartition des données terminée!\")"
      ]
    },
    {
      "cell_type": "markdown",
      "id": "IAk--80qohqA",
      "metadata": {
        "id": "IAk--80qohqA"
      },
      "source": [
        "## Conversion du modèle proprement dite"
      ]
    },
    {
      "cell_type": "code",
      "execution_count": null,
      "id": "27def61a",
      "metadata": {
        "id": "27def61a"
      },
      "outputs": [],
      "source": [
        "TAILLE_LOT = 32\n",
        "HAUTEUR_IMAGE = 150\n",
        "LARGEUR_IMAGE = 150\n",
        "TAILLE_IMAGE = (HAUTEUR_IMAGE, LARGEUR_IMAGE)\n",
        "REPERTOIRE_VALIDATION = \"/content/lab_ecorces/val\"\n",
        "chemin_vers_modele_TFlite = \"/content/modele_TFlite/\"\n",
        "nom_modele_TFlite = \"modele.tflite\""
      ]
    },
    {
      "cell_type": "code",
      "execution_count": null,
      "id": "32hGGyHmg92K",
      "metadata": {
        "id": "32hGGyHmg92K"
      },
      "outputs": [],
      "source": [
        "# Source: Convert Keras models to TensorFlow Lite - David Cochard - 2 juin 2021\n",
        "# https://medium.com/axinc-ai/convert-keras-models-to-tensorflow-lite-e654994fb93c\n",
        "\n",
        "import numpy as np\n",
        "import cv2\n",
        "import glob\n",
        "import sys\n",
        "\n",
        "repertoire_images = REPERTOIRE_VALIDATION\n",
        "chemins_des_images = glob.glob(repertoire_images+\"/*/*\")\n",
        "if len(chemins_des_images)==0:\n",
        "    print(\"Images absentes\")\n",
        "    sys.exit(1)\n",
        "else:\n",
        "    print(\"Images présentes\")\n",
        "\n",
        "# création d'un jeu de données de validation\n",
        "donnees_validation =[]\n",
        "for fichier_image in chemins_des_images:\n",
        "    image = cv2.imread(fichier_image) #BGR\n",
        "    image = cv2.resize(image,(150, 150))\n",
        "    tableau_image = np.asarray(image, dtype=np.float32)\n",
        "    tableau_image = np.expand_dims(tableau_image, axis=0)\n",
        "    tableau_image = tableau_image/255.0\n",
        "    donnees_validation.append(tableau_image)\n",
        "\n",
        "def generateur_donnees_representatives():\n",
        "    for i in range(len(donnees_validation)):\n",
        "        yield [donnees_validation[i]]\n",
        "\n",
        "print(\"Code de génération prêt\")"
      ]
    },
    {
      "cell_type": "code",
      "execution_count": null,
      "id": "yvjgjaY3KWvp",
      "metadata": {
        "id": "yvjgjaY3KWvp"
      },
      "outputs": [],
      "source": [
        "# Conversion et quantification\n",
        "convertisseur = tf.lite.TFLiteConverter.from_keras_model(modele_keras) \n",
        "convertisseur.optimizations = [tf.lite.Optimize.DEFAULT]\n",
        "convertisseur.representative_dataset = generateur_donnees_representatives\n",
        "convertisseur.target_spec.supported_ops = [tf.lite.OpsSet.TFLITE_BUILTINS_INT8]\n",
        "convertisseur.inference_input_type = tf.uint8\n",
        "convertisseur.inference_output_type = tf.uint8\n",
        "modele_tflite = convertisseur.convert()\n",
        "\n",
        "# Sauvegarde du modèle TFlite\n",
        "with open(chemin_vers_modele_TFlite+nom_modele_TFlite, 'wb') as fichier:\n",
        "    fichier.write(modele_tflite)\n",
        "    \n",
        "print(\"Conversion terminée!\")"
      ]
    },
    {
      "cell_type": "code",
      "execution_count": null,
      "id": "8MQyvLW_PxEq",
      "metadata": {
        "id": "8MQyvLW_PxEq"
      },
      "outputs": [],
      "source": [
        "# Taille du modèle TFlite\n",
        "taille_modele_TFlite = os.path.getsize(chemin_vers_modele_TFlite+nom_modele_TFlite)\n",
        "print(\"La taille du fichier compact TFlite: \",str(taille_modele_TFlite//1.0E+06) + \" Mo\")"
      ]
    },
    {
      "cell_type": "markdown",
      "source": [
        "## Ajout des métadonnées"
      ],
      "metadata": {
        "id": "y95pWmVosQ8D"
      },
      "id": "y95pWmVosQ8D"
    },
    {
      "cell_type": "markdown",
      "source": [
        "### Vous aurez besoin de bibliothèques de support de TFlite"
      ],
      "metadata": {
        "id": "Z_acIQjksoDv"
      },
      "id": "Z_acIQjksoDv"
    },
    {
      "cell_type": "code",
      "source": [
        "!pip3 install tflite-support-nightly"
      ],
      "metadata": {
        "id": "BWfJO3oGsknm"
      },
      "id": "BWfJO3oGsknm",
      "execution_count": null,
      "outputs": []
    },
    {
      "cell_type": "code",
      "source": [
        "etiquettes = [\n",
        "    'BOJ','BOP','CHR','EPB','EPN',\n",
        "    'EPO','EPR','ERR','ERS','FRA',\n",
        "    'HEG','MEL' ,'ORA','OSV','PET',\n",
        "    'PIB','PIR','PRU','SAB','THO']\n",
        "print(\"Nombre d'étiquetttes:\", len(etiquettes))\n",
        "\n",
        "\n",
        "with open('etiquettes.txt', 'w') as fichier_etiquettes:\n",
        "    for etiquette in etiquettes:\n",
        "        fichier_etiquettes.write(etiquette + \"\\n\")"
      ],
      "metadata": {
        "id": "y2lefvUay7z9"
      },
      "id": "y2lefvUay7z9",
      "execution_count": null,
      "outputs": []
    },
    {
      "cell_type": "code",
      "source": [
        "# https://www.tensorflow.org/lite/convert/metadata_writer_tutorial\n",
        "from tflite_support.metadata_writers import image_classifier\n",
        "from tflite_support.metadata_writers import writer_utils\n",
        "\n",
        "ImageClassifierWriter = image_classifier.MetadataWriter\n",
        "# Des paramètres de normalisation sont requis lors du traitement des images. \n",
        "# https://www.tensorflow.org/lite/convert/metadata#normalization_and_quantization_parameters)\n",
        "_ENTREE_MOYENNE_NORMALISEE = 127.5\n",
        "_ENTREE_ECART_TYPE_NORMALISE = 127.5\n",
        "_CHEMIN_FICHIER_MODELE_TFLITE = \"/content/modele_TFlite/modele.tflite\"\n",
        "_CHEMIN_FICHIER_ETIQUETTES = \"/content/etiquettes.txt\"\n",
        "_CHEMIN_FICHIER_MODELE_TFLITE_METADONNEES = \"/content/modele_TFlite_metadonnees/modele_Keras_vers_TFlite_metadonnees.tflite\"\n",
        "\n",
        "# Créer le générateur de métadonnées\n",
        "generateur_metadonnees = ImageClassifierWriter.create_for_inference(\n",
        "    writer_utils.load_file(_CHEMIN_FICHIER_MODELE_TFLITE), \n",
        "    [_ENTREE_MOYENNE_NORMALISEE], [_ENTREE_ECART_TYPE_NORMALISE],\n",
        "    [_CHEMIN_FICHIER_ETIQUETTES])\n",
        "\n",
        "# Vérifier les métadonnées créées par le générateur\n",
        "print(generateur_metadonnees.get_metadata_json())\n",
        "\n",
        "# Intégrer les métadonnées dans le modèle TFlite\n",
        "writer_utils.save_file(generateur_metadonnees.populate(), _CHEMIN_FICHIER_MODELE_TFLITE_METADONNEES)"
      ],
      "metadata": {
        "id": "9uEqRYMqsLzc"
      },
      "id": "9uEqRYMqsLzc",
      "execution_count": null,
      "outputs": []
    },
    {
      "cell_type": "markdown",
      "source": [],
      "metadata": {
        "id": "Ln-g_NS8NcJZ"
      },
      "id": "Ln-g_NS8NcJZ"
    },
    {
      "cell_type": "markdown",
      "id": "HEp8w_oxOikj",
      "metadata": {
        "id": "HEp8w_oxOikj"
      },
      "source": [
        "## Télécharger le modèle TFlite avec métadonnées sur votre poste local"
      ]
    },
    {
      "cell_type": "code",
      "execution_count": null,
      "id": "WiZ7vtIxOhr0",
      "metadata": {
        "id": "WiZ7vtIxOhr0"
      },
      "outputs": [],
      "source": [
        "from google.colab import files\n",
        "\n",
        "files.download(_CHEMIN_FICHIER_MODELE_TFLITE_METADONNEES)"
      ]
    },
    {
      "cell_type": "code",
      "execution_count": null,
      "id": "M61F2MSuLvzj",
      "metadata": {
        "id": "M61F2MSuLvzj"
      },
      "outputs": [],
      "source": [
        "print(\"Fin de l'exécution du carnet IPython\")"
      ]
    },
    {
      "cell_type": "code",
      "source": [],
      "metadata": {
        "id": "O4-Mup_UprfX"
      },
      "id": "O4-Mup_UprfX",
      "execution_count": null,
      "outputs": []
    }
  ],
  "metadata": {
    "colab": {
      "name": "IdEcorces-ResConv-ConversionVersTFLite-Colab.ipynb",
      "provenance": []
    },
    "kernelspec": {
      "display_name": "Python 3",
      "language": "python",
      "name": "python3"
    },
    "language_info": {
      "codemirror_mode": {
        "name": "ipython",
        "version": 3
      },
      "file_extension": ".py",
      "mimetype": "text/x-python",
      "name": "python",
      "nbconvert_exporter": "python",
      "pygments_lexer": "ipython3",
      "version": "3.9.5"
    }
  },
  "nbformat": 4,
  "nbformat_minor": 5
}