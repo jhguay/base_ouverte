{
  "cells": [
    {
      "cell_type": "markdown",
      "id": "fantastic-curtis",
      "metadata": {
        "id": "fantastic-curtis"
      },
      "source": [
        "<a href=\"https://colab.research.google.com/github/ClaudeCoulombe/VIARENA/blob/master/Labos/Lab-Traitement_Donnees/Interrogation_Services_Web.ipynb\" target=\"_blank\"><img src=\"https://colab.research.google.com/assets/colab-badge.svg\" alt=\"Open In Colab\"/></a>\n",
        "\n",
        "### Rappel - Fonctionnement d'un carnet web iPython\n",
        "\n",
        "* Pour exécuter le code contenu dans une cellule d'un carnet iPython, cliquez dans la cellule et faites (⇧↵, shift-enter) \n",
        "* Le code d'un carnet iPython s'exécute séquentiellement de haut en bas de la page. Souvent, l'importation d'une bibliothèque Python ou l'initialisation d'une variable est préalable à l'exécution d'une cellule située plus bas. Il est donc recommandé d'exécuter les cellules en séquence. Enfin, méfiez-vous des retours en arrière qui peuvent réinitialiser certaines variables."
      ]
    },
    {
      "cell_type": "markdown",
      "id": "hybrid-forward",
      "metadata": {
        "id": "hybrid-forward"
      },
      "source": [
        "# Interrogation d'un service Web (IPA à base de ressources)\n",
        "\n",
        "## Les marées des sept prochains jours à Tadoussac \n",
        "\n",
        "<p>Vous planifiez une sortie en kayak de mer à Tadoussac qui est située sur le fleuve Saint-Laurent à l'embouchure du Saguenay. Vous allez moissonner les informations concernant les marées pour les sept prochains jours à compter du 21 septembre 2022. Pour cela, vous utiliserez un nouveau <a href=\"https://api-iwls.dfo-mpo.gc.ca/swagger-ui/index.html?configUrl=/v3/api-docs/swagger-config/\" target='_blank'>service web</a> avec une interface de programmation à base de ressources (en anglais, REST API) disponible depuis peu sur le site de Pêches et Océans Canada.</p> \n",
        "\n",
        "<p>Pour les requêtes HTTP avec le site web, vous utiliserez la bibliothèque python <a href=\"https://docs.python.org/3/library/urllib.request.html\" target='_blank'>urllib.request</a>. L'extraction des sections pertinentes de la page web des résultats sera faite avec l'outil python <a href=\"https://www.crummy.com/software/BeautifulSoup/bs4/doc/\" target='_blank'>Beautiful Soup</a>. Enfin, des <a href=\"https://docs.python.org/fr/3/howto/regex.html\" target='_blank'>expressions régulières</a><sup>2</sup> seront utilisées pour extraire les informations détaillées.</p>\n",
        "<hr/>\n",
        "<span style=\"font-size:80%\"><sup>1</sup><b>Note - documentation: </b>La documentation sur le <a href=\"https://api-iwls.dfo-mpo.gc.ca/swagger-ui/index.html?configUrl=/v3/api-docs/swagger-config/\" target='_blank'>service web</a> avec une interface de programmation à base de ressources (en anglais, REST API).</span>\n",
        "<br/>\n",
        "<span style=\"font-size:80%\"><sup>2</sup><b>Note - pratique: </b><a href=\"https://regex101.com/\" target='_blank'>regex101.com</a> est un excellent site pour pratiquer et mettre au point des expressions régulières.</span>"
      ]
    },
    {
      "cell_type": "markdown",
      "id": "behind-sellers",
      "metadata": {
        "id": "behind-sellers"
      },
      "source": [
        "## Importation des bibliothèques Python\n",
        "<ul>\n",
        "<ul>\n",
        "    <li><b><i>urllib</i></b> (interface client de haut niveau pour HTTP) et <b><i>re</i></b> (expressions régulières), <b><i>json</i></b> (traitement du format de données json: JavaScript Object Notation) et et <b><i>datetime</i></b> (traitement des dates et de l'heure) sont des bibliothèques Python standard, vous n'avez pas besoin de les installer, il suffit de les importer.</li>\n",
        "  <li>Installation de <a href=\"https://www.crummy.com/software/BeautifulSoup/bs4/doc/\" target='_blank'>Beautiful Soup</a></li>\n",
        "  <ul>\n",
        "    <li>Par exemple, sudo pip3 install bs4</li>\n",
        "  </ul>\n",
        "</ul>\n",
        "</ul>"
      ]
    },
    {
      "cell_type": "code",
      "execution_count": 1,
      "id": "apparent-insulin",
      "metadata": {
        "id": "apparent-insulin",
        "colab": {
          "base_uri": "https://localhost:8080/"
        },
        "outputId": "10c7de28-a573-4640-9256-aee872870b5d"
      },
      "outputs": [
        {
          "output_type": "stream",
          "name": "stdout",
          "text": [
            "Bibliothèques Python importées\n"
          ]
        }
      ],
      "source": [
        "# -*- coding: utf-8 -*-\n",
        "import urllib.request\n",
        "# sudo pip3 install bs4\n",
        "from bs4 import BeautifulSoup\n",
        "import json\n",
        "import re\n",
        "import datetime\n",
        "\n",
        "print(\"Bibliothèques Python importées\")"
      ]
    },
    {
      "cell_type": "markdown",
      "id": "indie-hours",
      "metadata": {
        "id": "indie-hours"
      },
      "source": [
        "## Consultation de la documentation l'IPA à base de ressources<sup>1</sup>\n",
        "La <a href=\"https://tides.gc.ca/fra/info/WebServicesWLD\" target=\"_blank\">documentation sur l'IPA</a> donne un exemple de requête qui vous servira d'inspiration. \n",
        "\n",
        "Exemple :\n",
        "\n",
        "<ul>\n",
        "    <ol>\n",
        "        <li>Pour trouver les identifiants (ID) de vos stations d’intérêts : https://api-iwls.dfo-mpo.gc.ca/api/v1/stations.</li>\n",
        "        <li>Utiliser la requête suivante pour obtenir les niveaux d’eau officiels (wlo) pour la station Vieux-Québec (ID code : 5cebf1e23d0f4a073c4bc0f6) du 1er au 2 octobre 2020 : <span style=\"background-color:#EFF0F1;\">https://api-iwls.dfo-mpo.gc.ca/api/v1/stations/5cebf1e23d0f4a073c4bc0f6/data?time-series-code=wlo&from=2020-10-01T00:00:00Z&to=2020-10-01T00:30:00Z</span></li>\n",
        "        <li style:font-size:small;>[{\"eventDate\":\"2020-10-01T00:00:00Z\",\"qcFlagCode\":\"1\",\"value\":3.903,\"timeSeriesId\":\"5cebf1e23d0f4a073c4bc0e1\",\"reviewed\":true},<br/>{\"eventDate\":\"2020-10-01T00:03:00Z\",\"qcFlagCode\":\"1\",\"value\":3.865,\"timeSeriesId\":\"5cebf1e23d0f4a073c4bc0e1\",\"reviewed\":true},<br/>{\"eventDate\":\"2020-10-01T00:06:00Z\",\"qcFlagCode\":\"1\",\"value\":3.825,\"timeSeriesId\":\"5cebf1e23d0f4a073c4bc0e1\",\"reviewed\":true},<br/>{\"eventDate\":\"2020-10-01T00:09:00Z\",\"qcFlagCode\":\"1\",\"value\":3.784,\"timeSeriesId\":\"5cebf1e23d0f4a073c4bc0e1\",\"reviewed\":true},<br/>{\"eventDate\":\"2020-10-01T00:12:00Z\",\"qcFlagCode\":\"1\",\"value\":3.743,\"timeSeriesId\":\"5cebf1e23d0f4a073c4bc0e1\",\"reviewed\":true},<br/>{\"eventDate\":\"2020-10-01T00:15:00Z\",\"qcFlagCode\":\"1\",\"value\":3.7,\"timeSeriesId\":\"5cebf1e23d0f4a073c4bc0e1\",\"reviewed\":true},<br/>{\"eventDate\":\"2020-10-01T00:18:00Z\",\"qcFlagCode\":\"1\",\"value\":3.661,\"timeSeriesId\":\"5cebf1e23d0f4a073c4bc0e1\",\"reviewed\":true},<br/>{\"eventDate\":\"2020-10-01T00:21:00Z\",\"qcFlagCode\":\"1\",\"value\":3.62,\"timeSeriesId\":\"5cebf1e23d0f4a073c4bc0e1\",\"reviewed\":true},<br/>{\"eventDate\":\"2020-10-01T00:24:00Z\",\"qcFlagCode\":\"1\",\"value\":3.578,\"timeSeriesId\":\"5cebf1e23d0f4a073c4bc0e1\",\"reviewed\":true},<br/>{\"eventDate\":\"2020-10-01T00:27:00Z\",\"qcFlagCode\":\"1\",\"value\":3.538,\"timeSeriesId\":\"5cebf1e23d0f4a073c4bc0e1\",\"reviewed\":true},<br/>{\"eventDate\":\"2020-10-01T00:30:00Z\",\"qcFlagCode\":\"1\",\"value\":3.495,\"timeSeriesId\":\"5cebf1e23d0f4a073c4bc0e1\",\"reviewed\":true}]</li><li>Remplacer l’ID de la station “5cebf1e23d0f4a073c4bc0f6” par celui de votre station d’intérêt;</li>\n",
        "        <li>Changer la valeur du paramètre “Time-series-code” pour utiliser soit :</li>\n",
        "        <ul>\n",
        "            <ul>\n",
        "                <li>wlo – Niveau d’eau observé</li>\n",
        "                <li>wlf ou wlf-spine – Prévisions des niveaux d’eau (aux stations opérationnelles seulement)</li>\n",
        "                <li>wlp – Niveaux d’eau prédits aux 15 minutes</li>\n",
        "                <li><b>wlp-hilo</b> – Prédictions des hautes et basses mers (<b>Tables de marées</b>)</li>\n",
        "                <li>Ajuster la période de temps “From” et “To” en utilisant le format ISO 8061 UTC.</li>\n",
        "            </ul>\n",
        "        </ul>\n",
        "    </ol>\n",
        "</ul>\n",
        "    \n",
        "<p>Il suffit donc de remplacer l'id_station par celui de Tadoussac et le code de la série chonologique 'wlo' (water level official)  par celui des marées \"wlp-hilo\".</p>\n",
        "\n",
        "<p>Les dates iront du 21 septembre 2023 00:00:00 (soit 0 heure, 0 min, 0 sec) au matin du 28 septembre 2023 à 00:00:00 mais en heure avancée de l'Est (HAE) utilisée au Québec en septembre. Par contre, le temps du service des marées est donné en temps universel (TU). Il faut donc convertir l'heure avancée de l'Est (HAE) utilisée au Québec en temps universel (TU) en ajoutant 4 heures. Donc 00:00:00 HAE à Tadoussac fera 04:00:00 en temps universel (TU). Inversement pour convertir le temps universel (TU) des résultats retournées en heure avancée de l'Est (HAE), il faudra soustraire 4 heures.</p> \n",
        "<hr/>\n",
        "<span style=\"font-size:80%\"><sup>1</sup><b>Note - documentation: </b>La documentation sur le <a href=\"https://api-iwls.dfo-mpo.gc.ca/swagger-ui/index.html?configUrl=/v3/api-docs/swagger-config/\" target='_blank'>service web</a> avec une interface de programmation à base de ressources (en anglais, REST API).</span>\n"
      ]
    },
    {
      "cell_type": "markdown",
      "id": "racial-american",
      "metadata": {
        "id": "racial-american"
      },
      "source": [
        "## Programmation d'une requête pour obtenir l'horaire des marées du service Web\n"
      ]
    },
    {
      "cell_type": "markdown",
      "id": "mediterranean-softball",
      "metadata": {
        "id": "mediterranean-softball"
      },
      "source": [
        "### Trouver l'identifiant de la station pour la municipalité de \"Tadoussac\"\n",
        "\n",
        "Appeler le service pour obtenir les stations et examiner de la page retournée\""
      ]
    },
    {
      "cell_type": "code",
      "execution_count": null,
      "id": "corrected-coach",
      "metadata": {
        "scrolled": true,
        "id": "corrected-coach"
      },
      "outputs": [],
      "source": [
        "# Obtenir l'IPA à base de ressources de Pêches et Océans\n",
        "service_web = \"https://api-iwls.dfo-mpo.gc.ca/api/v1/\"\n",
        "\n",
        "# Requête pour obtenir la liste des stations\n",
        "requete = \"stations\"\n",
        "\n",
        "with urllib.request.urlopen(service_web+requete) as response:\n",
        "    page_reponse = response.read()\n",
        "\n",
        "# Analyser la page de réponse retournée avec BeautifulSoup\n",
        "dom_page_resultats = BeautifulSoup(page_reponse,\"html.parser\") \n",
        "# Afficher la page web retournée\n",
        "print(dom_page_resultats.prettify())\n"
      ]
    },
    {
      "cell_type": "markdown",
      "id": "domestic-malpractice",
      "metadata": {
        "id": "domestic-malpractice"
      },
      "source": [
        "### Extraction de l'identifiant et du code de la station\n",
        "\n",
        "Dans le code HTML de la page, on retrouve la section contenant le mot «Tadoussac». On en examine un bout pour en extraire le contenu en utilisant une expression régulière. \n",
        "\n",
        "`{\"id\":\"5cebf1df3d0f4a073c4bbbaf\",\"code\":\"03425\",\"officialName\":\"Tadoussac\"`\n",
        "\n",
        "Évidemment pour faire un simple test, on pourrait se contenter d'extraire l'identifiant (5cebf1df3d0f4a073c4bbbaf) manuellement. L'extraction par programmation au moyen d'une expression régulière permettra d'automatiser la tâche pour une éventuelle réutilisation. Voir la <a href=\"https://docs.python.org/fr/3/howto/regex.html\" target='_blank'>documentation française sur les expressions régulières</a> en Python. Aidez-vous du site <a href=\"https://regex101.com/\" target='_blank'>regex101.com</a> pour mettre au point votre expression régulière. "
      ]
    },
    {
      "cell_type": "code",
      "execution_count": 3,
      "id": "coastal-concert",
      "metadata": {
        "id": "coastal-concert",
        "outputId": "b4390af5-39d5-408d-817c-efad69f8ff50",
        "colab": {
          "base_uri": "https://localhost:8080/"
        }
      },
      "outputs": [
        {
          "output_type": "stream",
          "name": "stdout",
          "text": [
            "id_station: 5cebf1df3d0f4a073c4bbbaf\n",
            "code_station: 03425\n"
          ]
        }
      ],
      "source": [
        "municipalite_requise = \"Tadoussac\"\n",
        "\n",
        "FORME = re.compile(r'\"id\":\"([\\w|\\d]*)\",\"code\":\"(\\d*)\",\"officialName\":\"'+municipalite_requise)\n",
        "formes_reconnues = re.search(FORME,dom_page_resultats.get_text())\n",
        "if formes_reconnues:\n",
        "    id_station = formes_reconnues.group(1)\n",
        "    code_station = formes_reconnues.group(2)\n",
        "print(\"id_station:\",id_station)\n",
        "print(\"code_station:\",code_station)"
      ]
    },
    {
      "cell_type": "markdown",
      "id": "thirty-photograph",
      "metadata": {
        "id": "thirty-photograph"
      },
      "source": [
        "### Programmation de la requête pour obtenir l'horaire des marées\n",
        "\n",
        "Vous construisez la requête en modifiant l'exemple `https://api-iwls.dfo-mpo.gc.ca/api/v1/stations/5cebf1e23d0f4a073c4bc0f6/data?time-series-code=wlo&from=2020-10-01T00:00:00Z&to=2020-10-01T00:30:00Z`"
      ]
    },
    {
      "cell_type": "code",
      "execution_count": null,
      "id": "active-underground",
      "metadata": {
        "scrolled": false,
        "id": "active-underground"
      },
      "outputs": [],
      "source": [
        "service_web = \"https://api-iwls.dfo-mpo.gc.ca/api/v1/\"\n",
        "\n",
        "id_station = \"5cebf1df3d0f4a073c4bbbaf\"\n",
        "date_requise_debut = \"2022-09-21\"\n",
        "heure_requise_debut = \"04:00:00\"\n",
        "date_requise_fin = \"2022-09-28\"\n",
        "heure_requise_fin = \"04:00:00\"\n",
        "\n",
        "requete = \"stations/\" + id_station + \"/data?time-series-code=wlp-hilo&from=\" + \\\n",
        "          date_requise_debut + \"T\" + heure_requise_debut + \"Z&to=\" + \\\n",
        "          date_requise_fin + \"T\" + heure_requise_fin + \"Z\"\n",
        "\n",
        "with urllib.request.urlopen(service_web+requete) as response:\n",
        "    page_reponse = response.read()\n",
        "\n",
        "# Récupération de la page de résultats au moyen de BeautifulSoup\n",
        "dom_page_resultats = BeautifulSoup(page_reponse,\"html.parser\") \n",
        "\n",
        "# Conversion et affichage en format JSON\n",
        "# essentiellement pour avoir un affichage pratique\n",
        "json_page_resultats = json.loads(dom_page_resultats.get_text())\n",
        "for element in json_page_resultats:\n",
        "    print(element)\n"
      ]
    },
    {
      "cell_type": "markdown",
      "id": "eligible-figure",
      "metadata": {
        "id": "eligible-figure"
      },
      "source": [
        "### Extraction des informations sur les marées\n",
        "\n",
        "L'idée est de produire exactement le même fichier de données en .csv que celui obtenu par moissonnage du formulaire web. Voir le laboratoire précédent. Pour cela, il faut convertir l'heure données en temps universel (TU) en heure avancée de l'st (HAE). "
      ]
    },
    {
      "cell_type": "code",
      "execution_count": 8,
      "id": "aggressive-relation",
      "metadata": {
        "id": "aggressive-relation"
      },
      "outputs": [],
      "source": [
        "import datetime\n",
        "\n",
        "def convertir_TU_HAE(entree_TU):\n",
        "    # Extraction des paramètres pour la date et l'heure \n",
        "    # d'une chaîne de caractères du genre '2022-09-21T07:37:00Z'\n",
        "    FORME2 = re.compile('(\\d*)-(\\d*)-(\\d*)T(\\d*):(\\d*):(\\d*)Z')\n",
        "    formes_reconnues = re.search(FORME2,entree_TU)\n",
        "    if formes_reconnues:\n",
        "        annee = int(formes_reconnues.group(1))\n",
        "        mois = int(formes_reconnues.group(2))\n",
        "        jour = int(formes_reconnues.group(3))\n",
        "        heure = int(formes_reconnues.group(4))\n",
        "        minute = int(formes_reconnues.group(5))\n",
        "        seconde = int(formes_reconnues.group(6))        \n",
        "        date_et_heure = datetime.datetime(annee, mois, jour, heure, minute, seconde)\n",
        "        # Conversion TU vers HAE par la soustraction de 4 heures\n",
        "        temps_ajoute = datetime.timedelta(hours=4)\n",
        "        nouveau_date_et_heure = date_et_heure - temps_ajoute\n",
        "    # Retour d'une chaine de \n",
        "    return str(nouveau_date_et_heure) "
      ]
    },
    {
      "cell_type": "markdown",
      "id": "russian-briefs",
      "metadata": {
        "id": "russian-briefs"
      },
      "source": [
        "### Extraction des informations sur les marées\n",
        "\n",
        "On extrait l'information utile sur les marées comme la date, l'heure convertie en HAE et la hauteur de la marée. Les autres informations comme `qcFlagCode` et `timeSeriesId` sont mises de côté. "
      ]
    },
    {
      "cell_type": "code",
      "execution_count": null,
      "id": "smart-thinking",
      "metadata": {
        "id": "smart-thinking"
      },
      "outputs": [],
      "source": [
        "donnees_marees_liste = []\n",
        "\n",
        "for evenement_maree in json_page_resultats:\n",
        "    temps_HAE = convertir_TU_HAE(evenement_maree['eventDate'])\n",
        "    hauteur_m = evenement_maree['value'] \n",
        "    donnees_marees_liste.append(temps_HAE.replace(' ','\\t')+'\\t'+str(hauteur_m))\n",
        "print(donnees_marees_liste)"
      ]
    },
    {
      "cell_type": "markdown",
      "id": "animal-typing",
      "metadata": {
        "id": "animal-typing"
      },
      "source": [
        "## Sauvegarde des données dans le fichier `donnees_marees_service_web.csv`\n",
        "\n",
        "Le fichier de données en format .csv est reconstitué à l'identique avec le fichier généré dans le laboratoire précédent."
      ]
    },
    {
      "cell_type": "code",
      "execution_count": 10,
      "id": "human-hebrew",
      "metadata": {
        "id": "human-hebrew",
        "outputId": "9507b7b1-8960-4c37-bf0e-9ed67f59d49d",
        "colab": {
          "base_uri": "https://localhost:8080/"
        }
      },
      "outputs": [
        {
          "output_type": "stream",
          "name": "stdout",
          "text": [
            "Données de marées sauvegardées dans le fichier donnees_marees_service_web.csv\n"
          ]
        }
      ],
      "source": [
        "# Sauvegarder les données dans un fichier .csv\n",
        "chemin_fichier_sortie = './'\n",
        "nom_fichier_sortie = \"donnees_marees_service_web.csv\"\n",
        "municipalite_requise = 'Tadoussac'\n",
        "fuseau_horaire_requis = 'HAE'\n",
        "\n",
        "with open(chemin_fichier_sortie+nom_fichier_sortie,'w') as fichier_sortie:\n",
        "    # Écriture de l'entête du fichier listant les différents attributs\n",
        "    fichier_sortie.write('localite\\tstation\\tfuseau_horaire\\tdate\\theure\\thauteur_m\\n')\n",
        "    for donnees_marees in donnees_marees_liste:\n",
        "        # Écriture des données sur la marée dans le fichier\n",
        "        fichier_sortie.write(municipalite_requise+'\\t'+code_station+'\\t'+fuseau_horaire_requis+'\\t'+donnees_marees+'\\n')\n",
        "        \n",
        "print(\"Données de marées sauvegardées dans le fichier \"+ nom_fichier_sortie)\n"
      ]
    },
    {
      "cell_type": "markdown",
      "id": "young-frank",
      "metadata": {
        "id": "young-frank"
      },
      "source": [
        "## Test de lecture du fichier de données\n",
        "\n",
        "Vérification que le fichier .csv est correct."
      ]
    },
    {
      "cell_type": "code",
      "execution_count": null,
      "id": "desirable-algorithm",
      "metadata": {
        "id": "desirable-algorithm"
      },
      "outputs": [],
      "source": [
        "import pandas as pd\n",
        "\n",
        "donnees_marees_df = pd.read_csv(chemin_fichier_sortie+nom_fichier_sortie,delimiter='\\t')\n",
        "donnees_marees_df"
      ]
    },
    {
      "cell_type": "code",
      "execution_count": null,
      "id": "explicit-sound",
      "metadata": {
        "id": "explicit-sound"
      },
      "outputs": [],
      "source": []
    }
  ],
  "metadata": {
    "kernelspec": {
      "display_name": "Python 3",
      "language": "python",
      "name": "python3"
    },
    "language_info": {
      "codemirror_mode": {
        "name": "ipython",
        "version": 3
      },
      "file_extension": ".py",
      "mimetype": "text/x-python",
      "name": "python",
      "nbconvert_exporter": "python",
      "pygments_lexer": "ipython3",
      "version": "3.8.10"
    },
    "colab": {
      "name": "Interrogation_Services_Web.ipynb",
      "provenance": []
    }
  },
  "nbformat": 4,
  "nbformat_minor": 5
}