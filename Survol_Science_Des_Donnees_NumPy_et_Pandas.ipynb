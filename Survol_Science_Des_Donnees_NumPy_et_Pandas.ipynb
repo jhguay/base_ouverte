{
  "nbformat": 4,
  "nbformat_minor": 0,
  "metadata": {
    "colab": {
      "name": "Survol-Science_Des_Donnees-NumPy_et_Pandas.ipynb",
      "provenance": []
    },
    "kernelspec": {
      "name": "python3",
      "display_name": "Python 3"
    }
  },
  "cells": [
    {
      "cell_type": "markdown",
      "metadata": {
        "id": "bevdMnYZdaGV"
      },
      "source": [
        "<a style=\"float:left;\" href=\"https://colab.research.google.com/github/ClaudeCoulombe/VIARENA/blob/master/Labos/Lab-TableauxDeDonn%C3%A9es/Survol_Science_Des_Donnees_NumPy_et_Pandas.ipynb\" target=\"_blank\"><img src=\"https://colab.research.google.com/assets/colab-badge.svg\" alt=\"Open In Colab\"/></a>\n",
        "<br/>\n",
        "# Rappel - Fonctionnement d'un carnet web iPython\n",
        "\n",
        "* Pour exécuter le code contenu dans une cellule d'un carnet iPython, cliquez dans la cellule et faites (⇧↵, shift-enter) \n",
        "* Le code d'un carnet iPython s'exécute séquentiellement de haut en bas de la page. Souvent, l'importation d'une bibliothèque Python ou l'initialisation d'une variable est préalable à l'exécution d'une cellule située plus bas. Il est donc recommandé d'exécuter les cellules en séquence. Enfin, méfiez-vous des retours en arrière qui peuvent réinitialiser certaines variables."
      ]
    },
    {
      "cell_type": "markdown",
      "metadata": {
        "id": "bI0mDfM2nsLb"
      },
      "source": [
        "# Introduction à NumPy et Pandas\n",
        "\n",
        "Dans son expression la plus simple, un jeu de données structurées est habituellement représenté par un tableau où les lignes correspondent aux exemplaires du jeu de données et les colonnes correspondent à leurs attributs respectifs. Les vecteurs et les matrices sont simplement la représentation mathématiques des listes et des tableaux, utilisés par les chercheurs et les ordinateurs pour réaliser des calculs avec les données. Enfin, NumPy et Pandas sont des bibliothèque du langage python qui permettent respectivement des opérations optimisées sur ces structures de données et le chargement en mémoire de grandes quantités de données sous forme de tableaux 2D."
      ]
    },
    {
      "cell_type": "markdown",
      "metadata": {
        "id": "SxeubbDspAW9"
      },
      "source": [
        "## Premier contact avec NumPy\n",
        "\n",
        "NumPy est une bibliothèque Python libre et ouverte utilisée pour les calculs scientifiques avec des données structurées sous la forme de listes et de tableaux. Essentiellement basé sur la notion de matrices, NumPy est performant et super utile pour l'analyse des données et les calculs mathématiques, par exemple en facilitant des opérations d'accès aux données, de remodelage des structures, ou de substitution des valeurs.\n",
        "\n",
        "La notion fondamentale à retenir avec NumPy est que les matrices ne sont pas compliquées. **Pour NumPy, les matrices sont essentiellement des \"tableaux de tableaux\", c'est tout.**\n"
      ]
    },
    {
      "cell_type": "markdown",
      "metadata": {
        "id": "OGdTBzTR9y8H"
      },
      "source": [
        "### Création de tableaux"
      ]
    },
    {
      "cell_type": "code",
      "metadata": {
        "id": "m7ZVKwwotYvl",
        "collapsed": true,
        "colab": {
          "base_uri": "https://localhost:8080/"
        },
        "outputId": "42940044-d842-485b-83cf-ee9550d8b842"
      },
      "source": [
        "#Importation de la librairie Numpy.\n",
        "import numpy as np\n",
        "print(\"Bibliothèques NumPy importées\")"
      ],
      "execution_count": 1,
      "outputs": [
        {
          "output_type": "stream",
          "name": "stdout",
          "text": [
            "Bibliothèques NumPy importées\n"
          ]
        }
      ]
    },
    {
      "cell_type": "code",
      "metadata": {
        "id": "HwJBrJ8NpDgL",
        "collapsed": true,
        "colab": {
          "base_uri": "https://localhost:8080/"
        },
        "outputId": "8b679dce-fe94-4ba7-b574-14b2c963ca30"
      },
      "source": [
        "#Créer une liste.\n",
        "a = np.array([1,2,3])\n",
        "\n",
        "#Caractéristiques de la liste : son contenu, son type et sa forme.\n",
        "#Il s'agit d'un tableau à une dimension (une liste) contenant les trois entiers 1, 2 et 3.\n",
        "print(a)\n",
        "print(a.shape)"
      ],
      "execution_count": 2,
      "outputs": [
        {
          "output_type": "stream",
          "name": "stdout",
          "text": [
            "[1 2 3]\n",
            "(3,)\n"
          ]
        }
      ]
    },
    {
      "cell_type": "code",
      "metadata": {
        "id": "7Fwm4Oz4p4Q9",
        "collapsed": true,
        "colab": {
          "base_uri": "https://localhost:8080/"
        },
        "outputId": "6939a3c6-c0b2-4cf2-9c2b-f31a03e87e9b"
      },
      "source": [
        "#Créer un tableau à deux dimensions (une matrice).\n",
        "b = np.array([[0,2,4],[1,3,5]])\n",
        "\n",
        "#Caractéristiques du tableau : son contenu, son type et sa forme.\n",
        "#Il s'agit d'un tableau à deux dimensions contenant deux tableaux (les 'lignes') contenant chacune trois entiers (les 'colonnes').\n",
        "print(b)\n",
        "print(b.shape)"
      ],
      "execution_count": 3,
      "outputs": [
        {
          "output_type": "stream",
          "name": "stdout",
          "text": [
            "[[0 2 4]\n",
            " [1 3 5]]\n",
            "(2, 3)\n"
          ]
        }
      ]
    },
    {
      "cell_type": "code",
      "metadata": {
        "id": "18AQDbb4Wh5B",
        "collapsed": true,
        "colab": {
          "base_uri": "https://localhost:8080/"
        },
        "outputId": "13c3d81e-e3e8-49db-8fab-e5e735efbc50"
      },
      "source": [
        "#Les principaux attributs d'une matrice NumPy sont :\n",
        "#le nombre de dimensions : ndim\n",
        "#la forme : shape\n",
        "#le nombre d'éléments : size\n",
        "#le type des éléments : dtype\n",
        "#la taille en octets (bytes) des éléments : itemsize\n",
        "print(\"Le nombre de dimensions: \", b.ndim)\n",
        "print(\"La forme: \", b.shape)\n",
        "print(\"Le nombre d'éléments: \", b.size)\n",
        "print(\"Le type des éléments: \", b.dtype)\n",
        "print(\"La taille des éléments: \", b.itemsize)"
      ],
      "execution_count": 4,
      "outputs": [
        {
          "output_type": "stream",
          "name": "stdout",
          "text": [
            "Le nombre de dimensions:  2\n",
            "La forme:  (2, 3)\n",
            "Le nombre d'éléments:  6\n",
            "Le type des éléments:  int64\n",
            "La taille des éléments:  8\n"
          ]
        }
      ]
    },
    {
      "cell_type": "markdown",
      "metadata": {
        "id": "OaXiKOrawhLs"
      },
      "source": [
        "### Le fameux « trancher et découper » de Python (en anglais, « <i>slice and dice</i> »)\n",
        "\n",
        "La manière d'accéder aux valeurs dans les tableaux NumPy est souvent appelée *trancher et découper*, inspirée par l'idée d'un chef culinaire qui trancherait dans les structures de données avec vitesse, précision et dextérité pour extraire seulement et exactement la tranche de données qu'il désire.\n",
        "\n",
        "* La position des indices dans un appel de tableau correspond aux dimensions auxquelles on souhaite accéder.\n",
        " * Par exemble, seulement appeler b[0] permet d'accéder au premier exemplaire de la première dimension, équivalent à demander \"la première rangée\".\n",
        " *Appeler b[0,0] permet d'accéder à la valeur présente à l'indice 0 dans la première dimension, à l'indice 0 dans la seconde dimension, équivalent à demander \"la valeur dans la première rangée, première colonne\".\n",
        " *Appeler b[:,0] permet d'accéder au premier exemplaire de la seconde dimension, soit demander \"la première colonne\".\n",
        "* Le premier niveau d'indices à partir de 0 dans une matrice correspond aux rangées. L'indice 0 correspond à la première rangée, 1 à la seconde rangée, etc. Le second niveau correspond aux colonnes. Enfin, il peut y avoir plus de deux niveaux si la structure de données a plus de deux dimensions.\n",
        "* Le symbole \":\" correspond à l'ensemble des éléments pour une dimension donnée. Il peut être accompagné de délimiteurs sous la forme \"x:y\", où x est l'indice à partir duquel accéder aux éléments et y est le premier indice à ne pas prendre en compte.\n",
        " * Par exemple, b[:,0:2] retourne la première et la seconde valeur pour toutes les rangées, mais pas la troisième.\n"
      ]
    },
    {
      "cell_type": "code",
      "metadata": {
        "id": "UFGCz9CCs6af",
        "collapsed": true,
        "colab": {
          "base_uri": "https://localhost:8080/"
        },
        "outputId": "eec24c26-2d0e-40cd-ca20-6d8b396f8c3a"
      },
      "source": [
        "#Accéder à une matrice.\n",
        "print(\"Toute la matrice\")\n",
        "print(b)\n",
        "print()\n",
        "print(\"Aussi toute la matrice, équivalent à demander toute les rangées\")\n",
        "print(b[:])\n",
        "print()\n",
        "print(\"Aussi toute la matrice, équivalent à demander toute les colonnes de toutes les rangées\")\n",
        "print(b[:,:])"
      ],
      "execution_count": 5,
      "outputs": [
        {
          "output_type": "stream",
          "name": "stdout",
          "text": [
            "Toute la matrice\n",
            "[[0 2 4]\n",
            " [1 3 5]]\n",
            "\n",
            "Aussi toute la matrice, équivalent à demander toute les rangées\n",
            "[[0 2 4]\n",
            " [1 3 5]]\n",
            "\n",
            "Aussi toute la matrice, équivalent à demander toute les colonnes de toutes les rangées\n",
            "[[0 2 4]\n",
            " [1 3 5]]\n"
          ]
        }
      ]
    },
    {
      "cell_type": "code",
      "metadata": {
        "id": "Arat8PJo10bC",
        "collapsed": true,
        "colab": {
          "base_uri": "https://localhost:8080/"
        },
        "outputId": "3bc036fd-8a0c-4021-912a-3c6f2f207c6e"
      },
      "source": [
        "#Accéder à la première rangée d'une matrice.\n",
        "print(\"La première rangée\")\n",
        "print(b[0])\n",
        "print()\n",
        "\n",
        "#Accéder à la seconde rangée d'une matrice.\n",
        "print(\"La seconde rangée\")\n",
        "print(b[1])"
      ],
      "execution_count": 6,
      "outputs": [
        {
          "output_type": "stream",
          "name": "stdout",
          "text": [
            "La première rangée\n",
            "[0 2 4]\n",
            "\n",
            "La seconde rangée\n",
            "[1 3 5]\n"
          ]
        }
      ]
    },
    {
      "cell_type": "code",
      "metadata": {
        "id": "pgj9P_GB10ow",
        "collapsed": true,
        "colab": {
          "base_uri": "https://localhost:8080/"
        },
        "outputId": "987cac1f-e9ce-461e-b9e9-3031ee9c6779"
      },
      "source": [
        "#Accéder à la première colonne d'une matrice.\n",
        "print(\"La première colonne\")\n",
        "print(b[:,0])\n",
        "print()\n",
        "\n",
        "#Accéder à la seconde colonne ds'une matrice.\n",
        "print(\"La seconde colonne\")\n",
        "print(b[:,1])\n",
        "print()\n",
        "\n",
        "#Accéder à la troisième colonne ds'une matrice.\n",
        "print(\"La troisième colonne\")\n",
        "print(b[:,2])"
      ],
      "execution_count": 7,
      "outputs": [
        {
          "output_type": "stream",
          "name": "stdout",
          "text": [
            "La première colonne\n",
            "[0 1]\n",
            "\n",
            "La seconde colonne\n",
            "[2 3]\n",
            "\n",
            "La troisième colonne\n",
            "[4 5]\n"
          ]
        }
      ]
    },
    {
      "cell_type": "code",
      "metadata": {
        "id": "Y-3HMv2i2Cdz",
        "collapsed": true,
        "colab": {
          "base_uri": "https://localhost:8080/"
        },
        "outputId": "51248730-3c14-4836-a194-68342ba006b1"
      },
      "source": [
        "#Accéder à l'élément de la seconde rangéer, seconde colonne.\n",
        "print(\"Valeur à la seconde rangée, seconde colonne\")\n",
        "print(b[1,1])\n",
        "print()\n",
        "\n",
        "#Accéder aux deux premiers éléments de la première rangée.\n",
        "print(\"Les deux premières valeurs de la première rangée\")\n",
        "print(b[0,0:2])\n",
        "print()\n",
        "\n",
        "#Accéder aux deux premiers éléments de toutes les rangées.\n",
        "print(\"Les deux premières valeurs de toutes les rangées\")\n",
        "print(b[:,0:2])\n",
        "print()\n",
        "\n",
        "#Accéder à des valeurs selon une liste d'indices prédéfinie.\n",
        "indices = [1,2]\n",
        "print(\"Les colonnes aux indices 1 et 2\")\n",
        "print(b[:, indices])"
      ],
      "execution_count": 8,
      "outputs": [
        {
          "output_type": "stream",
          "name": "stdout",
          "text": [
            "Valeur à la seconde rangée, seconde colonne\n",
            "3\n",
            "\n",
            "Les deux premières valeurs de la première rangée\n",
            "[0 2]\n",
            "\n",
            "Les deux premières valeurs de toutes les rangées\n",
            "[[0 2]\n",
            " [1 3]]\n",
            "\n",
            "Les colonnes aux indices 1 et 2\n",
            "[[2 4]\n",
            " [3 5]]\n"
          ]
        }
      ]
    },
    {
      "cell_type": "markdown",
      "metadata": {
        "id": "nI3atA1I29vI"
      },
      "source": [
        "### Opérations sur les matrices"
      ]
    },
    {
      "cell_type": "code",
      "metadata": {
        "id": "565TwIIM2ChB",
        "collapsed": true,
        "colab": {
          "base_uri": "https://localhost:8080/"
        },
        "outputId": "62f702a8-ffbc-46a8-c1d2-94158b8d2449"
      },
      "source": [
        "#L'ensemble des données dans une matrice peuvent être multipliées par une valeur scalaire.\n",
        "c = b * 0.5\n",
        "print(c)\n",
        "print(c.dtype)\n",
        "print(c.shape)"
      ],
      "execution_count": 9,
      "outputs": [
        {
          "output_type": "stream",
          "name": "stdout",
          "text": [
            "[[0.  1.  2. ]\n",
            " [0.5 1.5 2.5]]\n",
            "float64\n",
            "(2, 3)\n"
          ]
        }
      ]
    },
    {
      "cell_type": "code",
      "metadata": {
        "id": "jKD1_Grm3jxZ",
        "collapsed": true,
        "colab": {
          "base_uri": "https://localhost:8080/"
        },
        "outputId": "36382bbe-0741-4743-b699-da0c4a3f343c"
      },
      "source": [
        "#Les matrices peuvent également être additionnées entre elles (addition de chaque élément correspondant à l'intérieur de la matrice).\n",
        "d = b + b\n",
        "print(d)\n",
        "print (d.dtype)\n",
        "print(d.shape)"
      ],
      "execution_count": 10,
      "outputs": [
        {
          "output_type": "stream",
          "name": "stdout",
          "text": [
            "[[ 0  4  8]\n",
            " [ 2  6 10]]\n",
            "int64\n",
            "(2, 3)\n"
          ]
        }
      ]
    },
    {
      "cell_type": "code",
      "metadata": {
        "id": "v6_xfYaK4Rve",
        "collapsed": true,
        "colab": {
          "base_uri": "https://localhost:8080/"
        },
        "outputId": "0542dbcd-7fec-4109-808d-8234b98edee7"
      },
      "source": [
        "#On peu réaliser des opérations statistiques sur les matrices, comme la somme ou la moyenne.\n",
        "print(d.sum())\n",
        "print(d.mean())"
      ],
      "execution_count": 11,
      "outputs": [
        {
          "output_type": "stream",
          "name": "stdout",
          "text": [
            "30\n",
            "5.0\n"
          ]
        }
      ]
    },
    {
      "cell_type": "code",
      "metadata": {
        "id": "hNBPIgvC4vuz",
        "collapsed": true,
        "colab": {
          "base_uri": "https://localhost:8080/"
        },
        "outputId": "0f9f785f-fe90-4782-9b16-d7dd7efe22f9"
      },
      "source": [
        "#Ces opérations peuvent aussi être réalisées sur les axes (rangées, colonnes) de la matrice.\n",
        "#L'axe 0 correspond à la somme pour chaque colonne (le plus fréquent, car il correspond à la somme totale de chaque attribut).\n",
        "print(\"Somme totale pour chaque colonne\")\n",
        "print(d.sum(axis=0))\n",
        "print()\n",
        "print(\"Moyenne pour chaque colonne\")\n",
        "print(d.mean(axis=0))\n",
        "print()\n",
        "\n",
        "#L'axe 1 correspond à la somme pour chaque rangée (moins fréquent, car moins de raison d'additionner les différents attributs d'un exemplaire).\n",
        "print(\"Somme totale pour chaque rangée\")\n",
        "print(d.sum(axis=1))\n",
        "print()\n",
        "print(\"Moyenne pour chaque rangée\")\n",
        "print(d.mean(axis=1))\n",
        "print()"
      ],
      "execution_count": 12,
      "outputs": [
        {
          "output_type": "stream",
          "name": "stdout",
          "text": [
            "Somme totale pour chaque colonne\n",
            "[ 2 10 18]\n",
            "\n",
            "Moyenne pour chaque colonne\n",
            "[1. 5. 9.]\n",
            "\n",
            "Somme totale pour chaque rangée\n",
            "[12 18]\n",
            "\n",
            "Moyenne pour chaque rangée\n",
            "[4. 6.]\n",
            "\n"
          ]
        }
      ]
    },
    {
      "cell_type": "code",
      "metadata": {
        "id": "2IH7Fc215MDn",
        "collapsed": true,
        "colab": {
          "base_uri": "https://localhost:8080/"
        },
        "outputId": "a57c25c5-bc48-4ca9-d7c3-b2d41fdfeb5d"
      },
      "source": [
        "#On peut aussi faire le produit scalaire ('dot product') ou la multiplication matricielle de deux matrices.\n",
        "print(\"Exemple de multiplication scalaire\")\n",
        "print(np.dot(a,a))\n",
        "print()\n",
        "\n",
        "print(\"Exemple de multiplication matricielle\")\n",
        "e = np.array([[1,2],[3,4]])\n",
        "f = np.array([[11,12],[13,14]])\n",
        "print(np.dot(e,f))\n",
        "\n"
      ],
      "execution_count": 13,
      "outputs": [
        {
          "output_type": "stream",
          "name": "stdout",
          "text": [
            "Exemple de multiplication scalaire\n",
            "14\n",
            "\n",
            "Exemple de multiplication matricielle\n",
            "[[37 40]\n",
            " [85 92]]\n"
          ]
        }
      ]
    },
    {
      "cell_type": "code",
      "metadata": {
        "id": "tqHBVh5D67uV",
        "collapsed": true,
        "colab": {
          "base_uri": "https://localhost:8080/"
        },
        "outputId": "c4377ebf-c61a-4bad-f969-36dc965d15e2"
      },
      "source": [
        "#On peut créer des matrices à partir de listes, et vice versa.\n",
        "#La méthode .arange permet de générer \"une portée\" de la longueur spécifiée.\n",
        "#(elle accepte aussi des paramètres supplémentaires comme la valeur de départ ou le pas).\n",
        "print(\"Liste de 12 entiers à partir de 0\")\n",
        "g = np.arange(12)\n",
        "print(g)\n",
        "print()\n",
        "\n",
        "#On peut affecter des valeurs.\n",
        "print(\"Affectation de la valeur 0 à toutes les positions à partir de l'indice 5\")\n",
        "g[5:] = 0\n",
        "print(g)\n",
        "print()\n",
        "\n",
        "#On peut par exemple modifier les dimensions de la liste 1x12 pour en faire une matrice 3x4...\n",
        "print(\"Remodelage de la liste de 12 éléments en matrice 3x4 de 12 éléments\")\n",
        "h = g.reshape(3,4)\n",
        "print(h)\n",
        "print()\n",
        "\n",
        "#Ou aplatir une matrice en liste.\n",
        "print(\"Remodelage de la matrice 3x4 de 12 éléments en liste de 12 éléments\")\n",
        "i = h.reshape(12)\n",
        "print(i)\n",
        "print()\n",
        "\n",
        "#Ou concaténer plusieurs listes.\n",
        "print(\"Concaténation d'une liste de 12 éléments et d'une liste de 3 éléments\")\n",
        "j = np.concatenate([g,a])\n",
        "print(j)\n",
        "print(j.size)\n",
        "print()\n",
        "\n",
        "#Ou empiler plusieurs matrices verticalement ou horizontalement.\n",
        "print(\"Empilage vertical\")\n",
        "print(np.vstack([a,b,d]))\n",
        "print()\n",
        "print(\"Empilage horizontal\")\n",
        "print(np.hstack([b,d]))\n",
        "print()"
      ],
      "execution_count": 14,
      "outputs": [
        {
          "output_type": "stream",
          "name": "stdout",
          "text": [
            "Liste de 12 entiers à partir de 0\n",
            "[ 0  1  2  3  4  5  6  7  8  9 10 11]\n",
            "\n",
            "Affectation de la valeur 0 à toutes les positions à partir de l'indice 5\n",
            "[0 1 2 3 4 0 0 0 0 0 0 0]\n",
            "\n",
            "Remodelage de la liste de 12 éléments en matrice 3x4 de 12 éléments\n",
            "[[0 1 2 3]\n",
            " [4 0 0 0]\n",
            " [0 0 0 0]]\n",
            "\n",
            "Remodelage de la matrice 3x4 de 12 éléments en liste de 12 éléments\n",
            "[0 1 2 3 4 0 0 0 0 0 0 0]\n",
            "\n",
            "Concaténation d'une liste de 12 éléments et d'une liste de 3 éléments\n",
            "[0 1 2 3 4 0 0 0 0 0 0 0 1 2 3]\n",
            "15\n",
            "\n",
            "Empilage vertical\n",
            "[[ 1  2  3]\n",
            " [ 0  2  4]\n",
            " [ 1  3  5]\n",
            " [ 0  4  8]\n",
            " [ 2  6 10]]\n",
            "\n",
            "Empilage horizontal\n",
            "[[ 0  2  4  0  4  8]\n",
            " [ 1  3  5  2  6 10]]\n",
            "\n"
          ]
        }
      ]
    },
    {
      "cell_type": "markdown",
      "metadata": {
        "id": "0Qh4NdMv121u"
      },
      "source": [
        "## Premier contact avec Pandas\n",
        "\n",
        "Pandas est une bibliothèque Python libre et ouverte conçue pour manipuler des données contenues dans un tableau 2D de type tableur (DataFRame) ou chaque ligne du tableau représente un exemplaire de la donnée et chaque colonne un attribut de la donnée."
      ]
    },
    {
      "cell_type": "markdown",
      "metadata": {
        "id": "O36xXZ5C2w9H"
      },
      "source": [
        "### Chargement rapide d'un tableau de données\n",
        "\n",
        "L'exemple suivant charge un tableau décrivant les caractéristiques de 205 différents modèles de voitures.\n",
        "\n",
        "Il compte trois types d'entités:\n",
        "(a) la spécification d'une automobile en termes de diverses caractéristiques; (b) sa cote de risque d'assurance attribuée;\n",
        "(c) ses pertes normalisées par rapport aux autres voitures.\n",
        "\n",
        "La cote de risque correspond au degré auquel l'automobile est plus risquée que son prix ne l'indique. Les voitures reçoivent initialement une cote de facteur de risque associée à leur prix. Ensuite, selon le risque avéré, cette cote est ajustée vers le haut (ou vers le bas) de l'échelle. Les actuaires appellent cela processus \"symbolisation\". Une valeur de +3 indique que l'auto est risquée, -3 qu'elle est probablement assez sûre.\n",
        "\n",
        "Le troisième facteur est le paiement de sinistre moyen relatif par année assurée du véhicule. Cette valeur est normalisée pour toutes les voitures dans une catégorie de taille donnée (petits deux portes, break, sports / spécialité, etc.), et représente la perte moyenne par voiture par an."
      ]
    },
    {
      "cell_type": "code",
      "metadata": {
        "id": "z3asv8Kt257h",
        "collapsed": true,
        "colab": {
          "base_uri": "https://localhost:8080/"
        },
        "outputId": "2c2804ba-1725-40f6-b053-9756d8f4422c"
      },
      "source": [
        "#Importation de la librairie Pandas.\n",
        "import pandas as pd\n",
        "print(\"Bibliothèques Pandas importées\")"
      ],
      "execution_count": 15,
      "outputs": [
        {
          "output_type": "stream",
          "name": "stdout",
          "text": [
            "Bibliothèques Pandas importées\n"
          ]
        }
      ]
    },
    {
      "cell_type": "code",
      "metadata": {
        "id": "R6YS8pUW2-qw",
        "collapsed": true,
        "colab": {
          "base_uri": "https://localhost:8080/"
        },
        "outputId": "97476f40-6fdd-4129-fba8-402a144dcee9"
      },
      "source": [
        "# Commande Linux wget pour télécharger un fichier è partir de son URL.\n",
        "! wget https://archive.ics.uci.edu/ml/machine-learning-databases/autos/imports-85.data\n",
        "print(\"Données Iris téléchargées\")"
      ],
      "execution_count": 16,
      "outputs": [
        {
          "output_type": "stream",
          "name": "stdout",
          "text": [
            "--2022-11-03 14:01:32--  https://archive.ics.uci.edu/ml/machine-learning-databases/autos/imports-85.data\n",
            "Resolving archive.ics.uci.edu (archive.ics.uci.edu)... 128.195.10.252\n",
            "Connecting to archive.ics.uci.edu (archive.ics.uci.edu)|128.195.10.252|:443... connected.\n",
            "HTTP request sent, awaiting response... 200 OK\n",
            "Length: 25936 (25K) [application/x-httpd-php]\n",
            "Saving to: ‘imports-85.data’\n",
            "\n",
            "imports-85.data     100%[===================>]  25.33K  --.-KB/s    in 0.07s   \n",
            "\n",
            "2022-11-03 14:01:33 (372 KB/s) - ‘imports-85.data’ saved [25936/25936]\n",
            "\n",
            "Données Iris téléchargées\n"
          ]
        }
      ]
    },
    {
      "cell_type": "code",
      "metadata": {
        "id": "RvakiBfi52Jh",
        "colab": {
          "base_uri": "https://localhost:8080/",
          "height": 317
        },
        "outputId": "45c222d4-7974-4a1b-eeb5-8bdd6cfde3ea"
      },
      "source": [
        "#Création d'une liste de noms d'attributs en français pour les colonnes.\n",
        "attributs = [\"cote\",\n",
        "             \"perte\",\n",
        "             \"constructeur\",\n",
        "             \"combustible\",\n",
        "             \"aspiration\",\n",
        "             \"portes\",\n",
        "             \"carosserie\",\n",
        "             \"roues_motrices\",\n",
        "             \"position_moteur\",\n",
        "             \"base_roues\",\n",
        "             \"longueur\",\n",
        "             \"largeur\",\n",
        "             \"hauteur\",\n",
        "             \"poids\",\n",
        "             \"type_moteur\",\n",
        "             \"cylindres\",\n",
        "             \"taille_moteur\",\n",
        "             \"système_combustible\",\n",
        "             \"diamètre_cylindres\",\n",
        "             \"course_piston\",\n",
        "             \"ratio_compression\",\n",
        "             \"chevaux\",\n",
        "             \"RPM_nominal\",\n",
        "             \"miles_par_gallon_ville\",\n",
        "             \"miles_par_gallon_autoroute\",\n",
        "             \"prix\"]\n",
        "\n",
        "#Lecture du fichier csv téléchargé pour le transféréer dans un Dataframe Pandas et lui appliquer nos noms d'attributs comme entêtes de colonnes.\n",
        "df = pd.read_csv(\"./imports-85.data\", names=attributs)\n",
        "print(\"Données Automobiles lues et mémorisées dans la variable 'df'\")\n",
        "\n",
        "#Affichage des cinq premiers spécimens du tableau (méthode .head()) pour valider que ça a marché.\n",
        "df.head()"
      ],
      "execution_count": 17,
      "outputs": [
        {
          "output_type": "stream",
          "name": "stdout",
          "text": [
            "Données Automobiles lues et mémorisées dans la variable 'df'\n"
          ]
        },
        {
          "output_type": "execute_result",
          "data": {
            "text/plain": [
              "   cote perte constructeur combustible aspiration portes   carosserie  \\\n",
              "0     3     ?  alfa-romero         gas        std    two  convertible   \n",
              "1     3     ?  alfa-romero         gas        std    two  convertible   \n",
              "2     1     ?  alfa-romero         gas        std    two    hatchback   \n",
              "3     2   164         audi         gas        std   four        sedan   \n",
              "4     2   164         audi         gas        std   four        sedan   \n",
              "\n",
              "  roues_motrices position_moteur  base_roues  ...  taille_moteur  \\\n",
              "0            rwd           front        88.6  ...            130   \n",
              "1            rwd           front        88.6  ...            130   \n",
              "2            rwd           front        94.5  ...            152   \n",
              "3            fwd           front        99.8  ...            109   \n",
              "4            4wd           front        99.4  ...            136   \n",
              "\n",
              "   système_combustible  diamètre_cylindres  course_piston ratio_compression  \\\n",
              "0                 mpfi                3.47           2.68               9.0   \n",
              "1                 mpfi                3.47           2.68               9.0   \n",
              "2                 mpfi                2.68           3.47               9.0   \n",
              "3                 mpfi                3.19           3.40              10.0   \n",
              "4                 mpfi                3.19           3.40               8.0   \n",
              "\n",
              "  chevaux  RPM_nominal miles_par_gallon_ville miles_par_gallon_autoroute  \\\n",
              "0     111         5000                     21                         27   \n",
              "1     111         5000                     21                         27   \n",
              "2     154         5000                     19                         26   \n",
              "3     102         5500                     24                         30   \n",
              "4     115         5500                     18                         22   \n",
              "\n",
              "    prix  \n",
              "0  13495  \n",
              "1  16500  \n",
              "2  16500  \n",
              "3  13950  \n",
              "4  17450  \n",
              "\n",
              "[5 rows x 26 columns]"
            ],
            "text/html": [
              "\n",
              "  <div id=\"df-12263825-51ac-4598-8ee3-7ef474f63e76\">\n",
              "    <div class=\"colab-df-container\">\n",
              "      <div>\n",
              "<style scoped>\n",
              "    .dataframe tbody tr th:only-of-type {\n",
              "        vertical-align: middle;\n",
              "    }\n",
              "\n",
              "    .dataframe tbody tr th {\n",
              "        vertical-align: top;\n",
              "    }\n",
              "\n",
              "    .dataframe thead th {\n",
              "        text-align: right;\n",
              "    }\n",
              "</style>\n",
              "<table border=\"1\" class=\"dataframe\">\n",
              "  <thead>\n",
              "    <tr style=\"text-align: right;\">\n",
              "      <th></th>\n",
              "      <th>cote</th>\n",
              "      <th>perte</th>\n",
              "      <th>constructeur</th>\n",
              "      <th>combustible</th>\n",
              "      <th>aspiration</th>\n",
              "      <th>portes</th>\n",
              "      <th>carosserie</th>\n",
              "      <th>roues_motrices</th>\n",
              "      <th>position_moteur</th>\n",
              "      <th>base_roues</th>\n",
              "      <th>...</th>\n",
              "      <th>taille_moteur</th>\n",
              "      <th>système_combustible</th>\n",
              "      <th>diamètre_cylindres</th>\n",
              "      <th>course_piston</th>\n",
              "      <th>ratio_compression</th>\n",
              "      <th>chevaux</th>\n",
              "      <th>RPM_nominal</th>\n",
              "      <th>miles_par_gallon_ville</th>\n",
              "      <th>miles_par_gallon_autoroute</th>\n",
              "      <th>prix</th>\n",
              "    </tr>\n",
              "  </thead>\n",
              "  <tbody>\n",
              "    <tr>\n",
              "      <th>0</th>\n",
              "      <td>3</td>\n",
              "      <td>?</td>\n",
              "      <td>alfa-romero</td>\n",
              "      <td>gas</td>\n",
              "      <td>std</td>\n",
              "      <td>two</td>\n",
              "      <td>convertible</td>\n",
              "      <td>rwd</td>\n",
              "      <td>front</td>\n",
              "      <td>88.6</td>\n",
              "      <td>...</td>\n",
              "      <td>130</td>\n",
              "      <td>mpfi</td>\n",
              "      <td>3.47</td>\n",
              "      <td>2.68</td>\n",
              "      <td>9.0</td>\n",
              "      <td>111</td>\n",
              "      <td>5000</td>\n",
              "      <td>21</td>\n",
              "      <td>27</td>\n",
              "      <td>13495</td>\n",
              "    </tr>\n",
              "    <tr>\n",
              "      <th>1</th>\n",
              "      <td>3</td>\n",
              "      <td>?</td>\n",
              "      <td>alfa-romero</td>\n",
              "      <td>gas</td>\n",
              "      <td>std</td>\n",
              "      <td>two</td>\n",
              "      <td>convertible</td>\n",
              "      <td>rwd</td>\n",
              "      <td>front</td>\n",
              "      <td>88.6</td>\n",
              "      <td>...</td>\n",
              "      <td>130</td>\n",
              "      <td>mpfi</td>\n",
              "      <td>3.47</td>\n",
              "      <td>2.68</td>\n",
              "      <td>9.0</td>\n",
              "      <td>111</td>\n",
              "      <td>5000</td>\n",
              "      <td>21</td>\n",
              "      <td>27</td>\n",
              "      <td>16500</td>\n",
              "    </tr>\n",
              "    <tr>\n",
              "      <th>2</th>\n",
              "      <td>1</td>\n",
              "      <td>?</td>\n",
              "      <td>alfa-romero</td>\n",
              "      <td>gas</td>\n",
              "      <td>std</td>\n",
              "      <td>two</td>\n",
              "      <td>hatchback</td>\n",
              "      <td>rwd</td>\n",
              "      <td>front</td>\n",
              "      <td>94.5</td>\n",
              "      <td>...</td>\n",
              "      <td>152</td>\n",
              "      <td>mpfi</td>\n",
              "      <td>2.68</td>\n",
              "      <td>3.47</td>\n",
              "      <td>9.0</td>\n",
              "      <td>154</td>\n",
              "      <td>5000</td>\n",
              "      <td>19</td>\n",
              "      <td>26</td>\n",
              "      <td>16500</td>\n",
              "    </tr>\n",
              "    <tr>\n",
              "      <th>3</th>\n",
              "      <td>2</td>\n",
              "      <td>164</td>\n",
              "      <td>audi</td>\n",
              "      <td>gas</td>\n",
              "      <td>std</td>\n",
              "      <td>four</td>\n",
              "      <td>sedan</td>\n",
              "      <td>fwd</td>\n",
              "      <td>front</td>\n",
              "      <td>99.8</td>\n",
              "      <td>...</td>\n",
              "      <td>109</td>\n",
              "      <td>mpfi</td>\n",
              "      <td>3.19</td>\n",
              "      <td>3.40</td>\n",
              "      <td>10.0</td>\n",
              "      <td>102</td>\n",
              "      <td>5500</td>\n",
              "      <td>24</td>\n",
              "      <td>30</td>\n",
              "      <td>13950</td>\n",
              "    </tr>\n",
              "    <tr>\n",
              "      <th>4</th>\n",
              "      <td>2</td>\n",
              "      <td>164</td>\n",
              "      <td>audi</td>\n",
              "      <td>gas</td>\n",
              "      <td>std</td>\n",
              "      <td>four</td>\n",
              "      <td>sedan</td>\n",
              "      <td>4wd</td>\n",
              "      <td>front</td>\n",
              "      <td>99.4</td>\n",
              "      <td>...</td>\n",
              "      <td>136</td>\n",
              "      <td>mpfi</td>\n",
              "      <td>3.19</td>\n",
              "      <td>3.40</td>\n",
              "      <td>8.0</td>\n",
              "      <td>115</td>\n",
              "      <td>5500</td>\n",
              "      <td>18</td>\n",
              "      <td>22</td>\n",
              "      <td>17450</td>\n",
              "    </tr>\n",
              "  </tbody>\n",
              "</table>\n",
              "<p>5 rows × 26 columns</p>\n",
              "</div>\n",
              "      <button class=\"colab-df-convert\" onclick=\"convertToInteractive('df-12263825-51ac-4598-8ee3-7ef474f63e76')\"\n",
              "              title=\"Convert this dataframe to an interactive table.\"\n",
              "              style=\"display:none;\">\n",
              "        \n",
              "  <svg xmlns=\"http://www.w3.org/2000/svg\" height=\"24px\"viewBox=\"0 0 24 24\"\n",
              "       width=\"24px\">\n",
              "    <path d=\"M0 0h24v24H0V0z\" fill=\"none\"/>\n",
              "    <path d=\"M18.56 5.44l.94 2.06.94-2.06 2.06-.94-2.06-.94-.94-2.06-.94 2.06-2.06.94zm-11 1L8.5 8.5l.94-2.06 2.06-.94-2.06-.94L8.5 2.5l-.94 2.06-2.06.94zm10 10l.94 2.06.94-2.06 2.06-.94-2.06-.94-.94-2.06-.94 2.06-2.06.94z\"/><path d=\"M17.41 7.96l-1.37-1.37c-.4-.4-.92-.59-1.43-.59-.52 0-1.04.2-1.43.59L10.3 9.45l-7.72 7.72c-.78.78-.78 2.05 0 2.83L4 21.41c.39.39.9.59 1.41.59.51 0 1.02-.2 1.41-.59l7.78-7.78 2.81-2.81c.8-.78.8-2.07 0-2.86zM5.41 20L4 18.59l7.72-7.72 1.47 1.35L5.41 20z\"/>\n",
              "  </svg>\n",
              "      </button>\n",
              "      \n",
              "  <style>\n",
              "    .colab-df-container {\n",
              "      display:flex;\n",
              "      flex-wrap:wrap;\n",
              "      gap: 12px;\n",
              "    }\n",
              "\n",
              "    .colab-df-convert {\n",
              "      background-color: #E8F0FE;\n",
              "      border: none;\n",
              "      border-radius: 50%;\n",
              "      cursor: pointer;\n",
              "      display: none;\n",
              "      fill: #1967D2;\n",
              "      height: 32px;\n",
              "      padding: 0 0 0 0;\n",
              "      width: 32px;\n",
              "    }\n",
              "\n",
              "    .colab-df-convert:hover {\n",
              "      background-color: #E2EBFA;\n",
              "      box-shadow: 0px 1px 2px rgba(60, 64, 67, 0.3), 0px 1px 3px 1px rgba(60, 64, 67, 0.15);\n",
              "      fill: #174EA6;\n",
              "    }\n",
              "\n",
              "    [theme=dark] .colab-df-convert {\n",
              "      background-color: #3B4455;\n",
              "      fill: #D2E3FC;\n",
              "    }\n",
              "\n",
              "    [theme=dark] .colab-df-convert:hover {\n",
              "      background-color: #434B5C;\n",
              "      box-shadow: 0px 1px 3px 1px rgba(0, 0, 0, 0.15);\n",
              "      filter: drop-shadow(0px 1px 2px rgba(0, 0, 0, 0.3));\n",
              "      fill: #FFFFFF;\n",
              "    }\n",
              "  </style>\n",
              "\n",
              "      <script>\n",
              "        const buttonEl =\n",
              "          document.querySelector('#df-12263825-51ac-4598-8ee3-7ef474f63e76 button.colab-df-convert');\n",
              "        buttonEl.style.display =\n",
              "          google.colab.kernel.accessAllowed ? 'block' : 'none';\n",
              "\n",
              "        async function convertToInteractive(key) {\n",
              "          const element = document.querySelector('#df-12263825-51ac-4598-8ee3-7ef474f63e76');\n",
              "          const dataTable =\n",
              "            await google.colab.kernel.invokeFunction('convertToInteractive',\n",
              "                                                     [key], {});\n",
              "          if (!dataTable) return;\n",
              "\n",
              "          const docLinkHtml = 'Like what you see? Visit the ' +\n",
              "            '<a target=\"_blank\" href=https://colab.research.google.com/notebooks/data_table.ipynb>data table notebook</a>'\n",
              "            + ' to learn more about interactive tables.';\n",
              "          element.innerHTML = '';\n",
              "          dataTable['output_type'] = 'display_data';\n",
              "          await google.colab.output.renderOutput(dataTable, element);\n",
              "          const docLink = document.createElement('div');\n",
              "          docLink.innerHTML = docLinkHtml;\n",
              "          element.appendChild(docLink);\n",
              "        }\n",
              "      </script>\n",
              "    </div>\n",
              "  </div>\n",
              "  "
            ]
          },
          "metadata": {},
          "execution_count": 17
        }
      ]
    },
    {
      "cell_type": "code",
      "metadata": {
        "id": "NGdXZxYvJauc",
        "collapsed": true,
        "colab": {
          "base_uri": "https://localhost:8080/"
        },
        "outputId": "6b35bc90-b893-4f47-e444-1d5ba09b7024"
      },
      "source": [
        "#Voyons voir de quoi à l'air notre jeu de données.\n",
        "#On devrait avoir 205 voitures décrites par 26 attributs.\n",
        "print(\"Le nombre de lignes (les modèles de voitures) et le nombre de colonnes (leurs attributs) : \", df.shape)\n",
        "print(\"Seulement le nombre d'entrées : \", len(df))\n",
        "print(\"Seulement le nombre de colonnes : \", len(df.columns))"
      ],
      "execution_count": 18,
      "outputs": [
        {
          "output_type": "stream",
          "name": "stdout",
          "text": [
            "Le nombre de lignes (les modèles de voitures) et le nombre de colonnes (leurs attributs) :  (205, 26)\n",
            "Seulement le nombre d'entrées :  205\n",
            "Seulement le nombre de colonnes :  26\n"
          ]
        }
      ]
    },
    {
      "cell_type": "code",
      "metadata": {
        "id": "HnXr7l5wntso",
        "collapsed": true,
        "colab": {
          "base_uri": "https://localhost:8080/"
        },
        "outputId": "c4912578-26ce-42cc-8b72-472b30d5fc7e"
      },
      "source": [
        "#Voyons voir un récapitulatif plus formel avec la méthode .info().\n",
        "df.info()"
      ],
      "execution_count": 19,
      "outputs": [
        {
          "output_type": "stream",
          "name": "stdout",
          "text": [
            "<class 'pandas.core.frame.DataFrame'>\n",
            "RangeIndex: 205 entries, 0 to 204\n",
            "Data columns (total 26 columns):\n",
            " #   Column                      Non-Null Count  Dtype  \n",
            "---  ------                      --------------  -----  \n",
            " 0   cote                        205 non-null    int64  \n",
            " 1   perte                       205 non-null    object \n",
            " 2   constructeur                205 non-null    object \n",
            " 3   combustible                 205 non-null    object \n",
            " 4   aspiration                  205 non-null    object \n",
            " 5   portes                      205 non-null    object \n",
            " 6   carosserie                  205 non-null    object \n",
            " 7   roues_motrices              205 non-null    object \n",
            " 8   position_moteur             205 non-null    object \n",
            " 9   base_roues                  205 non-null    float64\n",
            " 10  longueur                    205 non-null    float64\n",
            " 11  largeur                     205 non-null    float64\n",
            " 12  hauteur                     205 non-null    float64\n",
            " 13  poids                       205 non-null    int64  \n",
            " 14  type_moteur                 205 non-null    object \n",
            " 15  cylindres                   205 non-null    object \n",
            " 16  taille_moteur               205 non-null    int64  \n",
            " 17  système_combustible         205 non-null    object \n",
            " 18  diamètre_cylindres          205 non-null    object \n",
            " 19  course_piston               205 non-null    object \n",
            " 20  ratio_compression           205 non-null    float64\n",
            " 21  chevaux                     205 non-null    object \n",
            " 22  RPM_nominal                 205 non-null    object \n",
            " 23  miles_par_gallon_ville      205 non-null    int64  \n",
            " 24  miles_par_gallon_autoroute  205 non-null    int64  \n",
            " 25  prix                        205 non-null    object \n",
            "dtypes: float64(5), int64(5), object(16)\n",
            "memory usage: 41.8+ KB\n"
          ]
        }
      ]
    },
    {
      "cell_type": "markdown",
      "metadata": {
        "id": "6NKAv0eVsg9T"
      },
      "source": [
        "### Préparation et nettoyage des données\n",
        "\n",
        "La préparation des données représente typiquement environ 80% du travail. Il s'agit d'explorer nos données pour identifier et corriger, par exemple :\n",
        "\n",
        "* Les valeurs manquantes.\n",
        "* Les valeurs de mauvais type.\n",
        "* Les valeurs représentant des catégories auxquelles appliquer une valeur numérique.\n",
        "* Les attributs superflus ou qui pourraient être consolidés."
      ]
    },
    {
      "cell_type": "markdown",
      "metadata": {
        "id": "OCdNlvTM7z1l"
      },
      "source": [
        "#### Attributs superflus\n",
        "\n",
        "Admettons que nous n'ayons pas l'intention de travailler avec certains attributs..."
      ]
    },
    {
      "cell_type": "code",
      "metadata": {
        "id": "YJ3nCai975Zo",
        "collapsed": true,
        "colab": {
          "base_uri": "https://localhost:8080/",
          "height": 270
        },
        "outputId": "11bcf4c2-4cec-40ca-c684-bec584af6d2e"
      },
      "source": [
        "#On peut éliminer certains attributs avec la méthode .drop().\n",
        "df.drop(columns = ['base_roues', 'taille_moteur', 'diamètre_cylindres', 'course_piston', 'ratio_compression', 'RPM_nominal', 'miles_par_gallon_ville', 'miles_par_gallon_autoroute'], inplace=True, errors='ignore')\n",
        "df.head()"
      ],
      "execution_count": 20,
      "outputs": [
        {
          "output_type": "execute_result",
          "data": {
            "text/plain": [
              "   cote perte constructeur combustible aspiration portes   carosserie  \\\n",
              "0     3     ?  alfa-romero         gas        std    two  convertible   \n",
              "1     3     ?  alfa-romero         gas        std    two  convertible   \n",
              "2     1     ?  alfa-romero         gas        std    two    hatchback   \n",
              "3     2   164         audi         gas        std   four        sedan   \n",
              "4     2   164         audi         gas        std   four        sedan   \n",
              "\n",
              "  roues_motrices position_moteur  longueur  largeur  hauteur  poids  \\\n",
              "0            rwd           front     168.8     64.1     48.8   2548   \n",
              "1            rwd           front     168.8     64.1     48.8   2548   \n",
              "2            rwd           front     171.2     65.5     52.4   2823   \n",
              "3            fwd           front     176.6     66.2     54.3   2337   \n",
              "4            4wd           front     176.6     66.4     54.3   2824   \n",
              "\n",
              "  type_moteur cylindres système_combustible chevaux   prix  \n",
              "0        dohc      four                mpfi     111  13495  \n",
              "1        dohc      four                mpfi     111  16500  \n",
              "2        ohcv       six                mpfi     154  16500  \n",
              "3         ohc      four                mpfi     102  13950  \n",
              "4         ohc      five                mpfi     115  17450  "
            ],
            "text/html": [
              "\n",
              "  <div id=\"df-1594838b-34a7-42e3-b790-b03c299117cc\">\n",
              "    <div class=\"colab-df-container\">\n",
              "      <div>\n",
              "<style scoped>\n",
              "    .dataframe tbody tr th:only-of-type {\n",
              "        vertical-align: middle;\n",
              "    }\n",
              "\n",
              "    .dataframe tbody tr th {\n",
              "        vertical-align: top;\n",
              "    }\n",
              "\n",
              "    .dataframe thead th {\n",
              "        text-align: right;\n",
              "    }\n",
              "</style>\n",
              "<table border=\"1\" class=\"dataframe\">\n",
              "  <thead>\n",
              "    <tr style=\"text-align: right;\">\n",
              "      <th></th>\n",
              "      <th>cote</th>\n",
              "      <th>perte</th>\n",
              "      <th>constructeur</th>\n",
              "      <th>combustible</th>\n",
              "      <th>aspiration</th>\n",
              "      <th>portes</th>\n",
              "      <th>carosserie</th>\n",
              "      <th>roues_motrices</th>\n",
              "      <th>position_moteur</th>\n",
              "      <th>longueur</th>\n",
              "      <th>largeur</th>\n",
              "      <th>hauteur</th>\n",
              "      <th>poids</th>\n",
              "      <th>type_moteur</th>\n",
              "      <th>cylindres</th>\n",
              "      <th>système_combustible</th>\n",
              "      <th>chevaux</th>\n",
              "      <th>prix</th>\n",
              "    </tr>\n",
              "  </thead>\n",
              "  <tbody>\n",
              "    <tr>\n",
              "      <th>0</th>\n",
              "      <td>3</td>\n",
              "      <td>?</td>\n",
              "      <td>alfa-romero</td>\n",
              "      <td>gas</td>\n",
              "      <td>std</td>\n",
              "      <td>two</td>\n",
              "      <td>convertible</td>\n",
              "      <td>rwd</td>\n",
              "      <td>front</td>\n",
              "      <td>168.8</td>\n",
              "      <td>64.1</td>\n",
              "      <td>48.8</td>\n",
              "      <td>2548</td>\n",
              "      <td>dohc</td>\n",
              "      <td>four</td>\n",
              "      <td>mpfi</td>\n",
              "      <td>111</td>\n",
              "      <td>13495</td>\n",
              "    </tr>\n",
              "    <tr>\n",
              "      <th>1</th>\n",
              "      <td>3</td>\n",
              "      <td>?</td>\n",
              "      <td>alfa-romero</td>\n",
              "      <td>gas</td>\n",
              "      <td>std</td>\n",
              "      <td>two</td>\n",
              "      <td>convertible</td>\n",
              "      <td>rwd</td>\n",
              "      <td>front</td>\n",
              "      <td>168.8</td>\n",
              "      <td>64.1</td>\n",
              "      <td>48.8</td>\n",
              "      <td>2548</td>\n",
              "      <td>dohc</td>\n",
              "      <td>four</td>\n",
              "      <td>mpfi</td>\n",
              "      <td>111</td>\n",
              "      <td>16500</td>\n",
              "    </tr>\n",
              "    <tr>\n",
              "      <th>2</th>\n",
              "      <td>1</td>\n",
              "      <td>?</td>\n",
              "      <td>alfa-romero</td>\n",
              "      <td>gas</td>\n",
              "      <td>std</td>\n",
              "      <td>two</td>\n",
              "      <td>hatchback</td>\n",
              "      <td>rwd</td>\n",
              "      <td>front</td>\n",
              "      <td>171.2</td>\n",
              "      <td>65.5</td>\n",
              "      <td>52.4</td>\n",
              "      <td>2823</td>\n",
              "      <td>ohcv</td>\n",
              "      <td>six</td>\n",
              "      <td>mpfi</td>\n",
              "      <td>154</td>\n",
              "      <td>16500</td>\n",
              "    </tr>\n",
              "    <tr>\n",
              "      <th>3</th>\n",
              "      <td>2</td>\n",
              "      <td>164</td>\n",
              "      <td>audi</td>\n",
              "      <td>gas</td>\n",
              "      <td>std</td>\n",
              "      <td>four</td>\n",
              "      <td>sedan</td>\n",
              "      <td>fwd</td>\n",
              "      <td>front</td>\n",
              "      <td>176.6</td>\n",
              "      <td>66.2</td>\n",
              "      <td>54.3</td>\n",
              "      <td>2337</td>\n",
              "      <td>ohc</td>\n",
              "      <td>four</td>\n",
              "      <td>mpfi</td>\n",
              "      <td>102</td>\n",
              "      <td>13950</td>\n",
              "    </tr>\n",
              "    <tr>\n",
              "      <th>4</th>\n",
              "      <td>2</td>\n",
              "      <td>164</td>\n",
              "      <td>audi</td>\n",
              "      <td>gas</td>\n",
              "      <td>std</td>\n",
              "      <td>four</td>\n",
              "      <td>sedan</td>\n",
              "      <td>4wd</td>\n",
              "      <td>front</td>\n",
              "      <td>176.6</td>\n",
              "      <td>66.4</td>\n",
              "      <td>54.3</td>\n",
              "      <td>2824</td>\n",
              "      <td>ohc</td>\n",
              "      <td>five</td>\n",
              "      <td>mpfi</td>\n",
              "      <td>115</td>\n",
              "      <td>17450</td>\n",
              "    </tr>\n",
              "  </tbody>\n",
              "</table>\n",
              "</div>\n",
              "      <button class=\"colab-df-convert\" onclick=\"convertToInteractive('df-1594838b-34a7-42e3-b790-b03c299117cc')\"\n",
              "              title=\"Convert this dataframe to an interactive table.\"\n",
              "              style=\"display:none;\">\n",
              "        \n",
              "  <svg xmlns=\"http://www.w3.org/2000/svg\" height=\"24px\"viewBox=\"0 0 24 24\"\n",
              "       width=\"24px\">\n",
              "    <path d=\"M0 0h24v24H0V0z\" fill=\"none\"/>\n",
              "    <path d=\"M18.56 5.44l.94 2.06.94-2.06 2.06-.94-2.06-.94-.94-2.06-.94 2.06-2.06.94zm-11 1L8.5 8.5l.94-2.06 2.06-.94-2.06-.94L8.5 2.5l-.94 2.06-2.06.94zm10 10l.94 2.06.94-2.06 2.06-.94-2.06-.94-.94-2.06-.94 2.06-2.06.94z\"/><path d=\"M17.41 7.96l-1.37-1.37c-.4-.4-.92-.59-1.43-.59-.52 0-1.04.2-1.43.59L10.3 9.45l-7.72 7.72c-.78.78-.78 2.05 0 2.83L4 21.41c.39.39.9.59 1.41.59.51 0 1.02-.2 1.41-.59l7.78-7.78 2.81-2.81c.8-.78.8-2.07 0-2.86zM5.41 20L4 18.59l7.72-7.72 1.47 1.35L5.41 20z\"/>\n",
              "  </svg>\n",
              "      </button>\n",
              "      \n",
              "  <style>\n",
              "    .colab-df-container {\n",
              "      display:flex;\n",
              "      flex-wrap:wrap;\n",
              "      gap: 12px;\n",
              "    }\n",
              "\n",
              "    .colab-df-convert {\n",
              "      background-color: #E8F0FE;\n",
              "      border: none;\n",
              "      border-radius: 50%;\n",
              "      cursor: pointer;\n",
              "      display: none;\n",
              "      fill: #1967D2;\n",
              "      height: 32px;\n",
              "      padding: 0 0 0 0;\n",
              "      width: 32px;\n",
              "    }\n",
              "\n",
              "    .colab-df-convert:hover {\n",
              "      background-color: #E2EBFA;\n",
              "      box-shadow: 0px 1px 2px rgba(60, 64, 67, 0.3), 0px 1px 3px 1px rgba(60, 64, 67, 0.15);\n",
              "      fill: #174EA6;\n",
              "    }\n",
              "\n",
              "    [theme=dark] .colab-df-convert {\n",
              "      background-color: #3B4455;\n",
              "      fill: #D2E3FC;\n",
              "    }\n",
              "\n",
              "    [theme=dark] .colab-df-convert:hover {\n",
              "      background-color: #434B5C;\n",
              "      box-shadow: 0px 1px 3px 1px rgba(0, 0, 0, 0.15);\n",
              "      filter: drop-shadow(0px 1px 2px rgba(0, 0, 0, 0.3));\n",
              "      fill: #FFFFFF;\n",
              "    }\n",
              "  </style>\n",
              "\n",
              "      <script>\n",
              "        const buttonEl =\n",
              "          document.querySelector('#df-1594838b-34a7-42e3-b790-b03c299117cc button.colab-df-convert');\n",
              "        buttonEl.style.display =\n",
              "          google.colab.kernel.accessAllowed ? 'block' : 'none';\n",
              "\n",
              "        async function convertToInteractive(key) {\n",
              "          const element = document.querySelector('#df-1594838b-34a7-42e3-b790-b03c299117cc');\n",
              "          const dataTable =\n",
              "            await google.colab.kernel.invokeFunction('convertToInteractive',\n",
              "                                                     [key], {});\n",
              "          if (!dataTable) return;\n",
              "\n",
              "          const docLinkHtml = 'Like what you see? Visit the ' +\n",
              "            '<a target=\"_blank\" href=https://colab.research.google.com/notebooks/data_table.ipynb>data table notebook</a>'\n",
              "            + ' to learn more about interactive tables.';\n",
              "          element.innerHTML = '';\n",
              "          dataTable['output_type'] = 'display_data';\n",
              "          await google.colab.output.renderOutput(dataTable, element);\n",
              "          const docLink = document.createElement('div');\n",
              "          docLink.innerHTML = docLinkHtml;\n",
              "          element.appendChild(docLink);\n",
              "        }\n",
              "      </script>\n",
              "    </div>\n",
              "  </div>\n",
              "  "
            ]
          },
          "metadata": {},
          "execution_count": 20
        }
      ]
    },
    {
      "cell_type": "markdown",
      "metadata": {
        "id": "KZKmhGvf4ohI"
      },
      "source": [
        "#### Données aberrantes\n",
        "\n",
        "On peut aussi noter une anomalie intéressante grâce à la méthode .info() exécutée plus haut : plusieurs des attributs qui devraient être numériques (la perte normalisée, le prix, etc.) on un type \"objet\" qui nous empêcherait de réaliser des calculs avec eux. Pourtant, l'intuition nous dit que ces données devraient être des chiffres. Qu'est-ce qui cloche? Il faut investiguer et corriger ça. Commençons par le prix."
      ]
    },
    {
      "cell_type": "code",
      "metadata": {
        "id": "haEuRKQAtZmV",
        "collapsed": true,
        "colab": {
          "base_uri": "https://localhost:8080/",
          "height": 634
        },
        "outputId": "275c64c6-1387-46e3-86b3-73e41410f412"
      },
      "source": [
        "#De quoi ont l'air les valeurs de la catégorie \"prix\"?\n",
        "#On peut accéder à nos colonnes par leur nom et on peut lister les valeurs uniques.\n",
        "#On se rend compte qu'on a un intru sous la forme d'un \"?\" dans la liste.\n",
        "print(df['prix'].unique())\n",
        "print()\n",
        "\n",
        "#On peut émettre la supposition réfléchie que les gens qui ont composé le jeu de données on peut être utilisé \"?\" quand une donnée était inconnue pour un modèle de voiture.\n",
        "#Combien avont nous de prix inconnus? Utilisons un filtre pour le savoir. Apparemment, il y en a quatre.\n",
        "print(\"Les entrées où la valeur de 'prix' est '?':\")\n",
        "df[df['prix'] == \"?\"]"
      ],
      "execution_count": 21,
      "outputs": [
        {
          "output_type": "stream",
          "name": "stdout",
          "text": [
            "['13495' '16500' '13950' '17450' '15250' '17710' '18920' '23875' '?'\n",
            " '16430' '16925' '20970' '21105' '24565' '30760' '41315' '36880' '5151'\n",
            " '6295' '6575' '5572' '6377' '7957' '6229' '6692' '7609' '8558' '8921'\n",
            " '12964' '6479' '6855' '5399' '6529' '7129' '7295' '7895' '9095' '8845'\n",
            " '10295' '12945' '10345' '6785' '11048' '32250' '35550' '36000' '5195'\n",
            " '6095' '6795' '6695' '7395' '10945' '11845' '13645' '15645' '8495'\n",
            " '10595' '10245' '10795' '11245' '18280' '18344' '25552' '28248' '28176'\n",
            " '31600' '34184' '35056' '40960' '45400' '16503' '5389' '6189' '6669'\n",
            " '7689' '9959' '8499' '12629' '14869' '14489' '6989' '8189' '9279' '5499'\n",
            " '7099' '6649' '6849' '7349' '7299' '7799' '7499' '7999' '8249' '8949'\n",
            " '9549' '13499' '14399' '17199' '19699' '18399' '11900' '13200' '12440'\n",
            " '13860' '15580' '16900' '16695' '17075' '16630' '17950' '18150' '12764'\n",
            " '22018' '32528' '34028' '37028' '9295' '9895' '11850' '12170' '15040'\n",
            " '15510' '18620' '5118' '7053' '7603' '7126' '7775' '9960' '9233' '11259'\n",
            " '7463' '10198' '8013' '11694' '5348' '6338' '6488' '6918' '7898' '8778'\n",
            " '6938' '7198' '7788' '7738' '8358' '9258' '8058' '8238' '9298' '9538'\n",
            " '8449' '9639' '9989' '11199' '11549' '17669' '8948' '10698' '9988'\n",
            " '10898' '11248' '16558' '15998' '15690' '15750' '7975' '7995' '8195'\n",
            " '9495' '9995' '11595' '9980' '13295' '13845' '12290' '12940' '13415'\n",
            " '15985' '16515' '18420' '18950' '16845' '19045' '21485' '22470' '22625']\n",
            "\n",
            "Les entrées où la valeur de 'prix' est '?':\n"
          ]
        },
        {
          "output_type": "execute_result",
          "data": {
            "text/plain": [
              "     cote perte constructeur combustible aspiration portes carosserie  \\\n",
              "9       0     ?         audi         gas      turbo    two  hatchback   \n",
              "44      1     ?        isuzu         gas        std    two      sedan   \n",
              "45      0     ?        isuzu         gas        std   four      sedan   \n",
              "129     1     ?      porsche         gas        std    two  hatchback   \n",
              "\n",
              "    roues_motrices position_moteur  longueur  largeur  hauteur  poids  \\\n",
              "9              4wd           front     178.2     67.9     52.0   3053   \n",
              "44             fwd           front     155.9     63.6     52.0   1874   \n",
              "45             fwd           front     155.9     63.6     52.0   1909   \n",
              "129            rwd           front     175.7     72.3     50.5   3366   \n",
              "\n",
              "    type_moteur cylindres système_combustible chevaux prix  \n",
              "9           ohc      five                mpfi     160    ?  \n",
              "44          ohc      four                2bbl      70    ?  \n",
              "45          ohc      four                2bbl      70    ?  \n",
              "129       dohcv     eight                mpfi     288    ?  "
            ],
            "text/html": [
              "\n",
              "  <div id=\"df-5511e6d5-14e3-4977-8de1-be9675182142\">\n",
              "    <div class=\"colab-df-container\">\n",
              "      <div>\n",
              "<style scoped>\n",
              "    .dataframe tbody tr th:only-of-type {\n",
              "        vertical-align: middle;\n",
              "    }\n",
              "\n",
              "    .dataframe tbody tr th {\n",
              "        vertical-align: top;\n",
              "    }\n",
              "\n",
              "    .dataframe thead th {\n",
              "        text-align: right;\n",
              "    }\n",
              "</style>\n",
              "<table border=\"1\" class=\"dataframe\">\n",
              "  <thead>\n",
              "    <tr style=\"text-align: right;\">\n",
              "      <th></th>\n",
              "      <th>cote</th>\n",
              "      <th>perte</th>\n",
              "      <th>constructeur</th>\n",
              "      <th>combustible</th>\n",
              "      <th>aspiration</th>\n",
              "      <th>portes</th>\n",
              "      <th>carosserie</th>\n",
              "      <th>roues_motrices</th>\n",
              "      <th>position_moteur</th>\n",
              "      <th>longueur</th>\n",
              "      <th>largeur</th>\n",
              "      <th>hauteur</th>\n",
              "      <th>poids</th>\n",
              "      <th>type_moteur</th>\n",
              "      <th>cylindres</th>\n",
              "      <th>système_combustible</th>\n",
              "      <th>chevaux</th>\n",
              "      <th>prix</th>\n",
              "    </tr>\n",
              "  </thead>\n",
              "  <tbody>\n",
              "    <tr>\n",
              "      <th>9</th>\n",
              "      <td>0</td>\n",
              "      <td>?</td>\n",
              "      <td>audi</td>\n",
              "      <td>gas</td>\n",
              "      <td>turbo</td>\n",
              "      <td>two</td>\n",
              "      <td>hatchback</td>\n",
              "      <td>4wd</td>\n",
              "      <td>front</td>\n",
              "      <td>178.2</td>\n",
              "      <td>67.9</td>\n",
              "      <td>52.0</td>\n",
              "      <td>3053</td>\n",
              "      <td>ohc</td>\n",
              "      <td>five</td>\n",
              "      <td>mpfi</td>\n",
              "      <td>160</td>\n",
              "      <td>?</td>\n",
              "    </tr>\n",
              "    <tr>\n",
              "      <th>44</th>\n",
              "      <td>1</td>\n",
              "      <td>?</td>\n",
              "      <td>isuzu</td>\n",
              "      <td>gas</td>\n",
              "      <td>std</td>\n",
              "      <td>two</td>\n",
              "      <td>sedan</td>\n",
              "      <td>fwd</td>\n",
              "      <td>front</td>\n",
              "      <td>155.9</td>\n",
              "      <td>63.6</td>\n",
              "      <td>52.0</td>\n",
              "      <td>1874</td>\n",
              "      <td>ohc</td>\n",
              "      <td>four</td>\n",
              "      <td>2bbl</td>\n",
              "      <td>70</td>\n",
              "      <td>?</td>\n",
              "    </tr>\n",
              "    <tr>\n",
              "      <th>45</th>\n",
              "      <td>0</td>\n",
              "      <td>?</td>\n",
              "      <td>isuzu</td>\n",
              "      <td>gas</td>\n",
              "      <td>std</td>\n",
              "      <td>four</td>\n",
              "      <td>sedan</td>\n",
              "      <td>fwd</td>\n",
              "      <td>front</td>\n",
              "      <td>155.9</td>\n",
              "      <td>63.6</td>\n",
              "      <td>52.0</td>\n",
              "      <td>1909</td>\n",
              "      <td>ohc</td>\n",
              "      <td>four</td>\n",
              "      <td>2bbl</td>\n",
              "      <td>70</td>\n",
              "      <td>?</td>\n",
              "    </tr>\n",
              "    <tr>\n",
              "      <th>129</th>\n",
              "      <td>1</td>\n",
              "      <td>?</td>\n",
              "      <td>porsche</td>\n",
              "      <td>gas</td>\n",
              "      <td>std</td>\n",
              "      <td>two</td>\n",
              "      <td>hatchback</td>\n",
              "      <td>rwd</td>\n",
              "      <td>front</td>\n",
              "      <td>175.7</td>\n",
              "      <td>72.3</td>\n",
              "      <td>50.5</td>\n",
              "      <td>3366</td>\n",
              "      <td>dohcv</td>\n",
              "      <td>eight</td>\n",
              "      <td>mpfi</td>\n",
              "      <td>288</td>\n",
              "      <td>?</td>\n",
              "    </tr>\n",
              "  </tbody>\n",
              "</table>\n",
              "</div>\n",
              "      <button class=\"colab-df-convert\" onclick=\"convertToInteractive('df-5511e6d5-14e3-4977-8de1-be9675182142')\"\n",
              "              title=\"Convert this dataframe to an interactive table.\"\n",
              "              style=\"display:none;\">\n",
              "        \n",
              "  <svg xmlns=\"http://www.w3.org/2000/svg\" height=\"24px\"viewBox=\"0 0 24 24\"\n",
              "       width=\"24px\">\n",
              "    <path d=\"M0 0h24v24H0V0z\" fill=\"none\"/>\n",
              "    <path d=\"M18.56 5.44l.94 2.06.94-2.06 2.06-.94-2.06-.94-.94-2.06-.94 2.06-2.06.94zm-11 1L8.5 8.5l.94-2.06 2.06-.94-2.06-.94L8.5 2.5l-.94 2.06-2.06.94zm10 10l.94 2.06.94-2.06 2.06-.94-2.06-.94-.94-2.06-.94 2.06-2.06.94z\"/><path d=\"M17.41 7.96l-1.37-1.37c-.4-.4-.92-.59-1.43-.59-.52 0-1.04.2-1.43.59L10.3 9.45l-7.72 7.72c-.78.78-.78 2.05 0 2.83L4 21.41c.39.39.9.59 1.41.59.51 0 1.02-.2 1.41-.59l7.78-7.78 2.81-2.81c.8-.78.8-2.07 0-2.86zM5.41 20L4 18.59l7.72-7.72 1.47 1.35L5.41 20z\"/>\n",
              "  </svg>\n",
              "      </button>\n",
              "      \n",
              "  <style>\n",
              "    .colab-df-container {\n",
              "      display:flex;\n",
              "      flex-wrap:wrap;\n",
              "      gap: 12px;\n",
              "    }\n",
              "\n",
              "    .colab-df-convert {\n",
              "      background-color: #E8F0FE;\n",
              "      border: none;\n",
              "      border-radius: 50%;\n",
              "      cursor: pointer;\n",
              "      display: none;\n",
              "      fill: #1967D2;\n",
              "      height: 32px;\n",
              "      padding: 0 0 0 0;\n",
              "      width: 32px;\n",
              "    }\n",
              "\n",
              "    .colab-df-convert:hover {\n",
              "      background-color: #E2EBFA;\n",
              "      box-shadow: 0px 1px 2px rgba(60, 64, 67, 0.3), 0px 1px 3px 1px rgba(60, 64, 67, 0.15);\n",
              "      fill: #174EA6;\n",
              "    }\n",
              "\n",
              "    [theme=dark] .colab-df-convert {\n",
              "      background-color: #3B4455;\n",
              "      fill: #D2E3FC;\n",
              "    }\n",
              "\n",
              "    [theme=dark] .colab-df-convert:hover {\n",
              "      background-color: #434B5C;\n",
              "      box-shadow: 0px 1px 3px 1px rgba(0, 0, 0, 0.15);\n",
              "      filter: drop-shadow(0px 1px 2px rgba(0, 0, 0, 0.3));\n",
              "      fill: #FFFFFF;\n",
              "    }\n",
              "  </style>\n",
              "\n",
              "      <script>\n",
              "        const buttonEl =\n",
              "          document.querySelector('#df-5511e6d5-14e3-4977-8de1-be9675182142 button.colab-df-convert');\n",
              "        buttonEl.style.display =\n",
              "          google.colab.kernel.accessAllowed ? 'block' : 'none';\n",
              "\n",
              "        async function convertToInteractive(key) {\n",
              "          const element = document.querySelector('#df-5511e6d5-14e3-4977-8de1-be9675182142');\n",
              "          const dataTable =\n",
              "            await google.colab.kernel.invokeFunction('convertToInteractive',\n",
              "                                                     [key], {});\n",
              "          if (!dataTable) return;\n",
              "\n",
              "          const docLinkHtml = 'Like what you see? Visit the ' +\n",
              "            '<a target=\"_blank\" href=https://colab.research.google.com/notebooks/data_table.ipynb>data table notebook</a>'\n",
              "            + ' to learn more about interactive tables.';\n",
              "          element.innerHTML = '';\n",
              "          dataTable['output_type'] = 'display_data';\n",
              "          await google.colab.output.renderOutput(dataTable, element);\n",
              "          const docLink = document.createElement('div');\n",
              "          docLink.innerHTML = docLinkHtml;\n",
              "          element.appendChild(docLink);\n",
              "        }\n",
              "      </script>\n",
              "    </div>\n",
              "  </div>\n",
              "  "
            ]
          },
          "metadata": {},
          "execution_count": 21
        }
      ]
    },
    {
      "cell_type": "code",
      "metadata": {
        "id": "CEB9tKX7utn5",
        "collapsed": true,
        "colab": {
          "base_uri": "https://localhost:8080/"
        },
        "outputId": "347d76de-730f-4847-e933-de8035d7a725"
      },
      "source": [
        "#Nous devrions penser à une stratégie pour remplacer ces valeurs inconnues.\n",
        "#Une approche est de remplacer la valeur inconnue d'un attribut par la valeur moyenne ou le mode de cet attribut.\n",
        "#Une autre serait de retirer les spécimens présentant une valeur inconnue, ce que nous allons faire.\n",
        "#Nous pouvons obtenir les indices des modèles à éjecter avec la propriété .index appliquée au filtre.\n",
        "indices = df[df['prix'] == \"?\"].index\n",
        "df.drop(indices, inplace=True)\n",
        "\n",
        "#Une fois les entrées indésirables supprimées, il serait bien de remettre le type de cette colonne à un type numérique.\n",
        "df['prix'] = df['prix'].apply(pd.to_numeric)\n",
        "\n",
        "#Il reste bien 201 voitures et le prix est maintenant numérique.\n",
        "df.info()"
      ],
      "execution_count": 22,
      "outputs": [
        {
          "output_type": "stream",
          "name": "stdout",
          "text": [
            "<class 'pandas.core.frame.DataFrame'>\n",
            "Int64Index: 201 entries, 0 to 204\n",
            "Data columns (total 18 columns):\n",
            " #   Column               Non-Null Count  Dtype  \n",
            "---  ------               --------------  -----  \n",
            " 0   cote                 201 non-null    int64  \n",
            " 1   perte                201 non-null    object \n",
            " 2   constructeur         201 non-null    object \n",
            " 3   combustible          201 non-null    object \n",
            " 4   aspiration           201 non-null    object \n",
            " 5   portes               201 non-null    object \n",
            " 6   carosserie           201 non-null    object \n",
            " 7   roues_motrices       201 non-null    object \n",
            " 8   position_moteur      201 non-null    object \n",
            " 9   longueur             201 non-null    float64\n",
            " 10  largeur              201 non-null    float64\n",
            " 11  hauteur              201 non-null    float64\n",
            " 12  poids                201 non-null    int64  \n",
            " 13  type_moteur          201 non-null    object \n",
            " 14  cylindres            201 non-null    object \n",
            " 15  système_combustible  201 non-null    object \n",
            " 16  chevaux              201 non-null    object \n",
            " 17  prix                 201 non-null    int64  \n",
            "dtypes: float64(3), int64(3), object(12)\n",
            "memory usage: 29.8+ KB\n"
          ]
        }
      ]
    },
    {
      "cell_type": "code",
      "metadata": {
        "id": "_PimqxmZ83t3",
        "collapsed": true,
        "colab": {
          "base_uri": "https://localhost:8080/"
        },
        "outputId": "0fbf74db-d259-45da-c2d6-9bf9a2522069"
      },
      "source": [
        "#Maintenant, vérifions où il reste des attributs manquants. Prenons pour acquis que le \"?\" a été utilisé systématiquement par les chercheurs.\n",
        "#Les attributs perte, portes et chevaux contiennent toujours des valeurs inconnues.\n",
        "df[df == \"?\"].count()"
      ],
      "execution_count": 23,
      "outputs": [
        {
          "output_type": "execute_result",
          "data": {
            "text/plain": [
              "cote                    0\n",
              "perte                  37\n",
              "constructeur            0\n",
              "combustible             0\n",
              "aspiration              0\n",
              "portes                  2\n",
              "carosserie              0\n",
              "roues_motrices          0\n",
              "position_moteur         0\n",
              "longueur                0\n",
              "largeur                 0\n",
              "hauteur                 0\n",
              "poids                   0\n",
              "type_moteur             0\n",
              "cylindres               0\n",
              "système_combustible     0\n",
              "chevaux                 2\n",
              "prix                    0\n",
              "dtype: int64"
            ]
          },
          "metadata": {},
          "execution_count": 23
        }
      ]
    },
    {
      "cell_type": "code",
      "metadata": {
        "id": "J5FX3Jix9gub"
      },
      "source": [
        "#On peut s'en débarasser eux aussi\n",
        "\n",
        "#Mais au lieu d'éliminer les pertes et les chevaux inconnus, remplaçons-les par la moyenne.\n",
        "#Cette fois-ci, pour pouvoir la calculer, il faut qu'un type numérique soit assigné à la colonne en premier.\n",
        "#L'argument errors='coerce' force la conversion des valeurs non numériques en NaN au lieu de générer une erreur.\n",
        "#La méthode .mean() ignore automatiquement les NaN.\n",
        "df['perte'] = df['perte'].apply(pd.to_numeric, errors='coerce')\n",
        "perte_moyenne = df['perte'].mean()\n",
        "\n",
        "df['chevaux'] = df['chevaux'].apply(pd.to_numeric, errors='coerce')\n",
        "chevaux_moyenne = df['chevaux'].mean()\n",
        "\n",
        "#La méthode .fillna() permet de remplacer les \"?\" transformés en NaN par notre moyenne calculée.\n",
        "df['perte'].fillna(perte_moyenne, inplace=True)\n",
        "df['chevaux'].fillna(chevaux_moyenne, inplace=True)\n",
        "\n",
        "#Pour les portes, remplaçons les par le mode, qui peut être calculé même sur un type objet.\n",
        "#On utilise la méthode .replace()\n",
        "portes_mode = df['portes'].mode()\n",
        "df['portes'] = df['portes'].replace([\"?\"], portes_mode)"
      ],
      "execution_count": 26,
      "outputs": []
    },
    {
      "cell_type": "code",
      "metadata": {
        "id": "M_vmAYQdPdPG",
        "collapsed": true,
        "colab": {
          "base_uri": "https://localhost:8080/"
        },
        "outputId": "0c5c062c-c96d-4ef8-9a69-7405b85f6058"
      },
      "source": [
        "#Tout à l'air bon côté info\n",
        "df.info()"
      ],
      "execution_count": 27,
      "outputs": [
        {
          "output_type": "stream",
          "name": "stdout",
          "text": [
            "<class 'pandas.core.frame.DataFrame'>\n",
            "Int64Index: 201 entries, 0 to 204\n",
            "Data columns (total 18 columns):\n",
            " #   Column               Non-Null Count  Dtype  \n",
            "---  ------               --------------  -----  \n",
            " 0   cote                 201 non-null    int64  \n",
            " 1   perte                201 non-null    float64\n",
            " 2   constructeur         201 non-null    object \n",
            " 3   combustible          201 non-null    object \n",
            " 4   aspiration           201 non-null    object \n",
            " 5   portes               201 non-null    object \n",
            " 6   carosserie           201 non-null    object \n",
            " 7   roues_motrices       201 non-null    object \n",
            " 8   position_moteur      201 non-null    object \n",
            " 9   longueur             201 non-null    float64\n",
            " 10  largeur              201 non-null    float64\n",
            " 11  hauteur              201 non-null    float64\n",
            " 12  poids                201 non-null    int64  \n",
            " 13  type_moteur          201 non-null    object \n",
            " 14  cylindres            201 non-null    object \n",
            " 15  système_combustible  201 non-null    object \n",
            " 16  chevaux              201 non-null    float64\n",
            " 17  prix                 201 non-null    int64  \n",
            "dtypes: float64(5), int64(3), object(10)\n",
            "memory usage: 29.8+ KB\n"
          ]
        }
      ]
    },
    {
      "cell_type": "markdown",
      "metadata": {
        "id": "gm4uDnDY65fi"
      },
      "source": [
        "*Note: Normalement, dans un contexte d'apprentissage machine les données d'un jeu de données ne devraient jamais être substituées avant de diviser le jeu en ensembles d'entraînement et de test. Remplacer des données par la moyenne du jeu complet signifie en effet contaminer le jeu de test avec des valeurs dérivées en partie du jeu d'entraînement... On le fait quand même ici pour simplifier la démonstration.*"
      ]
    },
    {
      "cell_type": "markdown",
      "metadata": {
        "id": "j40dhmspsaxS"
      },
      "source": [
        "#### Ajouter une nouvelle donnée\n",
        "\n",
        "Admettons que nous désirions ajouter une colonne de prix en argent canadien..."
      ]
    },
    {
      "cell_type": "code",
      "metadata": {
        "id": "SXkYaeNCsgP4",
        "collapsed": true,
        "colab": {
          "base_uri": "https://localhost:8080/",
          "height": 270
        },
        "outputId": "1ce03d51-35f5-41c2-d656-a928045f5525"
      },
      "source": [
        "#On peu calculer le prix en argent canadien à partir du prix original et du taux de change.\n",
        "#On peut ajouter des colonnes arbitraires à un Dataframe existant simplement en assignant une série à une colonne d'un nom inexistant.\n",
        "prix_CAD = df['prix'] * 1.25\n",
        "df['prix_CAD'] = prix_CAD.astype('int64')\n",
        "df.head()"
      ],
      "execution_count": 28,
      "outputs": [
        {
          "output_type": "execute_result",
          "data": {
            "text/plain": [
              "   cote  perte constructeur combustible aspiration portes   carosserie  \\\n",
              "0     3  122.0  alfa-romero         gas        std    two  convertible   \n",
              "1     3  122.0  alfa-romero         gas        std    two  convertible   \n",
              "2     1  122.0  alfa-romero         gas        std    two    hatchback   \n",
              "3     2  164.0         audi         gas        std   four        sedan   \n",
              "4     2  164.0         audi         gas        std   four        sedan   \n",
              "\n",
              "  roues_motrices position_moteur  longueur  largeur  hauteur  poids  \\\n",
              "0            rwd           front     168.8     64.1     48.8   2548   \n",
              "1            rwd           front     168.8     64.1     48.8   2548   \n",
              "2            rwd           front     171.2     65.5     52.4   2823   \n",
              "3            fwd           front     176.6     66.2     54.3   2337   \n",
              "4            4wd           front     176.6     66.4     54.3   2824   \n",
              "\n",
              "  type_moteur cylindres système_combustible  chevaux   prix  prix_CAD  \n",
              "0        dohc      four                mpfi    111.0  13495     16868  \n",
              "1        dohc      four                mpfi    111.0  16500     20625  \n",
              "2        ohcv       six                mpfi    154.0  16500     20625  \n",
              "3         ohc      four                mpfi    102.0  13950     17437  \n",
              "4         ohc      five                mpfi    115.0  17450     21812  "
            ],
            "text/html": [
              "\n",
              "  <div id=\"df-498c3c34-c243-4e10-9a46-b3f10fa0bc1c\">\n",
              "    <div class=\"colab-df-container\">\n",
              "      <div>\n",
              "<style scoped>\n",
              "    .dataframe tbody tr th:only-of-type {\n",
              "        vertical-align: middle;\n",
              "    }\n",
              "\n",
              "    .dataframe tbody tr th {\n",
              "        vertical-align: top;\n",
              "    }\n",
              "\n",
              "    .dataframe thead th {\n",
              "        text-align: right;\n",
              "    }\n",
              "</style>\n",
              "<table border=\"1\" class=\"dataframe\">\n",
              "  <thead>\n",
              "    <tr style=\"text-align: right;\">\n",
              "      <th></th>\n",
              "      <th>cote</th>\n",
              "      <th>perte</th>\n",
              "      <th>constructeur</th>\n",
              "      <th>combustible</th>\n",
              "      <th>aspiration</th>\n",
              "      <th>portes</th>\n",
              "      <th>carosserie</th>\n",
              "      <th>roues_motrices</th>\n",
              "      <th>position_moteur</th>\n",
              "      <th>longueur</th>\n",
              "      <th>largeur</th>\n",
              "      <th>hauteur</th>\n",
              "      <th>poids</th>\n",
              "      <th>type_moteur</th>\n",
              "      <th>cylindres</th>\n",
              "      <th>système_combustible</th>\n",
              "      <th>chevaux</th>\n",
              "      <th>prix</th>\n",
              "      <th>prix_CAD</th>\n",
              "    </tr>\n",
              "  </thead>\n",
              "  <tbody>\n",
              "    <tr>\n",
              "      <th>0</th>\n",
              "      <td>3</td>\n",
              "      <td>122.0</td>\n",
              "      <td>alfa-romero</td>\n",
              "      <td>gas</td>\n",
              "      <td>std</td>\n",
              "      <td>two</td>\n",
              "      <td>convertible</td>\n",
              "      <td>rwd</td>\n",
              "      <td>front</td>\n",
              "      <td>168.8</td>\n",
              "      <td>64.1</td>\n",
              "      <td>48.8</td>\n",
              "      <td>2548</td>\n",
              "      <td>dohc</td>\n",
              "      <td>four</td>\n",
              "      <td>mpfi</td>\n",
              "      <td>111.0</td>\n",
              "      <td>13495</td>\n",
              "      <td>16868</td>\n",
              "    </tr>\n",
              "    <tr>\n",
              "      <th>1</th>\n",
              "      <td>3</td>\n",
              "      <td>122.0</td>\n",
              "      <td>alfa-romero</td>\n",
              "      <td>gas</td>\n",
              "      <td>std</td>\n",
              "      <td>two</td>\n",
              "      <td>convertible</td>\n",
              "      <td>rwd</td>\n",
              "      <td>front</td>\n",
              "      <td>168.8</td>\n",
              "      <td>64.1</td>\n",
              "      <td>48.8</td>\n",
              "      <td>2548</td>\n",
              "      <td>dohc</td>\n",
              "      <td>four</td>\n",
              "      <td>mpfi</td>\n",
              "      <td>111.0</td>\n",
              "      <td>16500</td>\n",
              "      <td>20625</td>\n",
              "    </tr>\n",
              "    <tr>\n",
              "      <th>2</th>\n",
              "      <td>1</td>\n",
              "      <td>122.0</td>\n",
              "      <td>alfa-romero</td>\n",
              "      <td>gas</td>\n",
              "      <td>std</td>\n",
              "      <td>two</td>\n",
              "      <td>hatchback</td>\n",
              "      <td>rwd</td>\n",
              "      <td>front</td>\n",
              "      <td>171.2</td>\n",
              "      <td>65.5</td>\n",
              "      <td>52.4</td>\n",
              "      <td>2823</td>\n",
              "      <td>ohcv</td>\n",
              "      <td>six</td>\n",
              "      <td>mpfi</td>\n",
              "      <td>154.0</td>\n",
              "      <td>16500</td>\n",
              "      <td>20625</td>\n",
              "    </tr>\n",
              "    <tr>\n",
              "      <th>3</th>\n",
              "      <td>2</td>\n",
              "      <td>164.0</td>\n",
              "      <td>audi</td>\n",
              "      <td>gas</td>\n",
              "      <td>std</td>\n",
              "      <td>four</td>\n",
              "      <td>sedan</td>\n",
              "      <td>fwd</td>\n",
              "      <td>front</td>\n",
              "      <td>176.6</td>\n",
              "      <td>66.2</td>\n",
              "      <td>54.3</td>\n",
              "      <td>2337</td>\n",
              "      <td>ohc</td>\n",
              "      <td>four</td>\n",
              "      <td>mpfi</td>\n",
              "      <td>102.0</td>\n",
              "      <td>13950</td>\n",
              "      <td>17437</td>\n",
              "    </tr>\n",
              "    <tr>\n",
              "      <th>4</th>\n",
              "      <td>2</td>\n",
              "      <td>164.0</td>\n",
              "      <td>audi</td>\n",
              "      <td>gas</td>\n",
              "      <td>std</td>\n",
              "      <td>four</td>\n",
              "      <td>sedan</td>\n",
              "      <td>4wd</td>\n",
              "      <td>front</td>\n",
              "      <td>176.6</td>\n",
              "      <td>66.4</td>\n",
              "      <td>54.3</td>\n",
              "      <td>2824</td>\n",
              "      <td>ohc</td>\n",
              "      <td>five</td>\n",
              "      <td>mpfi</td>\n",
              "      <td>115.0</td>\n",
              "      <td>17450</td>\n",
              "      <td>21812</td>\n",
              "    </tr>\n",
              "  </tbody>\n",
              "</table>\n",
              "</div>\n",
              "      <button class=\"colab-df-convert\" onclick=\"convertToInteractive('df-498c3c34-c243-4e10-9a46-b3f10fa0bc1c')\"\n",
              "              title=\"Convert this dataframe to an interactive table.\"\n",
              "              style=\"display:none;\">\n",
              "        \n",
              "  <svg xmlns=\"http://www.w3.org/2000/svg\" height=\"24px\"viewBox=\"0 0 24 24\"\n",
              "       width=\"24px\">\n",
              "    <path d=\"M0 0h24v24H0V0z\" fill=\"none\"/>\n",
              "    <path d=\"M18.56 5.44l.94 2.06.94-2.06 2.06-.94-2.06-.94-.94-2.06-.94 2.06-2.06.94zm-11 1L8.5 8.5l.94-2.06 2.06-.94-2.06-.94L8.5 2.5l-.94 2.06-2.06.94zm10 10l.94 2.06.94-2.06 2.06-.94-2.06-.94-.94-2.06-.94 2.06-2.06.94z\"/><path d=\"M17.41 7.96l-1.37-1.37c-.4-.4-.92-.59-1.43-.59-.52 0-1.04.2-1.43.59L10.3 9.45l-7.72 7.72c-.78.78-.78 2.05 0 2.83L4 21.41c.39.39.9.59 1.41.59.51 0 1.02-.2 1.41-.59l7.78-7.78 2.81-2.81c.8-.78.8-2.07 0-2.86zM5.41 20L4 18.59l7.72-7.72 1.47 1.35L5.41 20z\"/>\n",
              "  </svg>\n",
              "      </button>\n",
              "      \n",
              "  <style>\n",
              "    .colab-df-container {\n",
              "      display:flex;\n",
              "      flex-wrap:wrap;\n",
              "      gap: 12px;\n",
              "    }\n",
              "\n",
              "    .colab-df-convert {\n",
              "      background-color: #E8F0FE;\n",
              "      border: none;\n",
              "      border-radius: 50%;\n",
              "      cursor: pointer;\n",
              "      display: none;\n",
              "      fill: #1967D2;\n",
              "      height: 32px;\n",
              "      padding: 0 0 0 0;\n",
              "      width: 32px;\n",
              "    }\n",
              "\n",
              "    .colab-df-convert:hover {\n",
              "      background-color: #E2EBFA;\n",
              "      box-shadow: 0px 1px 2px rgba(60, 64, 67, 0.3), 0px 1px 3px 1px rgba(60, 64, 67, 0.15);\n",
              "      fill: #174EA6;\n",
              "    }\n",
              "\n",
              "    [theme=dark] .colab-df-convert {\n",
              "      background-color: #3B4455;\n",
              "      fill: #D2E3FC;\n",
              "    }\n",
              "\n",
              "    [theme=dark] .colab-df-convert:hover {\n",
              "      background-color: #434B5C;\n",
              "      box-shadow: 0px 1px 3px 1px rgba(0, 0, 0, 0.15);\n",
              "      filter: drop-shadow(0px 1px 2px rgba(0, 0, 0, 0.3));\n",
              "      fill: #FFFFFF;\n",
              "    }\n",
              "  </style>\n",
              "\n",
              "      <script>\n",
              "        const buttonEl =\n",
              "          document.querySelector('#df-498c3c34-c243-4e10-9a46-b3f10fa0bc1c button.colab-df-convert');\n",
              "        buttonEl.style.display =\n",
              "          google.colab.kernel.accessAllowed ? 'block' : 'none';\n",
              "\n",
              "        async function convertToInteractive(key) {\n",
              "          const element = document.querySelector('#df-498c3c34-c243-4e10-9a46-b3f10fa0bc1c');\n",
              "          const dataTable =\n",
              "            await google.colab.kernel.invokeFunction('convertToInteractive',\n",
              "                                                     [key], {});\n",
              "          if (!dataTable) return;\n",
              "\n",
              "          const docLinkHtml = 'Like what you see? Visit the ' +\n",
              "            '<a target=\"_blank\" href=https://colab.research.google.com/notebooks/data_table.ipynb>data table notebook</a>'\n",
              "            + ' to learn more about interactive tables.';\n",
              "          element.innerHTML = '';\n",
              "          dataTable['output_type'] = 'display_data';\n",
              "          await google.colab.output.renderOutput(dataTable, element);\n",
              "          const docLink = document.createElement('div');\n",
              "          docLink.innerHTML = docLinkHtml;\n",
              "          element.appendChild(docLink);\n",
              "        }\n",
              "      </script>\n",
              "    </div>\n",
              "  </div>\n",
              "  "
            ]
          },
          "metadata": {},
          "execution_count": 28
        }
      ]
    },
    {
      "cell_type": "markdown",
      "metadata": {
        "id": "M0HMXvdT-Oos"
      },
      "source": [
        "### Passer d'un Dataframe à une matrice NumPy"
      ]
    },
    {
      "cell_type": "code",
      "metadata": {
        "id": "ejUv6q0q-UoD",
        "collapsed": true,
        "colab": {
          "base_uri": "https://localhost:8080/"
        },
        "outputId": "9a91ff06-85dc-4233-8374-55b90241354e"
      },
      "source": [
        "#Oui, on peut convertir un Dataframe en matrice NumPy.\n",
        "df_to_numpy = df.to_numpy()\n",
        "print(df_to_numpy)"
      ],
      "execution_count": 29,
      "outputs": [
        {
          "output_type": "stream",
          "name": "stdout",
          "text": [
            "[[3 122.0 'alfa-romero' ... 111.0 13495 16868]\n",
            " [3 122.0 'alfa-romero' ... 111.0 16500 20625]\n",
            " [1 122.0 'alfa-romero' ... 154.0 16500 20625]\n",
            " ...\n",
            " [-1 95.0 'volvo' ... 134.0 21485 26856]\n",
            " [-1 95.0 'volvo' ... 106.0 22470 28087]\n",
            " [-1 95.0 'volvo' ... 114.0 22625 28281]]\n"
          ]
        }
      ]
    },
    {
      "cell_type": "code",
      "metadata": {
        "id": "duS7gCqw-bHN",
        "collapsed": true
      },
      "source": [
        "#Et l'inverse. Malheureusement, il faut réattribuer les noms des attributs\n",
        "colonnes = df.columns\n",
        "numpy_to_df = pd.DataFrame(df_to_numpy, columns=colonnes)\n",
        "numpy_to_df.head()"
      ],
      "execution_count": null,
      "outputs": []
    },
    {
      "cell_type": "code",
      "metadata": {
        "collapsed": true,
        "id": "McUmrZXcZbpG",
        "colab": {
          "base_uri": "https://localhost:8080/"
        },
        "outputId": "99b2da58-bea9-4107-b7b8-473b43e1a3f6"
      },
      "source": [
        "print(\"Exécution du carnet web IPython terminée\")"
      ],
      "execution_count": 30,
      "outputs": [
        {
          "output_type": "stream",
          "name": "stdout",
          "text": [
            "Exécution du carnet web IPython terminée\n"
          ]
        }
      ]
    },
    {
      "cell_type": "markdown",
      "metadata": {
        "id": "4ggSEyJG_4u1"
      },
      "source": [
        "Félicitations! Vous savez maintenant charger, examiner et charcuter les tableaux de données!"
      ]
    }
  ]
}