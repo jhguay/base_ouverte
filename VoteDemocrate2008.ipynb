{
  "nbformat": 4,
  "nbformat_minor": 0,
  "metadata": {
    "kernelspec": {
      "display_name": "Python 3",
      "language": "python",
      "name": "python3"
    },
    "language_info": {
      "codemirror_mode": {
        "name": "ipython",
        "version": 3
      },
      "file_extension": ".py",
      "mimetype": "text/x-python",
      "name": "python",
      "nbconvert_exporter": "python",
      "pygments_lexer": "ipython3",
      "version": "3.9.1"
    },
    "colab": {
      "provenance": [],
      "collapsed_sections": [],
      "include_colab_link": true
    }
  },
  "cells": [
    {
      "cell_type": "markdown",
      "metadata": {
        "id": "view-in-github",
        "colab_type": "text"
      },
      "source": [
        "<a href=\"https://colab.research.google.com/github/jhguay/base_ouverte/blob/main/VoteDemocrate2008.ipynb\" target=\"_parent\"><img src=\"https://colab.research.google.com/assets/colab-badge.svg\" alt=\"Open In Colab\"/></a>"
      ]
    },
    {
      "cell_type": "markdown",
      "source": [
        "## **Exemple simplifié de l'usage du machine learning à partir de données statistiques: exemple de base les iris**"
      ],
      "metadata": {
        "id": "lUspki0YCBJv"
      }
    },
    {
      "cell_type": "markdown",
      "source": [
        "\n",
        "\n",
        "**Première** étape: les éléments préparatoires\n",
        "\n",
        "**Deuxième** étape: la sélection et la transformation des données pour l'utilisation des algorithmes\n",
        "\n",
        "**Troisième** étape: l'application de l'algorithme choisi et la visualisation des résultats"
      ],
      "metadata": {
        "id": "6ph7aTHy9Y4A"
      }
    },
    {
      "cell_type": "markdown",
      "metadata": {
        "id": "jrL_GJDNgKeb"
      },
      "source": [
        "# **Première étape: les éléments préparatoires**\n"
      ]
    },
    {
      "cell_type": "code",
      "metadata": {
        "id": "Xo8Oj8jsgKeb"
      },
      "source": [
        "#Importation des prémières bibliothèques utilisées\n",
        "import scipy # bibliothèque de calcul scientifique \n",
        "import matplotlib # bibliothèque d'affichage graphique\n",
        "import sklearn # bibliothèque d'algorithmes \"classiques\" d'apprentissage automatique \n",
        "from numpy import * # bibliothèque de calcul matriciel\n",
        "from pandas import * # bibliothèque de manipulation de tableaux de données\n",
        "from sklearn import * # bibliothèque d'algorithmes \"classiques\" d'apprentissage automatique\n",
        "import numpy as np\n",
        "import matplotlib.pyplot as plt\n",
        "import pandas as pd\n",
        "from pandas import Series, DataFrame\n",
        "from pandas import DataFrame, read_csv\n",
        "%matplotlib inline\n",
        "import IPython\n",
        "import sys \n",
        "\n",
        "from sklearn.model_selection import train_test_split\n",
        "from sklearn.model_selection import cross_val_score\n",
        "from sklearn.model_selection import StratifiedKFold\n",
        "from sklearn.metrics import classification_report\n",
        "from sklearn.metrics import confusion_matrix\n",
        "from sklearn.metrics import accuracy_score\n",
        "\n",
        "from sklearn.preprocessing import LabelEncoder\n",
        "\n",
        "from sklearn.model_selection import train_test_split\n",
        "\n",
        "from sklearn.linear_model import LogisticRegression\n",
        "from sklearn.ensemble import RandomForestClassifier\n",
        "import xgboost as xgb\n",
        "\n",
        "# Inspiration: https://machinelearningmastery.com/machine-learning-in-python-step-by-step/\n"
      ],
      "execution_count": 2,
      "outputs": []
    },
    {
      "cell_type": "code",
      "source": [
        "#Création d'une méthode utiltérieurement utilisées pour l'affichage des données\n",
        "def afficher_matrice_confusion(cm, noms_etiquettes = [u'classe - 0', u'classe - 1', u'classe - 3'],\n",
        "                   titre=u'Matrice de confusion'):\n",
        "\n",
        "    print(\"\\n\",cm,\"\\n\")\n",
        "    plt.imshow(cm, cmap=plt.cm.Blues)\n",
        "    plt.title(titre)\n",
        "    plt.colorbar()\n",
        "    tick_marks = np.arange(len(noms_etiquettes))\n",
        "    plt.xticks(tick_marks, noms_etiquettes, rotation=60)\n",
        "    plt.yticks(tick_marks, noms_etiquettes)\n",
        "    plt.ylabel(u'Vraie étiquette')\n",
        "    plt.xlabel(u'Étiquette prédite')\n",
        "    # Fonction d'ajustement\n",
        "    plt.tight_layout()\n",
        "    plt.show()"
      ],
      "metadata": {
        "id": "Ex9K44RA3kZS"
      },
      "execution_count": null,
      "outputs": []
    },
    {
      "cell_type": "code",
      "source": [
        "'''\n",
        "import os\n",
        "GERME_ALEATOIRE = 21\n",
        "os.environ['PYTHONHASHSEED'] = str(GERME_ALEATOIRE)\n",
        "import random\n",
        "random.seed(GERME_ALEATOIRE)\n",
        "import numpy as np\n",
        "np.random.seed(GERME_ALEATOIRE)\n",
        "'''"
      ],
      "metadata": {
        "id": "QclOb2J2gTou",
        "outputId": "bff2712a-5637-4ba1-a8df-9ab063017649",
        "colab": {
          "base_uri": "https://localhost:8080/",
          "height": 54
        }
      },
      "execution_count": null,
      "outputs": [
        {
          "output_type": "execute_result",
          "data": {
            "text/plain": [
              "\"\\nimport os\\nGERME_ALEATOIRE = 21\\nos.environ['PYTHONHASHSEED'] = str(GERME_ALEATOIRE)\\nimport random\\nrandom.seed(GERME_ALEATOIRE)\\nimport numpy as np\\nnp.random.seed(GERME_ALEATOIRE)\\n\""
            ],
            "application/vnd.google.colaboratory.intrinsic+json": {
              "type": "string"
            }
          },
          "metadata": {},
          "execution_count": 3
        }
      ]
    },
    {
      "cell_type": "code",
      "metadata": {
        "id": "W6D5NFoAgKel"
      },
      "source": [
        "# Lecture des données\n",
        "# Création d'une liste de noms d'attributs en français\n",
        "noms_attributs = [\"longueur_sépales\",\"largeur_sépales\",\"longueur_pétales\",\"largeur_pétales\", \"espèce\"]\n",
        "donnees_initiales_df = pd.read_csv(\"https://dimension.usherbrooke.ca/donnees/baseAnes2016.csv\")\n",
        "\n",
        "\n",
        "\n",
        "\n"
      ],
      "execution_count": 4,
      "outputs": []
    },
    {
      "cell_type": "code",
      "metadata": {
        "id": "Kd0isrF5gKem"
      },
      "source": [
        "#Visualisation des données\n",
        "donnees_initiales_df.head()"
      ],
      "execution_count": null,
      "outputs": []
    },
    {
      "cell_type": "code",
      "metadata": {
        "id": "ExZq2RmngKen",
        "colab": {
          "base_uri": "https://localhost:8080/"
        },
        "outputId": "33f1e3ae-1c7c-437c-d4ad-37188482badd"
      },
      "source": [
        "# Vérification des formats\n",
        "donnees_initiales_df.shape"
      ],
      "execution_count": 6,
      "outputs": [
        {
          "output_type": "execute_result",
          "data": {
            "text/plain": [
              "(4271, 1123)"
            ]
          },
          "metadata": {},
          "execution_count": 6
        }
      ]
    },
    {
      "cell_type": "code",
      "metadata": {
        "id": "1PKST58RgKeo",
        "colab": {
          "base_uri": "https://localhost:8080/"
        },
        "outputId": "8bec6c6d-9e17-48b9-cf9c-3ad479dea36b"
      },
      "source": [
        "donnees_initiales_df.columns"
      ],
      "execution_count": 7,
      "outputs": [
        {
          "output_type": "execute_result",
          "data": {
            "text/plain": [
              "Index(['Unnamed: 0', 'version', 'V160001', 'V160101', 'V160101f', 'V160101w',\n",
              "       'V160102', 'V160102f', 'V160102w', 'V160201',\n",
              "       ...\n",
              "       'V164001a', 'V164001b', 'V164001c', 'V164001d', 'V165001a', 'V165001b',\n",
              "       'V165001c', 'V165001d', 'V166001', 'V166002'],\n",
              "      dtype='object', length=1123)"
            ]
          },
          "metadata": {},
          "execution_count": 7
        }
      ]
    },
    {
      "cell_type": "code",
      "metadata": {
        "id": "YkiJgOfUgKep",
        "colab": {
          "base_uri": "https://localhost:8080/",
          "height": 393
        },
        "outputId": "17c567b1-eaf2-4355-93c5-3d61340abd01"
      },
      "source": [
        "donnees_initiales_df.describe()"
      ],
      "execution_count": 8,
      "outputs": [
        {
          "output_type": "execute_result",
          "data": {
            "text/plain": [
              "        Unnamed: 0        V160001      V160101     V160101f     V160101w  \\\n",
              "count  4271.000000    4271.000000  4271.000000  4271.000000  4271.000000   \n",
              "mean   2136.000000  375574.291501     1.000001     0.276516     0.723484   \n",
              "std    1233.075829   45879.712990     0.669618     0.588858     0.709310   \n",
              "min       1.000000  300001.000000     0.089500     0.000000     0.000000   \n",
              "25%    1068.500000  302603.000000     0.571750     0.000000     0.000000   \n",
              "50%    2136.000000  402420.000000     0.824000     0.000000     0.660000   \n",
              "75%    3203.500000  405089.500000     1.243300     0.334250     0.981300   \n",
              "max    4271.000000  407800.000000     6.813900     7.308800     5.927900   \n",
              "\n",
              "           V160102     V160102f     V160102w      V160201     V160201f  ...  \\\n",
              "count  4271.000000  4271.000000  4271.000000  4271.000000  4271.000000  ...   \n",
              "mean      0.854367     0.247951     0.606415    69.583704     4.757902  ...   \n",
              "std       0.719247     0.566017     0.706679    38.704325     9.019517  ...   \n",
              "min       0.000000     0.000000     0.000000     1.000000     0.000000  ...   \n",
              "25%       0.393400     0.000000     0.000000    36.000000     0.000000  ...   \n",
              "50%       0.748100     0.000000     0.468600    71.000000     0.000000  ...   \n",
              "75%       1.129650     0.000000     0.875950   105.000000     5.000000  ...   \n",
              "max       6.444500     6.674800     6.113200   133.000000    33.000000  ...   \n",
              "\n",
              "          V164001a     V164001b     V164001c     V164001d     V165001a  \\\n",
              "count  4271.000000  4271.000000  4271.000000  4271.000000  4271.000000   \n",
              "mean     -0.276282    -0.176774    -0.031843     0.560290    -0.998829   \n",
              "std       0.447734     0.637166     0.910731     1.387315     1.938093   \n",
              "min      -1.000000    -1.000000    -1.000000    -1.000000    -7.000000   \n",
              "25%      -1.000000    -1.000000    -1.000000    -1.000000    -1.000000   \n",
              "50%       0.000000     0.000000     0.000000     1.000000     0.000000   \n",
              "75%       0.000000     0.000000     0.000000     1.000000     0.000000   \n",
              "max       1.000000     5.000000     9.000000    29.000000     1.000000   \n",
              "\n",
              "          V165001b     V165001c     V165001d      V166001      V166002  \n",
              "count  4271.000000  4271.000000  4271.000000  4271.000000  4271.000000  \n",
              "mean     -0.843128    -0.573168     0.251697     1.497776     1.498478  \n",
              "std       2.106914     2.436110     3.152800     0.500054     0.500056  \n",
              "min      -7.000000    -7.000000    -7.000000     1.000000     1.000000  \n",
              "25%      -1.000000    -1.000000    -1.000000     1.000000     1.000000  \n",
              "50%       0.000000     0.000000     0.000000     1.000000     1.000000  \n",
              "75%       0.000000     0.000000     2.000000     2.000000     2.000000  \n",
              "max       9.000000    15.000000    70.000000     2.000000     2.000000  \n",
              "\n",
              "[8 rows x 1119 columns]"
            ],
            "text/html": [
              "\n",
              "  <div id=\"df-01b14dc5-f3fd-44ae-9a00-1059fac67a9a\">\n",
              "    <div class=\"colab-df-container\">\n",
              "      <div>\n",
              "<style scoped>\n",
              "    .dataframe tbody tr th:only-of-type {\n",
              "        vertical-align: middle;\n",
              "    }\n",
              "\n",
              "    .dataframe tbody tr th {\n",
              "        vertical-align: top;\n",
              "    }\n",
              "\n",
              "    .dataframe thead th {\n",
              "        text-align: right;\n",
              "    }\n",
              "</style>\n",
              "<table border=\"1\" class=\"dataframe\">\n",
              "  <thead>\n",
              "    <tr style=\"text-align: right;\">\n",
              "      <th></th>\n",
              "      <th>Unnamed: 0</th>\n",
              "      <th>V160001</th>\n",
              "      <th>V160101</th>\n",
              "      <th>V160101f</th>\n",
              "      <th>V160101w</th>\n",
              "      <th>V160102</th>\n",
              "      <th>V160102f</th>\n",
              "      <th>V160102w</th>\n",
              "      <th>V160201</th>\n",
              "      <th>V160201f</th>\n",
              "      <th>...</th>\n",
              "      <th>V164001a</th>\n",
              "      <th>V164001b</th>\n",
              "      <th>V164001c</th>\n",
              "      <th>V164001d</th>\n",
              "      <th>V165001a</th>\n",
              "      <th>V165001b</th>\n",
              "      <th>V165001c</th>\n",
              "      <th>V165001d</th>\n",
              "      <th>V166001</th>\n",
              "      <th>V166002</th>\n",
              "    </tr>\n",
              "  </thead>\n",
              "  <tbody>\n",
              "    <tr>\n",
              "      <th>count</th>\n",
              "      <td>4271.000000</td>\n",
              "      <td>4271.000000</td>\n",
              "      <td>4271.000000</td>\n",
              "      <td>4271.000000</td>\n",
              "      <td>4271.000000</td>\n",
              "      <td>4271.000000</td>\n",
              "      <td>4271.000000</td>\n",
              "      <td>4271.000000</td>\n",
              "      <td>4271.000000</td>\n",
              "      <td>4271.000000</td>\n",
              "      <td>...</td>\n",
              "      <td>4271.000000</td>\n",
              "      <td>4271.000000</td>\n",
              "      <td>4271.000000</td>\n",
              "      <td>4271.000000</td>\n",
              "      <td>4271.000000</td>\n",
              "      <td>4271.000000</td>\n",
              "      <td>4271.000000</td>\n",
              "      <td>4271.000000</td>\n",
              "      <td>4271.000000</td>\n",
              "      <td>4271.000000</td>\n",
              "    </tr>\n",
              "    <tr>\n",
              "      <th>mean</th>\n",
              "      <td>2136.000000</td>\n",
              "      <td>375574.291501</td>\n",
              "      <td>1.000001</td>\n",
              "      <td>0.276516</td>\n",
              "      <td>0.723484</td>\n",
              "      <td>0.854367</td>\n",
              "      <td>0.247951</td>\n",
              "      <td>0.606415</td>\n",
              "      <td>69.583704</td>\n",
              "      <td>4.757902</td>\n",
              "      <td>...</td>\n",
              "      <td>-0.276282</td>\n",
              "      <td>-0.176774</td>\n",
              "      <td>-0.031843</td>\n",
              "      <td>0.560290</td>\n",
              "      <td>-0.998829</td>\n",
              "      <td>-0.843128</td>\n",
              "      <td>-0.573168</td>\n",
              "      <td>0.251697</td>\n",
              "      <td>1.497776</td>\n",
              "      <td>1.498478</td>\n",
              "    </tr>\n",
              "    <tr>\n",
              "      <th>std</th>\n",
              "      <td>1233.075829</td>\n",
              "      <td>45879.712990</td>\n",
              "      <td>0.669618</td>\n",
              "      <td>0.588858</td>\n",
              "      <td>0.709310</td>\n",
              "      <td>0.719247</td>\n",
              "      <td>0.566017</td>\n",
              "      <td>0.706679</td>\n",
              "      <td>38.704325</td>\n",
              "      <td>9.019517</td>\n",
              "      <td>...</td>\n",
              "      <td>0.447734</td>\n",
              "      <td>0.637166</td>\n",
              "      <td>0.910731</td>\n",
              "      <td>1.387315</td>\n",
              "      <td>1.938093</td>\n",
              "      <td>2.106914</td>\n",
              "      <td>2.436110</td>\n",
              "      <td>3.152800</td>\n",
              "      <td>0.500054</td>\n",
              "      <td>0.500056</td>\n",
              "    </tr>\n",
              "    <tr>\n",
              "      <th>min</th>\n",
              "      <td>1.000000</td>\n",
              "      <td>300001.000000</td>\n",
              "      <td>0.089500</td>\n",
              "      <td>0.000000</td>\n",
              "      <td>0.000000</td>\n",
              "      <td>0.000000</td>\n",
              "      <td>0.000000</td>\n",
              "      <td>0.000000</td>\n",
              "      <td>1.000000</td>\n",
              "      <td>0.000000</td>\n",
              "      <td>...</td>\n",
              "      <td>-1.000000</td>\n",
              "      <td>-1.000000</td>\n",
              "      <td>-1.000000</td>\n",
              "      <td>-1.000000</td>\n",
              "      <td>-7.000000</td>\n",
              "      <td>-7.000000</td>\n",
              "      <td>-7.000000</td>\n",
              "      <td>-7.000000</td>\n",
              "      <td>1.000000</td>\n",
              "      <td>1.000000</td>\n",
              "    </tr>\n",
              "    <tr>\n",
              "      <th>25%</th>\n",
              "      <td>1068.500000</td>\n",
              "      <td>302603.000000</td>\n",
              "      <td>0.571750</td>\n",
              "      <td>0.000000</td>\n",
              "      <td>0.000000</td>\n",
              "      <td>0.393400</td>\n",
              "      <td>0.000000</td>\n",
              "      <td>0.000000</td>\n",
              "      <td>36.000000</td>\n",
              "      <td>0.000000</td>\n",
              "      <td>...</td>\n",
              "      <td>-1.000000</td>\n",
              "      <td>-1.000000</td>\n",
              "      <td>-1.000000</td>\n",
              "      <td>-1.000000</td>\n",
              "      <td>-1.000000</td>\n",
              "      <td>-1.000000</td>\n",
              "      <td>-1.000000</td>\n",
              "      <td>-1.000000</td>\n",
              "      <td>1.000000</td>\n",
              "      <td>1.000000</td>\n",
              "    </tr>\n",
              "    <tr>\n",
              "      <th>50%</th>\n",
              "      <td>2136.000000</td>\n",
              "      <td>402420.000000</td>\n",
              "      <td>0.824000</td>\n",
              "      <td>0.000000</td>\n",
              "      <td>0.660000</td>\n",
              "      <td>0.748100</td>\n",
              "      <td>0.000000</td>\n",
              "      <td>0.468600</td>\n",
              "      <td>71.000000</td>\n",
              "      <td>0.000000</td>\n",
              "      <td>...</td>\n",
              "      <td>0.000000</td>\n",
              "      <td>0.000000</td>\n",
              "      <td>0.000000</td>\n",
              "      <td>1.000000</td>\n",
              "      <td>0.000000</td>\n",
              "      <td>0.000000</td>\n",
              "      <td>0.000000</td>\n",
              "      <td>0.000000</td>\n",
              "      <td>1.000000</td>\n",
              "      <td>1.000000</td>\n",
              "    </tr>\n",
              "    <tr>\n",
              "      <th>75%</th>\n",
              "      <td>3203.500000</td>\n",
              "      <td>405089.500000</td>\n",
              "      <td>1.243300</td>\n",
              "      <td>0.334250</td>\n",
              "      <td>0.981300</td>\n",
              "      <td>1.129650</td>\n",
              "      <td>0.000000</td>\n",
              "      <td>0.875950</td>\n",
              "      <td>105.000000</td>\n",
              "      <td>5.000000</td>\n",
              "      <td>...</td>\n",
              "      <td>0.000000</td>\n",
              "      <td>0.000000</td>\n",
              "      <td>0.000000</td>\n",
              "      <td>1.000000</td>\n",
              "      <td>0.000000</td>\n",
              "      <td>0.000000</td>\n",
              "      <td>0.000000</td>\n",
              "      <td>2.000000</td>\n",
              "      <td>2.000000</td>\n",
              "      <td>2.000000</td>\n",
              "    </tr>\n",
              "    <tr>\n",
              "      <th>max</th>\n",
              "      <td>4271.000000</td>\n",
              "      <td>407800.000000</td>\n",
              "      <td>6.813900</td>\n",
              "      <td>7.308800</td>\n",
              "      <td>5.927900</td>\n",
              "      <td>6.444500</td>\n",
              "      <td>6.674800</td>\n",
              "      <td>6.113200</td>\n",
              "      <td>133.000000</td>\n",
              "      <td>33.000000</td>\n",
              "      <td>...</td>\n",
              "      <td>1.000000</td>\n",
              "      <td>5.000000</td>\n",
              "      <td>9.000000</td>\n",
              "      <td>29.000000</td>\n",
              "      <td>1.000000</td>\n",
              "      <td>9.000000</td>\n",
              "      <td>15.000000</td>\n",
              "      <td>70.000000</td>\n",
              "      <td>2.000000</td>\n",
              "      <td>2.000000</td>\n",
              "    </tr>\n",
              "  </tbody>\n",
              "</table>\n",
              "<p>8 rows × 1119 columns</p>\n",
              "</div>\n",
              "      <button class=\"colab-df-convert\" onclick=\"convertToInteractive('df-01b14dc5-f3fd-44ae-9a00-1059fac67a9a')\"\n",
              "              title=\"Convert this dataframe to an interactive table.\"\n",
              "              style=\"display:none;\">\n",
              "        \n",
              "  <svg xmlns=\"http://www.w3.org/2000/svg\" height=\"24px\"viewBox=\"0 0 24 24\"\n",
              "       width=\"24px\">\n",
              "    <path d=\"M0 0h24v24H0V0z\" fill=\"none\"/>\n",
              "    <path d=\"M18.56 5.44l.94 2.06.94-2.06 2.06-.94-2.06-.94-.94-2.06-.94 2.06-2.06.94zm-11 1L8.5 8.5l.94-2.06 2.06-.94-2.06-.94L8.5 2.5l-.94 2.06-2.06.94zm10 10l.94 2.06.94-2.06 2.06-.94-2.06-.94-.94-2.06-.94 2.06-2.06.94z\"/><path d=\"M17.41 7.96l-1.37-1.37c-.4-.4-.92-.59-1.43-.59-.52 0-1.04.2-1.43.59L10.3 9.45l-7.72 7.72c-.78.78-.78 2.05 0 2.83L4 21.41c.39.39.9.59 1.41.59.51 0 1.02-.2 1.41-.59l7.78-7.78 2.81-2.81c.8-.78.8-2.07 0-2.86zM5.41 20L4 18.59l7.72-7.72 1.47 1.35L5.41 20z\"/>\n",
              "  </svg>\n",
              "      </button>\n",
              "      \n",
              "  <style>\n",
              "    .colab-df-container {\n",
              "      display:flex;\n",
              "      flex-wrap:wrap;\n",
              "      gap: 12px;\n",
              "    }\n",
              "\n",
              "    .colab-df-convert {\n",
              "      background-color: #E8F0FE;\n",
              "      border: none;\n",
              "      border-radius: 50%;\n",
              "      cursor: pointer;\n",
              "      display: none;\n",
              "      fill: #1967D2;\n",
              "      height: 32px;\n",
              "      padding: 0 0 0 0;\n",
              "      width: 32px;\n",
              "    }\n",
              "\n",
              "    .colab-df-convert:hover {\n",
              "      background-color: #E2EBFA;\n",
              "      box-shadow: 0px 1px 2px rgba(60, 64, 67, 0.3), 0px 1px 3px 1px rgba(60, 64, 67, 0.15);\n",
              "      fill: #174EA6;\n",
              "    }\n",
              "\n",
              "    [theme=dark] .colab-df-convert {\n",
              "      background-color: #3B4455;\n",
              "      fill: #D2E3FC;\n",
              "    }\n",
              "\n",
              "    [theme=dark] .colab-df-convert:hover {\n",
              "      background-color: #434B5C;\n",
              "      box-shadow: 0px 1px 3px 1px rgba(0, 0, 0, 0.15);\n",
              "      filter: drop-shadow(0px 1px 2px rgba(0, 0, 0, 0.3));\n",
              "      fill: #FFFFFF;\n",
              "    }\n",
              "  </style>\n",
              "\n",
              "      <script>\n",
              "        const buttonEl =\n",
              "          document.querySelector('#df-01b14dc5-f3fd-44ae-9a00-1059fac67a9a button.colab-df-convert');\n",
              "        buttonEl.style.display =\n",
              "          google.colab.kernel.accessAllowed ? 'block' : 'none';\n",
              "\n",
              "        async function convertToInteractive(key) {\n",
              "          const element = document.querySelector('#df-01b14dc5-f3fd-44ae-9a00-1059fac67a9a');\n",
              "          const dataTable =\n",
              "            await google.colab.kernel.invokeFunction('convertToInteractive',\n",
              "                                                     [key], {});\n",
              "          if (!dataTable) return;\n",
              "\n",
              "          const docLinkHtml = 'Like what you see? Visit the ' +\n",
              "            '<a target=\"_blank\" href=https://colab.research.google.com/notebooks/data_table.ipynb>data table notebook</a>'\n",
              "            + ' to learn more about interactive tables.';\n",
              "          element.innerHTML = '';\n",
              "          dataTable['output_type'] = 'display_data';\n",
              "          await google.colab.output.renderOutput(dataTable, element);\n",
              "          const docLink = document.createElement('div');\n",
              "          docLink.innerHTML = docLinkHtml;\n",
              "          element.appendChild(docLink);\n",
              "        }\n",
              "      </script>\n",
              "    </div>\n",
              "  </div>\n",
              "  "
            ]
          },
          "metadata": {},
          "execution_count": 8
        }
      ]
    },
    {
      "cell_type": "markdown",
      "metadata": {
        "id": "wTdyw20CgKep"
      },
      "source": [
        "# **Deuxième étape: la sélection et la transformation des données pour l'utilisation des algorithmes**"
      ]
    },
    {
      "cell_type": "code",
      "metadata": {
        "id": "2iIOIg_hgKeq"
      },
      "source": [
        "cibles_df = donnees_initiales_df['espèce']"
      ],
      "execution_count": null,
      "outputs": []
    },
    {
      "cell_type": "code",
      "metadata": {
        "id": "heGfpst5gKeq"
      },
      "source": [
        "cibles_df.shape"
      ],
      "execution_count": null,
      "outputs": []
    },
    {
      "cell_type": "code",
      "metadata": {
        "id": "8qKzOHPIgKer"
      },
      "source": [
        "predicteurs_df = donnees_initiales_df.drop(['espèce'],axis='columns')"
      ],
      "execution_count": null,
      "outputs": []
    },
    {
      "cell_type": "code",
      "metadata": {
        "id": "rxOFAs94gKer"
      },
      "source": [
        "predicteurs_df.shape"
      ],
      "execution_count": null,
      "outputs": []
    },
    {
      "cell_type": "code",
      "metadata": {
        "id": "VbIjENsSgKeu"
      },
      "source": [
        "cibles_df"
      ],
      "execution_count": null,
      "outputs": []
    },
    {
      "cell_type": "code",
      "metadata": {
        "id": "G7FIMDVPgKev"
      },
      "source": [
        "#Transformation des données de la cible en données numériques\n",
        "encodeur = LabelEncoder()\n",
        "encodeur.fit(cibles_df.values)\n",
        "cibles = encodeur.transform(cibles_df)\n",
        "# Afficher les dix premières cibles\n",
        "cibles [:10]"
      ],
      "execution_count": null,
      "outputs": []
    },
    {
      "cell_type": "code",
      "metadata": {
        "id": "SYONGUVCgKev"
      },
      "source": [
        "#conversion des données en nombre décimales\n",
        "predicteurs = predicteurs_df.values\n",
        "print(predicteurs)"
      ],
      "execution_count": null,
      "outputs": []
    },
    {
      "cell_type": "code",
      "metadata": {
        "id": "fKUnsyUHgKew"
      },
      "source": [
        "#Division des données pour l'entraintement et le test\n",
        "test_ratio = 0.20\n",
        "predicteurs_ent, predicteurs_test, cibles_ent, cibles_test = train_test_split(predicteurs,\n",
        "                                                                              cibles,\n",
        "                                                                              test_size=test_ratio,\n",
        "                                                                              stratify=cibles_df,\n",
        "                                                                              random_state=42)"
      ],
      "execution_count": null,
      "outputs": []
    },
    {
      "cell_type": "code",
      "metadata": {
        "id": "8JzyYZiDgKew"
      },
      "source": [
        "print(\"Dimensions de predicteurs entrainement:\",predicteurs_ent.shape)\n",
        "print(\"Dimensions de predicteurs test:\",predicteurs_test.shape)\n",
        "print(\"Dimensions de cibles entrainement:\",cibles_ent.shape)\n",
        "print(\"Dimensions de cibles test:\",cibles_test.shape)"
      ],
      "execution_count": null,
      "outputs": []
    },
    {
      "cell_type": "markdown",
      "metadata": {
        "id": "ZI8O-dzBgKex"
      },
      "source": [
        "#**Troisième étape: l'application de l'algorithme choisi et la visualisation des résultats**\n"
      ]
    },
    {
      "cell_type": "code",
      "source": [
        "#Trois modèles de classification. Il faut en choisir un à la fois\n",
        "classification_logistique = LogisticRegression(solver='liblinear', multi_class='ovr')\n",
        "foret_aleatoire = RandomForestClassifier()\n",
        "arbres_dopage_gradient = xgb.XGBClassifier(use_label_encoder=False,eval_metric='mlogloss')\n",
        "\n",
        "#ici on choisit le modèle et on indique son nom\n",
        "modele=arbres_dopage_gradient\n",
        "nom_modele=\"arbres_dopage_gradient\"\n"
      ],
      "metadata": {
        "id": "hBydPZQm6nao"
      },
      "execution_count": null,
      "outputs": []
    },
    {
      "cell_type": "code",
      "metadata": {
        "id": "j9eWw0SGzomA",
        "colab": {
          "base_uri": "https://localhost:8080/",
          "height": 728
        },
        "outputId": "408157f7-4182-46fb-9645-b69d654a6297"
      },
      "source": [
        "validation_croisee = StratifiedKFold(n_splits=5,random_state=42,shuffle=True)\n",
        "resultat_vc = cross_val_score(modele,predicteurs_ent,cibles_ent,cv=validation_croisee,scoring='accuracy')\n",
        "print('>  %s: %f (%f)' % (nom_modele, resultat_vc.mean(), resultat_vc.std()))\n",
        "modele.fit(predicteurs_ent, cibles_ent)\n",
        "test_predictions = modele.predict(predicteurs_test)\n",
        "print('>  %s: - Erreur de classification sur les données test: %d' % \n",
        "(nom_modele, (cibles_test != test_predictions).sum()))\n",
        "print('>  %s- Exactitude: %.2f' % \n",
        "(nom_modele, accuracy_score(cibles_test, test_predictions)))\n",
        "# Affichage d'une matrice de confusion et d'un rapport de classification\n",
        "print(\"Matrice de confusion:\\n\")\n",
        "afficher_matrice_confusion(confusion_matrix(cibles_test, test_predictions),['Iris-setosa','Iris-versicolor', 'Iris-virginica'])\n",
        "print(\"\\nRapport de classification:\\n\",classification_report(cibles_test, test_predictions))\n",
        "print(\"-\"*90,\"\\n\")\n"
      ],
      "execution_count": null,
      "outputs": [
        {
          "output_type": "stream",
          "name": "stdout",
          "text": [
            ">  arbres_dopage_gradient: 0.958333 (0.026352)\n",
            ">  arbres_dopage_gradient: - Erreur de classification sur les données test: 2\n",
            ">  arbres_dopage_gradient- Exactitude: 0.93\n",
            "Matrice de confusion:\n",
            "\n",
            "\n",
            " [[10  0  0]\n",
            " [ 0  9  1]\n",
            " [ 0  1  9]] \n",
            "\n"
          ]
        },
        {
          "output_type": "display_data",
          "data": {
            "text/plain": [
              "<Figure size 432x288 with 2 Axes>"
            ],
            "image/png": "[encoded data removed]"
          },
          "metadata": {
            "needs_background": "light"
          }
        },
        {
          "output_type": "stream",
          "name": "stdout",
          "text": [
            "\n",
            "Rapport de classification:\n",
            "               precision    recall  f1-score   support\n",
            "\n",
            "           0       1.00      1.00      1.00        10\n",
            "           1       0.90      0.90      0.90        10\n",
            "           2       0.90      0.90      0.90        10\n",
            "\n",
            "    accuracy                           0.93        30\n",
            "   macro avg       0.93      0.93      0.93        30\n",
            "weighted avg       0.93      0.93      0.93        30\n",
            "\n",
            "------------------------------------------------------------------------------------------ \n",
            "\n"
          ]
        }
      ]
    }
  ]
}