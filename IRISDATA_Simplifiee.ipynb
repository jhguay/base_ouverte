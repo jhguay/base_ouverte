{
  "nbformat": 4,
  "nbformat_minor": 0,
  "metadata": {
    "kernelspec": {
      "display_name": "Python 3",
      "language": "python",
      "name": "python3"
    },
    "language_info": {
      "codemirror_mode": {
        "name": "ipython",
        "version": 3
      },
      "file_extension": ".py",
      "mimetype": "text/x-python",
      "name": "python",
      "nbconvert_exporter": "python",
      "pygments_lexer": "ipython3",
      "version": "3.9.1"
    },
    "colab": {
      "provenance": [],
      "collapsed_sections": [
        "SaK0iuCygKex",
        "vg-TYDGBgKex",
        "X_Ggj2OJgKex",
        "T50PVG7ZgKex"
      ],
      "include_colab_link": true
    }
  },
  "cells": [
    {
      "cell_type": "markdown",
      "metadata": {
        "id": "view-in-github",
        "colab_type": "text"
      },
      "source": [
        "<a href=\"https://colab.research.google.com/github/jhguay/base_ouverte/blob/main/IRISDATA_Simplifiee.ipynb\" target=\"_parent\"><img src=\"https://colab.research.google.com/assets/colab-badge.svg\" alt=\"Open In Colab\"/></a>"
      ]
    },
    {
      "cell_type": "markdown",
      "metadata": {
        "id": "jrL_GJDNgKeb"
      },
      "source": [
        "## Importation des premières bibliothèques\n"
      ]
    },
    {
      "cell_type": "code",
      "metadata": {
        "id": "Xo8Oj8jsgKeb"
      },
      "source": [
        "\n",
        "import scipy # bibliothèque de calcul scientifique \n",
        "import matplotlib # bibliothèque d'affichage graphique\n",
        "import sklearn # bibliothèque d'algorithmes \"classiques\" d'apprentissage automatique \n",
        "from numpy import * # bibliothèque de calcul matriciel\n",
        "from pandas import * # bibliothèque de manipulation de tableaux de données\n",
        "from sklearn import * # bibliothèque d'algorithmes \"classiques\" d'apprentissage automatique\n",
        "import numpy as np\n",
        "import matplotlib.pyplot as plt\n",
        "import pandas as pd\n",
        "from pandas import Series, DataFrame\n",
        "from pandas import DataFrame, read_csv\n",
        "%matplotlib inline\n",
        "import IPython\n",
        "import sys "
      ],
      "execution_count": 66,
      "outputs": []
    },
    {
      "cell_type": "code",
      "source": [
        "def afficher_matrice_confusion(cm, noms_etiquettes = [u'classe - 0', u'classe - 1', u'classe - 3'],\n",
        "                   titre=u'Matrice de confusion'):\n",
        "#     plt.imshow(cm, interpolation='nearest', cmap=plt.cm.Blues)\n",
        "    print(\"\\n\",cm,\"\\n\")\n",
        "    plt.imshow(cm, cmap=plt.cm.Blues)\n",
        "    plt.title(titre)\n",
        "    plt.colorbar()\n",
        "    tick_marks = np.arange(len(noms_etiquettes))\n",
        "    plt.xticks(tick_marks, noms_etiquettes, rotation=60)\n",
        "    plt.yticks(tick_marks, noms_etiquettes)\n",
        "    plt.ylabel(u'Vraie étiquette')\n",
        "    plt.xlabel(u'Étiquette prédite')\n",
        "    # Fonction d'ajustement\n",
        "    plt.tight_layout()\n",
        "    plt.show()"
      ],
      "metadata": {
        "id": "Ex9K44RA3kZS"
      },
      "execution_count": 67,
      "outputs": []
    },
    {
      "cell_type": "markdown",
      "metadata": {
        "id": "5_aQX3NogKeg"
      },
      "source": [
        "### Vérification de l'installation"
      ]
    },
    {
      "cell_type": "code",
      "source": [
        "import os\n",
        "GERME_ALEATOIRE = 21\n",
        "os.environ['PYTHONHASHSEED'] = str(GERME_ALEATOIRE)\n",
        "import random\n",
        "random.seed(GERME_ALEATOIRE)\n",
        "import numpy as np\n",
        "np.random.seed(GERME_ALEATOIRE)"
      ],
      "metadata": {
        "id": "QclOb2J2gTou"
      },
      "execution_count": 68,
      "outputs": []
    },
    {
      "cell_type": "markdown",
      "metadata": {
        "id": "IeL75t97gKel"
      },
      "source": [
        "### Lecture des données - fonction Pandas `read_csv()`"
      ]
    },
    {
      "cell_type": "code",
      "metadata": {
        "id": "W6D5NFoAgKel"
      },
      "source": [
        "# Création d'une liste de noms d'attributs en français\n",
        "noms_attributs = [\"longueur_sépales\",\"largeur_sépales\",\"longueur_pétales\",\"largeur_pétales\", \"espèce\"]\n",
        "donnees_iris_df = pd.read_csv(\"https://archive.ics.uci.edu/ml/machine-learning-databases/iris/iris.data\", names=noms_attributs)\n"
      ],
      "execution_count": 69,
      "outputs": []
    },
    {
      "cell_type": "code",
      "metadata": {
        "id": "Kd0isrF5gKem",
        "outputId": "a442eca9-09e8-44b9-8221-3a02d24c31b2",
        "colab": {
          "base_uri": "https://localhost:8080/",
          "height": 206
        }
      },
      "source": [
        "#Visualisation des données\n",
        "donnees_iris_df.head()"
      ],
      "execution_count": 70,
      "outputs": [
        {
          "output_type": "execute_result",
          "data": {
            "text/plain": [
              "   longueur_sépales  largeur_sépales  longueur_pétales  largeur_pétales  \\\n",
              "0               5.1              3.5               1.4              0.2   \n",
              "1               4.9              3.0               1.4              0.2   \n",
              "2               4.7              3.2               1.3              0.2   \n",
              "3               4.6              3.1               1.5              0.2   \n",
              "4               5.0              3.6               1.4              0.2   \n",
              "\n",
              "        espèce  \n",
              "0  Iris-setosa  \n",
              "1  Iris-setosa  \n",
              "2  Iris-setosa  \n",
              "3  Iris-setosa  \n",
              "4  Iris-setosa  "
            ],
            "text/html": [
              "\n",
              "  <div id=\"df-348e5c7a-540f-42ec-9496-e079b8fb0ce3\">\n",
              "    <div class=\"colab-df-container\">\n",
              "      <div>\n",
              "<style scoped>\n",
              "    .dataframe tbody tr th:only-of-type {\n",
              "        vertical-align: middle;\n",
              "    }\n",
              "\n",
              "    .dataframe tbody tr th {\n",
              "        vertical-align: top;\n",
              "    }\n",
              "\n",
              "    .dataframe thead th {\n",
              "        text-align: right;\n",
              "    }\n",
              "</style>\n",
              "<table border=\"1\" class=\"dataframe\">\n",
              "  <thead>\n",
              "    <tr style=\"text-align: right;\">\n",
              "      <th></th>\n",
              "      <th>longueur_sépales</th>\n",
              "      <th>largeur_sépales</th>\n",
              "      <th>longueur_pétales</th>\n",
              "      <th>largeur_pétales</th>\n",
              "      <th>espèce</th>\n",
              "    </tr>\n",
              "  </thead>\n",
              "  <tbody>\n",
              "    <tr>\n",
              "      <th>0</th>\n",
              "      <td>5.1</td>\n",
              "      <td>3.5</td>\n",
              "      <td>1.4</td>\n",
              "      <td>0.2</td>\n",
              "      <td>Iris-setosa</td>\n",
              "    </tr>\n",
              "    <tr>\n",
              "      <th>1</th>\n",
              "      <td>4.9</td>\n",
              "      <td>3.0</td>\n",
              "      <td>1.4</td>\n",
              "      <td>0.2</td>\n",
              "      <td>Iris-setosa</td>\n",
              "    </tr>\n",
              "    <tr>\n",
              "      <th>2</th>\n",
              "      <td>4.7</td>\n",
              "      <td>3.2</td>\n",
              "      <td>1.3</td>\n",
              "      <td>0.2</td>\n",
              "      <td>Iris-setosa</td>\n",
              "    </tr>\n",
              "    <tr>\n",
              "      <th>3</th>\n",
              "      <td>4.6</td>\n",
              "      <td>3.1</td>\n",
              "      <td>1.5</td>\n",
              "      <td>0.2</td>\n",
              "      <td>Iris-setosa</td>\n",
              "    </tr>\n",
              "    <tr>\n",
              "      <th>4</th>\n",
              "      <td>5.0</td>\n",
              "      <td>3.6</td>\n",
              "      <td>1.4</td>\n",
              "      <td>0.2</td>\n",
              "      <td>Iris-setosa</td>\n",
              "    </tr>\n",
              "  </tbody>\n",
              "</table>\n",
              "</div>\n",
              "      <button class=\"colab-df-convert\" onclick=\"convertToInteractive('df-348e5c7a-540f-42ec-9496-e079b8fb0ce3')\"\n",
              "              title=\"Convert this dataframe to an interactive table.\"\n",
              "              style=\"display:none;\">\n",
              "        \n",
              "  <svg xmlns=\"http://www.w3.org/2000/svg\" height=\"24px\"viewBox=\"0 0 24 24\"\n",
              "       width=\"24px\">\n",
              "    <path d=\"M0 0h24v24H0V0z\" fill=\"none\"/>\n",
              "    <path d=\"M18.56 5.44l.94 2.06.94-2.06 2.06-.94-2.06-.94-.94-2.06-.94 2.06-2.06.94zm-11 1L8.5 8.5l.94-2.06 2.06-.94-2.06-.94L8.5 2.5l-.94 2.06-2.06.94zm10 10l.94 2.06.94-2.06 2.06-.94-2.06-.94-.94-2.06-.94 2.06-2.06.94z\"/><path d=\"M17.41 7.96l-1.37-1.37c-.4-.4-.92-.59-1.43-.59-.52 0-1.04.2-1.43.59L10.3 9.45l-7.72 7.72c-.78.78-.78 2.05 0 2.83L4 21.41c.39.39.9.59 1.41.59.51 0 1.02-.2 1.41-.59l7.78-7.78 2.81-2.81c.8-.78.8-2.07 0-2.86zM5.41 20L4 18.59l7.72-7.72 1.47 1.35L5.41 20z\"/>\n",
              "  </svg>\n",
              "      </button>\n",
              "      \n",
              "  <style>\n",
              "    .colab-df-container {\n",
              "      display:flex;\n",
              "      flex-wrap:wrap;\n",
              "      gap: 12px;\n",
              "    }\n",
              "\n",
              "    .colab-df-convert {\n",
              "      background-color: #E8F0FE;\n",
              "      border: none;\n",
              "      border-radius: 50%;\n",
              "      cursor: pointer;\n",
              "      display: none;\n",
              "      fill: #1967D2;\n",
              "      height: 32px;\n",
              "      padding: 0 0 0 0;\n",
              "      width: 32px;\n",
              "    }\n",
              "\n",
              "    .colab-df-convert:hover {\n",
              "      background-color: #E2EBFA;\n",
              "      box-shadow: 0px 1px 2px rgba(60, 64, 67, 0.3), 0px 1px 3px 1px rgba(60, 64, 67, 0.15);\n",
              "      fill: #174EA6;\n",
              "    }\n",
              "\n",
              "    [theme=dark] .colab-df-convert {\n",
              "      background-color: #3B4455;\n",
              "      fill: #D2E3FC;\n",
              "    }\n",
              "\n",
              "    [theme=dark] .colab-df-convert:hover {\n",
              "      background-color: #434B5C;\n",
              "      box-shadow: 0px 1px 3px 1px rgba(0, 0, 0, 0.15);\n",
              "      filter: drop-shadow(0px 1px 2px rgba(0, 0, 0, 0.3));\n",
              "      fill: #FFFFFF;\n",
              "    }\n",
              "  </style>\n",
              "\n",
              "      <script>\n",
              "        const buttonEl =\n",
              "          document.querySelector('#df-348e5c7a-540f-42ec-9496-e079b8fb0ce3 button.colab-df-convert');\n",
              "        buttonEl.style.display =\n",
              "          google.colab.kernel.accessAllowed ? 'block' : 'none';\n",
              "\n",
              "        async function convertToInteractive(key) {\n",
              "          const element = document.querySelector('#df-348e5c7a-540f-42ec-9496-e079b8fb0ce3');\n",
              "          const dataTable =\n",
              "            await google.colab.kernel.invokeFunction('convertToInteractive',\n",
              "                                                     [key], {});\n",
              "          if (!dataTable) return;\n",
              "\n",
              "          const docLinkHtml = 'Like what you see? Visit the ' +\n",
              "            '<a target=\"_blank\" href=https://colab.research.google.com/notebooks/data_table.ipynb>data table notebook</a>'\n",
              "            + ' to learn more about interactive tables.';\n",
              "          element.innerHTML = '';\n",
              "          dataTable['output_type'] = 'display_data';\n",
              "          await google.colab.output.renderOutput(dataTable, element);\n",
              "          const docLink = document.createElement('div');\n",
              "          docLink.innerHTML = docLinkHtml;\n",
              "          element.appendChild(docLink);\n",
              "        }\n",
              "      </script>\n",
              "    </div>\n",
              "  </div>\n",
              "  "
            ]
          },
          "metadata": {},
          "execution_count": 70
        }
      ]
    },
    {
      "cell_type": "markdown",
      "metadata": {
        "id": "E6mC-Go9gKen"
      },
      "source": [
        "#### Format du tableau de données - l'attribut DataFrame `.shape` "
      ]
    },
    {
      "cell_type": "code",
      "metadata": {
        "id": "ExZq2RmngKen",
        "outputId": "dc196f65-9086-4b60-bc27-894e170a8e7c",
        "colab": {
          "base_uri": "https://localhost:8080/"
        }
      },
      "source": [
        "donnees_iris_df.shape"
      ],
      "execution_count": 71,
      "outputs": [
        {
          "output_type": "execute_result",
          "data": {
            "text/plain": [
              "(150, 5)"
            ]
          },
          "metadata": {},
          "execution_count": 71
        }
      ]
    },
    {
      "cell_type": "code",
      "metadata": {
        "id": "1PKST58RgKeo",
        "outputId": "3a662d7d-eef3-4612-b606-f5533ad121ce",
        "colab": {
          "base_uri": "https://localhost:8080/"
        }
      },
      "source": [
        "donnees_iris_df.columns"
      ],
      "execution_count": 72,
      "outputs": [
        {
          "output_type": "execute_result",
          "data": {
            "text/plain": [
              "Index(['longueur_sépales', 'largeur_sépales', 'longueur_pétales',\n",
              "       'largeur_pétales', 'espèce'],\n",
              "      dtype='object')"
            ]
          },
          "metadata": {},
          "execution_count": 72
        }
      ]
    },
    {
      "cell_type": "code",
      "metadata": {
        "id": "YkiJgOfUgKep",
        "outputId": "e61031c9-fc3d-4334-9bd7-78fdbc39c003",
        "colab": {
          "base_uri": "https://localhost:8080/",
          "height": 300
        }
      },
      "source": [
        "donnees_iris_df.describe()"
      ],
      "execution_count": 73,
      "outputs": [
        {
          "output_type": "execute_result",
          "data": {
            "text/plain": [
              "       longueur_sépales  largeur_sépales  longueur_pétales  largeur_pétales\n",
              "count        150.000000       150.000000        150.000000       150.000000\n",
              "mean           5.843333         3.054000          3.758667         1.198667\n",
              "std            0.828066         0.433594          1.764420         0.763161\n",
              "min            4.300000         2.000000          1.000000         0.100000\n",
              "25%            5.100000         2.800000          1.600000         0.300000\n",
              "50%            5.800000         3.000000          4.350000         1.300000\n",
              "75%            6.400000         3.300000          5.100000         1.800000\n",
              "max            7.900000         4.400000          6.900000         2.500000"
            ],
            "text/html": [
              "\n",
              "  <div id=\"df-20ae1ae6-24e5-4d45-86cb-23f83b00ebbf\">\n",
              "    <div class=\"colab-df-container\">\n",
              "      <div>\n",
              "<style scoped>\n",
              "    .dataframe tbody tr th:only-of-type {\n",
              "        vertical-align: middle;\n",
              "    }\n",
              "\n",
              "    .dataframe tbody tr th {\n",
              "        vertical-align: top;\n",
              "    }\n",
              "\n",
              "    .dataframe thead th {\n",
              "        text-align: right;\n",
              "    }\n",
              "</style>\n",
              "<table border=\"1\" class=\"dataframe\">\n",
              "  <thead>\n",
              "    <tr style=\"text-align: right;\">\n",
              "      <th></th>\n",
              "      <th>longueur_sépales</th>\n",
              "      <th>largeur_sépales</th>\n",
              "      <th>longueur_pétales</th>\n",
              "      <th>largeur_pétales</th>\n",
              "    </tr>\n",
              "  </thead>\n",
              "  <tbody>\n",
              "    <tr>\n",
              "      <th>count</th>\n",
              "      <td>150.000000</td>\n",
              "      <td>150.000000</td>\n",
              "      <td>150.000000</td>\n",
              "      <td>150.000000</td>\n",
              "    </tr>\n",
              "    <tr>\n",
              "      <th>mean</th>\n",
              "      <td>5.843333</td>\n",
              "      <td>3.054000</td>\n",
              "      <td>3.758667</td>\n",
              "      <td>1.198667</td>\n",
              "    </tr>\n",
              "    <tr>\n",
              "      <th>std</th>\n",
              "      <td>0.828066</td>\n",
              "      <td>0.433594</td>\n",
              "      <td>1.764420</td>\n",
              "      <td>0.763161</td>\n",
              "    </tr>\n",
              "    <tr>\n",
              "      <th>min</th>\n",
              "      <td>4.300000</td>\n",
              "      <td>2.000000</td>\n",
              "      <td>1.000000</td>\n",
              "      <td>0.100000</td>\n",
              "    </tr>\n",
              "    <tr>\n",
              "      <th>25%</th>\n",
              "      <td>5.100000</td>\n",
              "      <td>2.800000</td>\n",
              "      <td>1.600000</td>\n",
              "      <td>0.300000</td>\n",
              "    </tr>\n",
              "    <tr>\n",
              "      <th>50%</th>\n",
              "      <td>5.800000</td>\n",
              "      <td>3.000000</td>\n",
              "      <td>4.350000</td>\n",
              "      <td>1.300000</td>\n",
              "    </tr>\n",
              "    <tr>\n",
              "      <th>75%</th>\n",
              "      <td>6.400000</td>\n",
              "      <td>3.300000</td>\n",
              "      <td>5.100000</td>\n",
              "      <td>1.800000</td>\n",
              "    </tr>\n",
              "    <tr>\n",
              "      <th>max</th>\n",
              "      <td>7.900000</td>\n",
              "      <td>4.400000</td>\n",
              "      <td>6.900000</td>\n",
              "      <td>2.500000</td>\n",
              "    </tr>\n",
              "  </tbody>\n",
              "</table>\n",
              "</div>\n",
              "      <button class=\"colab-df-convert\" onclick=\"convertToInteractive('df-20ae1ae6-24e5-4d45-86cb-23f83b00ebbf')\"\n",
              "              title=\"Convert this dataframe to an interactive table.\"\n",
              "              style=\"display:none;\">\n",
              "        \n",
              "  <svg xmlns=\"http://www.w3.org/2000/svg\" height=\"24px\"viewBox=\"0 0 24 24\"\n",
              "       width=\"24px\">\n",
              "    <path d=\"M0 0h24v24H0V0z\" fill=\"none\"/>\n",
              "    <path d=\"M18.56 5.44l.94 2.06.94-2.06 2.06-.94-2.06-.94-.94-2.06-.94 2.06-2.06.94zm-11 1L8.5 8.5l.94-2.06 2.06-.94-2.06-.94L8.5 2.5l-.94 2.06-2.06.94zm10 10l.94 2.06.94-2.06 2.06-.94-2.06-.94-.94-2.06-.94 2.06-2.06.94z\"/><path d=\"M17.41 7.96l-1.37-1.37c-.4-.4-.92-.59-1.43-.59-.52 0-1.04.2-1.43.59L10.3 9.45l-7.72 7.72c-.78.78-.78 2.05 0 2.83L4 21.41c.39.39.9.59 1.41.59.51 0 1.02-.2 1.41-.59l7.78-7.78 2.81-2.81c.8-.78.8-2.07 0-2.86zM5.41 20L4 18.59l7.72-7.72 1.47 1.35L5.41 20z\"/>\n",
              "  </svg>\n",
              "      </button>\n",
              "      \n",
              "  <style>\n",
              "    .colab-df-container {\n",
              "      display:flex;\n",
              "      flex-wrap:wrap;\n",
              "      gap: 12px;\n",
              "    }\n",
              "\n",
              "    .colab-df-convert {\n",
              "      background-color: #E8F0FE;\n",
              "      border: none;\n",
              "      border-radius: 50%;\n",
              "      cursor: pointer;\n",
              "      display: none;\n",
              "      fill: #1967D2;\n",
              "      height: 32px;\n",
              "      padding: 0 0 0 0;\n",
              "      width: 32px;\n",
              "    }\n",
              "\n",
              "    .colab-df-convert:hover {\n",
              "      background-color: #E2EBFA;\n",
              "      box-shadow: 0px 1px 2px rgba(60, 64, 67, 0.3), 0px 1px 3px 1px rgba(60, 64, 67, 0.15);\n",
              "      fill: #174EA6;\n",
              "    }\n",
              "\n",
              "    [theme=dark] .colab-df-convert {\n",
              "      background-color: #3B4455;\n",
              "      fill: #D2E3FC;\n",
              "    }\n",
              "\n",
              "    [theme=dark] .colab-df-convert:hover {\n",
              "      background-color: #434B5C;\n",
              "      box-shadow: 0px 1px 3px 1px rgba(0, 0, 0, 0.15);\n",
              "      filter: drop-shadow(0px 1px 2px rgba(0, 0, 0, 0.3));\n",
              "      fill: #FFFFFF;\n",
              "    }\n",
              "  </style>\n",
              "\n",
              "      <script>\n",
              "        const buttonEl =\n",
              "          document.querySelector('#df-20ae1ae6-24e5-4d45-86cb-23f83b00ebbf button.colab-df-convert');\n",
              "        buttonEl.style.display =\n",
              "          google.colab.kernel.accessAllowed ? 'block' : 'none';\n",
              "\n",
              "        async function convertToInteractive(key) {\n",
              "          const element = document.querySelector('#df-20ae1ae6-24e5-4d45-86cb-23f83b00ebbf');\n",
              "          const dataTable =\n",
              "            await google.colab.kernel.invokeFunction('convertToInteractive',\n",
              "                                                     [key], {});\n",
              "          if (!dataTable) return;\n",
              "\n",
              "          const docLinkHtml = 'Like what you see? Visit the ' +\n",
              "            '<a target=\"_blank\" href=https://colab.research.google.com/notebooks/data_table.ipynb>data table notebook</a>'\n",
              "            + ' to learn more about interactive tables.';\n",
              "          element.innerHTML = '';\n",
              "          dataTable['output_type'] = 'display_data';\n",
              "          await google.colab.output.renderOutput(dataTable, element);\n",
              "          const docLink = document.createElement('div');\n",
              "          docLink.innerHTML = docLinkHtml;\n",
              "          element.appendChild(docLink);\n",
              "        }\n",
              "      </script>\n",
              "    </div>\n",
              "  </div>\n",
              "  "
            ]
          },
          "metadata": {},
          "execution_count": 73
        }
      ]
    },
    {
      "cell_type": "markdown",
      "metadata": {
        "id": "wTdyw20CgKep"
      },
      "source": [
        "## Classification"
      ]
    },
    {
      "cell_type": "markdown",
      "metadata": {
        "id": "qJQUr0ojgKep"
      },
      "source": [
        "### Chargement des bibliothèques de scikit-learn ou `sklearn`"
      ]
    },
    {
      "cell_type": "code",
      "metadata": {
        "id": "L_GoT8ucgKeq",
        "outputId": "b205c67f-b9af-4e33-9745-0e0d79dee3cb",
        "colab": {
          "base_uri": "https://localhost:8080/"
        }
      },
      "source": [
        "from sklearn.model_selection import train_test_split\n",
        "from sklearn.model_selection import cross_val_score\n",
        "from sklearn.model_selection import StratifiedKFold\n",
        "from sklearn.metrics import classification_report\n",
        "from sklearn.metrics import confusion_matrix\n",
        "from sklearn.metrics import accuracy_score\n",
        "\n",
        "print(\"Bibliothèques Sklearn importées\")"
      ],
      "execution_count": 74,
      "outputs": [
        {
          "output_type": "stream",
          "name": "stdout",
          "text": [
            "Bibliothèques Sklearn importées\n"
          ]
        }
      ]
    },
    {
      "cell_type": "code",
      "metadata": {
        "id": "2iIOIg_hgKeq"
      },
      "source": [
        "cibles_df = donnees_iris_df['espèce']"
      ],
      "execution_count": 75,
      "outputs": []
    },
    {
      "cell_type": "code",
      "metadata": {
        "id": "heGfpst5gKeq",
        "outputId": "fe404919-3765-4763-eb4d-9b93671ee754",
        "colab": {
          "base_uri": "https://localhost:8080/"
        }
      },
      "source": [
        "cibles_df.shape"
      ],
      "execution_count": 76,
      "outputs": [
        {
          "output_type": "execute_result",
          "data": {
            "text/plain": [
              "(150,)"
            ]
          },
          "metadata": {},
          "execution_count": 76
        }
      ]
    },
    {
      "cell_type": "code",
      "metadata": {
        "id": "8qKzOHPIgKer"
      },
      "source": [
        "predicteurs_df = donnees_iris_df.drop(['espèce'],axis='columns')"
      ],
      "execution_count": 100,
      "outputs": []
    },
    {
      "cell_type": "code",
      "metadata": {
        "id": "rxOFAs94gKer",
        "outputId": "0737c13b-6928-4165-f7ff-bdb6bf51cb41",
        "colab": {
          "base_uri": "https://localhost:8080/"
        }
      },
      "source": [
        "predicteurs_df.shape"
      ],
      "execution_count": 101,
      "outputs": [
        {
          "output_type": "execute_result",
          "data": {
            "text/plain": [
              "(150, 4)"
            ]
          },
          "metadata": {},
          "execution_count": 101
        }
      ]
    },
    {
      "cell_type": "code",
      "metadata": {
        "id": "KhidwinMgKet",
        "outputId": "ce6f1ee2-e6dd-4156-e6b5-8d88fe7b6169",
        "colab": {
          "base_uri": "https://localhost:8080/"
        }
      },
      "source": [
        "# On calcule la moyenne `mean()` des cas où la classe-cible correspond à une valeur donnée\n",
        "print(\"Iris-setosa:{pourcent: .2f} %\".format(pourcent=np.mean(cibles_df == \"Iris-setosa\")*100))\n",
        "print(\"Iris-versicolor:{pourcent: .2f} %\".format(pourcent=np.mean(cibles_df == \"Iris-versicolor\")*100))\n",
        "print(\"Iris-virginica:{pourcent: .2f} %\".format(pourcent=np.mean(cibles_df == \"Iris-virginica\")*100))"
      ],
      "execution_count": 102,
      "outputs": [
        {
          "output_type": "stream",
          "name": "stdout",
          "text": [
            "Iris-setosa: 33.33 %\n",
            "Iris-versicolor: 33.33 %\n",
            "Iris-virginica: 33.33 %\n"
          ]
        }
      ]
    },
    {
      "cell_type": "code",
      "metadata": {
        "id": "VbIjENsSgKeu",
        "outputId": "1503d72a-96f3-40fa-be5e-f81299f4670d",
        "colab": {
          "base_uri": "https://localhost:8080/"
        }
      },
      "source": [
        "cibles_df"
      ],
      "execution_count": 103,
      "outputs": [
        {
          "output_type": "execute_result",
          "data": {
            "text/plain": [
              "0         Iris-setosa\n",
              "1         Iris-setosa\n",
              "2         Iris-setosa\n",
              "3         Iris-setosa\n",
              "4         Iris-setosa\n",
              "            ...      \n",
              "145    Iris-virginica\n",
              "146    Iris-virginica\n",
              "147    Iris-virginica\n",
              "148    Iris-virginica\n",
              "149    Iris-virginica\n",
              "Name: espèce, Length: 150, dtype: object"
            ]
          },
          "metadata": {},
          "execution_count": 103
        }
      ]
    },
    {
      "cell_type": "markdown",
      "metadata": {
        "id": "HgLBobKEgKev"
      },
      "source": [
        "### Préparation des données pour Scikit-Learn\n",
        "\n",
        "Scikit-Learn exige que les attributs prennent des valeurs numériques avec décimales. Il faut donc convertir les valeurs catégorielles en valeurs numériques. Il faut également qu'il n'y ait pas de valeur manquante dans les données.   \n",
        "\n",
        "Aussi, Scikit-Learn s'attend que les attributs se trouvent dans un tableau où chaque colonne est un attribut et chaque ligne un exemplaire de données (observation ou point de données)."
      ]
    },
    {
      "cell_type": "markdown",
      "metadata": {
        "id": "kj_6gp7KgKev"
      },
      "source": [
        "#### Encodage des attributs catégoriels - fonction Sklearn `LabelEncoder()`\n",
        "\n",
        "Rappelons qu'un attribut catégoriel prend des valeurs d'étiquettes symboliques. Par exemple, l'attribut \"couleur\" peut prendre les valeurs \"rouge\", \"vert\" et \"bleu\". Les algorithmes d'apprentissage automatique dont les réseaux de neurones profonds exigent que les variables d'entrée soient des nombres. Il faut donc encoder les données catégorielles en nombres avant de les utiliser pour entraîner un modèle."
      ]
    },
    {
      "cell_type": "code",
      "metadata": {
        "id": "G7FIMDVPgKev",
        "outputId": "ee35fca5-df98-4a7b-fbb9-849ddf3fad5e",
        "colab": {
          "base_uri": "https://localhost:8080/"
        }
      },
      "source": [
        "#Transformation des données de la cible en données numériques\n",
        "from sklearn.preprocessing import LabelEncoder\n",
        "encodeur = LabelEncoder()\n",
        "encodeur.fit(cibles_df.values)\n",
        "cibles = encodeur.transform(cibles_df)\n",
        "# Afficher les dix premières cibles\n",
        "cibles [:10]"
      ],
      "execution_count": 104,
      "outputs": [
        {
          "output_type": "execute_result",
          "data": {
            "text/plain": [
              "array([0, 0, 0, 0, 0, 0, 0, 0, 0, 0])"
            ]
          },
          "metadata": {},
          "execution_count": 104
        }
      ]
    },
    {
      "cell_type": "code",
      "metadata": {
        "id": "SYONGUVCgKev"
      },
      "source": [
        "\n",
        "#conversion des données en nombre décimales\n",
        "predicteurs = predicteurs_df.values\n",
        "print(predicteurs)"
      ],
      "execution_count": null,
      "outputs": []
    },
    {
      "cell_type": "markdown",
      "metadata": {
        "id": "0s1XfemigKev"
      },
      "source": [
        "### Division en données d'entraînement et de test - fonction Sklearn `train_test_split()`\n",
        "\n",
        "Nous allons retenir une partie des données dans un jeu de données de test que l'algorithme ne verra pas et nous utiliserons ces données pour avoir une idée des performances du modèle sur des données inconnues.\n",
        "\n",
        "Nous diviserons l'ensemble de données en deux, dont typiquement 80 % serviront à l'entraînement, à l'évaluation et à la sélection parmi nos modèles, et 20 % seront retenues comme ensemble de données de test.\n",
        "\n",
        "<ul>\n",
        "    <li>Dans un premier temps, nous allons partager les données entre un ensemble de données d'entraînement et un ensemble de données de test. Les données de test seront isolées et conservées pour évaluer la performance finale des algorithmes sur des données fraîches. C'est ce qu'on appelle la mesure de l'erreur de généralisation.</li>\n",
        "</ul>\n",
        "\n",
        "Note technique: Le paramètre de stratification `stratify` s'assure que la répartition aléatoire des données de `train_test_split()` respecte la proportion de valeurs dans l'échantillon fourni à `stratify`. Ceci est particulièrement important pour les petits jeux de données où la répartition aléatoire des données peut retourner des résultats très différents d'une fois à l'autre.\n",
        "\n",
        "Par exemple, si la classe-cible `cibles_df` est un attribut catégoriel avec 3 valeurs réparties également comme dans l'exemple des données sur les Iris, l'affectaion `stratify=cibles_df` assurera que la répartition aléatoire respecte ce ratio. Évidemment s'il n'y a pas de répartition aléatoire et que le paramètre `shuffle=False`, alors `stratify=None`."
      ]
    },
    {
      "cell_type": "code",
      "metadata": {
        "id": "fKUnsyUHgKew"
      },
      "source": [
        "#Division des données: entraintement et test\n",
        "from sklearn.model_selection import train_test_split\n",
        "test_ratio = 0.30\n",
        "predicteurs_ent, predicteurs_test, cibles_ent, cibles_test = train_test_split(predicteurs,\n",
        "                                                                              cibles,\n",
        "                                                                              test_size=test_ratio,\n",
        "                                                                              stratify=cibles_df,\n",
        "                                                                              random_state=42)"
      ],
      "execution_count": 88,
      "outputs": []
    },
    {
      "cell_type": "code",
      "metadata": {
        "id": "8JzyYZiDgKew",
        "outputId": "2b64aa0e-969c-4c88-b604-290c7b32220d",
        "colab": {
          "base_uri": "https://localhost:8080/"
        }
      },
      "source": [
        "print(\"Dimensions de predicteurs entrainement:\",predicteurs_ent.shape)\n",
        "print(\"Dimensions de predicteurs test:\",predicteurs_test.shape)\n",
        "print(\"Dimensions de cibles entrainement:\",cibles_ent.shape)\n",
        "print(\"Dimensions de cibles test:\",cibles_test.shape)"
      ],
      "execution_count": 89,
      "outputs": [
        {
          "output_type": "stream",
          "name": "stdout",
          "text": [
            "Dimensions de predicteurs entrainement: (105, 4)\n",
            "Dimensions de predicteurs test: (45, 4)\n",
            "Dimensions de cibles entrainement: (105,)\n",
            "Dimensions de cibles test: (45,)\n"
          ]
        }
      ]
    },
    {
      "cell_type": "code",
      "metadata": {
        "id": "vozz17-cgKew",
        "outputId": "d924ad01-349b-409e-d939-cb9625fcae1d",
        "colab": {
          "base_uri": "https://localhost:8080/"
        }
      },
      "source": [
        "cibles_ent, cibles_test"
      ],
      "execution_count": 90,
      "outputs": [
        {
          "output_type": "execute_result",
          "data": {
            "text/plain": [
              "(array([1, 1, 0, 2, 1, 2, 0, 0, 0, 2, 2, 0, 0, 1, 1, 2, 0, 0, 2, 1, 0, 2,\n",
              "        2, 2, 1, 0, 0, 0, 1, 1, 0, 0, 1, 1, 0, 0, 1, 2, 2, 0, 2, 0, 2, 0,\n",
              "        2, 1, 0, 2, 1, 2, 1, 0, 1, 2, 1, 2, 0, 1, 0, 1, 1, 1, 2, 1, 1, 2,\n",
              "        2, 0, 2, 1, 1, 2, 0, 2, 2, 1, 0, 2, 2, 0, 0, 2, 2, 2, 0, 2, 1, 2,\n",
              "        2, 0, 1, 1, 1, 1, 1, 0, 2, 1, 2, 0, 0, 1, 0, 1, 0]),\n",
              " array([2, 1, 2, 1, 2, 2, 1, 1, 0, 2, 0, 0, 2, 2, 0, 2, 1, 0, 0, 0, 1, 0,\n",
              "        1, 2, 2, 1, 1, 1, 1, 0, 2, 2, 1, 0, 2, 0, 0, 0, 0, 1, 1, 0, 2, 2,\n",
              "        1]))"
            ]
          },
          "metadata": {},
          "execution_count": 90
        }
      ]
    },
    {
      "cell_type": "markdown",
      "metadata": {
        "id": "ZI8O-dzBgKex"
      },
      "source": [
        "### Choix de différents algorithmes de classification"
      ]
    },
    {
      "cell_type": "markdown",
      "metadata": {
        "id": "T50PVG7ZgKex"
      },
      "source": [
        "#### Arbres à gradient dopé - XGBoost\n",
        "\n",
        "Les arbres à gradient dopé (gradient boosting trees) se basent sur un méta-algorithme d'apprentissage ensembliste qui agrège itérativement des classificateurs faibles créés et pondérés selon leur performance pour former un classificateur final fort (capacité plus élevée, biais réduit), en l'occurrence ici des arbres de décisions. \n",
        "\n",
        "Par itérations successives, des classificateurs faibles (faible capacité, biais élevé), sous la forme de petits arbres de décision, sont ajoutés un à un à un ensemble d'arbres en utilisant une fonction de coût optimisée par descente de gradient.\n",
        "\n",
        "Au moment de l'ajout d'un classificateur faible, la pondération des exemples de données (ou points de données) est réajustée (re-pondération) où les exemples mal classés gagnent du poids et les exemples bien classées perdent du poids. Ainsi, un nouveau classificateur faible se concentrera davantage sur les exemples mal classés par les classificateurs faibles précédents pour corriger leur influence. Rappelons qu'un classificateur faible est un classificateur capable de distinguer deux classes au moins aussi bien que le hasard ne le permet (il ne se trompe donc pas plus d'une fois sur deux en moyenne, si la distribution des classes est équilibrée). Des algorithmes très populaires appliquent le dopage de gradient comme l'incontournable XGBoost et AdaBoost (abréviation du terme adaptative boosting) qui a maintenant surtout une importance historique.\n",
        "\n",
        "Note: Pour plus de généralité, on pourrait remplacer le mot «classificateur» par «modèle»\n",
        "\n",
        "XGBoost en est un très bon exemple, XGBoost pour Extreme Gradient Boosting."
      ]
    },
    {
      "cell_type": "markdown",
      "metadata": {
        "id": "KapWyRMogKe0"
      },
      "source": [
        "### Outils d'évaluation d'un modèle"
      ]
    },
    {
      "cell_type": "markdown",
      "metadata": {
        "id": "LKhjAoywgKe2"
      },
      "source": [
        "### Évaluation finale du modèle avec les données de test\n",
        "\n",
        "Nous avons retenu une partie des données dans le jeu de données de test que l'algorithme n'a pas touchées. Nous utiliserons ces données pour avoir une idée des performances du modèle sur des données inconnues."
      ]
    },
    {
      "cell_type": "code",
      "metadata": {
        "scrolled": false,
        "id": "wciU9ldMgKe2"
      },
      "source": [
        "# Inspiration: https://machinelearningmastery.com/machine-learning-in-python-step-by-step/\n",
        "from sklearn.linear_model import LogisticRegression\n",
        "from sklearn.ensemble import RandomForestClassifier\n",
        "import xgboost as xgb\n"
      ],
      "execution_count": 91,
      "outputs": []
    },
    {
      "cell_type": "code",
      "metadata": {
        "id": "j9eWw0SGzomA",
        "colab": {
          "base_uri": "https://localhost:8080/",
          "height": 728
        },
        "outputId": "dd14a5b1-393e-4ef6-ecf1-252ab4daec24"
      },
      "source": [
        "arbres_dopage_gradient = xgb.XGBClassifier(use_label_encoder=False,eval_metric='mlogloss')\n",
        "modele=arbres_dopage_gradient\n",
        "validation_croisee = StratifiedKFold(n_splits=5,random_state=42,shuffle=True)\n",
        "nom_modele=\"arbres_dopage_gradient\"\n",
        "modele = xgb.XGBClassifier(use_label_encoder=False,eval_metric='mlogloss')\n",
        "resultat_vc = cross_val_score(arbres_dopage_gradient,predicteurs_ent,cibles_ent,cv=validation_croisee,scoring='accuracy')\n",
        "print('>  %s: %f (%f)' % (\"arbres_dopage_gradient\", resultat_vc.mean(), resultat_vc.std()))\n",
        "modele.fit(predicteurs_ent, cibles_ent)\n",
        "test_predictions = modele.predict(predicteurs_test)\n",
        "print('>  %s: - Erreur de classification sur les données test: %d' % \n",
        "(nom_modele, (cibles_test != test_predictions).sum()))\n",
        "print('>  %s- Exactitude: %.2f' % \n",
        "(nom_modele, accuracy_score(cibles_test, test_predictions)))\n",
        "# Affichage d'une matrice de confusion et d'un rapport de classification\n",
        "print(\"Matrice de confusion:\\n\")\n",
        "afficher_matrice_confusion(confusion_matrix(cibles_test, test_predictions),['Iris-setosa','Iris-versicolor', 'Iris-virginica'])\n",
        "print(\"\\nRapport de classification:\\n\",classification_report(cibles_test, test_predictions))\n",
        "print(\"-\"*90,\"\\n\")\n"
      ],
      "execution_count": 92,
      "outputs": [
        {
          "output_type": "stream",
          "name": "stdout",
          "text": [
            ">  arbres_dopage_gradient: 0.961905 (0.035635)\n",
            ">  arbres_dopage_gradient: - Erreur de classification sur les données test: 3\n",
            ">  arbres_dopage_gradient- Exactitude: 0.93\n",
            "Matrice de confusion:\n",
            "\n",
            "\n",
            " [[15  0  0]\n",
            " [ 0 14  1]\n",
            " [ 0  2 13]] \n",
            "\n"
          ]
        },
        {
          "output_type": "display_data",
          "data": {
            "text/plain": [
              "<Figure size 432x288 with 2 Axes>"
            ],
            "image/png": "[encoded data removed]"
          },
          "metadata": {
            "needs_background": "light"
          }
        },
        {
          "output_type": "stream",
          "name": "stdout",
          "text": [
            "\n",
            "Rapport de classification:\n",
            "               precision    recall  f1-score   support\n",
            "\n",
            "           0       1.00      1.00      1.00        15\n",
            "           1       0.88      0.93      0.90        15\n",
            "           2       0.93      0.87      0.90        15\n",
            "\n",
            "    accuracy                           0.93        45\n",
            "   macro avg       0.93      0.93      0.93        45\n",
            "weighted avg       0.93      0.93      0.93        45\n",
            "\n",
            "------------------------------------------------------------------------------------------ \n",
            "\n"
          ]
        }
      ]
    }
  ]
}