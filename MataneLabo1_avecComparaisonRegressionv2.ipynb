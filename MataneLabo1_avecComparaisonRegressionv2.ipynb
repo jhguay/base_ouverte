{
  "nbformat": 4,
  "nbformat_minor": 0,
  "metadata": {
    "colab": {
      "provenance": [],
      "collapsed_sections": [],
      "authorship_tag": "ABX9TyMdVDsyv2qqF5rN1vH/b7aL",
      "include_colab_link": true
    },
    "kernelspec": {
      "name": "python3",
      "display_name": "Python 3"
    },
    "language_info": {
      "name": "python"
    }
  },
  "cells": [
    {
      "cell_type": "markdown",
      "metadata": {
        "id": "view-in-github",
        "colab_type": "text"
      },
      "source": [
        "<a href=\"https://colab.research.google.com/github/jhguay/base_ouverte/blob/main/MataneLabo1_avecComparaisonRegressionv2.ipynb\" target=\"_parent\"><img src=\"https://colab.research.google.com/assets/colab-badge.svg\" alt=\"Open In Colab\"/></a>"
      ]
    },
    {
      "cell_type": "markdown",
      "source": [
        "# **Comparaison entre les prédictions de la régression linéaire classique et l'IA (réseaux de neurones), deux variables continues**\n"
      ],
      "metadata": {
        "id": "wgRtNqLdYjzJ"
      }
    },
    {
      "cell_type": "markdown",
      "source": [
        "Ici je reprends l'exemple et une partie du code développé dans le cours **Vision artificielle et exploitation des ressources naturelles** du Cegep de Matane. La base donne cinq informations: le **nom commun**, le **nom scientifique**, la **masse** en kg, le **métabolisme** en joules et la** durée de vie** en années.  C'est la loi de Kleiber, expliquant le métabolisme par la masse, qui constitue le fondement théorique de cette base. Merci à Claude Coulombe.\n",
        "\n",
        "Cinq étapes: \n",
        "\n",
        "1.   On importe les bibliothèques nécessaires; on importe la base et on \n",
        "regarde les données sommairement.\n",
        "2.   On fait la régression classique de laquelle on extrait le coefficient et la constante.\n",
        "3.   On prépare le réseau de neurones et on l'applique\n",
        "4.   On compare l'erreur d'estimation des deux méthodes; on produit des graphiques visualisant la différence des deux méthodes.\n",
        "5.   On visualise la comparaison\n",
        "\n",
        "\n",
        "\n",
        "\n"
      ],
      "metadata": {
        "id": "4yR72LcnIjEO"
      }
    },
    {
      "cell_type": "markdown",
      "source": [
        "# Étape 1: Importation des bibliothèques et de la base de données"
      ],
      "metadata": {
        "id": "Qt5NAZs-O6T3"
      }
    },
    {
      "cell_type": "code",
      "source": [
        "# Importation des bibliothèques Python\n",
        "import tensorflow as tf\n",
        "import numpy as np\n",
        "import pandas as pd\n",
        "import os\n",
        "import random\n",
        "import math\n",
        "from sklearn.preprocessing import StandardScaler\n",
        "import matplotlib.pyplot as plt\n",
        "\n",
        "\n"
      ],
      "metadata": {
        "id": "zLnpfpiRPd5g"
      },
      "execution_count": 92,
      "outputs": []
    },
    {
      "cell_type": "code",
      "source": [
        "# Lecture des données\n",
        "loi_kleiber_data = pd.read_csv(\"https://github.com/ClaudeCoulombe/VIARENA/blob/master/DATA/LoiDeKleiber.csv?raw=True\")\n",
        "print(loi_kleiber_data)\n",
        "print(\"Données importées et lues\")\n",
        "\n",
        "# Information sur la base\n",
        "loi_kleiber_data.info()\n",
        "loi_kleiber_data.sample(n=5,random_state=42)\n",
        "print(\"Informations descriptives pour la masse\")\n",
        "print(loi_kleiber_data['Masse'].describe())\n",
        "print(\"Informations descriptives pour le métabolisme\")\n",
        "print(loi_kleiber_data['Metabolisme'].describe())"
      ],
      "metadata": {
        "colab": {
          "base_uri": "https://localhost:8080/"
        },
        "id": "QXECStlNcIjO",
        "outputId": "b9415e8c-8373-4c54-9169-93c6e70307e6"
      },
      "execution_count": 93,
      "outputs": [
        {
          "output_type": "stream",
          "name": "stdout",
          "text": [
            "                 NomCommun                    Espece    Masse  Metabolisme  \\\n",
            "0                  Echidna    Tachiglossus aculeatus    2.500        302.0   \n",
            "1      Long-beaked echidna         Zaglossus bruijni   10.300        594.0   \n",
            "2                 Platypus  Ornithorhynchus anatinus    1.300        229.0   \n",
            "3                  Opossum  Lutreolina crassicaudata    0.812        196.0   \n",
            "4   South American opossum     Didelphis marsupialis    1.330        299.0   \n",
            "..                     ...                       ...      ...          ...   \n",
            "90           Rhesus monkey            Macaca mulatta    5.000        960.0   \n",
            "91               Orangutan           Pongo pygma eus  150.000      15500.0   \n",
            "92                 Gorilla           Gorilla gorilla  250.000      21000.0   \n",
            "93                  Gibbon             Hylobater lar    8.000       1510.0   \n",
            "94                   # Man              Homo sapiens   65.000       7560.0   \n",
            "\n",
            "    DureeDeVie  \n",
            "0         14.0  \n",
            "1         20.0  \n",
            "2          9.0  \n",
            "3          5.0  \n",
            "4          6.0  \n",
            "..         ...  \n",
            "90        25.0  \n",
            "91        45.0  \n",
            "92        45.0  \n",
            "93        25.0  \n",
            "94        75.0  \n",
            "\n",
            "[95 rows x 5 columns]\n",
            "Données importées et lues\n",
            "<class 'pandas.core.frame.DataFrame'>\n",
            "RangeIndex: 95 entries, 0 to 94\n",
            "Data columns (total 5 columns):\n",
            " #   Column       Non-Null Count  Dtype  \n",
            "---  ------       --------------  -----  \n",
            " 0   NomCommun    95 non-null     object \n",
            " 1   Espece       95 non-null     object \n",
            " 2   Masse        95 non-null     float64\n",
            " 3   Metabolisme  95 non-null     float64\n",
            " 4   DureeDeVie   95 non-null     float64\n",
            "dtypes: float64(3), object(2)\n",
            "memory usage: 3.8+ KB\n",
            "Informations descriptives pour la masse\n",
            "count      95.000000\n",
            "mean       69.621455\n",
            "std       329.410355\n",
            "min         0.003600\n",
            "25%         0.099000\n",
            "50%         1.980000\n",
            "75%        11.900000\n",
            "max      3000.000000\n",
            "Name: Masse, dtype: float64\n",
            "Informations descriptives pour le métabolisme\n",
            "count        95.000000\n",
            "mean       5173.489053\n",
            "std       18987.195612\n",
            "min           5.170000\n",
            "25%          39.050000\n",
            "50%         320.000000\n",
            "75%        1695.000000\n",
            "max      165000.000000\n",
            "Name: Metabolisme, dtype: float64\n"
          ]
        }
      ]
    },
    {
      "cell_type": "markdown",
      "source": [
        "# Étape 2: Traitement selon la méthode classique de la régression"
      ],
      "metadata": {
        "id": "VZ5aGZ4YPrgB"
      }
    },
    {
      "cell_type": "code",
      "source": [
        "import statsmodels.api as sm\n",
        "from patsy import dmatrices\n",
        "y,x=dmatrices('Metabolisme ~ Masse', data=loi_kleiber_data,return_type='dataframe')\n",
        "mod=sm.OLS(y,x)\n",
        "res=mod.fit()\n",
        "print(res.summary())\n",
        "\n",
        "#Application de l'équation de régresion\n",
        "print(\"--------------------------------------------------------------------------------------------------------------\")\n",
        "masse=65\n",
        "predictionMetabolisme=1203.2019+(57.0268*masse)\n",
        "print(predictionMetabolisme)"
      ],
      "metadata": {
        "id": "tDBl9NYLPq0a",
        "colab": {
          "base_uri": "https://localhost:8080/"
        },
        "outputId": "06296f67-6e04-4bbf-83a9-ce3400e37aa6"
      },
      "execution_count": 94,
      "outputs": [
        {
          "output_type": "stream",
          "name": "stdout",
          "text": [
            "                            OLS Regression Results                            \n",
            "==============================================================================\n",
            "Dep. Variable:            Metabolisme   R-squared:                       0.979\n",
            "Model:                            OLS   Adj. R-squared:                  0.979\n",
            "Method:                 Least Squares   F-statistic:                     4302.\n",
            "Date:                Fri, 21 Oct 2022   Prob (F-statistic):           1.15e-79\n",
            "Time:                        23:30:46   Log-Likelihood:                -887.05\n",
            "No. Observations:                  95   AIC:                             1778.\n",
            "Df Residuals:                      93   BIC:                             1783.\n",
            "Df Model:                           1                                         \n",
            "Covariance Type:            nonrobust                                         \n",
            "==============================================================================\n",
            "                 coef    std err          t      P>|t|      [0.025      0.975]\n",
            "------------------------------------------------------------------------------\n",
            "Intercept   1203.2019    291.270      4.131      0.000     624.798    1781.606\n",
            "Masse         57.0268      0.869     65.586      0.000      55.300      58.753\n",
            "==============================================================================\n",
            "Omnibus:                       67.129   Durbin-Watson:                   1.127\n",
            "Prob(Omnibus):                  0.000   Jarque-Bera (JB):              296.470\n",
            "Skew:                           2.419   Prob(JB):                     4.19e-65\n",
            "Kurtosis:                      10.176   Cond. No.                         342.\n",
            "==============================================================================\n",
            "\n",
            "Notes:\n",
            "[1] Standard Errors assume that the covariance matrix of the errors is correctly specified.\n",
            "--------------------------------------------------------------------------------------------------------------\n",
            "4909.9439\n"
          ]
        }
      ]
    },
    {
      "cell_type": "markdown",
      "source": [
        "#Étape 3: Traitement selon une méthode propre à l'intelligence artificielle (réseau de neurones)"
      ],
      "metadata": {
        "id": "7B41YRDfP255"
      }
    },
    {
      "cell_type": "code",
      "source": [
        "# Définir un germe aléatoire\n",
        "GERME_ALEATOIRE=11\n",
        "os.environ['PYTHONHASHSEED'] = str(GERME_ALEATOIRE)\n",
        "random.seed(GERME_ALEATOIRE)\n",
        "np.random.seed(GERME_ALEATOIRE)\n",
        "tf.random.set_seed(GERME_ALEATOIRE)\n",
        "os.environ['TF_DETERMINISTIC_OPS'] = '1'\n",
        "os.environ['TF_CUDNN_DETERMINISTIC'] = '1'\n",
        "print(\"Germe aléatoire fixé\")\n",
        "\n",
        "#On isole les deux variables et on les normalise\n",
        "\n",
        "attribut_predictif = loi_kleiber_data['Masse'].values.reshape(-1, 1)\n",
        "normalisateur_attribut_predictif = StandardScaler()\n",
        "normalisateur_attribut_predictif.fit(attribut_predictif)\n",
        "attribut_predictif = normalisateur_attribut_predictif.transform(attribut_predictif)\n",
        "\n",
        "attribut_cible = loi_kleiber_data['Metabolisme'].values.reshape(-1, 1)\n",
        "normalisateur_attribut_cible = StandardScaler()\n",
        "normalisateur_attribut_cible.fit(attribut_cible)\n",
        "attribut_cible = normalisateur_attribut_cible.transform(attribut_cible)\n",
        "\n",
        "# Construction d'un réseau de neurones de type perceptron à trois couches: couche d'entrée, couche cachée, couche de sortie\n",
        "reseau_de_neurones = tf.keras.models.Sequential([tf.keras.layers.Dense(units=1, input_shape=[1]),\n",
        "                                                 tf.keras.layers.Dense(units=10, activation='relu'),\n",
        "                                                 tf.keras.layers.Dense(units=1)])\n",
        "# Affichage de l'architecture du réseau\n",
        "print(\"Architecture du réseau de neurones:\")\n",
        "reseau_de_neurones.summary()\n",
        "\n",
        "#Compilation du réseau de neurones\n",
        "# optimiseur: Adam\n",
        "# taux d'apprentissage: 0.001\n",
        "# fonction d'erreur: erreur quadratique moyenne ('mean_squared_error') \n",
        "\n",
        "# Compilation du réseau de neurones - optimiseur: Adam, taux d'apprentissage: 0.001, fonction d'erreur: erreur quadratique moyenne (mean_squared_error) \n",
        "reseau_de_neurones.compile(optimizer=tf.keras.optimizers.Adam(learning_rate=0.001),loss='mean_squared_error')\n",
        "print(\"Réseau de neurones compilé\")\n",
        "\n",
        "# Entraînement du réseau sur les données: variable_explicative et variable_dependante, pendant 500 itérations ou époques\n",
        "traces = reseau_de_neurones.fit(attribut_predictif,attribut_cible,epochs=500,verbose=1)\n",
        "# Affichage de l'erreur à la fin de l'entraînement\n",
        "print(\"Erreur à la fin:\",traces.history['loss'][-1])\n"
      ],
      "metadata": {
        "id": "k1k0X2LeQ586"
      },
      "execution_count": null,
      "outputs": []
    },
    {
      "cell_type": "code",
      "source": [
        "#Examen ponctuel pour vérifier l'exactitude du réseau de neurones\n",
        "\n",
        "# Être humain, Homo sapiens\n",
        "animal = \"être humain\"\n",
        "masse = 6.50E+01\n",
        "# Normalisation de la donnée d'entrée\n",
        "masse_normalisee = normalisateur_attribut_predictif.transform(np.array([masse]).reshape(-1, 1))\n",
        "vraie_valeur_metabolisme = 7.56E+03\n",
        "# Application du modèle en inférence ou prédiction de la variable dépendante et «dénormalisation» du résultat\n",
        "prediction_metabolisme = normalisateur_attribut_cible.inverse_transform(reseau_de_neurones.predict(masse_normalisee))[0][0]\n",
        "# Affichage de la prédiction, de la vraie valeur (mesurée) et de l'écart (ou erreur) en %\n",
        "print(\"\\nAnimal:\", animal,\n",
        "      \", Masse:\", masse,\n",
        "      \", prédiction du métabolisme:\", round(prediction_metabolisme,2),\n",
        "      \", Vraie valeur du métabolisme:\", vraie_valeur_metabolisme,\n",
        "      \", écart en %:\", round((vraie_valeur_metabolisme-prediction_metabolisme)/vraie_valeur_metabolisme*100,2),\"%\")"
      ],
      "metadata": {
        "colab": {
          "base_uri": "https://localhost:8080/"
        },
        "id": "xiepzQ5Sc0f_",
        "outputId": "555f9920-dfaf-41dd-a21d-fa775d7b6ea6"
      },
      "execution_count": 96,
      "outputs": [
        {
          "output_type": "stream",
          "name": "stdout",
          "text": [
            "1/1 [==============================] - 0s 166ms/step\n",
            "\n",
            "Animal: être humain , Masse: 65.0 , prédiction du métabolisme: 8268.58 , Vraie valeur du métabolisme: 7560.0 , écart en %: -9.37 %\n"
          ]
        }
      ]
    },
    {
      "cell_type": "markdown",
      "source": [
        "# Étape 4 Comparaison des deux méthodes"
      ],
      "metadata": {
        "id": "XUBIZGjURBC6"
      }
    },
    {
      "cell_type": "code",
      "source": [
        "#Création de deux petites fonctions pour générer les prédictions de deux méthodes\n",
        "def obtientPredictionDuRN(masse=65):\n",
        "  masse_normalisee = normalisateur_attribut_predictif.transform(np.array([masse]).reshape(-1, 1))\n",
        "  prediction_metabolisme = normalisateur_attribut_cible.inverse_transform(reseau_de_neurones.predict(masse_normalisee))[0][0]\n",
        "  return round(prediction_metabolisme,1)\n",
        "\n",
        "def obtientPredictionDuR(masse=65):\n",
        "  predictionRegressionMetabolisme=1203.2019+(57.0268*masse)\n",
        "  return round(predictionRegressionMetabolisme,1)\n",
        "\n",
        "#Création des deux listes\n",
        "listeResultatsRN=[] #liste des résultats selon le modèle du réseau de neurones\n",
        "for i in range(2,3000,20):\n",
        "  listeResultatsRN.append(obtientPredictionDuRN(i))\n",
        "\n",
        "listeResultatsR=[] #liste des résultats selon le modèle de la régression classique\n",
        "for i in range(2,3000,20):\n",
        "  listeResultatsR.append(1203.2019+(57.0268*i))\n",
        "\n",
        "\n"
      ],
      "metadata": {
        "id": "xvTzQbL1TNzJ"
      },
      "execution_count": null,
      "outputs": []
    },
    {
      "cell_type": "code",
      "source": [
        "obtientPredictionDuR(2.5)"
      ],
      "metadata": {
        "colab": {
          "base_uri": "https://localhost:8080/"
        },
        "id": "VhfCrPtSxzOK",
        "outputId": "83a0b95f-f12b-43d8-d229-bfb06f03e039"
      },
      "execution_count": 98,
      "outputs": [
        {
          "output_type": "execute_result",
          "data": {
            "text/plain": [
              "1345.8"
            ]
          },
          "metadata": {},
          "execution_count": 98
        }
      ]
    },
    {
      "cell_type": "code",
      "source": [
        "#Création d'une fonction pour le calcul de l'erreur entre la vraie valeur et la prédiction (applicable pour les deux méthodes)\n",
        "def calculErreur(valeurReelle=2,estimation=1):\n",
        "  resultat=estimation-valeurReelle\n",
        "  return round(resultat,1)\n",
        "def calculErreurEnPct(valeurReelle=2,estimation=1):\n",
        "  resultat=((estimation-valeurReelle)/valeurReelle)\n",
        "  return round(resultat,1)\n",
        "#Il y a l'erreur simple, entre la valeur estimée et la valeur réelle puis l'erreur en pourcentage de la valeur. La logique est celle-ci: quel est le ratio entre l'erreur et la valeur réelle. Une erreur de 3.5 doit être interprétée comme quoi l'erreur est plus que trois fois plus importante que la valeur réelle du métabolisme.\n",
        "\n"
      ],
      "metadata": {
        "id": "4UREp3XN08vV"
      },
      "execution_count": 99,
      "outputs": []
    },
    {
      "cell_type": "code",
      "source": [
        "#Création d'une base avec l'ensemble des données\n",
        "listeColonnes=['Nom', 'Masse', 'Metabolisme', 'Regression','ReseauN', 'ErreurR', 'ErreurRN', 'ErreurRpct', 'ErreurRNpct']\n",
        "dfinal = pd.DataFrame(columns=listeColonnes)\n",
        "for i in range(0,len(loi_kleiber_data['NomCommun'])):\n",
        "    df2 = pd.DataFrame([[str(loi_kleiber_data['NomCommun'][i]),\n",
        "                         str(loi_kleiber_data['Masse'][i]),\n",
        "                         str(loi_kleiber_data['Metabolisme'][i]),\n",
        "                         str(obtientPredictionDuR(loi_kleiber_data['Masse'][i])),\n",
        "                         str(obtientPredictionDuRN(loi_kleiber_data['Masse'][i])),\n",
        "                         str(calculErreur(loi_kleiber_data['Metabolisme'][i],obtientPredictionDuR(loi_kleiber_data['Masse'][i]))),\n",
        "                         str(calculErreur(loi_kleiber_data['Metabolisme'][i],obtientPredictionDuRN(loi_kleiber_data['Masse'][i]))),\n",
        "                         str(calculErreurEnPct(loi_kleiber_data['Metabolisme'][i],obtientPredictionDuR(loi_kleiber_data['Masse'][i]))),\n",
        "                         str(calculErreurEnPct(loi_kleiber_data['Metabolisme'][i],obtientPredictionDuRN(loi_kleiber_data['Masse'][i])))]], columns=listeColonnes)\n",
        "                             \n",
        "    dfinal=dfinal.append(df2)                 "
      ],
      "metadata": {
        "id": "QBpS-R9BBsd7"
      },
      "execution_count": null,
      "outputs": []
    },
    {
      "cell_type": "code",
      "source": [
        "#Comparaison entre les deux méthodes: combien de fois le réseau performe mieux que la régression\n",
        "dfinal['Comparaison']=dfinal['ErreurR'].astype(float)/dfinal['ErreurRN'].astype(float)\n",
        "\n",
        "#Création d'une variable qui résume la comparaison: 1 le réseau fait mieux que la régression; 0 la régression fait mieux que le réseau de neuronnes\n",
        "dfinal['Evaluation']=0\n",
        "for i in range(0,len(loi_kleiber_data)):\n",
        "  #print(i)\n",
        "  if(abs(dfinal['Comparaison'].values[i])>1 ):\n",
        "    dfinal['Evaluation'].values[i]=1\n",
        "  else:  \n",
        "    dfinal['Evaluation'].values[i]=0\n",
        "#Présentation de l'ensemble des données\n",
        "print(dfinal.to_string())\n",
        "#Calcul du nombre de fois que l'évaluation par le réseau performe mieux que l'évaluation par la régression\n",
        "print(\"--------------------------------------------------------\")\n",
        "print(\"Nombre d'évaluations plus performantes par le réseau: \"+str(dfinal['Evaluation'].sum()))\n",
        "#Calcul du % de la somme des meilleures évaluations par le réseau\n",
        "print(\"Pourcentage des évaluations plus performantes par le réseau: \"+str(round(dfinal['Evaluation'].sum()/len(dfinal['Evaluation'])*100,1)))\n"
      ],
      "metadata": {
        "colab": {
          "base_uri": "https://localhost:8080/"
        },
        "id": "4RH73ESwE12K",
        "outputId": "314efb35-45b6-4e25-beb0-b3cfac541537"
      },
      "execution_count": 101,
      "outputs": [
        {
          "output_type": "stream",
          "name": "stdout",
          "text": [
            "                      Nom    Masse Metabolisme Regression   ReseauN   ErreurR ErreurRN ErreurRpct ErreurRNpct  Comparaison  Evaluation\n",
            "0                 Echidna      2.5       302.0     1345.8     479.1    1043.8    177.1        3.5         0.6     5.893845           1\n",
            "0     Long-beaked echidna     10.3       594.0     1790.6    1458.4    1196.6    864.4        2.0         1.5     1.384313           1\n",
            "0                Platypus      1.3       229.0     1277.3     328.5    1048.3     99.5        4.6         0.4    10.535678           1\n",
            "0                 Opossum    0.812       196.0     1249.5     267.2    1053.5     71.2        5.4         0.4    14.796348           1\n",
            "0  South American opossum     1.33       299.0     1279.0     332.2     980.0     33.2        3.3         0.1    29.518072           1\n",
            "0        Virginia opossum     3.26       519.0     1389.1     574.5     870.1     55.5        1.7         0.1    15.677477           1\n",
            "0    Australian marsupial   0.0141         9.0     1204.0     167.0    1195.0    158.0      132.8        17.6     7.563291           1\n",
            "0             Marsupial    0.00365        17.6     1203.4     165.7    1185.8    148.1       67.4         8.4     8.006752           1\n",
            "0               Marsupial   0.0085        5.17     1203.7     166.3    1198.5    161.1      231.8        31.2     7.439479           1\n",
            "0           Marsupial rat    0.089        37.4     1208.3     176.4    1170.9    139.0       31.3         3.7     8.423741           1\n",
            "0               Bandicoot      1.0       201.0     1260.2     290.8    1059.2     89.8        5.3         0.4    11.795100           1\n",
            "0    Long-nosed bandicoot    0.645       153.0     1240.0     246.2    1087.0     93.2        7.1         0.6    11.663090           1\n",
            "0      Fat-tailed dunnart    0.015        9.64     1204.1     167.1    1194.5    157.5      123.9        16.3     7.584127           1\n",
            "0    Australian marsupial    0.013        13.7     1203.9     166.9    1190.2    153.2       86.9        11.2     7.768930           1\n",
            "0         Tasmanian devil     5.05       628.0     1491.2     799.2     863.2    171.2        1.4         0.3     5.042056           1\n",
            "0        Brushtail possum     1.98       306.0     1316.1     413.8    1010.1    107.8        3.3         0.4     9.370130           1\n",
            "0                Kangaroo     4.69       694.0     1470.7     754.0     776.7     60.0        1.1         0.1    12.945000           1\n",
            "0            Red kangaroo     40.0      4000.0     3484.3    5187.0    -515.7   1187.0       -0.1         0.3    -0.434457           0\n",
            "0          Tammar wallaby      4.8       671.0     1476.9     767.9     805.9     96.9        1.2         0.1     8.316821           1\n",
            "0                   Sloth     3.79       331.0     1419.3     641.1    1088.3    310.1        3.3         0.9     3.509513           1\n",
            "0               Armadillo     3.32       384.0     1392.5     582.1    1008.5    198.1        2.6         0.5     5.090863           1\n",
            "0                Pangolin     2.73       440.0     1358.9     508.0     918.9     68.0        2.1         0.2    13.513235           1\n",
            "0          Scaly anteater     4.22       529.0     1443.9     695.0     914.9    166.0        1.7         0.3     5.511446           1\n",
            "0      Short-tailed shrew    0.021        25.3     1204.4     167.9    1179.1    142.6       46.6         5.6     8.268583           1\n",
            "0                 Hamster    0.362       112.0     1223.8     210.7    1111.8     98.7        9.9         0.9    11.264438           1\n",
            "0      Spiny pocket mouse   0.0438        22.5     1205.7     170.7    1183.2    148.2       52.6         6.6     7.983806           1\n",
            "0           Mexican mouse   0.0481        26.0     1205.9     171.3    1179.9    145.3       45.4         5.6     8.120440           1\n",
            "0                   Mouse   0.0098        18.0     1203.8     166.5    1185.8    148.5       65.9         8.2     7.985185           1\n",
            "0                   Mouse    0.028        22.0     1204.8     168.8    1182.8    146.8       53.8         6.7     8.057221           1\n",
            "0            Golden mouse   0.0195        23.8     1204.3     167.7    1180.5    143.9       49.6         6.0     8.203614           1\n",
            "0                   Mouse    0.021        20.9     1204.4     167.9    1183.5    147.0       56.6         7.0     8.051020           1\n",
            "0                 Woodrat    0.321       121.0     1221.5     205.5    1100.5     84.5        9.1         0.7    13.023669           1\n",
            "0                 Woodrat    0.139        48.2     1211.1     182.7    1162.9    134.5       24.1         2.8     8.646097           1\n",
            "0                 Woodrat    0.187        71.3     1213.9     188.7    1142.6    117.4       16.0         1.6     9.732538           1\n",
            "0                 Woodrat    0.172        61.4     1213.0     186.8    1151.6    125.4       18.8         2.0     9.183413           1\n",
            "0                Musk rat    0.842       333.0     1251.2     271.0     918.2    -62.0        2.8        -0.2   -14.809677           1\n",
            "0            Pocket mouse   0.0115        11.4     1203.9     166.7    1192.5    155.3      104.6        13.6     7.678686           1\n",
            "0                   Mouse   0.0395        23.8     1205.5     170.2    1181.7    146.4       49.7         6.2     8.071721           1\n",
            "0                  Rodent   0.0215        15.4     1204.4     167.9    1189.0    152.5       77.2         9.9     7.796721           1\n",
            "0                  Rodent   0.0455        22.6     1205.8     171.0    1183.2    148.4       52.4         6.6     7.973046           1\n",
            "0      White-footed mouse   0.0222        26.8     1204.5     168.0    1177.7    141.2       43.9         5.3     8.340652           1\n",
            "0                   Shrew   0.0036        15.0     1203.4     165.7    1188.4    150.7       79.2        10.0     7.885866           1\n",
            "0            Common shrew    0.005        17.6     1203.5     165.9    1185.9    148.3       67.4         8.4     7.996628           1\n",
            "0              Chinchilla    0.494       112.0     1231.4     227.3    1119.4    115.3       10.0         1.0     9.708586           1\n",
            "0                Viscacha     6.78       916.0     1589.8    1016.4     673.8    100.4        0.7         0.1     6.711155           1\n",
            "0                  Rodent     0.75       193.0     1246.0     259.4    1053.0     66.4        5.5         0.3    15.858434           1\n",
            "0              Guinea pig      0.5       192.0     1231.7     228.0    1039.7     36.0        5.4         0.2    28.880556           1\n",
            "0                  Marmot     2.65       320.0     1354.3     497.9    1034.3    177.9        3.2         0.6     5.813940           1\n",
            "0                     Rat    0.076        40.7     1207.5     174.8    1166.8    134.1       28.7         3.3     8.700969           1\n",
            "0                     Rat    0.109        30.5     1209.4     178.9    1178.9    148.4       38.7         4.9     7.944070           1\n",
            "0                     Rat    0.132        80.9     1210.7     181.8    1129.8    100.9       14.0         1.2    11.197225           1\n",
            "0                     Rat    0.187        51.4     1213.9     188.7    1162.5    137.3       22.6         2.7     8.466861           1\n",
            "0              Cotton rat    0.161       168.0     1212.4     185.5    1044.4     17.5        6.2         0.1    59.680000           1\n",
            "0              Brown hare      2.5       528.0     1345.8     479.1     817.8    -48.9        1.5        -0.1   -16.723926           1\n",
            "0           Snowshoe hare     1.58       686.0     1293.3     363.6     607.3   -322.4        0.9        -0.5    -1.883685           1\n",
            "0             Jack Rabbit      2.3       623.0     1334.4     454.0     711.4   -169.0        1.1        -0.3    -4.209467           1\n",
            "0           Mountain hare      3.0       522.0     1374.3     541.9     852.3     19.9        1.6         0.0    42.829146           1\n",
            "0                    Hare     3.36       730.0     1394.8     587.1     664.8   -142.9        0.9        -0.2    -4.652204           1\n",
            "0              Cottontail    0.702       220.0     1243.2     253.4    1023.2     33.4        4.7         0.2    30.634731           1\n",
            "0               Pronghorn     32.0      4320.0     3028.1    4182.7   -1291.9   -137.3       -0.3        -0.0     9.409323           1\n",
            "0                   Camel    407.0     23600.0    24413.1   30623.8     813.1   7023.8        0.0         0.3     0.115764           0\n",
            "0          Asian elephant   3000.0    165000.0   172283.6  166685.4    7283.6   1685.4        0.0         0.0     4.321585           1\n",
            "0                Roe deer     19.0      3670.0     2286.7    2550.6   -1383.3  -1119.4       -0.4        -0.3     1.235751           1\n",
            "0                Red deer     58.0      7800.0     4510.8    7446.8   -3289.2   -353.2       -0.4        -0.0     9.312571           1\n",
            "0                 # Horse    400.0     32000.0    24013.9   30256.5   -7986.1  -1743.5       -0.2        -0.1     4.580499           1\n",
            "0            Merino sheep     49.0      4200.0     3997.5    6316.9    -202.5   2116.9       -0.0         0.5    -0.095659           0\n",
            "0                   Sheep     65.0     10700.0     4909.9    8268.6   -5790.1  -2431.4       -0.5        -0.2     2.381385           1\n",
            "0                 Buffalo    420.0     29400.0    25154.5   31306.0   -4245.5   1906.0       -0.1         0.1    -2.227440           1\n",
            "0                 Chamois     40.0      3140.0     3484.3    5187.0     344.3   2047.0        0.1         0.7     0.168197           0\n",
            "0                   Swine    140.0     12000.0     9187.0   15481.5   -2813.0   3481.5       -0.2         0.3    -0.807985           0\n",
            "0        Collored peccary     20.2       826.0     2355.1    2701.2    1529.1   1875.2        1.9         2.3     0.815433           0\n",
            "0                   Otter     10.0      2200.0     1773.5    1420.7    -426.5   -779.3       -0.2        -0.4     0.547286           0\n",
            "0               Wolverine     12.7      2820.0     1927.4    1759.7    -892.6  -1060.3       -0.3        -0.4     0.841837           0\n",
            "0                  Badger     11.1      1440.0     1836.2    1558.8     396.2    118.8        0.3         0.1     3.335017           1\n",
            "0               Sea otter     40.0     12400.0     3484.3    5187.0   -8915.7  -7213.0       -0.7        -0.6     1.236060           1\n",
            "0                     Fox     5.01      1210.0     1488.9     794.2     278.9   -415.8        0.2        -0.3    -0.670755           0\n",
            "0                  Coyote     10.0      1320.0     1773.5    1420.7     453.5    100.7        0.3         0.1     4.503476           1\n",
            "0                     Dog     14.0      1880.0     2001.6    1922.9     121.6     42.9        0.1         0.0     2.834499           1\n",
            "0                  Jaguar     18.0      2440.0     2229.7    2425.0    -210.3    -15.0       -0.1        -0.0    14.020000           1\n",
            "0                   # Cat      3.0       546.0     1374.3     541.9     828.3     -4.1        1.5        -0.0  -202.024390           1\n",
            "0                    Mink     0.66       239.0     1240.8     248.1    1001.8      9.1        4.2         0.0   110.087912           1\n",
            "0             Harbor seal     26.0      7400.0     2685.9    3429.4   -4714.1  -3970.6       -0.6        -0.5     1.187251           1\n",
            "0            Beluga whale    170.0     23000.0    10897.8   18187.8  -12102.2  -4812.2       -0.5        -0.2     2.514900           1\n",
            "0      Bottle-nosed whale   1000.0     69500.0    58230.0   61740.1  -11270.0  -7759.9       -0.2        -0.1     1.452338           1\n",
            "0                     Bat    0.029        9.65     1204.9     168.9    1195.2    159.2      123.9        16.5     7.507538           1\n",
            "0                     Bat    0.022        15.6     1204.5     168.0    1188.9    152.4       76.2         9.8     7.801181           1\n",
            "0               Ghost bat    0.148        68.0     1211.6     183.8    1143.6    115.8       16.8         1.7     9.875648           1\n",
            "0            Molossid bat    0.057        14.2     1206.5     172.4    1192.3    158.2       84.0        11.1     7.536662           1\n",
            "0                 Fox bat    0.598       153.0     1237.3     240.3    1084.3     87.3        7.1         0.6    12.420389           1\n",
            "0              Chimpanzee     45.0      4620.0     3769.4    5814.7    -850.6   1194.7       -0.2         0.3    -0.711978           0\n",
            "0           Rhesus monkey      5.0       960.0     1488.3     793.0     528.3   -167.0        0.6        -0.2    -3.163473           1\n",
            "0               Orangutan    150.0     15500.0     9757.2   16386.6   -5742.8    886.6       -0.4         0.1    -6.477329           1\n",
            "0                 Gorilla    250.0     21000.0    15459.9   22385.6   -5540.1   1385.6       -0.3         0.1    -3.998340           1\n",
            "0                  Gibbon      8.0      1510.0     1659.4    1169.6     149.4   -340.4        0.1        -0.2    -0.438895           0\n",
            "0                   # Man     65.0      7560.0     4909.9    8268.6   -2650.1    708.6       -0.4         0.1    -3.739910           1\n",
            "--------------------------------------------------------\n",
            "Nombre d'évaluations plus performantes par le réseau: 84\n",
            "Pourcentage des évaluations plus performantes par le réseau: 88.4\n"
          ]
        }
      ]
    },
    {
      "cell_type": "markdown",
      "source": [
        "# Étape 5: Visualisation de la comparaison\n"
      ],
      "metadata": {
        "id": "z5snDDv3tADz"
      }
    },
    {
      "cell_type": "markdown",
      "source": [
        "De deux façons, on effectue la comparaison.  Par la première, on peut voir que généralement la régression produit une erreur 2,3, 10 ou 100 fois plus grande que la méthode des réseaux. Par exemple, pour le premier cas, la valeur réelle du métabolisme est de 302.0. La régression donne une prédiction de 1345,8 et les réseaux donne une prédiction de 58.6.   Il n'y a que 13 des 95 cas où l'erreur de la régression est plus petite que l'erreur des réseaux, avec un ratio de -1 à 1.\n"
      ],
      "metadata": {
        "id": "JOKLTTVttWOD"
      }
    },
    {
      "cell_type": "code",
      "source": [
        "#Représentation graphique\n",
        "fig, ax = plt.subplots(figsize=(20, 6))\n",
        "ax.hist(dfinal['Comparaison'].values, bins=range(-210,100,1))\n",
        "ax.vlines([-1,1], 0, 20, linestyles='dashed', colors='red')\n",
        "ax.text( -100,15,\"En mettant en rapport les % des erreurs des deux méthodes:\")\n",
        "ax.text( -90,12,\"84 cas mieux évalués\\npar les réseaux de neurones (plus que 1 ou moins que 1)\")\n",
        "ax.text( -90,9,\"11 cas mieux évalués\\npar la régression linéaire (entre -1 et 1) \\nentre les deux lignes rouges\")\n",
        "ax.text( -90,6,\"La méthode des réseaux\\nestime \"+str(round(dfinal['Comparaison'].values.mean(),2)) +\" mieux que la régression linéaire.\")\n",
        "plt.title(\"Le réseau de neurones prédit six fois mieux les valeurs que la régression linéaire\")\n",
        "\n",
        "plt.show()"
      ],
      "metadata": {
        "colab": {
          "base_uri": "https://localhost:8080/",
          "height": 390
        },
        "id": "NFNB3ZZ1eDci",
        "outputId": "189a0dbc-3c7b-42eb-ca64-f53e64ddcb11"
      },
      "execution_count": 105,
      "outputs": [
        {
          "output_type": "display_data",
          "data": {
            "text/plain": [
              "<Figure size 1440x432 with 1 Axes>"
            ],
            "image/png": "[encoded data removed]"
          },
          "metadata": {
            "needs_background": "light"
          }
        }
      ]
    },
    {
      "cell_type": "code",
      "source": [
        "#Simulation des deux méthodes avec l'allure de la prédiction\n",
        "import matplotlib.pyplot as plt\n",
        "import numpy as np\n",
        "\n",
        "plt.plot(range(0,3000,20),listeResultatsRN)\n",
        "plt.scatter(loi_kleiber_data['Masse'], loi_kleiber_data['Metabolisme'], color='red')\n",
        "plt.title(\"Méthode des réseaux de neurones\")\n",
        "plt.show()\n",
        "\n",
        "plt.plot(range(0,3000,20),listeResultatsR)\n",
        "plt.scatter(loi_kleiber_data['Masse'], loi_kleiber_data['Metabolisme'], color='red')\n",
        "plt.title(\"Méthode de la régression linéaire\")\n",
        "plt.show()\n"
      ],
      "metadata": {
        "colab": {
          "base_uri": "https://localhost:8080/",
          "height": 545
        },
        "id": "jfJy4JyigKsn",
        "outputId": "38320b9d-c93c-4f3e-b1ad-13891a5bc61b"
      },
      "execution_count": 103,
      "outputs": [
        {
          "output_type": "display_data",
          "data": {
            "text/plain": [
              "<Figure size 432x288 with 1 Axes>"
            ],
            "image/png": "[encoded data removed]"
          },
          "metadata": {
            "needs_background": "light"
          }
        },
        {
          "output_type": "display_data",
          "data": {
            "text/plain": [
              "<Figure size 432x288 with 1 Axes>"
            ],
            "image/png": "[encoded data removed]"
          },
          "metadata": {
            "needs_background": "light"
          }
        }
      ]
    },
    {
      "cell_type": "markdown",
      "source": [
        "Un examen attentif des deux graphiques précédents montre que dans le premier, la courbe résume mieux les points, surtout pour les cas proches de zéro."
      ],
      "metadata": {
        "id": "AkkTZ9Hk6DWI"
      }
    }
  ]
}