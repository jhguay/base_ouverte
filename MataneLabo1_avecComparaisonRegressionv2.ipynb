{
  "nbformat": 4,
  "nbformat_minor": 0,
  "metadata": {
    "colab": {
      "provenance": [],
      "collapsed_sections": [],
      "authorship_tag": "ABX9TyOHPKdG2A01iJT03gc3IliH",
      "include_colab_link": true
    },
    "kernelspec": {
      "name": "python3",
      "display_name": "Python 3"
    },
    "language_info": {
      "name": "python"
    }
  },
  "cells": [
    {
      "cell_type": "markdown",
      "metadata": {
        "id": "view-in-github",
        "colab_type": "text"
      },
      "source": [
        "<a href=\"https://colab.research.google.com/github/jhguay/base_ouverte/blob/main/MataneLabo1_avecComparaisonRegressionv2.ipynb\" target=\"_parent\"><img src=\"https://colab.research.google.com/assets/colab-badge.svg\" alt=\"Open In Colab\"/></a>"
      ]
    },
    {
      "cell_type": "markdown",
      "source": [
        "# **Comparaison entre les prédictions de la régression linéaire classique et l'IA (réseaux de neurones), deux variables continues**\n"
      ],
      "metadata": {
        "id": "wgRtNqLdYjzJ"
      }
    },
    {
      "cell_type": "markdown",
      "source": [
        "Ici je reprends l'exemple et une partie du code développé dans le cours **Vision artificielle et exploitation des ressources naturelles** du Cegep de Matane. La base donne cinq informations: le **nom commun**, le **nom scientifique**, la **masse** en kg, le **métabolisme** en joules et la** durée de vie** en année.  C'est la loi de Kleiber, expliquant le métabolisme par la masse, qui constitue le fondement théorique de cette base.\n",
        "\n",
        "Plusieurs étapes: \n",
        "\n",
        "1.   On importe les bibliothèques nécessaires; on importe la base et on \n",
        "regarde les données sommairement.\n",
        "2.   On fait la régression classique de laquelle on extrait le coefficient et la constante.\n",
        "3.   On prépare le réseau de neurones et on l'applique\n",
        "4.   On compare l'erreur d'estimation des deux méthodes\n",
        "\n",
        "\n",
        "\n"
      ],
      "metadata": {
        "id": "4yR72LcnIjEO"
      }
    },
    {
      "cell_type": "markdown",
      "source": [
        "# Étape 1: Importation des bibliothèques et de la base de données"
      ],
      "metadata": {
        "id": "Qt5NAZs-O6T3"
      }
    },
    {
      "cell_type": "code",
      "source": [
        "# Importation des bibliothèques Python\n",
        "import tensorflow as tf\n",
        "import numpy as np\n",
        "import pandas as pd\n",
        "import os\n",
        "import random\n",
        "from sklearn.preprocessing import StandardScaler\n",
        "\n",
        "# Lecture des données\n",
        "loi_kleiber_data = pd.read_csv(\"https://github.com/ClaudeCoulombe/VIARENA/blob/master/DATA/LoiDeKleiber.csv?raw=True\")\n",
        "print(loi_kleiber_data)\n",
        "print(\"Données lues\")\n",
        "\n",
        "# Information sur la base\n",
        "loi_kleiber_data.info()\n",
        "loi_kleiber_data.sample(n=5,random_state=42)\n",
        "loi_kleiber_data['Masse'].max()\n"
      ],
      "metadata": {
        "id": "zLnpfpiRPd5g"
      },
      "execution_count": null,
      "outputs": []
    },
    {
      "cell_type": "markdown",
      "source": [
        "# Étape 2: Traitement selon la méthode classique de la régression"
      ],
      "metadata": {
        "id": "VZ5aGZ4YPrgB"
      }
    },
    {
      "cell_type": "code",
      "source": [
        "import statsmodels.api as sm\n",
        "from patsy import dmatrices\n",
        "y,x=dmatrices('Metabolisme ~ Masse', data=loi_kleiber_data,return_type='dataframe')\n",
        "mod=sm.OLS(y,x)\n",
        "res=mod.fit()\n",
        "print(res.summary())\n",
        "\n",
        "#Application de l'équation de régresion\n",
        "print(\"--------------------------------------------------------------------------------------------------------------\")\n",
        "masse=65\n",
        "predictionMetabolisme=1203.2019+(57.0268*masse)\n",
        "print(predictionMetabolisme)"
      ],
      "metadata": {
        "id": "tDBl9NYLPq0a"
      },
      "execution_count": null,
      "outputs": []
    },
    {
      "cell_type": "markdown",
      "source": [
        "#Étape 3: Traitement selon la méthode propre à l'intelligence artificielle"
      ],
      "metadata": {
        "id": "7B41YRDfP255"
      }
    },
    {
      "cell_type": "code",
      "source": [
        "# Définir un germe aléatoire\n",
        "GERME_ALEATOIRE=11\n",
        "os.environ['PYTHONHASHSEED'] = str(GERME_ALEATOIRE)\n",
        "random.seed(GERME_ALEATOIRE)\n",
        "np.random.seed(GERME_ALEATOIRE)\n",
        "tf.random.set_seed(GERME_ALEATOIRE)\n",
        "os.environ['TF_DETERMINISTIC_OPS'] = '1'\n",
        "os.environ['TF_CUDNN_DETERMINISTIC'] = '1'\n",
        "print(\"Germe aléatoire fixé\")\n",
        "\n",
        "#On isole les deux variables et on les normalise\n",
        "\n",
        "attribut_predictif = loi_kleiber_data['Masse'].values.reshape(-1, 1)\n",
        "normalisateur_attribut_predictif = StandardScaler()\n",
        "normalisateur_attribut_predictif.fit(attribut_predictif)\n",
        "attribut_predictif = normalisateur_attribut_predictif.transform(attribut_predictif)\n",
        "\n",
        "attribut_cible = loi_kleiber_data['Metabolisme'].values.reshape(-1, 1)\n",
        "normalisateur_attribut_cible = StandardScaler()\n",
        "normalisateur_attribut_cible.fit(attribut_cible)\n",
        "attribut_cible = normalisateur_attribut_cible.transform(attribut_cible)\n",
        "\n",
        "# Construction d'un réseau de neurones de typ percptron à trois couches: couche d'entrée, couche cachée, couche de sortie\n",
        "reseau_de_neurones = tf.keras.models.Sequential([tf.keras.layers.Dense(units=1, input_shape=[1]),\n",
        "                                                 tf.keras.layers.Dense(units=10, activation='relu'),\n",
        "                                                 tf.keras.layers.Dense(units=1)])\n",
        "# Affichage de l'architecture du réseau\n",
        "print(\"Architecture du réseau de neurones:\")\n",
        "reseau_de_neurones.summary()\n",
        "\n",
        "#Compilation du réseau de neurones\n",
        "# optimiseur: Adam\n",
        "# taux d'apprentissage: 0.001\n",
        "# fonction d'erreur: erreur quadratique moyenne ('mean_squared_error') \n",
        "\n",
        "# Compilation du réseau de neurones - optimiseur: Adam, taux d'apprentissage: 0.001, fonction d'erreur: erreur quadratique moyenne (mean_squared_error) \n",
        "reseau_de_neurones.compile(optimizer=tf.keras.optimizers.Adam(learning_rate=0.001),loss='mean_squared_error')\n",
        "print(\"Réseau de neurones compilé\")\n",
        "\n",
        "# Entraînement du réseau sur les données: variable_explicative et variable_dependante, pendant 500 itérations ou époques\n",
        "traces = reseau_de_neurones.fit(attribut_predictif,attribut_cible,epochs=500,verbose=1)\n",
        "# Affichage de l'erreur à la fin de l'entraînement\n",
        "print(\"Erreur à la fin:\",traces.history['loss'][-1])\n"
      ],
      "metadata": {
        "id": "k1k0X2LeQ586"
      },
      "execution_count": null,
      "outputs": []
    },
    {
      "cell_type": "code",
      "source": [
        "#Examen ponctuel pour vérifier l'exactitude du réseau de neurones\n",
        "\n",
        "# Être humain, Homo sapiens\n",
        "animal = \"être humain\"\n",
        "masse = 6.50E+01\n",
        "# Normalisation de la donnée d'entrée\n",
        "masse_normalisee = normalisateur_attribut_predictif.transform(np.array([masse]).reshape(-1, 1))\n",
        "vraie_valeur_metabolisme = 7.56E+03\n",
        "# Application du modèle en inférence ou prédiction de la variable dépendante et «dénormalisation» du résultat\n",
        "prediction_metabolisme = normalisateur_attribut_cible.inverse_transform(reseau_de_neurones.predict(masse_normalisee))[0][0]\n",
        "# Affichage de la prédiction, de la vraie valeur (mesurée) et de l'écart (ou erreur) en %\n",
        "print(\"\\nAnimal:\", animal,\n",
        "      \", Masse:\", masse,\n",
        "      \", prédiction du métabolisme:\", round(prediction_metabolisme,2),\n",
        "      \", Vraie valeur du métabolisme:\", vraie_valeur_metabolisme,\n",
        "      \", écart en %:\", round((vraie_valeur_metabolisme-prediction_metabolisme)/vraie_valeur_metabolisme*100,2),\"%\")"
      ],
      "metadata": {
        "id": "xiepzQ5Sc0f_"
      },
      "execution_count": null,
      "outputs": []
    },
    {
      "cell_type": "markdown",
      "source": [
        "# Étape 4 Comparaison des deux méthodes"
      ],
      "metadata": {
        "id": "XUBIZGjURBC6"
      }
    },
    {
      "cell_type": "code",
      "source": [
        "#Création de deux petites fonctions pour générer les prédictions de deux méthodes\n",
        "def obtientPredictionDuRN(masse=65):\n",
        "  masse_normalisee = normalisateur_attribut_predictif.transform(np.array([masse]).reshape(-1, 1))\n",
        "  prediction_metabolisme = normalisateur_attribut_cible.inverse_transform(reseau_de_neurones.predict(masse_normalisee))[0][0]\n",
        "  return round(prediction_metabolisme,1)\n",
        "\n",
        "def obtientPredictionDuR(masse=65):\n",
        "  predictionRegressionMetabolisme=1203.2019+(57.0268*masse)\n",
        "  return round(predictionRegressionMetabolisme,1)\n",
        "\n",
        "#Création des deux listes\n",
        "listeResultatsRN=[] #liste des résultats selon le modèle du réseau de neurones\n",
        "for i in range(2,3000,20):\n",
        "  listeResultatsRN.append(obtientPredictionDuRN(i))\n",
        "\n",
        "listeResultatsR=[] #liste des résultats selon le modèle de la régression classique\n",
        "for i in range(2,3000,20):\n",
        "  listeResultatsR.append(1203.2019+(57.0268*i))\n",
        "\n"
      ],
      "metadata": {
        "colab": {
          "base_uri": "https://localhost:8080/"
        },
        "id": "xvTzQbL1TNzJ",
        "outputId": "eda5f770-5282-4ca0-fb40-09abdc8c9a75"
      },
      "execution_count": null,
      "outputs": [
        {
          "output_type": "stream",
          "name": "stdout",
          "text": [
            "1/1 [==============================] - 0s 36ms/step\n",
            "1/1 [==============================] - 0s 26ms/step\n",
            "1/1 [==============================] - 0s 36ms/step\n",
            "1/1 [==============================] - 0s 23ms/step\n",
            "1/1 [==============================] - 0s 31ms/step\n",
            "1/1 [==============================] - 0s 26ms/step\n",
            "1/1 [==============================] - 0s 28ms/step\n",
            "1/1 [==============================] - 0s 31ms/step\n",
            "1/1 [==============================] - 0s 31ms/step\n",
            "1/1 [==============================] - 0s 26ms/step\n",
            "1/1 [==============================] - 0s 27ms/step\n",
            "1/1 [==============================] - 0s 33ms/step\n",
            "1/1 [==============================] - 0s 29ms/step\n",
            "1/1 [==============================] - 0s 29ms/step\n",
            "1/1 [==============================] - 0s 30ms/step\n",
            "1/1 [==============================] - 0s 25ms/step\n",
            "1/1 [==============================] - 0s 26ms/step\n",
            "1/1 [==============================] - 0s 26ms/step\n",
            "1/1 [==============================] - 0s 30ms/step\n",
            "1/1 [==============================] - 0s 27ms/step\n",
            "1/1 [==============================] - 0s 36ms/step\n",
            "1/1 [==============================] - 0s 34ms/step\n",
            "1/1 [==============================] - 0s 28ms/step\n",
            "1/1 [==============================] - 0s 28ms/step\n",
            "1/1 [==============================] - 0s 30ms/step\n",
            "1/1 [==============================] - 0s 27ms/step\n",
            "1/1 [==============================] - 0s 27ms/step\n",
            "1/1 [==============================] - 0s 28ms/step\n",
            "1/1 [==============================] - 0s 25ms/step\n",
            "1/1 [==============================] - 0s 25ms/step\n",
            "1/1 [==============================] - 0s 25ms/step\n",
            "1/1 [==============================] - 0s 26ms/step\n",
            "1/1 [==============================] - 0s 35ms/step\n",
            "1/1 [==============================] - 0s 36ms/step\n",
            "1/1 [==============================] - 0s 29ms/step\n",
            "1/1 [==============================] - 0s 27ms/step\n",
            "1/1 [==============================] - 0s 29ms/step\n",
            "1/1 [==============================] - 0s 26ms/step\n",
            "1/1 [==============================] - 0s 30ms/step\n",
            "1/1 [==============================] - 0s 27ms/step\n",
            "1/1 [==============================] - 0s 25ms/step\n",
            "1/1 [==============================] - 0s 26ms/step\n",
            "1/1 [==============================] - 0s 27ms/step\n",
            "1/1 [==============================] - 0s 28ms/step\n",
            "1/1 [==============================] - 0s 26ms/step\n",
            "1/1 [==============================] - 0s 30ms/step\n",
            "1/1 [==============================] - 0s 35ms/step\n",
            "1/1 [==============================] - 0s 29ms/step\n",
            "1/1 [==============================] - 0s 28ms/step\n",
            "1/1 [==============================] - 0s 30ms/step\n",
            "1/1 [==============================] - 0s 34ms/step\n",
            "1/1 [==============================] - 0s 24ms/step\n",
            "1/1 [==============================] - 0s 28ms/step\n",
            "1/1 [==============================] - 0s 30ms/step\n",
            "1/1 [==============================] - 0s 30ms/step\n",
            "1/1 [==============================] - 0s 24ms/step\n",
            "1/1 [==============================] - 0s 32ms/step\n",
            "1/1 [==============================] - 0s 27ms/step\n",
            "1/1 [==============================] - 0s 25ms/step\n",
            "1/1 [==============================] - 0s 36ms/step\n",
            "1/1 [==============================] - 0s 28ms/step\n",
            "1/1 [==============================] - 0s 28ms/step\n",
            "1/1 [==============================] - 0s 32ms/step\n",
            "1/1 [==============================] - 0s 28ms/step\n",
            "1/1 [==============================] - 0s 26ms/step\n",
            "1/1 [==============================] - 0s 30ms/step\n",
            "1/1 [==============================] - 0s 26ms/step\n",
            "1/1 [==============================] - 0s 27ms/step\n",
            "1/1 [==============================] - 0s 26ms/step\n",
            "1/1 [==============================] - 0s 33ms/step\n",
            "1/1 [==============================] - 0s 31ms/step\n",
            "1/1 [==============================] - 0s 28ms/step\n",
            "1/1 [==============================] - 0s 30ms/step\n",
            "1/1 [==============================] - 0s 32ms/step\n",
            "1/1 [==============================] - 0s 32ms/step\n",
            "1/1 [==============================] - 0s 27ms/step\n",
            "1/1 [==============================] - 0s 28ms/step\n",
            "1/1 [==============================] - 0s 31ms/step\n",
            "1/1 [==============================] - 0s 29ms/step\n",
            "1/1 [==============================] - 0s 33ms/step\n",
            "1/1 [==============================] - 0s 32ms/step\n",
            "1/1 [==============================] - 0s 31ms/step\n",
            "1/1 [==============================] - 0s 30ms/step\n",
            "1/1 [==============================] - 0s 31ms/step\n",
            "1/1 [==============================] - 0s 27ms/step\n",
            "1/1 [==============================] - 0s 32ms/step\n",
            "1/1 [==============================] - 0s 32ms/step\n",
            "1/1 [==============================] - 0s 26ms/step\n",
            "1/1 [==============================] - 0s 25ms/step\n",
            "1/1 [==============================] - 0s 25ms/step\n",
            "1/1 [==============================] - 0s 28ms/step\n",
            "1/1 [==============================] - 0s 24ms/step\n",
            "1/1 [==============================] - 0s 28ms/step\n",
            "1/1 [==============================] - 0s 33ms/step\n",
            "1/1 [==============================] - 0s 28ms/step\n",
            "1/1 [==============================] - 0s 28ms/step\n",
            "1/1 [==============================] - 0s 23ms/step\n",
            "1/1 [==============================] - 0s 27ms/step\n",
            "1/1 [==============================] - 0s 30ms/step\n",
            "1/1 [==============================] - 0s 28ms/step\n",
            "1/1 [==============================] - 0s 27ms/step\n",
            "1/1 [==============================] - 0s 25ms/step\n",
            "1/1 [==============================] - 0s 27ms/step\n",
            "1/1 [==============================] - 0s 34ms/step\n",
            "1/1 [==============================] - 0s 26ms/step\n",
            "1/1 [==============================] - 0s 28ms/step\n",
            "1/1 [==============================] - 0s 37ms/step\n",
            "1/1 [==============================] - 0s 27ms/step\n",
            "1/1 [==============================] - 0s 25ms/step\n",
            "1/1 [==============================] - 0s 27ms/step\n",
            "1/1 [==============================] - 0s 26ms/step\n",
            "1/1 [==============================] - 0s 25ms/step\n",
            "1/1 [==============================] - 0s 26ms/step\n",
            "1/1 [==============================] - 0s 29ms/step\n",
            "1/1 [==============================] - 0s 35ms/step\n",
            "1/1 [==============================] - 0s 27ms/step\n",
            "1/1 [==============================] - 0s 27ms/step\n",
            "1/1 [==============================] - 0s 27ms/step\n",
            "1/1 [==============================] - 0s 28ms/step\n",
            "1/1 [==============================] - 0s 27ms/step\n",
            "1/1 [==============================] - 0s 28ms/step\n",
            "1/1 [==============================] - 0s 25ms/step\n",
            "1/1 [==============================] - 0s 25ms/step\n",
            "1/1 [==============================] - 0s 33ms/step\n",
            "1/1 [==============================] - 0s 28ms/step\n",
            "1/1 [==============================] - 0s 31ms/step\n",
            "1/1 [==============================] - 0s 25ms/step\n",
            "1/1 [==============================] - 0s 28ms/step\n",
            "1/1 [==============================] - 0s 28ms/step\n",
            "1/1 [==============================] - 0s 32ms/step\n",
            "1/1 [==============================] - 0s 28ms/step\n",
            "1/1 [==============================] - 0s 29ms/step\n",
            "1/1 [==============================] - 0s 31ms/step\n",
            "1/1 [==============================] - 0s 26ms/step\n",
            "1/1 [==============================] - 0s 25ms/step\n",
            "1/1 [==============================] - 0s 26ms/step\n",
            "1/1 [==============================] - 0s 31ms/step\n",
            "1/1 [==============================] - 0s 32ms/step\n",
            "1/1 [==============================] - 0s 28ms/step\n",
            "1/1 [==============================] - 0s 27ms/step\n",
            "1/1 [==============================] - 0s 31ms/step\n",
            "1/1 [==============================] - 0s 29ms/step\n",
            "1/1 [==============================] - 0s 31ms/step\n",
            "1/1 [==============================] - 0s 37ms/step\n",
            "1/1 [==============================] - 0s 24ms/step\n",
            "1/1 [==============================] - 0s 26ms/step\n",
            "1/1 [==============================] - 0s 32ms/step\n",
            "1/1 [==============================] - 0s 26ms/step\n",
            "1/1 [==============================] - 0s 32ms/step\n",
            "1/1 [==============================] - 0s 26ms/step\n"
          ]
        }
      ]
    },
    {
      "cell_type": "code",
      "source": [
        "def calculErreur(valeurReelle=2,estimation=1):\n",
        "  resultat=(valeurReelle-estimation)/valeurReelle*100\n",
        "\n",
        "  return round(resultat,1)\n",
        "\n",
        "listeDesMasses=list(loi_kleiber_data[\"Masse\"])\n",
        "\n",
        "\n",
        "print(listeDesMasses)\n",
        "for i in range(0, len(listeDesMasses)):\n",
        "  print(\"Nom \"+str(loi_kleiber_data['NomCommun'][i])+\n",
        "      \" Masse: \"+str(loi_kleiber_data['Masse'][i])+\n",
        "        \" Metabolisme: \"+str(loi_kleiber_data['Metabolisme'][i])+\n",
        "        \" R: \"+str(obtientPredictionDuR(loi_kleiber_data['Masse'][i]))+\n",
        "        \" RN: \"+str(obtientPredictionDuRN(loi_kleiber_data['Masse'][i]))+\n",
        "        \" Erreur R (%): \"+str(calculErreur(loi_kleiber_data['Metabolisme'][i],obtientPredictionDuR(loi_kleiber_data['Masse'][i])))+\n",
        "        \" Erreur RN (%):\"+str(calculErreur(loi_kleiber_data['Metabolisme'][i],obtientPredictionDuRN(loi_kleiber_data['Masse'][i]))))\n"
      ],
      "metadata": {
        "id": "4UREp3XN08vV"
      },
      "execution_count": null,
      "outputs": []
    },
    {
      "cell_type": "code",
      "source": [
        "#Création d'une base avec l'ensemble des données\n",
        "listeColonnes=['Nom', 'Masse', 'Metabolisme', 'Regression','ReseauN', 'ErreurR', 'ErreurRN']\n",
        "dfinal = pd.DataFrame(columns=listeColonnes)\n",
        "for i in range(0,len(loi_kleiber_data['NomCommun'])):\n",
        "    df2 = pd.DataFrame([[str(loi_kleiber_data['NomCommun'][i]),\n",
        "                         str(loi_kleiber_data['Masse'][i]),\n",
        "                         str(loi_kleiber_data['Metabolisme'][i]),\n",
        "                         str(obtientPredictionDuR(loi_kleiber_data['Masse'][i])),\n",
        "                         str(obtientPredictionDuRN(loi_kleiber_data['Masse'][i])),\n",
        "                         str(calculErreur(loi_kleiber_data['Metabolisme'][i],obtientPredictionDuR(loi_kleiber_data['Masse'][i]))),\n",
        "                         str(calculErreur(loi_kleiber_data['Metabolisme'][i],obtientPredictionDuRN(loi_kleiber_data['Masse'][i])))]], columns=listeColonnes)\n",
        "                             \n",
        "    dfinal=dfinal.append(df2)                 \n",
        "\n",
        "print(dfinal)\n"
      ],
      "metadata": {
        "id": "QBpS-R9BBsd7"
      },
      "execution_count": null,
      "outputs": []
    },
    {
      "cell_type": "code",
      "source": [],
      "metadata": {
        "id": "4RH73ESwE12K"
      },
      "execution_count": null,
      "outputs": []
    },
    {
      "cell_type": "code",
      "source": [
        "print(listeResultatsRN)\n",
        "\n",
        "import matplotlib.pyplot as plt\n",
        "import numpy as np\n",
        "\n",
        "\n",
        "plt.plot(range(2,3000,20),listeResultatsRN)\n",
        "plt.scatter(loi_kleiber_data['Masse'], loi_kleiber_data['Metabolisme'], color='red')\n",
        "plt.show()\n",
        "\n",
        "plt.plot(range(2,3000,20),listeResultatsR)\n",
        "plt.scatter(loi_kleiber_data['Masse'], loi_kleiber_data['Metabolisme'], color='red')\n",
        "plt.show()\n",
        "\n",
        "\n",
        "\n",
        "\n"
      ],
      "metadata": {
        "colab": {
          "base_uri": "https://localhost:8080/",
          "height": 551
        },
        "id": "jfJy4JyigKsn",
        "outputId": "b99db599-7365-4bc5-d092-09ce6c78f979"
      },
      "execution_count": null,
      "outputs": [
        {
          "output_type": "stream",
          "name": "stdout",
          "text": [
            "[416.3, 2927.2, 5438.1, 7948.5, 10082.4, 12042.1, 13852.3, 15662.6, 17472.8, 18817.5, 19866.9, 20916.4, 21965.8, 23015.3, 24064.7, 25114.2, 26163.6, 27213.1, 28262.6, 29312.0, 30361.4, 31410.9, 32460.4, 33509.8, 34559.3, 35608.7, 36658.2, 37707.6, 38757.1, 39806.5, 40856.0, 41905.4, 42954.9, 44004.3, 45053.8, 46103.2, 47152.7, 48202.2, 49251.6, 50301.0, 51350.5, 52400.0, 53449.4, 54498.9, 55548.3, 56597.8, 57647.2, 58696.7, 59746.1, 60795.6, 61845.0, 62894.5, 63943.9, 64993.4, 66042.8, 67092.3, 68141.8, 69191.2, 70240.6, 71290.1, 72339.6, 73389.0, 74438.5, 75487.9, 76537.4, 77586.8, 78636.3, 79685.7, 80735.2, 81784.6, 82834.1, 83883.5, 84933.0, 85982.4, 87031.9, 88081.4, 89130.8, 90180.3, 91229.7, 92279.2, 93328.6, 94378.1, 95427.5, 96477.0, 97526.4, 98575.9, 99625.3, 100674.8, 101724.2, 102773.7, 103823.2, 104872.6, 105922.0, 106971.5, 108021.0, 109070.4, 110119.9, 111169.3, 112218.8, 113268.2, 114317.7, 115367.1, 116416.6, 117466.0, 118515.5, 119564.9, 120614.4, 121663.8, 122713.3, 123762.8, 124812.2, 125861.6, 126911.1, 127960.6, 129010.0, 130059.5, 131108.9, 132158.4, 133207.8, 134257.3, 135306.7, 136356.2, 137405.6, 138455.1, 139504.5, 140554.0, 141603.4, 142652.9, 143702.3, 144751.8, 145801.2, 146850.7, 147900.2, 148949.6, 149999.1, 151048.5, 152098.0, 153147.4, 154196.9, 155246.3, 156295.8, 157345.2, 158394.7, 159444.1, 160493.6, 161543.1, 162592.5, 163642.0, 164691.4, 165740.9]\n"
          ]
        },
        {
          "output_type": "display_data",
          "data": {
            "text/plain": [
              "<Figure size 432x288 with 1 Axes>"
            ],
            "image/png": "[encoded data removed]"
          },
          "metadata": {
            "needs_background": "light"
          }
        },
        {
          "output_type": "display_data",
          "data": {
            "text/plain": [
              "<Figure size 432x288 with 1 Axes>"
            ],
            "image/png": "[encoded data removed]"
          },
          "metadata": {
            "needs_background": "light"
          }
        }
      ]
    }
  ]
}