{
  "nbformat": 4,
  "nbformat_minor": 0,
  "metadata": {
    "colab": {
      "provenance": [],
      "collapsed_sections": [],
      "authorship_tag": "ABX9TyMhQVi9SezbxTlzV0FnYMw2",
      "include_colab_link": true
    },
    "kernelspec": {
      "name": "python3",
      "display_name": "Python 3"
    },
    "language_info": {
      "name": "python"
    }
  },
  "cells": [
    {
      "cell_type": "markdown",
      "metadata": {
        "id": "view-in-github",
        "colab_type": "text"
      },
      "source": [
        "<a href=\"https://colab.research.google.com/github/jhguay/base_ouverte/blob/main/MataneLabo1_avecComparaisonRegressionv2.ipynb\" target=\"_parent\"><img src=\"https://colab.research.google.com/assets/colab-badge.svg\" alt=\"Open In Colab\"/></a>"
      ]
    },
    {
      "cell_type": "markdown",
      "source": [
        "# **Comparaison entre les prédictions de la régression linéaire classique et l'IA (réseaux de neurones), deux variables continues**\n"
      ],
      "metadata": {
        "id": "wgRtNqLdYjzJ"
      }
    },
    {
      "cell_type": "markdown",
      "source": [
        "Ici je reprends l'exemple et une partie du code développé dans le cours **Vision artificielle et exploitation des ressources naturelles** du Cegep de Matane. La base donne cinq informations: le **nom commun**, le **nom scientifique**, la **masse** en kg, le **métabolisme** en joules et la** durée de vie** en années.  C'est la loi de Kleiber, expliquant le métabolisme par la masse, qui constitue le fondement théorique de cette base. Merci à Claude Coulombe.\n",
        "\n",
        "Plusieurs étapes: \n",
        "\n",
        "1.   On importe les bibliothèques nécessaires; on importe la base et on \n",
        "regarde les données sommairement.\n",
        "2.   On fait la régression classique de laquelle on extrait le coefficient et la constante.\n",
        "3.   On prépare le réseau de neurones et on l'applique\n",
        "4.   On compare l'erreur d'estimation des deux méthodes; on produit des graphiques visualisant la différence des deux méthodes.\n",
        "\n",
        "\n",
        "\n"
      ],
      "metadata": {
        "id": "4yR72LcnIjEO"
      }
    },
    {
      "cell_type": "markdown",
      "source": [
        "# Étape 1: Importation des bibliothèques et de la base de données"
      ],
      "metadata": {
        "id": "Qt5NAZs-O6T3"
      }
    },
    {
      "cell_type": "code",
      "source": [
        "# Importation des bibliothèques Python\n",
        "import tensorflow as tf\n",
        "import numpy as np\n",
        "import pandas as pd\n",
        "import os\n",
        "import random\n",
        "import math\n",
        "from sklearn.preprocessing import StandardScaler\n",
        "import matplotlib.pyplot as plt\n",
        "\n",
        "\n"
      ],
      "metadata": {
        "id": "zLnpfpiRPd5g"
      },
      "execution_count": 46,
      "outputs": []
    },
    {
      "cell_type": "code",
      "source": [
        "# Lecture des données\n",
        "loi_kleiber_data = pd.read_csv(\"https://github.com/ClaudeCoulombe/VIARENA/blob/master/DATA/LoiDeKleiber.csv?raw=True\")\n",
        "print(loi_kleiber_data)\n",
        "print(\"Données importées et lues\")\n",
        "\n",
        "# Information sur la base\n",
        "loi_kleiber_data.info()\n",
        "loi_kleiber_data.sample(n=5,random_state=42)\n",
        "print(\"Informations descriptives pour la masse\")\n",
        "print(loi_kleiber_data['Masse'].describe())\n",
        "print(\"Informations descriptives pour le métabolisme\")\n",
        "print(loi_kleiber_data['Metabolisme'].describe())"
      ],
      "metadata": {
        "colab": {
          "base_uri": "https://localhost:8080/"
        },
        "id": "QXECStlNcIjO",
        "outputId": "aacd697c-597a-4d8b-cb64-55f3e56da30b"
      },
      "execution_count": 47,
      "outputs": [
        {
          "output_type": "stream",
          "name": "stdout",
          "text": [
            "                 NomCommun                    Espece    Masse  Metabolisme  \\\n",
            "0                  Echidna    Tachiglossus aculeatus    2.500        302.0   \n",
            "1      Long-beaked echidna         Zaglossus bruijni   10.300        594.0   \n",
            "2                 Platypus  Ornithorhynchus anatinus    1.300        229.0   \n",
            "3                  Opossum  Lutreolina crassicaudata    0.812        196.0   \n",
            "4   South American opossum     Didelphis marsupialis    1.330        299.0   \n",
            "..                     ...                       ...      ...          ...   \n",
            "90           Rhesus monkey            Macaca mulatta    5.000        960.0   \n",
            "91               Orangutan           Pongo pygma eus  150.000      15500.0   \n",
            "92                 Gorilla           Gorilla gorilla  250.000      21000.0   \n",
            "93                  Gibbon             Hylobater lar    8.000       1510.0   \n",
            "94                   # Man              Homo sapiens   65.000       7560.0   \n",
            "\n",
            "    DureeDeVie  \n",
            "0         14.0  \n",
            "1         20.0  \n",
            "2          9.0  \n",
            "3          5.0  \n",
            "4          6.0  \n",
            "..         ...  \n",
            "90        25.0  \n",
            "91        45.0  \n",
            "92        45.0  \n",
            "93        25.0  \n",
            "94        75.0  \n",
            "\n",
            "[95 rows x 5 columns]\n",
            "Données importées et lues\n",
            "<class 'pandas.core.frame.DataFrame'>\n",
            "RangeIndex: 95 entries, 0 to 94\n",
            "Data columns (total 5 columns):\n",
            " #   Column       Non-Null Count  Dtype  \n",
            "---  ------       --------------  -----  \n",
            " 0   NomCommun    95 non-null     object \n",
            " 1   Espece       95 non-null     object \n",
            " 2   Masse        95 non-null     float64\n",
            " 3   Metabolisme  95 non-null     float64\n",
            " 4   DureeDeVie   95 non-null     float64\n",
            "dtypes: float64(3), object(2)\n",
            "memory usage: 3.8+ KB\n",
            "Informations descriptives pour la masse\n",
            "count      95.000000\n",
            "mean       69.621455\n",
            "std       329.410355\n",
            "min         0.003600\n",
            "25%         0.099000\n",
            "50%         1.980000\n",
            "75%        11.900000\n",
            "max      3000.000000\n",
            "Name: Masse, dtype: float64\n",
            "Informations descriptives pour le métabolisme\n",
            "count        95.000000\n",
            "mean       5173.489053\n",
            "std       18987.195612\n",
            "min           5.170000\n",
            "25%          39.050000\n",
            "50%         320.000000\n",
            "75%        1695.000000\n",
            "max      165000.000000\n",
            "Name: Metabolisme, dtype: float64\n"
          ]
        }
      ]
    },
    {
      "cell_type": "markdown",
      "source": [
        "# Étape 2: Traitement selon la méthode classique de la régression"
      ],
      "metadata": {
        "id": "VZ5aGZ4YPrgB"
      }
    },
    {
      "cell_type": "code",
      "source": [
        "import statsmodels.api as sm\n",
        "from patsy import dmatrices\n",
        "y,x=dmatrices('Metabolisme ~ Masse', data=loi_kleiber_data,return_type='dataframe')\n",
        "mod=sm.OLS(y,x)\n",
        "res=mod.fit()\n",
        "print(res.summary())\n",
        "\n",
        "#Application de l'équation de régresion\n",
        "print(\"--------------------------------------------------------------------------------------------------------------\")\n",
        "masse=65\n",
        "predictionMetabolisme=1203.2019+(57.0268*masse)\n",
        "print(predictionMetabolisme)"
      ],
      "metadata": {
        "id": "tDBl9NYLPq0a",
        "colab": {
          "base_uri": "https://localhost:8080/"
        },
        "outputId": "cf976367-1254-4521-d6e1-aed2bc662eaa"
      },
      "execution_count": 48,
      "outputs": [
        {
          "output_type": "stream",
          "name": "stdout",
          "text": [
            "                            OLS Regression Results                            \n",
            "==============================================================================\n",
            "Dep. Variable:            Metabolisme   R-squared:                       0.979\n",
            "Model:                            OLS   Adj. R-squared:                  0.979\n",
            "Method:                 Least Squares   F-statistic:                     4302.\n",
            "Date:                Fri, 21 Oct 2022   Prob (F-statistic):           1.15e-79\n",
            "Time:                        22:32:52   Log-Likelihood:                -887.05\n",
            "No. Observations:                  95   AIC:                             1778.\n",
            "Df Residuals:                      93   BIC:                             1783.\n",
            "Df Model:                           1                                         \n",
            "Covariance Type:            nonrobust                                         \n",
            "==============================================================================\n",
            "                 coef    std err          t      P>|t|      [0.025      0.975]\n",
            "------------------------------------------------------------------------------\n",
            "Intercept   1203.2019    291.270      4.131      0.000     624.798    1781.606\n",
            "Masse         57.0268      0.869     65.586      0.000      55.300      58.753\n",
            "==============================================================================\n",
            "Omnibus:                       67.129   Durbin-Watson:                   1.127\n",
            "Prob(Omnibus):                  0.000   Jarque-Bera (JB):              296.470\n",
            "Skew:                           2.419   Prob(JB):                     4.19e-65\n",
            "Kurtosis:                      10.176   Cond. No.                         342.\n",
            "==============================================================================\n",
            "\n",
            "Notes:\n",
            "[1] Standard Errors assume that the covariance matrix of the errors is correctly specified.\n",
            "--------------------------------------------------------------------------------------------------------------\n",
            "4909.9439\n"
          ]
        }
      ]
    },
    {
      "cell_type": "markdown",
      "source": [
        "#Étape 3: Traitement selon une méthode propre à l'intelligence artificielle (réseau de neurones)"
      ],
      "metadata": {
        "id": "7B41YRDfP255"
      }
    },
    {
      "cell_type": "code",
      "source": [
        "# Définir un germe aléatoire\n",
        "GERME_ALEATOIRE=11\n",
        "os.environ['PYTHONHASHSEED'] = str(GERME_ALEATOIRE)\n",
        "random.seed(GERME_ALEATOIRE)\n",
        "np.random.seed(GERME_ALEATOIRE)\n",
        "tf.random.set_seed(GERME_ALEATOIRE)\n",
        "os.environ['TF_DETERMINISTIC_OPS'] = '1'\n",
        "os.environ['TF_CUDNN_DETERMINISTIC'] = '1'\n",
        "print(\"Germe aléatoire fixé\")\n",
        "\n",
        "#On isole les deux variables et on les normalise\n",
        "\n",
        "attribut_predictif = loi_kleiber_data['Masse'].values.reshape(-1, 1)\n",
        "normalisateur_attribut_predictif = StandardScaler()\n",
        "normalisateur_attribut_predictif.fit(attribut_predictif)\n",
        "attribut_predictif = normalisateur_attribut_predictif.transform(attribut_predictif)\n",
        "\n",
        "attribut_cible = loi_kleiber_data['Metabolisme'].values.reshape(-1, 1)\n",
        "normalisateur_attribut_cible = StandardScaler()\n",
        "normalisateur_attribut_cible.fit(attribut_cible)\n",
        "attribut_cible = normalisateur_attribut_cible.transform(attribut_cible)\n",
        "\n",
        "# Construction d'un réseau de neurones de type perceptron à trois couches: couche d'entrée, couche cachée, couche de sortie\n",
        "reseau_de_neurones = tf.keras.models.Sequential([tf.keras.layers.Dense(units=1, input_shape=[1]),\n",
        "                                                 tf.keras.layers.Dense(units=10, activation='relu'),\n",
        "                                                 tf.keras.layers.Dense(units=1)])\n",
        "# Affichage de l'architecture du réseau\n",
        "print(\"Architecture du réseau de neurones:\")\n",
        "reseau_de_neurones.summary()\n",
        "\n",
        "#Compilation du réseau de neurones\n",
        "# optimiseur: Adam\n",
        "# taux d'apprentissage: 0.001\n",
        "# fonction d'erreur: erreur quadratique moyenne ('mean_squared_error') \n",
        "\n",
        "# Compilation du réseau de neurones - optimiseur: Adam, taux d'apprentissage: 0.001, fonction d'erreur: erreur quadratique moyenne (mean_squared_error) \n",
        "reseau_de_neurones.compile(optimizer=tf.keras.optimizers.Adam(learning_rate=0.001),loss='mean_squared_error')\n",
        "print(\"Réseau de neurones compilé\")\n",
        "\n",
        "# Entraînement du réseau sur les données: variable_explicative et variable_dependante, pendant 500 itérations ou époques\n",
        "traces = reseau_de_neurones.fit(attribut_predictif,attribut_cible,epochs=500,verbose=1)\n",
        "# Affichage de l'erreur à la fin de l'entraînement\n",
        "print(\"Erreur à la fin:\",traces.history['loss'][-1])\n"
      ],
      "metadata": {
        "id": "k1k0X2LeQ586"
      },
      "execution_count": null,
      "outputs": []
    },
    {
      "cell_type": "code",
      "source": [
        "#Examen ponctuel pour vérifier l'exactitude du réseau de neurones\n",
        "\n",
        "# Être humain, Homo sapiens\n",
        "animal = \"être humain\"\n",
        "masse = 6.50E+01\n",
        "# Normalisation de la donnée d'entrée\n",
        "masse_normalisee = normalisateur_attribut_predictif.transform(np.array([masse]).reshape(-1, 1))\n",
        "vraie_valeur_metabolisme = 7.56E+03\n",
        "# Application du modèle en inférence ou prédiction de la variable dépendante et «dénormalisation» du résultat\n",
        "prediction_metabolisme = normalisateur_attribut_cible.inverse_transform(reseau_de_neurones.predict(masse_normalisee))[0][0]\n",
        "# Affichage de la prédiction, de la vraie valeur (mesurée) et de l'écart (ou erreur) en %\n",
        "print(\"\\nAnimal:\", animal,\n",
        "      \", Masse:\", masse,\n",
        "      \", prédiction du métabolisme:\", round(prediction_metabolisme,2),\n",
        "      \", Vraie valeur du métabolisme:\", vraie_valeur_metabolisme,\n",
        "      \", écart en %:\", round((vraie_valeur_metabolisme-prediction_metabolisme)/vraie_valeur_metabolisme*100,2),\"%\")"
      ],
      "metadata": {
        "colab": {
          "base_uri": "https://localhost:8080/"
        },
        "id": "xiepzQ5Sc0f_",
        "outputId": "0b8bb166-e60c-46f7-a87d-6ee804c78d7f"
      },
      "execution_count": 50,
      "outputs": [
        {
          "output_type": "stream",
          "name": "stdout",
          "text": [
            "1/1 [==============================] - 0s 159ms/step\n",
            "\n",
            "Animal: être humain , Masse: 65.0 , prédiction du métabolisme: 8268.58 , Vraie valeur du métabolisme: 7560.0 , écart en %: -9.37 %\n"
          ]
        }
      ]
    },
    {
      "cell_type": "markdown",
      "source": [
        "# Étape 4 Comparaison des deux méthodes"
      ],
      "metadata": {
        "id": "XUBIZGjURBC6"
      }
    },
    {
      "cell_type": "code",
      "source": [
        "#Création de deux petites fonctions pour générer les prédictions de deux méthodes\n",
        "def obtientPredictionDuRN(masse=65):\n",
        "  masse_normalisee = normalisateur_attribut_predictif.transform(np.array([masse]).reshape(-1, 1))\n",
        "  prediction_metabolisme = normalisateur_attribut_cible.inverse_transform(reseau_de_neurones.predict(masse_normalisee))[0][0]\n",
        "  return round(prediction_metabolisme,1)\n",
        "\n",
        "def obtientPredictionDuR(masse=65):\n",
        "  predictionRegressionMetabolisme=1203.2019+(57.0268*masse)\n",
        "  return round(predictionRegressionMetabolisme,1)\n",
        "\n",
        "#Création des deux listes\n",
        "listeResultatsRN=[] #liste des résultats selon le modèle du réseau de neurones\n",
        "for i in range(2,3000,20):\n",
        "  listeResultatsRN.append(obtientPredictionDuRN(i))\n",
        "\n",
        "listeResultatsR=[] #liste des résultats selon le modèle de la régression classique\n",
        "for i in range(2,3000,20):\n",
        "  listeResultatsR.append(1203.2019+(57.0268*i))\n",
        "\n"
      ],
      "metadata": {
        "id": "xvTzQbL1TNzJ"
      },
      "execution_count": null,
      "outputs": []
    },
    {
      "cell_type": "code",
      "source": [
        "#Création d'une fonction pour le calcul de l'erreur entre la vraie valeur et la prédiction (applicable pour les deux méthodes)\n",
        "def calculErreur(valeurReelle=2,estimation=1):\n",
        "  resultat=(valeurReelle-estimation)/valeurReelle*100\n",
        "  return round(resultat,1)\n",
        "'''\n",
        "listeDesMasses=list(loi_kleiber_data[\"Masse\"])\n",
        "\n",
        "\n",
        "print(listeDesMasses)\n",
        "for i in range(0, len(listeDesMasses)):\n",
        "  print(\"Nom \"+str(loi_kleiber_data['NomCommun'][i])+\n",
        "      \" Masse: \"+str(loi_kleiber_data['Masse'][i])+\n",
        "        \" Metabolisme: \"+str(loi_kleiber_data['Metabolisme'][i])+\n",
        "        \" R: \"+str(obtientPredictionDuR(loi_kleiber_data['Masse'][i]))+\n",
        "        \" RN: \"+str(obtientPredictionDuRN(loi_kleiber_data['Masse'][i]))+\n",
        "        \" Erreur R (%): \"+str(calculErreur(loi_kleiber_data['Metabolisme'][i],obtientPredictionDuR(loi_kleiber_data['Masse'][i])))+\n",
        "        \" Erreur RN (%):\"+str(calculErreur(loi_kleiber_data['Metabolisme'][i],obtientPredictionDuRN(loi_kleiber_data['Masse'][i]))))\n",
        "'''"
      ],
      "metadata": {
        "id": "4UREp3XN08vV",
        "colab": {
          "base_uri": "https://localhost:8080/",
          "height": 89
        },
        "outputId": "a64f9fa3-ff20-4049-a129-4700c8f27824"
      },
      "execution_count": 52,
      "outputs": [
        {
          "output_type": "execute_result",
          "data": {
            "text/plain": [
              "'\\nlisteDesMasses=list(loi_kleiber_data[\"Masse\"])\\n\\n\\nprint(listeDesMasses)\\nfor i in range(0, len(listeDesMasses)):\\n  print(\"Nom \"+str(loi_kleiber_data[\\'NomCommun\\'][i])+\\n      \" Masse: \"+str(loi_kleiber_data[\\'Masse\\'][i])+\\n        \" Metabolisme: \"+str(loi_kleiber_data[\\'Metabolisme\\'][i])+\\n        \" R: \"+str(obtientPredictionDuR(loi_kleiber_data[\\'Masse\\'][i]))+\\n        \" RN: \"+str(obtientPredictionDuRN(loi_kleiber_data[\\'Masse\\'][i]))+\\n        \" Erreur R (%): \"+str(calculErreur(loi_kleiber_data[\\'Metabolisme\\'][i],obtientPredictionDuR(loi_kleiber_data[\\'Masse\\'][i])))+\\n        \" Erreur RN (%):\"+str(calculErreur(loi_kleiber_data[\\'Metabolisme\\'][i],obtientPredictionDuRN(loi_kleiber_data[\\'Masse\\'][i]))))\\n'"
            ],
            "application/vnd.google.colaboratory.intrinsic+json": {
              "type": "string"
            }
          },
          "metadata": {},
          "execution_count": 52
        }
      ]
    },
    {
      "cell_type": "code",
      "source": [
        "#Création d'une base avec l'ensemble des données\n",
        "listeColonnes=['Nom', 'Masse', 'Metabolisme', 'Regression','ReseauN', 'ErreurR', 'ErreurRN']\n",
        "dfinal = pd.DataFrame(columns=listeColonnes)\n",
        "for i in range(0,len(loi_kleiber_data['NomCommun'])):\n",
        "    df2 = pd.DataFrame([[str(loi_kleiber_data['NomCommun'][i]),\n",
        "                         str(loi_kleiber_data['Masse'][i]),\n",
        "                         str(loi_kleiber_data['Metabolisme'][i]),\n",
        "                         str(obtientPredictionDuR(loi_kleiber_data['Masse'][i])),\n",
        "                         str(obtientPredictionDuRN(loi_kleiber_data['Masse'][i])),\n",
        "                         str(calculErreur(loi_kleiber_data['Metabolisme'][i],obtientPredictionDuR(loi_kleiber_data['Masse'][i]))),\n",
        "                         str(calculErreur(loi_kleiber_data['Metabolisme'][i],obtientPredictionDuRN(loi_kleiber_data['Masse'][i])))]], columns=listeColonnes)\n",
        "                             \n",
        "    dfinal=dfinal.append(df2)                 "
      ],
      "metadata": {
        "id": "QBpS-R9BBsd7"
      },
      "execution_count": null,
      "outputs": []
    },
    {
      "cell_type": "code",
      "source": [
        "#Comparaison entre les deux méthodes: combien de fois le réseau performe mieux que la régression\n",
        "dfinal['Comparaison']=dfinal['ErreurR'].astype(float)/dfinal['ErreurRN'].astype(float)\n",
        "\n",
        "#Création d'une variable qui résume la comparaison: 1 le réseau fait mieux que la régression; 0 la régression fait mieux que le réseau de neuronnes\n",
        "dfinal['Evaluation']=0\n",
        "for i in range(0,len(loi_kleiber_data)):\n",
        "  #print(i)\n",
        "  if(abs(dfinal['Comparaison'].values[i])>1 ):\n",
        "    dfinal['Evaluation'].values[i]=1\n",
        "  else:  \n",
        "    dfinal['Evaluation'].values[i]=0\n",
        "#Présentation de l'ensemble des données\n",
        "print(dfinal.to_string())\n",
        "#Calcul du nombre de fois que l'évaluation par le réseau performe mieux que l'évaluation par la régression\n",
        "print(\"--------------------------------------------------------\")\n",
        "print(\"Nombre d'évaluations plus performantes par le réseau: \"+str(dfinal['Evaluation'].sum()))\n",
        "#Calcul du % de la somme des meilleures évaluations par le réseau\n",
        "print(\"Pourcentage des évaluations plus performantes par le réseau: \"+str(round(dfinal['Evaluation'].sum()/len(dfinal['Evaluation'])*100,1)))\n"
      ],
      "metadata": {
        "colab": {
          "base_uri": "https://localhost:8080/"
        },
        "id": "4RH73ESwE12K",
        "outputId": "65835758-6ffd-462a-9581-3e783c2af3cb"
      },
      "execution_count": 54,
      "outputs": [
        {
          "output_type": "stream",
          "name": "stdout",
          "text": [
            "                      Nom    Masse Metabolisme Regression   ReseauN   ErreurR ErreurRN  Comparaison  Evaluation\n",
            "0                 Echidna      2.5       302.0     1345.8     479.1    -345.6    -58.6     5.897611           1\n",
            "0     Long-beaked echidna     10.3       594.0     1790.6    1458.4    -201.4   -145.5     1.384192           1\n",
            "0                Platypus      1.3       229.0     1277.3     328.5    -457.8    -43.4    10.548387           1\n",
            "0                 Opossum    0.812       196.0     1249.5     267.2    -537.5    -36.3    14.807163           1\n",
            "0  South American opossum     1.33       299.0     1279.0     332.2    -327.8    -11.1    29.531532           1\n",
            "0        Virginia opossum     3.26       519.0     1389.1     574.5    -167.6    -10.7    15.663551           1\n",
            "0    Australian marsupial   0.0141         9.0     1204.0     167.0  -13277.8  -1755.6     7.563112           1\n",
            "0             Marsupial    0.00365        17.6     1203.4     165.7   -6737.5   -841.5     8.006536           1\n",
            "0               Marsupial   0.0085        5.17     1203.7     166.3  -23182.4  -3116.6     7.438362           1\n",
            "0           Marsupial rat    0.089        37.4     1208.3     176.4   -3130.7   -371.7     8.422653           1\n",
            "0               Bandicoot      1.0       201.0     1260.2     290.8    -527.0    -44.7    11.789709           1\n",
            "0    Long-nosed bandicoot    0.645       153.0     1240.0     246.2    -710.5    -60.9    11.666667           1\n",
            "0      Fat-tailed dunnart    0.015        9.64     1204.1     167.1  -12390.7  -1633.4     7.585833           1\n",
            "0    Australian marsupial    0.013        13.7     1203.9     166.9   -8687.6  -1118.2     7.769272           1\n",
            "0         Tasmanian devil     5.05       628.0     1491.2     799.2    -137.5    -27.3     5.036630           1\n",
            "0        Brushtail possum     1.98       306.0     1316.1     413.8    -330.1    -35.2     9.377841           1\n",
            "0                Kangaroo     4.69       694.0     1470.7     754.0    -111.9     -8.6    13.011628           1\n",
            "0            Red kangaroo     40.0      4000.0     3484.3    5187.0      12.9    -29.7    -0.434343           0\n",
            "0          Tammar wallaby      4.8       671.0     1476.9     767.9    -120.1    -14.4     8.340278           1\n",
            "0                   Sloth     3.79       331.0     1419.3     641.1    -328.8    -93.7     3.509072           1\n",
            "0               Armadillo     3.32       384.0     1392.5     582.1    -262.6    -51.6     5.089147           1\n",
            "0                Pangolin     2.73       440.0     1358.9     508.0    -208.8    -15.5    13.470968           1\n",
            "0          Scaly anteater     4.22       529.0     1443.9     695.0    -172.9    -31.4     5.506369           1\n",
            "0      Short-tailed shrew    0.021        25.3     1204.4     167.9   -4660.5   -563.6     8.269163           1\n",
            "0                 Hamster    0.362       112.0     1223.8     210.7    -992.7    -88.1    11.267877           1\n",
            "0      Spiny pocket mouse   0.0438        22.5     1205.7     170.7   -5258.7   -658.7     7.983452           1\n",
            "0           Mexican mouse   0.0481        26.0     1205.9     171.3   -4538.1   -558.8     8.121152           1\n",
            "0                   Mouse   0.0098        18.0     1203.8     166.5   -6587.8   -825.0     7.985212           1\n",
            "0                   Mouse    0.028        22.0     1204.8     168.8   -5376.4   -667.3     8.056946           1\n",
            "0            Golden mouse   0.0195        23.8     1204.3     167.7   -4960.1   -604.6     8.203936           1\n",
            "0                   Mouse    0.021        20.9     1204.4     167.9   -5662.7   -703.3     8.051614           1\n",
            "0                 Woodrat    0.321       121.0     1221.5     205.5    -909.5    -69.8    13.030086           1\n",
            "0                 Woodrat    0.139        48.2     1211.1     182.7   -2412.7   -279.0     8.647670           1\n",
            "0                 Woodrat    0.187        71.3     1213.9     188.7   -1602.5   -164.7     9.729812           1\n",
            "0                 Woodrat    0.172        61.4     1213.0     186.8   -1875.6   -204.2     9.185113           1\n",
            "0                Musk rat    0.842       333.0     1251.2     271.0    -275.7     18.6   -14.822581           1\n",
            "0            Pocket mouse   0.0115        11.4     1203.9     166.7  -10460.5  -1362.3     7.678558           1\n",
            "0                   Mouse   0.0395        23.8     1205.5     170.2   -4965.1   -615.1     8.072021           1\n",
            "0                  Rodent   0.0215        15.4     1204.4     167.9   -7720.8   -990.3     7.796425           1\n",
            "0                  Rodent   0.0455        22.6     1205.8     171.0   -5235.4   -656.6     7.973500           1\n",
            "0      White-footed mouse   0.0222        26.8     1204.5     168.0   -4394.4   -526.9     8.340102           1\n",
            "0                   Shrew   0.0036        15.0     1203.4     165.7   -7922.7  -1004.7     7.885638           1\n",
            "0            Common shrew    0.005        17.6     1203.5     165.9   -6738.1   -842.6     7.996796           1\n",
            "0              Chinchilla    0.494       112.0     1231.4     227.3    -999.5   -102.9     9.713314           1\n",
            "0                Viscacha     6.78       916.0     1589.8    1016.4     -73.6    -11.0     6.690909           1\n",
            "0                  Rodent     0.75       193.0     1246.0     259.4    -545.6    -34.4    15.860465           1\n",
            "0              Guinea pig      0.5       192.0     1231.7     228.0    -541.5    -18.8    28.803191           1\n",
            "0                  Marmot     2.65       320.0     1354.3     497.9    -323.2    -55.6     5.812950           1\n",
            "0                     Rat    0.076        40.7     1207.5     174.8   -2866.8   -329.5     8.700455           1\n",
            "0                     Rat    0.109        30.5     1209.4     178.9   -3865.2   -486.6     7.943280           1\n",
            "0                     Rat    0.132        80.9     1210.7     181.8   -1396.5   -124.7    11.198877           1\n",
            "0                     Rat    0.187        51.4     1213.9     188.7   -2261.7   -267.1     8.467615           1\n",
            "0              Cotton rat    0.161       168.0     1212.4     185.5    -621.7    -10.4    59.778846           1\n",
            "0              Brown hare      2.5       528.0     1345.8     479.1    -154.9      9.3   -16.655914           1\n",
            "0           Snowshoe hare     1.58       686.0     1293.3     363.6     -88.5     47.0    -1.882979           1\n",
            "0             Jack Rabbit      2.3       623.0     1334.4     454.0    -114.2     27.1    -4.214022           1\n",
            "0           Mountain hare      3.0       522.0     1374.3     541.9    -163.3     -3.8    42.973684           1\n",
            "0                    Hare     3.36       730.0     1394.8     587.1     -91.1     19.6    -4.647959           1\n",
            "0              Cottontail    0.702       220.0     1243.2     253.4    -465.1    -15.2    30.598684           1\n",
            "0               Pronghorn     32.0      4320.0     3028.1    4182.7      29.9      3.2     9.343750           1\n",
            "0                   Camel    407.0     23600.0    24413.1   30623.8      -3.4    -29.8     0.114094           0\n",
            "0          Asian elephant   3000.0    165000.0   172283.6  166685.4      -4.4     -1.0     4.400000           1\n",
            "0                Roe deer     19.0      3670.0     2286.7    2550.6      37.7     30.5     1.236066           1\n",
            "0                Red deer     58.0      7800.0     4510.8    7446.8      42.2      4.5     9.377778           1\n",
            "0                 # Horse    400.0     32000.0    24013.9   30256.5      25.0      5.4     4.629630           1\n",
            "0            Merino sheep     49.0      4200.0     3997.5    6316.9       4.8    -50.4    -0.095238           0\n",
            "0                   Sheep     65.0     10700.0     4909.9    8268.6      54.1     22.7     2.383260           1\n",
            "0                 Buffalo    420.0     29400.0    25154.5   31306.0      14.4     -6.5    -2.215385           1\n",
            "0                 Chamois     40.0      3140.0     3484.3    5187.0     -11.0    -65.2     0.168712           0\n",
            "0                   Swine    140.0     12000.0     9187.0   15481.5      23.4    -29.0    -0.806897           0\n",
            "0        Collored peccary     20.2       826.0     2355.1    2701.2    -185.1   -227.0     0.815419           0\n",
            "0                   Otter     10.0      2200.0     1773.5    1420.7      19.4     35.4     0.548023           0\n",
            "0               Wolverine     12.7      2820.0     1927.4    1759.7      31.7     37.6     0.843085           0\n",
            "0                  Badger     11.1      1440.0     1836.2    1558.8     -27.5     -8.3     3.313253           1\n",
            "0               Sea otter     40.0     12400.0     3484.3    5187.0      71.9     58.2     1.235395           1\n",
            "0                     Fox     5.01      1210.0     1488.9     794.2     -23.0     34.4    -0.668605           0\n",
            "0                  Coyote     10.0      1320.0     1773.5    1420.7     -34.4     -7.6     4.526316           1\n",
            "0                     Dog     14.0      1880.0     2001.6    1922.9      -6.5     -2.3     2.826087           1\n",
            "0                  Jaguar     18.0      2440.0     2229.7    2425.0       8.6      0.6    14.333333           1\n",
            "0                   # Cat      3.0       546.0     1374.3     541.9    -151.7      0.8  -189.625000           1\n",
            "0                    Mink     0.66       239.0     1240.8     248.1    -419.2     -3.8   110.315789           1\n",
            "0             Harbor seal     26.0      7400.0     2685.9    3429.4      63.7     53.7     1.186220           1\n",
            "0            Beluga whale    170.0     23000.0    10897.8   18187.8      52.6     20.9     2.516746           1\n",
            "0      Bottle-nosed whale   1000.0     69500.0    58230.0   61740.1      16.2     11.2     1.446429           1\n",
            "0                     Bat    0.029        9.65     1204.9     168.9  -12386.0  -1650.3     7.505302           1\n",
            "0                     Bat    0.022        15.6     1204.5     168.0   -7621.2   -976.9     7.801413           1\n",
            "0               Ghost bat    0.148        68.0     1211.6     183.8   -1681.8   -170.3     9.875514           1\n",
            "0            Molossid bat    0.057        14.2     1206.5     172.4   -8396.5  -1114.1     7.536577           1\n",
            "0                 Fox bat    0.598       153.0     1237.3     240.3    -708.7    -57.1    12.411559           1\n",
            "0              Chimpanzee     45.0      4620.0     3769.4    5814.7      18.4    -25.9    -0.710425           0\n",
            "0           Rhesus monkey      5.0       960.0     1488.3     793.0     -55.0     17.4    -3.160920           1\n",
            "0               Orangutan    150.0     15500.0     9757.2   16386.6      37.1     -5.7    -6.508772           1\n",
            "0                 Gorilla    250.0     21000.0    15459.9   22385.6      26.4     -6.6    -4.000000           1\n",
            "0                  Gibbon      8.0      1510.0     1659.4    1169.6      -9.9     22.5    -0.440000           0\n",
            "0                   # Man     65.0      7560.0     4909.9    8268.6      35.1     -9.4    -3.734043           1\n",
            "--------------------------------------------------------\n",
            "Nombre d'évaluations plus performantes par le réseau: 84\n",
            "Pourcentage des évaluations plus performantes par le réseau: 88.4\n"
          ]
        }
      ]
    },
    {
      "cell_type": "code",
      "source": [
        "#Représentation graphique\n",
        "fig, ax = plt.subplots(figsize=(20, 6))\n",
        "ax.hist(dfinal['Comparaison'].values, bins=range(-200,100,1))\n",
        "ax.vlines([-1,1], 0, 20, linestyles='dashed', colors='red')\n",
        "ax.text( -100,15,\"En mettant en rapport les % des erreurs des deux méthodes:\")\n",
        "ax.text( -90,12,\"84 cas mieux évalués\\npar les réseaux de neurones (plus que 1 ou moins que 1)\")\n",
        "ax.text( -90,9,\"11 cas mieux évalués\\npar la régression linéaire (entre -1 et 1) \\nentre les deux lignes rouges\")\n",
        "ax.text( -90,6,\"La méthode des réseaux\\nestime \"+str(round(dfinal['Comparaison'].values.mean(),2)) +\" mieux que la régression linéaire.\")\n",
        "plt.title(\"Le réseau de neurones prédit six fois mieux les valeurs que la régression linéaire\")\n",
        "\n",
        "plt.show()"
      ],
      "metadata": {
        "colab": {
          "base_uri": "https://localhost:8080/",
          "height": 390
        },
        "id": "NFNB3ZZ1eDci",
        "outputId": "0c0a407e-20fb-4742-f9a5-790c615fdb73"
      },
      "execution_count": 55,
      "outputs": [
        {
          "output_type": "display_data",
          "data": {
            "text/plain": [
              "<Figure size 1440x432 with 1 Axes>"
            ],
            "image/png": "[encoded data removed]"
          },
          "metadata": {
            "needs_background": "light"
          }
        }
      ]
    },
    {
      "cell_type": "code",
      "source": [
        "#Simulation des deux méthodes avec l'allure de la prédiction\n",
        "import matplotlib.pyplot as plt\n",
        "import numpy as np\n",
        "\n",
        "plt.plot(range(0,3000,20),listeResultatsRN)\n",
        "plt.scatter(loi_kleiber_data['Masse'], loi_kleiber_data['Metabolisme'], color='red')\n",
        "plt.title(\"Méthode des réseaux de neurones\")\n",
        "plt.show()\n",
        "\n",
        "plt.plot(range(0,3000,20),listeResultatsR)\n",
        "plt.scatter(loi_kleiber_data['Masse'], loi_kleiber_data['Metabolisme'], color='red')\n",
        "plt.title(\"Méthode de la régression linéaire\")\n",
        "plt.show()\n"
      ],
      "metadata": {
        "colab": {
          "base_uri": "https://localhost:8080/",
          "height": 545
        },
        "id": "jfJy4JyigKsn",
        "outputId": "412a79b1-f493-4332-f276-5d3f8fc46c2e"
      },
      "execution_count": 56,
      "outputs": [
        {
          "output_type": "display_data",
          "data": {
            "text/plain": [
              "<Figure size 432x288 with 1 Axes>"
            ],
            "image/png": "[encoded data removed]"
          },
          "metadata": {
            "needs_background": "light"
          }
        },
        {
          "output_type": "display_data",
          "data": {
            "text/plain": [
              "<Figure size 432x288 with 1 Axes>"
            ],
            "image/png": "[encoded data removed]"
          },
          "metadata": {
            "needs_background": "light"
          }
        }
      ]
    }
  ]
}