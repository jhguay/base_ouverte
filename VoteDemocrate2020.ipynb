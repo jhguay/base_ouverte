{
  "nbformat": 4,
  "nbformat_minor": 0,
  "metadata": {
    "kernelspec": {
      "display_name": "Python 3",
      "language": "python",
      "name": "python3"
    },
    "language_info": {
      "codemirror_mode": {
        "name": "ipython",
        "version": 3
      },
      "file_extension": ".py",
      "mimetype": "text/x-python",
      "name": "python",
      "nbconvert_exporter": "python",
      "pygments_lexer": "ipython3",
      "version": "3.9.1"
    },
    "colab": {
      "provenance": [],
      "collapsed_sections": [],
      "include_colab_link": true
    }
  },
  "cells": [
    {
      "cell_type": "markdown",
      "metadata": {
        "id": "view-in-github",
        "colab_type": "text"
      },
      "source": [
        "<a href=\"https://colab.research.google.com/github/jhguay/base_ouverte/blob/main/VoteDemocrate2020.ipynb\" target=\"_parent\"><img src=\"https://colab.research.google.com/assets/colab-badge.svg\" alt=\"Open In Colab\"/></a>"
      ]
    },
    {
      "cell_type": "markdown",
      "source": [
        "## **Exemple simplifié de l'usage du machine learning à partir de données statistiques: élections présidentielles américaines 2020 avec trois variables prédictives et une variable cible**"
      ],
      "metadata": {
        "id": "lUspki0YCBJv"
      }
    },
    {
      "cell_type": "markdown",
      "source": [
        "\n",
        "\n",
        "**Première** étape: les éléments préparatoires\n",
        "\n",
        "**Deuxième** étape: la sélection et la transformation des données pour l'utilisation des algorithmes\n",
        "\n",
        "**Troisième** étape: l'application de l'algorithme choisi et la visualisation des résultats"
      ],
      "metadata": {
        "id": "6ph7aTHy9Y4A"
      }
    },
    {
      "cell_type": "markdown",
      "metadata": {
        "id": "jrL_GJDNgKeb"
      },
      "source": [
        "# **Première étape: les éléments préparatoires**\n"
      ]
    },
    {
      "cell_type": "code",
      "metadata": {
        "id": "Xo8Oj8jsgKeb"
      },
      "source": [
        "#Importation des prémières bibliothèques utilisées\n",
        "import scipy # bibliothèque de calcul scientifique \n",
        "import matplotlib # bibliothèque d'affichage graphique\n",
        "import sklearn # bibliothèque d'algorithmes \"classiques\" d'apprentissage automatique \n",
        "from numpy import * # bibliothèque de calcul matriciel\n",
        "from pandas import * # bibliothèque de manipulation de tableaux de données\n",
        "from sklearn import * # bibliothèque d'algorithmes \"classiques\" d'apprentissage automatique\n",
        "import numpy as np\n",
        "import matplotlib.pyplot as plt\n",
        "import pandas as pd\n",
        "from pandas import Series, DataFrame\n",
        "from pandas import DataFrame, read_csv\n",
        "%matplotlib inline\n",
        "import IPython\n",
        "import sys \n",
        "\n",
        "from sklearn.model_selection import train_test_split\n",
        "from sklearn.model_selection import cross_val_score\n",
        "from sklearn.model_selection import StratifiedKFold\n",
        "from sklearn.metrics import classification_report\n",
        "from sklearn.metrics import confusion_matrix\n",
        "from sklearn.metrics import accuracy_score\n",
        "\n",
        "from sklearn.preprocessing import LabelEncoder\n",
        "\n",
        "from sklearn.model_selection import train_test_split\n",
        "\n",
        "from sklearn.linear_model import LogisticRegression\n",
        "from sklearn.ensemble import RandomForestClassifier\n",
        "import xgboost as xgb\n",
        "\n",
        "# Inspiration: https://machinelearningmastery.com/machine-learning-in-python-step-by-step/\n"
      ],
      "execution_count": 1,
      "outputs": []
    },
    {
      "cell_type": "code",
      "source": [
        "#Création d'une méthode utiltérieurement utilisées pour l'affichage des données\n",
        "def afficher_matrice_confusion(cm, noms_etiquettes = [u'classe - 0', u'classe - 1', u'classe - 3'],\n",
        "                   titre=u'Matrice de confusion'):\n",
        "\n",
        "    print(\"\\n\",cm,\"\\n\")\n",
        "    plt.imshow(cm, cmap=plt.cm.Blues)\n",
        "    plt.title(titre)\n",
        "    plt.colorbar()\n",
        "    tick_marks = np.arange(len(noms_etiquettes))\n",
        "    plt.xticks(tick_marks, noms_etiquettes, rotation=60)\n",
        "    plt.yticks(tick_marks, noms_etiquettes)\n",
        "    plt.ylabel(u'Vraie étiquette')\n",
        "    plt.xlabel(u'Étiquette prédite')\n",
        "    # Fonction d'ajustement\n",
        "    plt.tight_layout()\n",
        "    plt.show()"
      ],
      "metadata": {
        "id": "Ex9K44RA3kZS"
      },
      "execution_count": 2,
      "outputs": []
    },
    {
      "cell_type": "code",
      "source": [
        "'''\n",
        "import os\n",
        "GERME_ALEATOIRE = 21\n",
        "os.environ['PYTHONHASHSEED'] = str(GERME_ALEATOIRE)\n",
        "import random\n",
        "random.seed(GERME_ALEATOIRE)\n",
        "import numpy as np\n",
        "np.random.seed(GERME_ALEATOIRE)\n",
        "'''"
      ],
      "metadata": {
        "id": "QclOb2J2gTou",
        "outputId": "bff2712a-5637-4ba1-a8df-9ab063017649",
        "colab": {
          "base_uri": "https://localhost:8080/",
          "height": 54
        }
      },
      "execution_count": null,
      "outputs": [
        {
          "output_type": "execute_result",
          "data": {
            "text/plain": [
              "\"\\nimport os\\nGERME_ALEATOIRE = 21\\nos.environ['PYTHONHASHSEED'] = str(GERME_ALEATOIRE)\\nimport random\\nrandom.seed(GERME_ALEATOIRE)\\nimport numpy as np\\nnp.random.seed(GERME_ALEATOIRE)\\n\""
            ],
            "application/vnd.google.colaboratory.intrinsic+json": {
              "type": "string"
            }
          },
          "metadata": {},
          "execution_count": 3
        }
      ]
    },
    {
      "cell_type": "code",
      "metadata": {
        "id": "W6D5NFoAgKel",
        "colab": {
          "base_uri": "https://localhost:8080/"
        },
        "outputId": "968f0bf5-5112-4fed-ec0b-0f25096bfdae"
      },
      "source": [
        "# Lecture des données\n",
        "# Création d'une liste de noms d'attributs en français\n",
        "donnees_initiales_df = pd.read_csv(\"anes_timeseries_cdf_csv_20220916.csv\")\n",
        "\n",
        "\n",
        "\n",
        "\n"
      ],
      "execution_count": 7,
      "outputs": [
        {
          "output_type": "stream",
          "name": "stderr",
          "text": [
            "/usr/local/lib/python3.7/dist-packages/IPython/core/interactiveshell.py:3326: DtypeWarning: Columns (4,5,6,7,8,9,13,14,17,18,19,21,22,23,24,25,26,27,28,29,30,31,32,33,34,38,39,40,41,42,43,45,46,47,48,49,50,51,52,53,54,55,56,57,58,59,60,61,62,63,64,65,66,68,69,70,71,72,73,74,75,76,77,78,79,80,81,82,83,84,85,86,87,88,89,90,91,92,93,94,95,96,97,98,99,100,101,102,103,104,105,106,107,108,109,110,111,112,113,114,115,116,117,118,119,120,121,122,123,124,125,126,127,128,129,130,131,132,133,134,135,136,137,138,139,140,141,142,143,144,145,146,147,148,149,150,151,152,153,154,155,156,157,158,159,160,161,162,163,164,165,166,167,168,169,170,171,172,173,174,175,176,177,178,179,180,181,182,183,184,185,186,187,188,189,190,191,192,193,194,195,196,197,198,199,200,201,202,203,204,205,206,207,208,209,210,211,212,233,254,275,296,297,298,299,300,301,302,303,304,305,306,307,308,309,310,311,312,313,314,315,316,317,318,319,320,321,322,323,324,325,326,327,328,329,330,331,332,333,334,335,336,337,338,339,340,361,382,403,424,425,426,427,428,429,430,431,432,433,434,435,436,437,438,439,440,441,442,443,444,445,446,447,448,449,450,451,452,453,454,455,456,457,458,459,460,461,462,463,464,465,466,467,468,469,470,471,472,473,474,475,476,477,478,479,480,481,482,483,484,485,486,487,488,489,490,491,492,493,494,495,496,497,498,499,500,501,502,503,504,505,506,507,508,509,510,511,512,513,514,515,516,517,518,519,520,521,522,523,524,525,526,527,528,529,530,531,532,533,534,535,536,537,538,539,540,541,542,543,544,545,546,547,548,549,550,551,552,553,554,555,556,557,558,559,560,561,562,563,564,565,566,567,568,569,570,571,572,573,574,575,576,577,578,579,580,581,582,583,584,585,586,587,588,589,590,591,592,593,594,595,596,597,598,599,600,601,602,603,604,605,606,607,608,609,610,611,612,613,614,615,616,617,618,619,620,621,622,623,624,625,626,627,628,629,630,631,632,633,634,635,636,637,638,639,640,641,642,643,644,645,646,647,648,649,650,651,652,653,654,655,656,657,658,659,660,661,662,663,664,665,666,667,668,669,670,671,672,673,674,675,676,677,678,679,680,681,682,683,684,685,686,687,688,689,690,691,692,693,694,695,696,697,698,699,700,701,702,703,704,705,706,707,708,709,710,711,712,713,714,715,716,717,718,719,720,721,722,723,724,725,726,727,728,729,730,731,732,733,734,735,736,737,738,739,740,741,742,743,744,745,746,747,748,749,750,751,752,753,754,755,756,757,758,759,760,761,762,763,764,765,776,787,798,809,810,811,812,813,814,815,816,817,818,819,820,821,822,823,824,825,826,827,828,829,830,831,832,833,834,835,836,837,838,839,840,841,842,843,844,845,846,847,848,849,850,851,852,853,854,855,856,857,858,859,860,861,862,863,864,865,866,867,868,869,870,871,872,873,874,875,876,877,878,879,880,881,882,883,884,885,886,887,888,889,890,891,892,893,894,895,896,897,898,899,900,901,902,903,904,905,906,907,908,909,910,911,912,913,914,915,916,917,918,919,920,921,922,923,924,925,926,927,928,929,930,931,932,933,934,935,936,937,938,939,940,941,942,943,944,945,946,947,948,949,950,951,952,953,954,955,956,957,958,959,960,961,962,963,964,965,966,967,968,969,970,971,972,973,974,975,976,977,978,979,980,981,982,983,984,985,986,987,988,989,990,991,992,993,994,995,996,997,998,999,1000,1001,1002,1003,1004,1005,1006,1007,1008,1009,1010,1011,1012,1013,1014,1015,1016,1017,1018,1019,1020,1021,1022,1023,1024,1025,1026,1027,1028,1029) have mixed types.Specify dtype option on import or set low_memory=False.\n",
            "  exec(code_obj, self.user_global_ns, self.user_ns)\n"
          ]
        }
      ]
    },
    {
      "cell_type": "code",
      "metadata": {
        "id": "Kd0isrF5gKem"
      },
      "source": [
        "#Visualisation des données\n",
        "donnees_initiales_df.head()"
      ],
      "execution_count": null,
      "outputs": []
    },
    {
      "cell_type": "code",
      "metadata": {
        "id": "ExZq2RmngKen"
      },
      "source": [
        "# Vérification des formats\n",
        "donnees_initiales_df.shape"
      ],
      "execution_count": null,
      "outputs": []
    },
    {
      "cell_type": "code",
      "metadata": {
        "id": "1PKST58RgKeo"
      },
      "source": [
        "donnees_initiales_df.columns"
      ],
      "execution_count": null,
      "outputs": []
    },
    {
      "cell_type": "code",
      "source": [
        "table=donnees_initiales_df['VCF0004'].value_counts()\n",
        "b2020 = donnees_initiales_df[donnees_initiales_df['VCF0004'] == 2020]\n",
        "b2020.shape\n",
        "b2020=b2020.get(['VCF0104','VCF0114','VCF0106','VCF0101','VCF0713'])\n",
        "b2020=b2020[b2020['VCF0104']>0]\n",
        "b2020=b2020[b2020['VCF0114']>0]\n",
        "b2020=b2020[b2020['VCF0106']>0]\n",
        "b2020=b2020[b2020['VCF0101']>0]\n",
        "b2020=b2020[b2020['VCF0713']>0]\n",
        "b2020.shape"
      ],
      "metadata": {
        "colab": {
          "base_uri": "https://localhost:8080/"
        },
        "id": "EOBebPYRU2cT",
        "outputId": "0730ae99-533f-496f-be1c-b2028c90ea9d"
      },
      "execution_count": 57,
      "outputs": [
        {
          "output_type": "execute_result",
          "data": {
            "text/plain": [
              "(7159, 5)"
            ]
          },
          "metadata": {},
          "execution_count": 57
        }
      ]
    },
    {
      "cell_type": "code",
      "source": [
        "b2020.to_csv(\"b2020CinqVariables.csv\")"
      ],
      "metadata": {
        "id": "vKa2ujs9bS56"
      },
      "execution_count": 58,
      "outputs": []
    },
    {
      "cell_type": "code",
      "source": [
        "#Genre du répondant=VCF0104\n",
        "#1. Male\n",
        "#2. Female\n",
        "#3. Other (2016)\n",
        "\n",
        "#Revenu en Percentile=VCF0114\n",
        "#1. 0 to 16 percentile\n",
        "#2. 17 to 33 percentile\n",
        "#3. 34 to 67 percentile\n",
        "#4. 68 to 95 percentile\n",
        "#5. 96 to 100 percentile\n",
        "\n",
        "#Race en trois categories=VCF0106\n",
        "#1. White non-Hispanic\n",
        "#2. Black non-Hispanic\n",
        "#3. Other\n",
        "\n",
        "#Age du répondant=VCF0101\n",
        "\n",
        "#Vote pour la président=VCF0713\n",
        "#1. Democratic candidate (with or without qualifications, 1952-1976)\n",
        "#2. Republican candidate (with or without qualifications, 1952-1976)\n",
        "#3. Undecided; DK (except 1964)\n",
        "#4. R does not intend to vote (incl. ‘no, qualified’ if will vote, 1952-1976) or does not intend to vote for President\n",
        "#9. Other candidate\n"
      ],
      "metadata": {
        "id": "llXc2Kb9WM3b"
      },
      "execution_count": null,
      "outputs": []
    },
    {
      "cell_type": "code",
      "metadata": {
        "id": "YkiJgOfUgKep",
        "colab": {
          "base_uri": "https://localhost:8080/"
        },
        "outputId": "5f51c79e-e63b-41ac-c3c3-8b745cf9e9de"
      },
      "source": [
        "b2020.head()\n",
        "b2020['VCF0104'].value_counts()\n",
        "b2020['VCF0114'].value_counts()\n",
        "b2020['VCF0106'].value_counts()\n",
        "b2020['VCF0101'].value_counts()\n",
        "b2020['VCF0713'].value_counts()"
      ],
      "execution_count": 61,
      "outputs": [
        {
          "output_type": "execute_result",
          "data": {
            "text/plain": [
              "1    3580\n",
              "2    2806\n",
              "4     524\n",
              "9     249\n",
              "Name: VCF0713, dtype: int64"
            ]
          },
          "metadata": {},
          "execution_count": 61
        }
      ]
    },
    {
      "cell_type": "markdown",
      "metadata": {
        "id": "wTdyw20CgKep"
      },
      "source": [
        "# **Deuxième étape: la sélection et la transformation des données pour l'utilisation des algorithmes**"
      ]
    },
    {
      "cell_type": "code",
      "metadata": {
        "id": "2iIOIg_hgKeq"
      },
      "source": [
        "cibles_df = b2020['VCF0713']"
      ],
      "execution_count": 62,
      "outputs": []
    },
    {
      "cell_type": "code",
      "metadata": {
        "id": "heGfpst5gKeq",
        "colab": {
          "base_uri": "https://localhost:8080/"
        },
        "outputId": "806f73ee-bf95-49b9-c6a8-107c52dc5773"
      },
      "source": [
        "cibles_df.shape"
      ],
      "execution_count": 63,
      "outputs": [
        {
          "output_type": "execute_result",
          "data": {
            "text/plain": [
              "(7159,)"
            ]
          },
          "metadata": {},
          "execution_count": 63
        }
      ]
    },
    {
      "cell_type": "code",
      "metadata": {
        "id": "8qKzOHPIgKer"
      },
      "source": [
        "predicteurs_df = b2020.drop(['VCF0713'],axis='columns')"
      ],
      "execution_count": 64,
      "outputs": []
    },
    {
      "cell_type": "code",
      "metadata": {
        "id": "rxOFAs94gKer",
        "colab": {
          "base_uri": "https://localhost:8080/"
        },
        "outputId": "7db0cc0c-039b-4695-9ec1-117a72650dea"
      },
      "source": [
        "predicteurs_df.shape"
      ],
      "execution_count": 65,
      "outputs": [
        {
          "output_type": "execute_result",
          "data": {
            "text/plain": [
              "(7159, 4)"
            ]
          },
          "metadata": {},
          "execution_count": 65
        }
      ]
    },
    {
      "cell_type": "code",
      "metadata": {
        "id": "VbIjENsSgKeu",
        "colab": {
          "base_uri": "https://localhost:8080/"
        },
        "outputId": "c8fca595-f923-40c4-fe3c-3725cbf2320c"
      },
      "source": [
        "cibles_df"
      ],
      "execution_count": 66,
      "outputs": [
        {
          "output_type": "execute_result",
          "data": {
            "text/plain": [
              "59944    2\n",
              "59945    9\n",
              "59946    1\n",
              "59947    1\n",
              "59948    2\n",
              "        ..\n",
              "68217    2\n",
              "68219    2\n",
              "68220    2\n",
              "68221    1\n",
              "68223    1\n",
              "Name: VCF0713, Length: 7159, dtype: object"
            ]
          },
          "metadata": {},
          "execution_count": 66
        }
      ]
    },
    {
      "cell_type": "code",
      "metadata": {
        "id": "G7FIMDVPgKev",
        "colab": {
          "base_uri": "https://localhost:8080/"
        },
        "outputId": "1fd7549f-e75f-4504-9aaa-dc5ba04bcb45"
      },
      "source": [
        "#Transformation des données de la cible en données numériques\n",
        "encodeur = LabelEncoder()\n",
        "encodeur.fit(cibles_df.values)\n",
        "cibles = encodeur.transform(cibles_df)\n",
        "# Afficher les dix premières cibles\n",
        "cibles [:10]"
      ],
      "execution_count": 67,
      "outputs": [
        {
          "output_type": "execute_result",
          "data": {
            "text/plain": [
              "array([1, 3, 0, 0, 1, 0, 1, 1, 0, 0])"
            ]
          },
          "metadata": {},
          "execution_count": 67
        }
      ]
    },
    {
      "cell_type": "code",
      "metadata": {
        "id": "SYONGUVCgKev",
        "colab": {
          "base_uri": "https://localhost:8080/"
        },
        "outputId": "c4edb3bb-18f7-4edf-faea-91e374ec4b11"
      },
      "source": [
        "#conversion des données en nombre décimales\n",
        "predicteurs = predicteurs_df.values\n",
        "print(predicteurs)"
      ],
      "execution_count": 68,
      "outputs": [
        {
          "output_type": "stream",
          "name": "stdout",
          "text": [
            "[[1 4 3 46]\n",
            " [2 3 3 37]\n",
            " [2 4 1 40]\n",
            " ...\n",
            " [2 4 1 52]\n",
            " [1 3 3 45]\n",
            " [2 3 3 38]]\n"
          ]
        }
      ]
    },
    {
      "cell_type": "code",
      "metadata": {
        "id": "fKUnsyUHgKew"
      },
      "source": [
        "#Division des données pour l'entraintement et le test\n",
        "test_ratio = 0.20\n",
        "predicteurs_ent, predicteurs_test, cibles_ent, cibles_test = train_test_split(predicteurs,\n",
        "                                                                              cibles,\n",
        "                                                                              test_size=test_ratio,\n",
        "                                                                              stratify=cibles_df,\n",
        "                                                                              random_state=42)"
      ],
      "execution_count": 69,
      "outputs": []
    },
    {
      "cell_type": "code",
      "metadata": {
        "id": "8JzyYZiDgKew",
        "colab": {
          "base_uri": "https://localhost:8080/"
        },
        "outputId": "8ac3f64a-2e4f-40fb-8fde-dfd34062de75"
      },
      "source": [
        "print(\"Dimensions de predicteurs entrainement:\",predicteurs_ent.shape)\n",
        "print(\"Dimensions de predicteurs test:\",predicteurs_test.shape)\n",
        "print(\"Dimensions de cibles entrainement:\",cibles_ent.shape)\n",
        "print(\"Dimensions de cibles test:\",cibles_test.shape)"
      ],
      "execution_count": 70,
      "outputs": [
        {
          "output_type": "stream",
          "name": "stdout",
          "text": [
            "Dimensions de predicteurs entrainement: (5727, 4)\n",
            "Dimensions de predicteurs test: (1432, 4)\n",
            "Dimensions de cibles entrainement: (5727,)\n",
            "Dimensions de cibles test: (1432,)\n"
          ]
        }
      ]
    },
    {
      "cell_type": "markdown",
      "metadata": {
        "id": "ZI8O-dzBgKex"
      },
      "source": [
        "#**Troisième étape: l'application de l'algorithme choisi et la visualisation des résultats**\n"
      ]
    },
    {
      "cell_type": "code",
      "source": [
        "#Trois modèles de classification. Il faut en choisir un à la fois\n",
        "classification_logistique = LogisticRegression(solver='liblinear', multi_class='ovr')\n",
        "foret_aleatoire = RandomForestClassifier()\n",
        "arbres_dopage_gradient = xgb.XGBClassifier(use_label_encoder=False,eval_metric='mlogloss')\n",
        "\n",
        "#ici on choisit le modèle et on indique son nom\n",
        "modele=arbres_dopage_gradient\n",
        "nom_modele=\"arbres_dopage_gradient\"\n"
      ],
      "metadata": {
        "id": "hBydPZQm6nao"
      },
      "execution_count": 73,
      "outputs": []
    },
    {
      "cell_type": "code",
      "metadata": {
        "id": "j9eWw0SGzomA",
        "colab": {
          "base_uri": "https://localhost:8080/",
          "height": 892
        },
        "outputId": "6f8d47fb-9a5b-406b-893d-f953cb0afeff"
      },
      "source": [
        "validation_croisee = StratifiedKFold(n_splits=5,random_state=42,shuffle=True)\n",
        "resultat_vc = cross_val_score(modele,predicteurs_ent,cibles_ent,cv=validation_croisee,scoring='accuracy')\n",
        "print('>  %s: %f (%f)' % (nom_modele, resultat_vc.mean(), resultat_vc.std()))\n",
        "modele.fit(predicteurs_ent, cibles_ent)\n",
        "test_predictions = modele.predict(predicteurs_test)\n",
        "print('>  %s: - Erreur de classification sur les données test: %d' % \n",
        "(nom_modele, (cibles_test != test_predictions).sum()))\n",
        "print('>  %s- Exactitude: %.2f' % \n",
        "(nom_modele, accuracy_score(cibles_test, test_predictions)))\n",
        "# Affichage d'une matrice de confusion et d'un rapport de classification\n",
        "print(\"Matrice de confusion:\\n\")\n",
        "afficher_matrice_confusion(confusion_matrix(cibles_test, test_predictions),['Candidat démocrate','Candidat républicain', 'Indécis','Autre'])\n",
        "print(\"\\nRapport de classification:\\n\",classification_report(cibles_test, test_predictions))\n",
        "print(\"-\"*90,\"\\n\")\n"
      ],
      "execution_count": 74,
      "outputs": [
        {
          "output_type": "stream",
          "name": "stdout",
          "text": [
            ">  arbres_dopage_gradient: 0.538325 (0.011625)\n",
            ">  arbres_dopage_gradient: - Erreur de classification sur les données test: 678\n",
            ">  arbres_dopage_gradient- Exactitude: 0.53\n",
            "Matrice de confusion:\n",
            "\n",
            "\n",
            " [[454 262   0   0]\n",
            " [261 300   0   0]\n",
            " [ 59  46   0   0]\n",
            " [ 31  19   0   0]] \n",
            "\n"
          ]
        },
        {
          "output_type": "display_data",
          "data": {
            "text/plain": [
              "<Figure size 432x288 with 2 Axes>"
            ],
            "image/png": "[encoded data removed]"
          },
          "metadata": {
            "needs_background": "light"
          }
        },
        {
          "output_type": "stream",
          "name": "stdout",
          "text": [
            "\n",
            "Rapport de classification:\n",
            "               precision    recall  f1-score   support\n",
            "\n",
            "           0       0.56      0.63      0.60       716\n",
            "           1       0.48      0.53      0.51       561\n",
            "           2       0.00      0.00      0.00       105\n",
            "           3       0.00      0.00      0.00        50\n",
            "\n",
            "    accuracy                           0.53      1432\n",
            "   macro avg       0.26      0.29      0.28      1432\n",
            "weighted avg       0.47      0.53      0.50      1432\n",
            "\n",
            "------------------------------------------------------------------------------------------ \n",
            "\n"
          ]
        },
        {
          "output_type": "stream",
          "name": "stderr",
          "text": [
            "/usr/local/lib/python3.7/dist-packages/sklearn/metrics/_classification.py:1318: UndefinedMetricWarning: Precision and F-score are ill-defined and being set to 0.0 in labels with no predicted samples. Use `zero_division` parameter to control this behavior.\n",
            "  _warn_prf(average, modifier, msg_start, len(result))\n",
            "/usr/local/lib/python3.7/dist-packages/sklearn/metrics/_classification.py:1318: UndefinedMetricWarning: Precision and F-score are ill-defined and being set to 0.0 in labels with no predicted samples. Use `zero_division` parameter to control this behavior.\n",
            "  _warn_prf(average, modifier, msg_start, len(result))\n",
            "/usr/local/lib/python3.7/dist-packages/sklearn/metrics/_classification.py:1318: UndefinedMetricWarning: Precision and F-score are ill-defined and being set to 0.0 in labels with no predicted samples. Use `zero_division` parameter to control this behavior.\n",
            "  _warn_prf(average, modifier, msg_start, len(result))\n"
          ]
        }
      ]
    }
  ]
}