{
  "nbformat": 4,
  "nbformat_minor": 0,
  "metadata": {
    "kernelspec": {
      "display_name": "Python 3",
      "language": "python",
      "name": "python3"
    },
    "language_info": {
      "codemirror_mode": {
        "name": "ipython",
        "version": 3
      },
      "file_extension": ".py",
      "mimetype": "text/x-python",
      "name": "python",
      "nbconvert_exporter": "python",
      "pygments_lexer": "ipython3",
      "version": "3.9.1"
    },
    "colab": {
      "provenance": [],
      "collapsed_sections": [],
      "include_colab_link": true
    }
  },
  "cells": [
    {
      "cell_type": "markdown",
      "metadata": {
        "id": "view-in-github",
        "colab_type": "text"
      },
      "source": [
        "<a href=\"https://colab.research.google.com/github/jhguay/base_ouverte/blob/main/VoteDemocrate2020.ipynb\" target=\"_parent\"><img src=\"https://colab.research.google.com/assets/colab-badge.svg\" alt=\"Open In Colab\"/></a>"
      ]
    },
    {
      "cell_type": "markdown",
      "source": [
        "## **Exemple simplifié de l'usage du machine learning à partir de données statistiques: élections présidentielles américaines 2020 avec trois variables prédictives et une variable cible**"
      ],
      "metadata": {
        "id": "lUspki0YCBJv"
      }
    },
    {
      "cell_type": "markdown",
      "source": [
        "\n",
        "\n",
        "**Première** étape: les éléments préparatoires\n",
        "\n",
        "**Deuxième** étape: la sélection et la transformation des données pour l'utilisation des algorithmes\n",
        "\n",
        "**Troisième** étape: l'application de l'algorithme choisi et la visualisation des résultats"
      ],
      "metadata": {
        "id": "6ph7aTHy9Y4A"
      }
    },
    {
      "cell_type": "markdown",
      "metadata": {
        "id": "jrL_GJDNgKeb"
      },
      "source": [
        "# **Première étape: les éléments préparatoires**\n"
      ]
    },
    {
      "cell_type": "code",
      "metadata": {
        "id": "Xo8Oj8jsgKeb"
      },
      "source": [
        "#Importation des prémières bibliothèques utilisées\n",
        "import scipy # bibliothèque de calcul scientifique \n",
        "import matplotlib # bibliothèque d'affichage graphique\n",
        "import sklearn # bibliothèque d'algorithmes \"classiques\" d'apprentissage automatique \n",
        "from numpy import * # bibliothèque de calcul matriciel\n",
        "from pandas import * # bibliothèque de manipulation de tableaux de données\n",
        "from sklearn import * # bibliothèque d'algorithmes \"classiques\" d'apprentissage automatique\n",
        "import numpy as np\n",
        "import matplotlib.pyplot as plt\n",
        "import pandas as pd\n",
        "from pandas import Series, DataFrame\n",
        "from pandas import DataFrame, read_csv\n",
        "%matplotlib inline\n",
        "import IPython\n",
        "import sys \n",
        "\n",
        "from sklearn.model_selection import train_test_split\n",
        "from sklearn.model_selection import cross_val_score\n",
        "from sklearn.model_selection import StratifiedKFold\n",
        "from sklearn.metrics import classification_report\n",
        "from sklearn.metrics import confusion_matrix\n",
        "from sklearn.metrics import accuracy_score\n",
        "\n",
        "from sklearn.preprocessing import LabelEncoder\n",
        "\n",
        "from sklearn.model_selection import train_test_split\n",
        "\n",
        "from sklearn.linear_model import LogisticRegression\n",
        "from sklearn.ensemble import RandomForestClassifier\n",
        "import xgboost as xgb\n",
        "\n",
        "# Inspiration: https://machinelearningmastery.com/machine-learning-in-python-step-by-step/\n"
      ],
      "execution_count": 1,
      "outputs": []
    },
    {
      "cell_type": "code",
      "source": [
        "#Création d'une méthode utiltérieurement utilisées pour l'affichage des données\n",
        "def afficher_matrice_confusion(cm, noms_etiquettes = [u'classe - 0', u'classe - 1', u'classe - 3'],\n",
        "                   titre=u'Matrice de confusion'):\n",
        "\n",
        "    print(\"\\n\",cm,\"\\n\")\n",
        "    plt.imshow(cm, cmap=plt.cm.Blues)\n",
        "    plt.title(titre)\n",
        "    plt.colorbar()\n",
        "    tick_marks = np.arange(len(noms_etiquettes))\n",
        "    plt.xticks(tick_marks, noms_etiquettes, rotation=60)\n",
        "    plt.yticks(tick_marks, noms_etiquettes)\n",
        "    plt.ylabel(u'Vraie étiquette')\n",
        "    plt.xlabel(u'Étiquette prédite')\n",
        "    # Fonction d'ajustement\n",
        "    plt.tight_layout()\n",
        "    plt.show()"
      ],
      "metadata": {
        "id": "Ex9K44RA3kZS"
      },
      "execution_count": 2,
      "outputs": []
    },
    {
      "cell_type": "code",
      "source": [
        "'''\n",
        "import os\n",
        "GERME_ALEATOIRE = 21\n",
        "os.environ['PYTHONHASHSEED'] = str(GERME_ALEATOIRE)\n",
        "import random\n",
        "random.seed(GERME_ALEATOIRE)\n",
        "import numpy as np\n",
        "np.random.seed(GERME_ALEATOIRE)\n",
        "'''"
      ],
      "metadata": {
        "id": "QclOb2J2gTou",
        "outputId": "bff2712a-5637-4ba1-a8df-9ab063017649",
        "colab": {
          "base_uri": "https://localhost:8080/",
          "height": 54
        }
      },
      "execution_count": null,
      "outputs": [
        {
          "output_type": "execute_result",
          "data": {
            "text/plain": [
              "\"\\nimport os\\nGERME_ALEATOIRE = 21\\nos.environ['PYTHONHASHSEED'] = str(GERME_ALEATOIRE)\\nimport random\\nrandom.seed(GERME_ALEATOIRE)\\nimport numpy as np\\nnp.random.seed(GERME_ALEATOIRE)\\n\""
            ],
            "application/vnd.google.colaboratory.intrinsic+json": {
              "type": "string"
            }
          },
          "metadata": {},
          "execution_count": 3
        }
      ]
    },
    {
      "cell_type": "code",
      "metadata": {
        "id": "W6D5NFoAgKel"
      },
      "source": [
        "# Lecture des données\n",
        "# Création d'une liste de noms d'attributs en français\n",
        "donnees_initiales_df = pd.read_csv(\"anes_timeseries_cdf_csv_20220916.csv\")\n",
        "\n",
        "\n",
        "\n",
        "\n"
      ],
      "execution_count": null,
      "outputs": []
    },
    {
      "cell_type": "code",
      "metadata": {
        "id": "Kd0isrF5gKem"
      },
      "source": [
        "#Visualisation des données\n",
        "donnees_initiales_df.head()"
      ],
      "execution_count": null,
      "outputs": []
    },
    {
      "cell_type": "code",
      "metadata": {
        "id": "ExZq2RmngKen"
      },
      "source": [
        "# Vérification des formats\n",
        "donnees_initiales_df.shape"
      ],
      "execution_count": null,
      "outputs": []
    },
    {
      "cell_type": "code",
      "metadata": {
        "id": "1PKST58RgKeo"
      },
      "source": [
        "donnees_initiales_df.columns"
      ],
      "execution_count": null,
      "outputs": []
    },
    {
      "cell_type": "code",
      "source": [
        "table=donnees_initiales_df['VCF0004'].value_counts()\n",
        "b2020 = donnees_initiales_df[donnees_initiales_df['VCF0004'] == 2020]\n",
        "b2020.shape\n",
        "b2020=b2020.get(['VCF0104','VCF0114','VCF0106','VCF0101','VCF0110','VCF0713'])\n",
        "b2020=b2020[b2020['VCF0104']>0]\n",
        "b2020=b2020[b2020['VCF0114']>0]\n",
        "b2020=b2020[b2020['VCF0106']>0]\n",
        "b2020=b2020[b2020['VCF0101']>0]\n",
        "b2020=b2020[b2020['VCF0110']>0]\n",
        "b2020=b2020[b2020['VCF0713']>0]\n",
        "b2020.shape"
      ],
      "metadata": {
        "id": "EOBebPYRU2cT"
      },
      "execution_count": null,
      "outputs": []
    },
    {
      "cell_type": "code",
      "source": [
        "b2020.to_csv(\"b2020CinqVariables.csv\")"
      ],
      "metadata": {
        "id": "vKa2ujs9bS56"
      },
      "execution_count": 76,
      "outputs": []
    },
    {
      "cell_type": "code",
      "source": [
        "#Genre du répondant=VCF0104\n",
        "#1. Male\n",
        "#2. Female\n",
        "#3. Other (2016)\n",
        "\n",
        "#Revenu en Percentile=VCF0114\n",
        "#1. 0 to 16 percentile\n",
        "#2. 17 to 33 percentile\n",
        "#3. 34 to 67 percentile\n",
        "#4. 68 to 95 percentile\n",
        "#5. 96 to 100 percentile\n",
        "\n",
        "#Race en trois categories=VCF0106\n",
        "#1. White non-Hispanic\n",
        "#2. Black non-Hispanic\n",
        "#3. Other\n",
        "\n",
        "#Age du répondant=VCF0101\n",
        "\n",
        "#Scolarité=VCF0110\n",
        "\n",
        "#1. Grade school or less (0-8 grades); 2020: less than high school credential\n",
        "#2. High school (12 grades or fewer, incl. non-college training if applicable)\n",
        "#3. Some college (13 grades or more but no degree; 1948 ONLY: college, no identification of degree status)\n",
        "#4. College or advanced degree (no cases 1948)\n",
        "\n",
        "#Vote pour la président=VCF0713\n",
        "#1. Democratic candidate (with or without qualifications, 1952-1976)\n",
        "#2. Republican candidate (with or without qualifications, 1952-1976)\n",
        "#3. Undecided; DK (except 1964)\n",
        "#4. R does not intend to vote (incl. ‘no, qualified’ if will vote, 1952-1976) or does not intend to vote for President\n",
        "#9. Other candidate\n"
      ],
      "metadata": {
        "id": "llXc2Kb9WM3b"
      },
      "execution_count": null,
      "outputs": []
    },
    {
      "cell_type": "code",
      "metadata": {
        "id": "YkiJgOfUgKep",
        "colab": {
          "base_uri": "https://localhost:8080/"
        },
        "outputId": "e2b0df4e-6565-44b6-92ba-b1dd55031700"
      },
      "source": [
        "b2020.head()\n",
        "b2020['VCF0104'].value_counts()\n",
        "b2020['VCF0114'].value_counts()\n",
        "b2020['VCF0106'].value_counts()\n",
        "b2020['VCF0101'].value_counts()\n",
        "b2020['VCF0110'].value_counts()\n",
        "b2020['VCF0713'].value_counts()"
      ],
      "execution_count": 77,
      "outputs": [
        {
          "output_type": "execute_result",
          "data": {
            "text/plain": [
              "1    3538\n",
              "2    2774\n",
              "4     517\n",
              "9     245\n",
              "Name: VCF0713, dtype: int64"
            ]
          },
          "metadata": {},
          "execution_count": 77
        }
      ]
    },
    {
      "cell_type": "markdown",
      "metadata": {
        "id": "wTdyw20CgKep"
      },
      "source": [
        "# **Deuxième étape: la sélection et la transformation des données pour l'utilisation des algorithmes**"
      ]
    },
    {
      "cell_type": "code",
      "metadata": {
        "id": "2iIOIg_hgKeq"
      },
      "source": [
        "cibles_df = b2020['VCF0713']"
      ],
      "execution_count": 78,
      "outputs": []
    },
    {
      "cell_type": "code",
      "metadata": {
        "id": "heGfpst5gKeq",
        "colab": {
          "base_uri": "https://localhost:8080/"
        },
        "outputId": "af4e8476-29c3-4d23-864c-2035b2d33236"
      },
      "source": [
        "cibles_df.shape"
      ],
      "execution_count": 79,
      "outputs": [
        {
          "output_type": "execute_result",
          "data": {
            "text/plain": [
              "(7074,)"
            ]
          },
          "metadata": {},
          "execution_count": 79
        }
      ]
    },
    {
      "cell_type": "code",
      "metadata": {
        "id": "8qKzOHPIgKer"
      },
      "source": [
        "predicteurs_df = b2020.drop(['VCF0713'],axis='columns')"
      ],
      "execution_count": 80,
      "outputs": []
    },
    {
      "cell_type": "code",
      "metadata": {
        "id": "rxOFAs94gKer",
        "colab": {
          "base_uri": "https://localhost:8080/"
        },
        "outputId": "1dc54bba-b276-4d9c-9fa7-e2e1cca8cbe3"
      },
      "source": [
        "predicteurs_df.shape"
      ],
      "execution_count": 81,
      "outputs": [
        {
          "output_type": "execute_result",
          "data": {
            "text/plain": [
              "(7074, 5)"
            ]
          },
          "metadata": {},
          "execution_count": 81
        }
      ]
    },
    {
      "cell_type": "code",
      "metadata": {
        "id": "VbIjENsSgKeu",
        "colab": {
          "base_uri": "https://localhost:8080/"
        },
        "outputId": "bf53b2e8-7e69-484f-e109-faf65d3634bb"
      },
      "source": [
        "cibles_df"
      ],
      "execution_count": 82,
      "outputs": [
        {
          "output_type": "execute_result",
          "data": {
            "text/plain": [
              "59944    2\n",
              "59945    9\n",
              "59946    1\n",
              "59947    1\n",
              "59948    2\n",
              "        ..\n",
              "68217    2\n",
              "68219    2\n",
              "68220    2\n",
              "68221    1\n",
              "68223    1\n",
              "Name: VCF0713, Length: 7074, dtype: object"
            ]
          },
          "metadata": {},
          "execution_count": 82
        }
      ]
    },
    {
      "cell_type": "code",
      "metadata": {
        "id": "G7FIMDVPgKev"
      },
      "source": [
        "#Transformation des données de la cible en données numériques\n",
        "encodeur = LabelEncoder()\n",
        "encodeur.fit(cibles_df.values)\n",
        "cibles = encodeur.transform(cibles_df)\n",
        "# Afficher les dix premières cibles\n",
        "cibles [:10]"
      ],
      "execution_count": null,
      "outputs": []
    },
    {
      "cell_type": "code",
      "metadata": {
        "id": "SYONGUVCgKev"
      },
      "source": [
        "#conversion des données en nombre décimales\n",
        "predicteurs = predicteurs_df.values\n",
        "print(predicteurs)"
      ],
      "execution_count": null,
      "outputs": []
    },
    {
      "cell_type": "code",
      "metadata": {
        "id": "fKUnsyUHgKew"
      },
      "source": [
        "#Division des données pour l'entraintement et le test\n",
        "test_ratio = 0.20\n",
        "predicteurs_ent, predicteurs_test, cibles_ent, cibles_test = train_test_split(predicteurs,\n",
        "                                                                              cibles,\n",
        "                                                                              test_size=test_ratio,\n",
        "                                                                              stratify=cibles_df,\n",
        "                                                                              random_state=42)"
      ],
      "execution_count": 85,
      "outputs": []
    },
    {
      "cell_type": "code",
      "metadata": {
        "id": "8JzyYZiDgKew",
        "colab": {
          "base_uri": "https://localhost:8080/"
        },
        "outputId": "9aa3ef4a-eb48-4300-e44f-b59c1b68c0b3"
      },
      "source": [
        "print(\"Dimensions de predicteurs entrainement:\",predicteurs_ent.shape)\n",
        "print(\"Dimensions de predicteurs test:\",predicteurs_test.shape)\n",
        "print(\"Dimensions de cibles entrainement:\",cibles_ent.shape)\n",
        "print(\"Dimensions de cibles test:\",cibles_test.shape)"
      ],
      "execution_count": 86,
      "outputs": [
        {
          "output_type": "stream",
          "name": "stdout",
          "text": [
            "Dimensions de predicteurs entrainement: (5659, 5)\n",
            "Dimensions de predicteurs test: (1415, 5)\n",
            "Dimensions de cibles entrainement: (5659,)\n",
            "Dimensions de cibles test: (1415,)\n"
          ]
        }
      ]
    },
    {
      "cell_type": "markdown",
      "metadata": {
        "id": "ZI8O-dzBgKex"
      },
      "source": [
        "#**Troisième étape: l'application de l'algorithme choisi et la visualisation des résultats**\n"
      ]
    },
    {
      "cell_type": "code",
      "source": [
        "#Trois modèles de classification. Il faut en choisir un à la fois\n",
        "classification_logistique = LogisticRegression(solver='liblinear', multi_class='ovr')\n",
        "foret_aleatoire = RandomForestClassifier()\n",
        "arbres_dopage_gradient = xgb.XGBClassifier(use_label_encoder=False,eval_metric='mlogloss')\n",
        "\n",
        "#ici on choisit le modèle et on indique son nom\n",
        "modele=arbres_dopage_gradient\n",
        "nom_modele=\"arbres_dopage_gradient\"\n"
      ],
      "metadata": {
        "id": "hBydPZQm6nao"
      },
      "execution_count": 87,
      "outputs": []
    },
    {
      "cell_type": "code",
      "metadata": {
        "id": "j9eWw0SGzomA",
        "colab": {
          "base_uri": "https://localhost:8080/",
          "height": 892
        },
        "outputId": "8034790f-861e-435c-9e6c-67bb7ee52182"
      },
      "source": [
        "validation_croisee = StratifiedKFold(n_splits=5,random_state=42,shuffle=True)\n",
        "resultat_vc = cross_val_score(modele,predicteurs_ent,cibles_ent,cv=validation_croisee,scoring='accuracy')\n",
        "print('>  %s: %f (%f)' % (nom_modele, resultat_vc.mean(), resultat_vc.std()))\n",
        "modele.fit(predicteurs_ent, cibles_ent)\n",
        "test_predictions = modele.predict(predicteurs_test)\n",
        "print('>  %s: - Erreur de classification sur les données test: %d' % \n",
        "(nom_modele, (cibles_test != test_predictions).sum()))\n",
        "print('>  %s- Exactitude: %.2f' % \n",
        "(nom_modele, accuracy_score(cibles_test, test_predictions)))\n",
        "# Affichage d'une matrice de confusion et d'un rapport de classification\n",
        "print(\"Matrice de confusion:\\n\")\n",
        "afficher_matrice_confusion(confusion_matrix(cibles_test, test_predictions),['Candidat démocrate','Candidat républicain', 'Indécis','Autre'])\n",
        "print(\"\\nRapport de classification:\\n\",classification_report(cibles_test, test_predictions))\n",
        "print(\"-\"*90,\"\\n\")\n"
      ],
      "execution_count": 89,
      "outputs": [
        {
          "output_type": "stream",
          "name": "stdout",
          "text": [
            ">  arbres_dopage_gradient: 0.576423 (0.011050)\n",
            ">  arbres_dopage_gradient: - Erreur de classification sur les données test: 579\n",
            ">  arbres_dopage_gradient- Exactitude: 0.59\n",
            "Matrice de confusion:\n",
            "\n",
            "\n",
            " [[521 184   3   0]\n",
            " [238 310   7   0]\n",
            " [ 57  41   5   0]\n",
            " [ 28  21   0   0]] \n",
            "\n"
          ]
        },
        {
          "output_type": "display_data",
          "data": {
            "text/plain": [
              "<Figure size 432x288 with 2 Axes>"
            ],
            "image/png": "[encoded data removed]"
          },
          "metadata": {
            "needs_background": "light"
          }
        },
        {
          "output_type": "stream",
          "name": "stdout",
          "text": [
            "\n",
            "Rapport de classification:\n",
            "               precision    recall  f1-score   support\n",
            "\n",
            "           0       0.62      0.74      0.67       708\n",
            "           1       0.56      0.56      0.56       555\n",
            "           2       0.33      0.05      0.08       103\n",
            "           3       0.00      0.00      0.00        49\n",
            "\n",
            "    accuracy                           0.59      1415\n",
            "   macro avg       0.38      0.34      0.33      1415\n",
            "weighted avg       0.55      0.59      0.56      1415\n",
            "\n",
            "------------------------------------------------------------------------------------------ \n",
            "\n"
          ]
        },
        {
          "output_type": "stream",
          "name": "stderr",
          "text": [
            "/usr/local/lib/python3.7/dist-packages/sklearn/metrics/_classification.py:1318: UndefinedMetricWarning: Precision and F-score are ill-defined and being set to 0.0 in labels with no predicted samples. Use `zero_division` parameter to control this behavior.\n",
            "  _warn_prf(average, modifier, msg_start, len(result))\n",
            "/usr/local/lib/python3.7/dist-packages/sklearn/metrics/_classification.py:1318: UndefinedMetricWarning: Precision and F-score are ill-defined and being set to 0.0 in labels with no predicted samples. Use `zero_division` parameter to control this behavior.\n",
            "  _warn_prf(average, modifier, msg_start, len(result))\n",
            "/usr/local/lib/python3.7/dist-packages/sklearn/metrics/_classification.py:1318: UndefinedMetricWarning: Precision and F-score are ill-defined and being set to 0.0 in labels with no predicted samples. Use `zero_division` parameter to control this behavior.\n",
            "  _warn_prf(average, modifier, msg_start, len(result))\n"
          ]
        }
      ]
    }
  ]
}