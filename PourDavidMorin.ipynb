{
  "nbformat": 4,
  "nbformat_minor": 0,
  "metadata": {
    "colab": {
      "provenance": [],
      "authorship_tag": "ABX9TyOeCCgmHZ3wAWuLA8D1B2yo",
      "include_colab_link": true
    },
    "kernelspec": {
      "name": "python3",
      "display_name": "Python 3"
    },
    "language_info": {
      "name": "python"
    }
  },
  "cells": [
    {
      "cell_type": "markdown",
      "metadata": {
        "id": "view-in-github",
        "colab_type": "text"
      },
      "source": [
        "<a href=\"https://colab.research.google.com/github/jhguay/base_ouverte/blob/main/PourDavidMorin.ipynb\" target=\"_parent\"><img src=\"https://colab.research.google.com/assets/colab-badge.svg\" alt=\"Open In Colab\"/></a>"
      ]
    },
    {
      "cell_type": "code",
      "execution_count": 69,
      "metadata": {
        "colab": {
          "base_uri": "https://localhost:8080/",
          "height": 611
        },
        "id": "qNKKsFprgvE2",
        "outputId": "214428ff-33bb-4469-f424-4ec91a280122"
      },
      "outputs": [
        {
          "output_type": "stream",
          "name": "stdout",
          "text": [
            "Looking in indexes: https://pypi.org/simple, https://us-python.pkg.dev/colab-wheels/public/simple/\n",
            "Requirement already satisfied: matplotlib in /usr/local/lib/python3.7/dist-packages (3.2.2)\n",
            "Collecting matplotlib\n",
            "  Downloading matplotlib-3.5.3-cp37-cp37m-manylinux_2_5_x86_64.manylinux1_x86_64.whl (11.2 MB)\n",
            "\u001b[K     |████████████████████████████████| 11.2 MB 8.0 MB/s \n",
            "\u001b[?25hRequirement already satisfied: pyparsing>=2.2.1 in /usr/local/lib/python3.7/dist-packages (from matplotlib) (3.0.9)\n",
            "Requirement already satisfied: pillow>=6.2.0 in /usr/local/lib/python3.7/dist-packages (from matplotlib) (7.1.2)\n",
            "Requirement already satisfied: numpy>=1.17 in /usr/local/lib/python3.7/dist-packages (from matplotlib) (1.21.6)\n",
            "Requirement already satisfied: python-dateutil>=2.7 in /usr/local/lib/python3.7/dist-packages (from matplotlib) (2.8.2)\n",
            "Requirement already satisfied: packaging>=20.0 in /usr/local/lib/python3.7/dist-packages (from matplotlib) (21.3)\n",
            "Requirement already satisfied: kiwisolver>=1.0.1 in /usr/local/lib/python3.7/dist-packages (from matplotlib) (1.4.4)\n",
            "Collecting fonttools>=4.22.0\n",
            "  Downloading fonttools-4.38.0-py3-none-any.whl (965 kB)\n",
            "\u001b[K     |████████████████████████████████| 965 kB 59.1 MB/s \n",
            "\u001b[?25hRequirement already satisfied: cycler>=0.10 in /usr/local/lib/python3.7/dist-packages (from matplotlib) (0.11.0)\n",
            "Requirement already satisfied: typing-extensions in /usr/local/lib/python3.7/dist-packages (from kiwisolver>=1.0.1->matplotlib) (4.1.1)\n",
            "Requirement already satisfied: six>=1.5 in /usr/local/lib/python3.7/dist-packages (from python-dateutil>=2.7->matplotlib) (1.15.0)\n",
            "Installing collected packages: fonttools, matplotlib\n",
            "  Attempting uninstall: matplotlib\n",
            "    Found existing installation: matplotlib 3.2.2\n",
            "    Uninstalling matplotlib-3.2.2:\n",
            "      Successfully uninstalled matplotlib-3.2.2\n",
            "Successfully installed fonttools-4.38.0 matplotlib-3.5.3\n"
          ]
        },
        {
          "output_type": "display_data",
          "data": {
            "application/vnd.colab-display-data+json": {
              "pip_warning": {
                "packages": [
                  "matplotlib",
                  "mpl_toolkits"
                ]
              }
            }
          },
          "metadata": {}
        },
        {
          "output_type": "stream",
          "name": "stderr",
          "text": [
            "/usr/local/lib/python3.7/dist-packages/IPython/core/interactiveshell.py:3326: DtypeWarning: Columns (166) have mixed types.Specify dtype option on import or set low_memory=False.\n",
            "  exec(code_obj, self.user_global_ns, self.user_ns)\n",
            "/usr/local/lib/python3.7/dist-packages/IPython/core/interactiveshell.py:3326: DtypeWarning: Columns (385,386) have mixed types.Specify dtype option on import or set low_memory=False.\n",
            "  exec(code_obj, self.user_global_ns, self.user_ns)\n"
          ]
        }
      ],
      "source": [
        "#https://stessrelpubprodwe.blob.core.windows.net/data/round1/fieldwork/source/ESS1_source_main_questionnaire.pdf\n",
        "\n",
        "import pandas as pd\n",
        "import matplotlib.pyplot as plt\n",
        "!pip install --upgrade matplotlib\n",
        "\n",
        "es1=pd.read_csv(\"ESS1e06_6.csv\",sep = \",\")\n",
        "es10=pd.read_csv(\"ESS10.csv\",sep = \",\")\n",
        "#es1=es10\n",
        "#es1=es8\n",
        "#es1.shape\n",
        "#es10.shape\n",
        "#es1=es10\n",
        "%matplotlib inline\n",
        "\n"
      ]
    },
    {
      "cell_type": "code",
      "source": [
        "es1.columns"
      ],
      "metadata": {
        "colab": {
          "base_uri": "https://localhost:8080/"
        },
        "id": "EjdW9mKS7jPc",
        "outputId": "4fe469e6-77b9-4052-a793-19d58302b182"
      },
      "execution_count": 70,
      "outputs": [
        {
          "output_type": "execute_result",
          "data": {
            "text/plain": [
              "Index(['dweight', 'pspwght', 'pweight', 'name', 'essround', 'edition',\n",
              "       'proddate', 'idno', 'cntry', 'tvtot',\n",
              "       ...\n",
              "       'inwdd', 'inwmm', 'inwyr', 'inwshh', 'inwsmm', 'inwemm', 'inwehh',\n",
              "       'inwtm', 'spltadm', 'supqadm'],\n",
              "      dtype='object', length=566)"
            ]
          },
          "metadata": {},
          "execution_count": 70
        }
      ]
    },
    {
      "cell_type": "code",
      "source": [
        "\n",
        "es1['cntry'].unique()\n",
        "indices=es1[es1['cntry']!='FR'].index\n",
        "es1.drop(indices, inplace=True)\n",
        "es1.shape"
      ],
      "metadata": {
        "colab": {
          "base_uri": "https://localhost:8080/"
        },
        "id": "YiBMUqR_wGot",
        "outputId": "9ea750c7-1b01-4aa3-a058-88f8ea245202"
      },
      "execution_count": 71,
      "outputs": [
        {
          "output_type": "execute_result",
          "data": {
            "text/plain": [
              "(1503, 566)"
            ]
          },
          "metadata": {},
          "execution_count": 71
        }
      ]
    },
    {
      "cell_type": "code",
      "source": [
        "\n",
        "indices=es1[es1['trstprl']>10].index\n",
        "es1.drop(indices, inplace=True)\n",
        "indices=es1[es1['lrscale']>10].index\n",
        "es1.drop(indices, inplace=True)\n",
        "\n",
        "\n",
        "es1['trstprl'].unique()\n",
        "es1['lrscale'].unique()\n",
        "\n",
        "#plt.plot(es1['trstprl'],es1['lrscale'])\n",
        "\n",
        "\n",
        "table=es1.groupby(es1['lrscale'])['trstprl'].mean()\n",
        "print(table)\n",
        "\n",
        "plt.set_ylabel=\"Niveau de confiance à l'endroit du parlement national\"\n",
        "plt.xlabel=\"Position de gauche(0) à droite(10)\"\n",
        "plt.ylim(0,10)\n",
        "plt.title=\"Niveau de confiance au parlement selon la position sur l'axe gauche/droite\"\n",
        "plt.plot(table)\n",
        "plt.show()"
      ],
      "metadata": {
        "colab": {
          "base_uri": "https://localhost:8080/",
          "height": 502
        },
        "id": "MgmP9EjZg64B",
        "outputId": "4038d7eb-9d05-429d-ad6b-4be9605e7ce9"
      },
      "execution_count": 72,
      "outputs": [
        {
          "output_type": "stream",
          "name": "stdout",
          "text": [
            "lrscale\n",
            "0     3.920792\n",
            "1     4.536585\n",
            "2     3.956522\n",
            "3     4.368750\n",
            "4     4.731707\n",
            "5     4.162850\n",
            "6     5.128000\n",
            "7     4.966942\n",
            "8     5.326531\n",
            "9     5.000000\n",
            "10    5.228070\n",
            "Name: trstprl, dtype: float64\n"
          ]
        },
        {
          "output_type": "display_data",
          "data": {
            "text/plain": [
              "<Figure size 432x288 with 1 Axes>"
            ],
            "image/png": "[encoded data removed]"
          },
          "metadata": {
            "needs_background": "light"
          }
        }
      ]
    }
  ]
}